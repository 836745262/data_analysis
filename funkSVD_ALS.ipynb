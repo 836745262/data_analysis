{
 "cells": [
  {
   "cell_type": "code",
   "execution_count": 1,
   "metadata": {},
   "outputs": [
    {
     "data": {
      "text/html": [
       "<div>\n",
       "<style scoped>\n",
       "    .dataframe tbody tr th:only-of-type {\n",
       "        vertical-align: middle;\n",
       "    }\n",
       "\n",
       "    .dataframe tbody tr th {\n",
       "        vertical-align: top;\n",
       "    }\n",
       "\n",
       "    .dataframe thead th {\n",
       "        text-align: right;\n",
       "    }\n",
       "</style>\n",
       "<table border=\"1\" class=\"dataframe\">\n",
       "  <thead>\n",
       "    <tr style=\"text-align: right;\">\n",
       "      <th></th>\n",
       "      <th>CID</th>\n",
       "      <th>MID</th>\n",
       "      <th>SCORE</th>\n",
       "    </tr>\n",
       "  </thead>\n",
       "  <tbody>\n",
       "    <tr>\n",
       "      <th>0</th>\n",
       "      <td>1</td>\n",
       "      <td>101</td>\n",
       "      <td>5.0</td>\n",
       "    </tr>\n",
       "    <tr>\n",
       "      <th>1</th>\n",
       "      <td>1</td>\n",
       "      <td>102</td>\n",
       "      <td>3.0</td>\n",
       "    </tr>\n",
       "    <tr>\n",
       "      <th>2</th>\n",
       "      <td>1</td>\n",
       "      <td>103</td>\n",
       "      <td>2.5</td>\n",
       "    </tr>\n",
       "    <tr>\n",
       "      <th>3</th>\n",
       "      <td>2</td>\n",
       "      <td>101</td>\n",
       "      <td>2.0</td>\n",
       "    </tr>\n",
       "    <tr>\n",
       "      <th>4</th>\n",
       "      <td>2</td>\n",
       "      <td>102</td>\n",
       "      <td>2.5</td>\n",
       "    </tr>\n",
       "  </tbody>\n",
       "</table>\n",
       "</div>"
      ],
      "text/plain": [
       "  CID  MID  SCORE\n",
       "0   1  101    5.0\n",
       "1   1  102    3.0\n",
       "2   1  103    2.5\n",
       "3   2  101    2.0\n",
       "4   2  102    2.5"
      ]
     },
     "execution_count": 1,
     "metadata": {},
     "output_type": "execute_result"
    }
   ],
   "source": [
    "import numpy as np\n",
    "import pandas as pd\n",
    "\n",
    "raw = [['1', '101', 5.0], ['1', '102', 3.0], ['1', '103', 2.5],\n",
    "       ['2', '101', 2.0], ['2', '102', 2.5], ['2', '103', 5.0],\n",
    "       ['2', '104', 2.0], ['3', '101', 2.0], ['3', '104', 4.0], \n",
    "       ['3', '105', 4.5], ['3', '107', 5.0], ['4', '101', 5.0], \n",
    "       ['4', '103', 3.0], ['4', '104', 4.5], ['4', '106', 4.0],\n",
    "       ['5', '101', 4.0], ['5', '102', 3.0], ['5', '103', 2.0],\n",
    "       ['5', '104', 4.0], ['5', '105', 3.5], ['5', '106', 4.0]]\n",
    "\n",
    "df = pd.DataFrame(raw, columns=['CID', 'MID', 'SCORE'])\n",
    "df.head()"
   ]
  },
  {
   "cell_type": "code",
   "execution_count": 3,
   "metadata": {},
   "outputs": [
    {
     "name": "stdout",
     "output_type": "stream",
     "text": [
      "Computing the msd similarity matrix...\n",
      "Done computing similarity matrix.\n"
     ]
    },
    {
     "data": {
      "text/plain": [
       "[Prediction(uid='4', iid='106', r_ui=4.0, est=4.0, details={'actual_k': 1, 'was_impossible': False}),\n",
       " Prediction(uid='3', iid='101', r_ui=2.0, est=4.239999999999999, details={'actual_k': 3, 'was_impossible': False}),\n",
       " Prediction(uid='1', iid='102', r_ui=3.0, est=2.905882352941177, details={'actual_k': 2, 'was_impossible': False}),\n",
       " Prediction(uid='5', iid='103', r_ui=2.0, est=3.369565217391304, details={'actual_k': 2, 'was_impossible': False}),\n",
       " Prediction(uid='4', iid='103', r_ui=3.0, est=2.7597402597402594, details={'actual_k': 2, 'was_impossible': False})]"
      ]
     },
     "execution_count": 3,
     "metadata": {},
     "output_type": "execute_result"
    }
   ],
   "source": [
    "from surprise import Dataset\n",
    "from surprise import KNNBasic,SlopeOne,SVD,SVDpp\n",
    "from surprise import Reader\n",
    "from surprise.model_selection import train_test_split,cross_validate\n",
    "\n",
    "reader = Reader(rating_scale=(1,5))\n",
    "data = Dataset.load_from_df(df,reader)\n",
    "trainset,testset = train_test_split(data,test_size=0.2)\n",
    "knn =  KNNBasic(k=3,sim_options={'user_based':True})\n",
    "knn.fit(trainset).test(testset)"
   ]
  },
  {
   "cell_type": "code",
   "execution_count": 4,
   "metadata": {},
   "outputs": [
    {
     "data": {
      "text/plain": [
       "Prediction(uid='1', iid='102', r_ui=None, est=2.905882352941177, details={'actual_k': 2, 'was_impossible': False})"
      ]
     },
     "execution_count": 4,
     "metadata": {},
     "output_type": "execute_result"
    }
   ],
   "source": [
    "knn.predict(uid='1',iid='102')"
   ]
  },
  {
   "cell_type": "code",
   "execution_count": 5,
   "metadata": {},
   "outputs": [
    {
     "name": "stdout",
     "output_type": "stream",
     "text": [
      "Computing the msd similarity matrix...\n",
      "Done computing similarity matrix.\n",
      "Computing the msd similarity matrix...\n",
      "Done computing similarity matrix.\n",
      "Computing the msd similarity matrix...\n",
      "Done computing similarity matrix.\n",
      "Computing the msd similarity matrix...\n",
      "Done computing similarity matrix.\n",
      "Computing the msd similarity matrix...\n",
      "Done computing similarity matrix.\n"
     ]
    },
    {
     "data": {
      "text/plain": [
       "{'test_rmse': array([1.3936984 , 0.6142118 , 1.24398243, 1.39459231, 1.28354918]),\n",
       " 'test_mae': array([1.08639545, 0.54647667, 0.97708561, 0.99454813, 0.96925134]),\n",
       " 'fit_time': (0.0,\n",
       "  0.003998279571533203,\n",
       "  0.00099945068359375,\n",
       "  0.0010001659393310547,\n",
       "  0.0010004043579101562),\n",
       " 'test_time': (0.0010006427764892578, 0.0, 0.0, 0.0009989738464355469, 0.0)}"
      ]
     },
     "execution_count": 5,
     "metadata": {},
     "output_type": "execute_result"
    }
   ],
   "source": [
    "cross_validate(knn,data)"
   ]
  },
  {
   "cell_type": "markdown",
   "metadata": {},
   "source": [
    "使用GridSearchCV——调参"
   ]
  },
  {
   "cell_type": "code",
   "execution_count": 7,
   "metadata": {},
   "outputs": [
    {
     "name": "stdout",
     "output_type": "stream",
     "text": [
      "Computing the msd similarity matrix...\n",
      "Done computing similarity matrix.\n",
      "Computing the msd similarity matrix...\n",
      "Done computing similarity matrix.\n",
      "Computing the msd similarity matrix...\n",
      "Done computing similarity matrix.\n",
      "Computing the msd similarity matrix...\n",
      "Done computing similarity matrix.\n",
      "Computing the msd similarity matrix...\n",
      "Done computing similarity matrix.\n",
      "Computing the msd similarity matrix...\n",
      "Done computing similarity matrix.\n",
      "Computing the msd similarity matrix...\n",
      "Done computing similarity matrix.\n",
      "Computing the msd similarity matrix...\n",
      "Done computing similarity matrix.\n",
      "Computing the msd similarity matrix...\n",
      "Done computing similarity matrix.\n",
      "Computing the msd similarity matrix...\n",
      "Done computing similarity matrix.\n",
      "Computing the msd similarity matrix...\n",
      "Done computing similarity matrix.\n",
      "Computing the msd similarity matrix...\n",
      "Done computing similarity matrix.\n"
     ]
    }
   ],
   "source": [
    "from surprise.model_selection import GridSearchCV\n",
    "\n",
    "file_path = ('C:/Users/acerpc/Desktop/data_folder/ml-100k/u.data')\n",
    "reader = Reader(line_format='user item rating timestamp',sep='\\t')\n",
    "ml = Dataset.load_from_file(file_path,reader)\n",
    "\n",
    "param_grid = {'k':[10,20],'reg_all':[0.4,0.6]}\n",
    "gcv = GridSearchCV(KNNBasic,param_grid,measures=['rmse', 'mae'],cv=3)\n",
    "gcv.fit(ml)"
   ]
  },
  {
   "cell_type": "code",
   "execution_count": 8,
   "metadata": {},
   "outputs": [
    {
     "name": "stdout",
     "output_type": "stream",
     "text": [
      "{'rmse': {'k': 20, 'reg_all': 0.4}, 'mae': {'k': 20, 'reg_all': 0.4}}\n",
      "{'rmse': 0.9862906196306217, 'mae': 0.778162145503173}\n"
     ]
    }
   ],
   "source": [
    "print(gcv.best_params)\n",
    "print(gcv.best_score)"
   ]
  },
  {
   "cell_type": "markdown",
   "metadata": {},
   "source": [
    "SVD"
   ]
  },
  {
   "cell_type": "code",
   "execution_count": 9,
   "metadata": {},
   "outputs": [],
   "source": [
    "#svd = SVD(n_factors=10)\n",
    "param_grid = {'n_factors':[20,50],'reg_all':[0.05,0.1,0.5]}\n",
    "gcv = GridSearchCV(SVD,param_grid,measures=['rmse', 'mae'],cv=3)\n",
    "gcv.fit(ml)"
   ]
  },
  {
   "cell_type": "code",
   "execution_count": 10,
   "metadata": {},
   "outputs": [
    {
     "name": "stdout",
     "output_type": "stream",
     "text": [
      "{'rmse': {'n_factors': 50, 'reg_all': 0.05}, 'mae': {'n_factors': 50, 'reg_all': 0.05}}\n",
      "{'rmse': 0.9410984667901771, 'mae': 0.7439456524312185}\n"
     ]
    }
   ],
   "source": [
    "print(gcv.best_params)\n",
    "print(gcv.best_score)"
   ]
  },
  {
   "cell_type": "code",
   "execution_count": 17,
   "metadata": {},
   "outputs": [],
   "source": [
    "algo = gcv.best_estimator['rmse']\n",
    "algo.fit(ml.build_full_trainset())\n",
    "\n",
    "results_df = pd.DataFrame.from_dict(gcv.cv_results)"
   ]
  },
  {
   "cell_type": "code",
   "execution_count": 18,
   "metadata": {},
   "outputs": [
    {
     "data": {
      "text/html": [
       "<div>\n",
       "<style scoped>\n",
       "    .dataframe tbody tr th:only-of-type {\n",
       "        vertical-align: middle;\n",
       "    }\n",
       "\n",
       "    .dataframe tbody tr th {\n",
       "        vertical-align: top;\n",
       "    }\n",
       "\n",
       "    .dataframe thead th {\n",
       "        text-align: right;\n",
       "    }\n",
       "</style>\n",
       "<table border=\"1\" class=\"dataframe\">\n",
       "  <thead>\n",
       "    <tr style=\"text-align: right;\">\n",
       "      <th></th>\n",
       "      <th>split0_test_rmse</th>\n",
       "      <th>split1_test_rmse</th>\n",
       "      <th>split2_test_rmse</th>\n",
       "      <th>mean_test_rmse</th>\n",
       "      <th>std_test_rmse</th>\n",
       "      <th>rank_test_rmse</th>\n",
       "      <th>split0_test_mae</th>\n",
       "      <th>split1_test_mae</th>\n",
       "      <th>split2_test_mae</th>\n",
       "      <th>mean_test_mae</th>\n",
       "      <th>std_test_mae</th>\n",
       "      <th>rank_test_mae</th>\n",
       "      <th>mean_fit_time</th>\n",
       "      <th>std_fit_time</th>\n",
       "      <th>mean_test_time</th>\n",
       "      <th>std_test_time</th>\n",
       "      <th>params</th>\n",
       "      <th>param_n_factors</th>\n",
       "      <th>param_reg_all</th>\n",
       "    </tr>\n",
       "  </thead>\n",
       "  <tbody>\n",
       "    <tr>\n",
       "      <th>0</th>\n",
       "      <td>0.937225</td>\n",
       "      <td>0.948026</td>\n",
       "      <td>0.946430</td>\n",
       "      <td>0.943893</td>\n",
       "      <td>0.004760</td>\n",
       "      <td>2</td>\n",
       "      <td>0.742169</td>\n",
       "      <td>0.749547</td>\n",
       "      <td>0.748662</td>\n",
       "      <td>0.746793</td>\n",
       "      <td>0.003290</td>\n",
       "      <td>2</td>\n",
       "      <td>3.076569</td>\n",
       "      <td>0.067018</td>\n",
       "      <td>0.494179</td>\n",
       "      <td>0.064912</td>\n",
       "      <td>{'n_factors': 20, 'reg_all': 0.05}</td>\n",
       "      <td>20</td>\n",
       "      <td>0.05</td>\n",
       "    </tr>\n",
       "    <tr>\n",
       "      <th>1</th>\n",
       "      <td>0.938627</td>\n",
       "      <td>0.948618</td>\n",
       "      <td>0.948981</td>\n",
       "      <td>0.945409</td>\n",
       "      <td>0.004798</td>\n",
       "      <td>4</td>\n",
       "      <td>0.744736</td>\n",
       "      <td>0.751442</td>\n",
       "      <td>0.752556</td>\n",
       "      <td>0.749578</td>\n",
       "      <td>0.003454</td>\n",
       "      <td>4</td>\n",
       "      <td>3.005667</td>\n",
       "      <td>0.056965</td>\n",
       "      <td>0.548901</td>\n",
       "      <td>0.084472</td>\n",
       "      <td>{'n_factors': 20, 'reg_all': 0.1}</td>\n",
       "      <td>20</td>\n",
       "      <td>0.10</td>\n",
       "    </tr>\n",
       "    <tr>\n",
       "      <th>2</th>\n",
       "      <td>0.958195</td>\n",
       "      <td>0.967371</td>\n",
       "      <td>0.968052</td>\n",
       "      <td>0.964540</td>\n",
       "      <td>0.004495</td>\n",
       "      <td>5</td>\n",
       "      <td>0.768384</td>\n",
       "      <td>0.776410</td>\n",
       "      <td>0.777872</td>\n",
       "      <td>0.774222</td>\n",
       "      <td>0.004171</td>\n",
       "      <td>5</td>\n",
       "      <td>3.077429</td>\n",
       "      <td>0.021039</td>\n",
       "      <td>0.487329</td>\n",
       "      <td>0.071462</td>\n",
       "      <td>{'n_factors': 20, 'reg_all': 0.5}</td>\n",
       "      <td>20</td>\n",
       "      <td>0.50</td>\n",
       "    </tr>\n",
       "    <tr>\n",
       "      <th>3</th>\n",
       "      <td>0.932725</td>\n",
       "      <td>0.945459</td>\n",
       "      <td>0.945112</td>\n",
       "      <td>0.941098</td>\n",
       "      <td>0.005923</td>\n",
       "      <td>1</td>\n",
       "      <td>0.738234</td>\n",
       "      <td>0.746406</td>\n",
       "      <td>0.747197</td>\n",
       "      <td>0.743946</td>\n",
       "      <td>0.004052</td>\n",
       "      <td>1</td>\n",
       "      <td>4.765633</td>\n",
       "      <td>0.200960</td>\n",
       "      <td>0.476592</td>\n",
       "      <td>0.071544</td>\n",
       "      <td>{'n_factors': 50, 'reg_all': 0.05}</td>\n",
       "      <td>50</td>\n",
       "      <td>0.05</td>\n",
       "    </tr>\n",
       "    <tr>\n",
       "      <th>4</th>\n",
       "      <td>0.937793</td>\n",
       "      <td>0.948200</td>\n",
       "      <td>0.948382</td>\n",
       "      <td>0.944792</td>\n",
       "      <td>0.004949</td>\n",
       "      <td>3</td>\n",
       "      <td>0.744114</td>\n",
       "      <td>0.750929</td>\n",
       "      <td>0.751964</td>\n",
       "      <td>0.749002</td>\n",
       "      <td>0.003482</td>\n",
       "      <td>3</td>\n",
       "      <td>4.934842</td>\n",
       "      <td>0.333392</td>\n",
       "      <td>0.537098</td>\n",
       "      <td>0.050241</td>\n",
       "      <td>{'n_factors': 50, 'reg_all': 0.1}</td>\n",
       "      <td>50</td>\n",
       "      <td>0.10</td>\n",
       "    </tr>\n",
       "    <tr>\n",
       "      <th>5</th>\n",
       "      <td>0.958197</td>\n",
       "      <td>0.967396</td>\n",
       "      <td>0.968079</td>\n",
       "      <td>0.964557</td>\n",
       "      <td>0.004506</td>\n",
       "      <td>6</td>\n",
       "      <td>0.768407</td>\n",
       "      <td>0.776437</td>\n",
       "      <td>0.777898</td>\n",
       "      <td>0.774247</td>\n",
       "      <td>0.004173</td>\n",
       "      <td>6</td>\n",
       "      <td>4.727065</td>\n",
       "      <td>0.051366</td>\n",
       "      <td>0.474288</td>\n",
       "      <td>0.063808</td>\n",
       "      <td>{'n_factors': 50, 'reg_all': 0.5}</td>\n",
       "      <td>50</td>\n",
       "      <td>0.50</td>\n",
       "    </tr>\n",
       "  </tbody>\n",
       "</table>\n",
       "</div>"
      ],
      "text/plain": [
       "   split0_test_rmse  split1_test_rmse  split2_test_rmse  mean_test_rmse  \\\n",
       "0          0.937225          0.948026          0.946430        0.943893   \n",
       "1          0.938627          0.948618          0.948981        0.945409   \n",
       "2          0.958195          0.967371          0.968052        0.964540   \n",
       "3          0.932725          0.945459          0.945112        0.941098   \n",
       "4          0.937793          0.948200          0.948382        0.944792   \n",
       "5          0.958197          0.967396          0.968079        0.964557   \n",
       "\n",
       "   std_test_rmse  rank_test_rmse  split0_test_mae  split1_test_mae  \\\n",
       "0       0.004760               2         0.742169         0.749547   \n",
       "1       0.004798               4         0.744736         0.751442   \n",
       "2       0.004495               5         0.768384         0.776410   \n",
       "3       0.005923               1         0.738234         0.746406   \n",
       "4       0.004949               3         0.744114         0.750929   \n",
       "5       0.004506               6         0.768407         0.776437   \n",
       "\n",
       "   split2_test_mae  mean_test_mae  std_test_mae  rank_test_mae  mean_fit_time  \\\n",
       "0         0.748662       0.746793      0.003290              2       3.076569   \n",
       "1         0.752556       0.749578      0.003454              4       3.005667   \n",
       "2         0.777872       0.774222      0.004171              5       3.077429   \n",
       "3         0.747197       0.743946      0.004052              1       4.765633   \n",
       "4         0.751964       0.749002      0.003482              3       4.934842   \n",
       "5         0.777898       0.774247      0.004173              6       4.727065   \n",
       "\n",
       "   std_fit_time  mean_test_time  std_test_time  \\\n",
       "0      0.067018        0.494179       0.064912   \n",
       "1      0.056965        0.548901       0.084472   \n",
       "2      0.021039        0.487329       0.071462   \n",
       "3      0.200960        0.476592       0.071544   \n",
       "4      0.333392        0.537098       0.050241   \n",
       "5      0.051366        0.474288       0.063808   \n",
       "\n",
       "                               params  param_n_factors  param_reg_all  \n",
       "0  {'n_factors': 20, 'reg_all': 0.05}               20           0.05  \n",
       "1   {'n_factors': 20, 'reg_all': 0.1}               20           0.10  \n",
       "2   {'n_factors': 20, 'reg_all': 0.5}               20           0.50  \n",
       "3  {'n_factors': 50, 'reg_all': 0.05}               50           0.05  \n",
       "4   {'n_factors': 50, 'reg_all': 0.1}               50           0.10  \n",
       "5   {'n_factors': 50, 'reg_all': 0.5}               50           0.50  "
      ]
     },
     "execution_count": 18,
     "metadata": {},
     "output_type": "execute_result"
    }
   ],
   "source": [
    "results_df"
   ]
  },
  {
   "cell_type": "code",
   "execution_count": 20,
   "metadata": {},
   "outputs": [],
   "source": [
    "res = algo.predict('2','111')"
   ]
  },
  {
   "cell_type": "code",
   "execution_count": 22,
   "metadata": {},
   "outputs": [
    {
     "data": {
      "text/plain": [
       "['2', '111', None, 3.5514888174266455, {'was_impossible': False}]"
      ]
     },
     "execution_count": 22,
     "metadata": {},
     "output_type": "execute_result"
    }
   ],
   "source": [
    "list(res)"
   ]
  }
 ],
 "metadata": {
  "kernelspec": {
   "display_name": "Python 3",
   "language": "python",
   "name": "python3"
  },
  "language_info": {
   "codemirror_mode": {
    "name": "ipython",
    "version": 3
   },
   "file_extension": ".py",
   "mimetype": "text/x-python",
   "name": "python",
   "nbconvert_exporter": "python",
   "pygments_lexer": "ipython3",
   "version": "3.7.1"
  }
 },
 "nbformat": 4,
 "nbformat_minor": 2
}
