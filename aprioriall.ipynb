{
 "cells": [
  {
   "cell_type": "code",
   "execution_count": 1,
   "metadata": {},
   "outputs": [
    {
     "name": "stdout",
     "output_type": "stream",
     "text": [
      "apriori imported!\n",
      "aprioriAll imported!\n"
     ]
    }
   ],
   "source": [
    "import numpy as np\n",
    "import pandas as pd\n",
    "import os\n",
    "import sys\n",
    "sys.path.append('C:/Users/acerpc/Desktop/data_folder')\n",
    "os.chdir('C:/Users/acerpc/Desktop/data_folder')\n",
    "import aprioriAll,apriori"
   ]
  },
  {
   "cell_type": "code",
   "execution_count": 2,
   "metadata": {},
   "outputs": [
    {
     "data": {
      "text/html": [
       "<div>\n",
       "<style scoped>\n",
       "    .dataframe tbody tr th:only-of-type {\n",
       "        vertical-align: middle;\n",
       "    }\n",
       "\n",
       "    .dataframe tbody tr th {\n",
       "        vertical-align: top;\n",
       "    }\n",
       "\n",
       "    .dataframe thead th {\n",
       "        text-align: right;\n",
       "    }\n",
       "</style>\n",
       "<table border=\"1\" class=\"dataframe\">\n",
       "  <thead>\n",
       "    <tr style=\"text-align: right;\">\n",
       "      <th></th>\n",
       "      <th>OrderNumber</th>\n",
       "      <th>LineNumber</th>\n",
       "      <th>Model</th>\n",
       "    </tr>\n",
       "  </thead>\n",
       "  <tbody>\n",
       "    <tr>\n",
       "      <th>0</th>\n",
       "      <td>SO51178</td>\n",
       "      <td>1</td>\n",
       "      <td>Mountain-200</td>\n",
       "    </tr>\n",
       "    <tr>\n",
       "      <th>1</th>\n",
       "      <td>SO51178</td>\n",
       "      <td>2</td>\n",
       "      <td>Mountain Bottle Cage</td>\n",
       "    </tr>\n",
       "    <tr>\n",
       "      <th>2</th>\n",
       "      <td>SO51178</td>\n",
       "      <td>3</td>\n",
       "      <td>Water Bottle</td>\n",
       "    </tr>\n",
       "    <tr>\n",
       "      <th>3</th>\n",
       "      <td>SO51184</td>\n",
       "      <td>1</td>\n",
       "      <td>Mountain-200</td>\n",
       "    </tr>\n",
       "    <tr>\n",
       "      <th>4</th>\n",
       "      <td>SO51184</td>\n",
       "      <td>2</td>\n",
       "      <td>HL Mountain Tire</td>\n",
       "    </tr>\n",
       "  </tbody>\n",
       "</table>\n",
       "</div>"
      ],
      "text/plain": [
       "  OrderNumber  LineNumber                 Model\n",
       "0     SO51178           1          Mountain-200\n",
       "1     SO51178           2  Mountain Bottle Cage\n",
       "2     SO51178           3          Water Bottle\n",
       "3     SO51184           1          Mountain-200\n",
       "4     SO51184           2      HL Mountain Tire"
      ]
     },
     "execution_count": 2,
     "metadata": {},
     "output_type": "execute_result"
    }
   ],
   "source": [
    "transactions = pd.read_csv('Transactions.csv')\n",
    "transactions.head()"
   ]
  },
  {
   "cell_type": "markdown",
   "metadata": {},
   "source": [
    "Sort phase: The database is sorted, with customer-id as the major key \n",
    "and transaction-time as the minor key. This step implicitly \n",
    "converts the original transaction database into a database of \n",
    "customer sequences."
   ]
  },
  {
   "cell_type": "code",
   "execution_count": 6,
   "metadata": {},
   "outputs": [
    {
     "data": {
      "text/plain": [
       "OrderNumber  LineNumber\n",
       "SO51176      1                     [Road-250]\n",
       "             2             [Road Bottle Cage]\n",
       "SO51177      1                 [Touring-2000]\n",
       "             2                    [Sport-100]\n",
       "SO51178      1                 [Mountain-200]\n",
       "Name: Model, dtype: object"
      ]
     },
     "execution_count": 6,
     "metadata": {},
     "output_type": "execute_result"
    }
   ],
   "source": [
    "basket = transactions['Model'].groupby([transactions['OrderNumber'],transactions['LineNumber']]).apply(list)\n",
    "basket.head()"
   ]
  },
  {
   "cell_type": "code",
   "execution_count": 7,
   "metadata": {},
   "outputs": [
    {
     "data": {
      "text/plain": [
       "[[['Road-250'], ['Road Bottle Cage']],\n",
       " [['Touring-2000'], ['Sport-100']],\n",
       " [['Mountain-200'], ['Mountain Bottle Cage'], ['Water Bottle']]]"
      ]
     },
     "execution_count": 7,
     "metadata": {},
     "output_type": "execute_result"
    }
   ],
   "source": [
    "basket = list(basket.groupby('OrderNumber').apply(list))\n",
    "basket[:3]"
   ]
  },
  {
   "cell_type": "code",
   "execution_count": 8,
   "metadata": {},
   "outputs": [
    {
     "data": {
      "text/html": [
       "<div>\n",
       "<style scoped>\n",
       "    .dataframe tbody tr th:only-of-type {\n",
       "        vertical-align: middle;\n",
       "    }\n",
       "\n",
       "    .dataframe tbody tr th {\n",
       "        vertical-align: top;\n",
       "    }\n",
       "\n",
       "    .dataframe thead th {\n",
       "        text-align: right;\n",
       "    }\n",
       "</style>\n",
       "<table border=\"1\" class=\"dataframe\">\n",
       "  <thead>\n",
       "    <tr style=\"text-align: right;\">\n",
       "      <th></th>\n",
       "      <th>sequence</th>\n",
       "      <th>support</th>\n",
       "    </tr>\n",
       "  </thead>\n",
       "  <tbody>\n",
       "    <tr>\n",
       "      <th>0</th>\n",
       "      <td>((Road Bottle Cage),)</td>\n",
       "      <td>0.080075</td>\n",
       "    </tr>\n",
       "    <tr>\n",
       "      <th>1</th>\n",
       "      <td>((Mountain-200),)</td>\n",
       "      <td>0.116537</td>\n",
       "    </tr>\n",
       "    <tr>\n",
       "      <th>2</th>\n",
       "      <td>((Road Tire Tube),)</td>\n",
       "      <td>0.104258</td>\n",
       "    </tr>\n",
       "    <tr>\n",
       "      <th>3</th>\n",
       "      <td>((Long-Sleeve Logo Jersey),)</td>\n",
       "      <td>0.077252</td>\n",
       "    </tr>\n",
       "    <tr>\n",
       "      <th>4</th>\n",
       "      <td>((HL Mountain Tire),)</td>\n",
       "      <td>0.062621</td>\n",
       "    </tr>\n",
       "  </tbody>\n",
       "</table>\n",
       "</div>"
      ],
      "text/plain": [
       "                       sequence   support\n",
       "0         ((Road Bottle Cage),)  0.080075\n",
       "1             ((Mountain-200),)  0.116537\n",
       "2           ((Road Tire Tube),)  0.104258\n",
       "3  ((Long-Sleeve Logo Jersey),)  0.077252\n",
       "4         ((HL Mountain Tire),)  0.062621"
      ]
     },
     "execution_count": 8,
     "metadata": {},
     "output_type": "execute_result"
    }
   ],
   "source": [
    "aprioriAll.aprioriAll(basket,min_support=0.05).head()"
   ]
  }
 ],
 "metadata": {
  "kernelspec": {
   "display_name": "Python 3",
   "language": "python",
   "name": "python3"
  },
  "language_info": {
   "codemirror_mode": {
    "name": "ipython",
    "version": 3
   },
   "file_extension": ".py",
   "mimetype": "text/x-python",
   "name": "python",
   "nbconvert_exporter": "python",
   "pygments_lexer": "ipython3",
   "version": "3.7.1"
  }
 },
 "nbformat": 4,
 "nbformat_minor": 2
}
