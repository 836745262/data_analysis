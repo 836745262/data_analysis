{
 "cells": [
  {
   "cell_type": "code",
   "execution_count": 53,
   "metadata": {},
   "outputs": [],
   "source": [
    "import numpy as np\n",
    "import pandas as pd\n",
    "import matplotlib.pyplot as plt \n",
    "%matplotlib inline\n",
    "pd.set_option('display.max_columns',None)"
   ]
  },
  {
   "cell_type": "code",
   "execution_count": 5,
   "metadata": {},
   "outputs": [
    {
     "data": {
      "text/html": [
       "<div>\n",
       "<style scoped>\n",
       "    .dataframe tbody tr th:only-of-type {\n",
       "        vertical-align: middle;\n",
       "    }\n",
       "\n",
       "    .dataframe tbody tr th {\n",
       "        vertical-align: top;\n",
       "    }\n",
       "\n",
       "    .dataframe thead th {\n",
       "        text-align: right;\n",
       "    }\n",
       "</style>\n",
       "<table border=\"1\" class=\"dataframe\">\n",
       "  <thead>\n",
       "    <tr style=\"text-align: right;\">\n",
       "      <th></th>\n",
       "      <th>ID</th>\n",
       "      <th>Suc_flag</th>\n",
       "      <th>ARPU</th>\n",
       "      <th>PromCnt12</th>\n",
       "      <th>PromCnt36</th>\n",
       "      <th>PromCntMsg12</th>\n",
       "      <th>PromCntMsg36</th>\n",
       "      <th>Class</th>\n",
       "      <th>Age</th>\n",
       "      <th>Gender</th>\n",
       "      <th>HomeOwner</th>\n",
       "      <th>AvgARPU</th>\n",
       "      <th>AvgHomeValue</th>\n",
       "      <th>AvgIncome</th>\n",
       "    </tr>\n",
       "  </thead>\n",
       "  <tbody>\n",
       "    <tr>\n",
       "      <th>0</th>\n",
       "      <td>12</td>\n",
       "      <td>1</td>\n",
       "      <td>50.0</td>\n",
       "      <td>5.65</td>\n",
       "      <td>9.50</td>\n",
       "      <td>1.6</td>\n",
       "      <td>3.0</td>\n",
       "      <td>4</td>\n",
       "      <td>79.0</td>\n",
       "      <td>M</td>\n",
       "      <td>H</td>\n",
       "      <td>49.894904</td>\n",
       "      <td>33400</td>\n",
       "      <td>39460</td>\n",
       "    </tr>\n",
       "    <tr>\n",
       "      <th>1</th>\n",
       "      <td>53</td>\n",
       "      <td>0</td>\n",
       "      <td>NaN</td>\n",
       "      <td>4.50</td>\n",
       "      <td>9.00</td>\n",
       "      <td>1.4</td>\n",
       "      <td>3.6</td>\n",
       "      <td>3</td>\n",
       "      <td>71.0</td>\n",
       "      <td>M</td>\n",
       "      <td>H</td>\n",
       "      <td>48.574742</td>\n",
       "      <td>37600</td>\n",
       "      <td>33545</td>\n",
       "    </tr>\n",
       "    <tr>\n",
       "      <th>2</th>\n",
       "      <td>67</td>\n",
       "      <td>1</td>\n",
       "      <td>25.0</td>\n",
       "      <td>6.40</td>\n",
       "      <td>11.00</td>\n",
       "      <td>2.0</td>\n",
       "      <td>3.6</td>\n",
       "      <td>1</td>\n",
       "      <td>79.0</td>\n",
       "      <td>F</td>\n",
       "      <td>H</td>\n",
       "      <td>49.272646</td>\n",
       "      <td>100400</td>\n",
       "      <td>42091</td>\n",
       "    </tr>\n",
       "    <tr>\n",
       "      <th>3</th>\n",
       "      <td>71</td>\n",
       "      <td>1</td>\n",
       "      <td>80.0</td>\n",
       "      <td>7.15</td>\n",
       "      <td>10.25</td>\n",
       "      <td>2.4</td>\n",
       "      <td>3.6</td>\n",
       "      <td>1</td>\n",
       "      <td>63.0</td>\n",
       "      <td>F</td>\n",
       "      <td>H</td>\n",
       "      <td>47.334953</td>\n",
       "      <td>39900</td>\n",
       "      <td>39313</td>\n",
       "    </tr>\n",
       "    <tr>\n",
       "      <th>4</th>\n",
       "      <td>142</td>\n",
       "      <td>1</td>\n",
       "      <td>15.0</td>\n",
       "      <td>5.90</td>\n",
       "      <td>10.50</td>\n",
       "      <td>2.0</td>\n",
       "      <td>3.8</td>\n",
       "      <td>1</td>\n",
       "      <td>NaN</td>\n",
       "      <td>F</td>\n",
       "      <td>U</td>\n",
       "      <td>47.827404</td>\n",
       "      <td>47500</td>\n",
       "      <td>0</td>\n",
       "    </tr>\n",
       "  </tbody>\n",
       "</table>\n",
       "</div>"
      ],
      "text/plain": [
       "    ID  Suc_flag  ARPU  PromCnt12  PromCnt36  PromCntMsg12  PromCntMsg36  \\\n",
       "0   12         1  50.0       5.65       9.50           1.6           3.0   \n",
       "1   53         0   NaN       4.50       9.00           1.4           3.6   \n",
       "2   67         1  25.0       6.40      11.00           2.0           3.6   \n",
       "3   71         1  80.0       7.15      10.25           2.4           3.6   \n",
       "4  142         1  15.0       5.90      10.50           2.0           3.8   \n",
       "\n",
       "   Class   Age Gender HomeOwner    AvgARPU  AvgHomeValue  AvgIncome  \n",
       "0      4  79.0      M         H  49.894904         33400      39460  \n",
       "1      3  71.0      M         H  48.574742         37600      33545  \n",
       "2      1  79.0      F         H  49.272646        100400      42091  \n",
       "3      1  63.0      F         H  47.334953         39900      39313  \n",
       "4      1   NaN      F         U  47.827404         47500          0  "
      ]
     },
     "execution_count": 5,
     "metadata": {},
     "output_type": "execute_result"
    }
   ],
   "source": [
    "telecom = pd.read_csv('C:/Users/acerpc/Desktop/teleco_camp.csv',skipinitialspace=True)#skipinitialspace忽略分隔符后的空白,默认为False，即不忽略\n",
    "telecom.head()"
   ]
  },
  {
   "cell_type": "code",
   "execution_count": 6,
   "metadata": {},
   "outputs": [
    {
     "data": {
      "text/html": [
       "<div>\n",
       "<style scoped>\n",
       "    .dataframe tbody tr th:only-of-type {\n",
       "        vertical-align: middle;\n",
       "    }\n",
       "\n",
       "    .dataframe tbody tr th {\n",
       "        vertical-align: top;\n",
       "    }\n",
       "\n",
       "    .dataframe thead th {\n",
       "        text-align: right;\n",
       "    }\n",
       "</style>\n",
       "<table border=\"1\" class=\"dataframe\">\n",
       "  <thead>\n",
       "    <tr style=\"text-align: right;\">\n",
       "      <th></th>\n",
       "      <th>ID</th>\n",
       "      <th>Suc_flag</th>\n",
       "      <th>ARPU</th>\n",
       "      <th>PromCnt12</th>\n",
       "      <th>PromCnt36</th>\n",
       "      <th>PromCntMsg12</th>\n",
       "      <th>PromCntMsg36</th>\n",
       "      <th>Class</th>\n",
       "      <th>Age</th>\n",
       "      <th>Gender</th>\n",
       "      <th>HomeOwner</th>\n",
       "      <th>AvgARPU</th>\n",
       "      <th>AvgHomeValue</th>\n",
       "      <th>AvgIncome</th>\n",
       "    </tr>\n",
       "  </thead>\n",
       "  <tbody>\n",
       "    <tr>\n",
       "      <th>count</th>\n",
       "      <td>9686.000000</td>\n",
       "      <td>9686.000000</td>\n",
       "      <td>4843.000000</td>\n",
       "      <td>9686.000000</td>\n",
       "      <td>9686.000000</td>\n",
       "      <td>9686.000000</td>\n",
       "      <td>9686.000000</td>\n",
       "      <td>9686.000000</td>\n",
       "      <td>7279.000000</td>\n",
       "      <td>9686</td>\n",
       "      <td>9686</td>\n",
       "      <td>9686.000000</td>\n",
       "      <td>9686.000000</td>\n",
       "      <td>9686.000000</td>\n",
       "    </tr>\n",
       "    <tr>\n",
       "      <th>unique</th>\n",
       "      <td>NaN</td>\n",
       "      <td>NaN</td>\n",
       "      <td>NaN</td>\n",
       "      <td>NaN</td>\n",
       "      <td>NaN</td>\n",
       "      <td>NaN</td>\n",
       "      <td>NaN</td>\n",
       "      <td>NaN</td>\n",
       "      <td>NaN</td>\n",
       "      <td>3</td>\n",
       "      <td>2</td>\n",
       "      <td>NaN</td>\n",
       "      <td>NaN</td>\n",
       "      <td>NaN</td>\n",
       "    </tr>\n",
       "    <tr>\n",
       "      <th>top</th>\n",
       "      <td>NaN</td>\n",
       "      <td>NaN</td>\n",
       "      <td>NaN</td>\n",
       "      <td>NaN</td>\n",
       "      <td>NaN</td>\n",
       "      <td>NaN</td>\n",
       "      <td>NaN</td>\n",
       "      <td>NaN</td>\n",
       "      <td>NaN</td>\n",
       "      <td>F</td>\n",
       "      <td>H</td>\n",
       "      <td>NaN</td>\n",
       "      <td>NaN</td>\n",
       "      <td>NaN</td>\n",
       "    </tr>\n",
       "    <tr>\n",
       "      <th>freq</th>\n",
       "      <td>NaN</td>\n",
       "      <td>NaN</td>\n",
       "      <td>NaN</td>\n",
       "      <td>NaN</td>\n",
       "      <td>NaN</td>\n",
       "      <td>NaN</td>\n",
       "      <td>NaN</td>\n",
       "      <td>NaN</td>\n",
       "      <td>NaN</td>\n",
       "      <td>5223</td>\n",
       "      <td>5377</td>\n",
       "      <td>NaN</td>\n",
       "      <td>NaN</td>\n",
       "      <td>NaN</td>\n",
       "    </tr>\n",
       "    <tr>\n",
       "      <th>mean</th>\n",
       "      <td>97975.474086</td>\n",
       "      <td>0.500000</td>\n",
       "      <td>78.121722</td>\n",
       "      <td>3.447212</td>\n",
       "      <td>7.337059</td>\n",
       "      <td>1.178402</td>\n",
       "      <td>2.390935</td>\n",
       "      <td>2.424530</td>\n",
       "      <td>59.150845</td>\n",
       "      <td>NaN</td>\n",
       "      <td>NaN</td>\n",
       "      <td>52.905156</td>\n",
       "      <td>110986.299814</td>\n",
       "      <td>40491.444249</td>\n",
       "    </tr>\n",
       "    <tr>\n",
       "      <th>std</th>\n",
       "      <td>56550.171120</td>\n",
       "      <td>0.500026</td>\n",
       "      <td>62.225686</td>\n",
       "      <td>1.231890</td>\n",
       "      <td>1.952436</td>\n",
       "      <td>0.287226</td>\n",
       "      <td>0.914314</td>\n",
       "      <td>1.049047</td>\n",
       "      <td>16.516400</td>\n",
       "      <td>NaN</td>\n",
       "      <td>NaN</td>\n",
       "      <td>4.993775</td>\n",
       "      <td>98670.855450</td>\n",
       "      <td>28707.494146</td>\n",
       "    </tr>\n",
       "    <tr>\n",
       "      <th>min</th>\n",
       "      <td>12.000000</td>\n",
       "      <td>0.000000</td>\n",
       "      <td>5.000000</td>\n",
       "      <td>0.750000</td>\n",
       "      <td>1.000000</td>\n",
       "      <td>0.200000</td>\n",
       "      <td>0.400000</td>\n",
       "      <td>1.000000</td>\n",
       "      <td>0.000000</td>\n",
       "      <td>NaN</td>\n",
       "      <td>NaN</td>\n",
       "      <td>46.138968</td>\n",
       "      <td>0.000000</td>\n",
       "      <td>0.000000</td>\n",
       "    </tr>\n",
       "    <tr>\n",
       "      <th>25%</th>\n",
       "      <td>48835.500000</td>\n",
       "      <td>0.000000</td>\n",
       "      <td>50.000000</td>\n",
       "      <td>2.900000</td>\n",
       "      <td>6.250000</td>\n",
       "      <td>1.000000</td>\n",
       "      <td>1.400000</td>\n",
       "      <td>2.000000</td>\n",
       "      <td>47.000000</td>\n",
       "      <td>NaN</td>\n",
       "      <td>NaN</td>\n",
       "      <td>49.760116</td>\n",
       "      <td>52300.000000</td>\n",
       "      <td>24464.000000</td>\n",
       "    </tr>\n",
       "    <tr>\n",
       "      <th>50%</th>\n",
       "      <td>99106.000000</td>\n",
       "      <td>0.500000</td>\n",
       "      <td>65.000000</td>\n",
       "      <td>3.250000</td>\n",
       "      <td>7.750000</td>\n",
       "      <td>1.200000</td>\n",
       "      <td>2.600000</td>\n",
       "      <td>2.000000</td>\n",
       "      <td>60.000000</td>\n",
       "      <td>NaN</td>\n",
       "      <td>NaN</td>\n",
       "      <td>50.876672</td>\n",
       "      <td>76900.000000</td>\n",
       "      <td>43100.000000</td>\n",
       "    </tr>\n",
       "    <tr>\n",
       "      <th>75%</th>\n",
       "      <td>148538.750000</td>\n",
       "      <td>1.000000</td>\n",
       "      <td>100.000000</td>\n",
       "      <td>3.650000</td>\n",
       "      <td>8.250000</td>\n",
       "      <td>1.400000</td>\n",
       "      <td>3.200000</td>\n",
       "      <td>3.000000</td>\n",
       "      <td>73.000000</td>\n",
       "      <td>NaN</td>\n",
       "      <td>NaN</td>\n",
       "      <td>54.452822</td>\n",
       "      <td>128175.000000</td>\n",
       "      <td>56876.000000</td>\n",
       "    </tr>\n",
       "    <tr>\n",
       "      <th>max</th>\n",
       "      <td>191779.000000</td>\n",
       "      <td>1.000000</td>\n",
       "      <td>1000.000000</td>\n",
       "      <td>15.150000</td>\n",
       "      <td>19.500000</td>\n",
       "      <td>3.600000</td>\n",
       "      <td>5.600000</td>\n",
       "      <td>4.000000</td>\n",
       "      <td>87.000000</td>\n",
       "      <td>NaN</td>\n",
       "      <td>NaN</td>\n",
       "      <td>99.444787</td>\n",
       "      <td>600000.000000</td>\n",
       "      <td>200001.000000</td>\n",
       "    </tr>\n",
       "  </tbody>\n",
       "</table>\n",
       "</div>"
      ],
      "text/plain": [
       "                   ID     Suc_flag         ARPU    PromCnt12    PromCnt36  \\\n",
       "count     9686.000000  9686.000000  4843.000000  9686.000000  9686.000000   \n",
       "unique            NaN          NaN          NaN          NaN          NaN   \n",
       "top               NaN          NaN          NaN          NaN          NaN   \n",
       "freq              NaN          NaN          NaN          NaN          NaN   \n",
       "mean     97975.474086     0.500000    78.121722     3.447212     7.337059   \n",
       "std      56550.171120     0.500026    62.225686     1.231890     1.952436   \n",
       "min         12.000000     0.000000     5.000000     0.750000     1.000000   \n",
       "25%      48835.500000     0.000000    50.000000     2.900000     6.250000   \n",
       "50%      99106.000000     0.500000    65.000000     3.250000     7.750000   \n",
       "75%     148538.750000     1.000000   100.000000     3.650000     8.250000   \n",
       "max     191779.000000     1.000000  1000.000000    15.150000    19.500000   \n",
       "\n",
       "        PromCntMsg12  PromCntMsg36        Class          Age Gender HomeOwner  \\\n",
       "count    9686.000000   9686.000000  9686.000000  7279.000000   9686      9686   \n",
       "unique           NaN           NaN          NaN          NaN      3         2   \n",
       "top              NaN           NaN          NaN          NaN      F         H   \n",
       "freq             NaN           NaN          NaN          NaN   5223      5377   \n",
       "mean        1.178402      2.390935     2.424530    59.150845    NaN       NaN   \n",
       "std         0.287226      0.914314     1.049047    16.516400    NaN       NaN   \n",
       "min         0.200000      0.400000     1.000000     0.000000    NaN       NaN   \n",
       "25%         1.000000      1.400000     2.000000    47.000000    NaN       NaN   \n",
       "50%         1.200000      2.600000     2.000000    60.000000    NaN       NaN   \n",
       "75%         1.400000      3.200000     3.000000    73.000000    NaN       NaN   \n",
       "max         3.600000      5.600000     4.000000    87.000000    NaN       NaN   \n",
       "\n",
       "            AvgARPU   AvgHomeValue      AvgIncome  \n",
       "count   9686.000000    9686.000000    9686.000000  \n",
       "unique          NaN            NaN            NaN  \n",
       "top             NaN            NaN            NaN  \n",
       "freq            NaN            NaN            NaN  \n",
       "mean      52.905156  110986.299814   40491.444249  \n",
       "std        4.993775   98670.855450   28707.494146  \n",
       "min       46.138968       0.000000       0.000000  \n",
       "25%       49.760116   52300.000000   24464.000000  \n",
       "50%       50.876672   76900.000000   43100.000000  \n",
       "75%       54.452822  128175.000000   56876.000000  \n",
       "max       99.444787  600000.000000  200001.000000  "
      ]
     },
     "execution_count": 6,
     "metadata": {},
     "output_type": "execute_result"
    }
   ],
   "source": [
    "telecom.describe(include='all')"
   ]
  },
  {
   "cell_type": "code",
   "execution_count": 7,
   "metadata": {},
   "outputs": [],
   "source": [
    "#数据清洗\n",
    "#对字符串进行编码\n",
    "from sklearn.preprocessing import LabelEncoder\n",
    "le = LabelEncoder()\n",
    "telecom['Gender'] = le.fit_transform(telecom['Gender'])# 对Gender进行自动编码\n",
    "#test['gender']=le.transform(test['gender']) 不需要重新训练\n",
    "telecom['HomeOwner'].replace({'H':0,'U':1},inplace=True)# 对HomeOwner进行人工编码"
   ]
  },
  {
   "cell_type": "code",
   "execution_count": 8,
   "metadata": {},
   "outputs": [],
   "source": [
    "#错误值处理\n",
    "for col in ('AvgIncome', 'Age', 'AvgHomeValue'):\n",
    "    telecom[col].replace({0:np.nan},inplace=True)# AvgIncome、Age、AvgHomeValue的0值实为缺失值"
   ]
  },
  {
   "cell_type": "code",
   "execution_count": 10,
   "metadata": {},
   "outputs": [
    {
     "data": {
      "text/html": [
       "<div>\n",
       "<style scoped>\n",
       "    .dataframe tbody tr th:only-of-type {\n",
       "        vertical-align: middle;\n",
       "    }\n",
       "\n",
       "    .dataframe tbody tr th {\n",
       "        vertical-align: top;\n",
       "    }\n",
       "\n",
       "    .dataframe thead th {\n",
       "        text-align: right;\n",
       "    }\n",
       "</style>\n",
       "<table border=\"1\" class=\"dataframe\">\n",
       "  <thead>\n",
       "    <tr style=\"text-align: right;\">\n",
       "      <th></th>\n",
       "      <th>ID</th>\n",
       "      <th>Suc_flag</th>\n",
       "      <th>ARPU</th>\n",
       "      <th>PromCnt12</th>\n",
       "      <th>PromCnt36</th>\n",
       "      <th>PromCntMsg12</th>\n",
       "      <th>PromCntMsg36</th>\n",
       "      <th>Class</th>\n",
       "      <th>Age</th>\n",
       "      <th>Gender</th>\n",
       "      <th>HomeOwner</th>\n",
       "      <th>AvgARPU</th>\n",
       "      <th>AvgHomeValue</th>\n",
       "      <th>AvgIncome</th>\n",
       "    </tr>\n",
       "  </thead>\n",
       "  <tbody>\n",
       "    <tr>\n",
       "      <th>0</th>\n",
       "      <td>12.0</td>\n",
       "      <td>1.0</td>\n",
       "      <td>50.000000</td>\n",
       "      <td>5.65</td>\n",
       "      <td>9.50</td>\n",
       "      <td>1.6</td>\n",
       "      <td>3.0</td>\n",
       "      <td>4.0</td>\n",
       "      <td>79.000000</td>\n",
       "      <td>1.0</td>\n",
       "      <td>0.0</td>\n",
       "      <td>49.894904</td>\n",
       "      <td>33400.0</td>\n",
       "      <td>39460.000000</td>\n",
       "    </tr>\n",
       "    <tr>\n",
       "      <th>1</th>\n",
       "      <td>53.0</td>\n",
       "      <td>0.0</td>\n",
       "      <td>78.121722</td>\n",
       "      <td>4.50</td>\n",
       "      <td>9.00</td>\n",
       "      <td>1.4</td>\n",
       "      <td>3.6</td>\n",
       "      <td>3.0</td>\n",
       "      <td>71.000000</td>\n",
       "      <td>1.0</td>\n",
       "      <td>0.0</td>\n",
       "      <td>48.574742</td>\n",
       "      <td>37600.0</td>\n",
       "      <td>33545.000000</td>\n",
       "    </tr>\n",
       "    <tr>\n",
       "      <th>2</th>\n",
       "      <td>67.0</td>\n",
       "      <td>1.0</td>\n",
       "      <td>25.000000</td>\n",
       "      <td>6.40</td>\n",
       "      <td>11.00</td>\n",
       "      <td>2.0</td>\n",
       "      <td>3.6</td>\n",
       "      <td>1.0</td>\n",
       "      <td>79.000000</td>\n",
       "      <td>0.0</td>\n",
       "      <td>0.0</td>\n",
       "      <td>49.272646</td>\n",
       "      <td>100400.0</td>\n",
       "      <td>42091.000000</td>\n",
       "    </tr>\n",
       "    <tr>\n",
       "      <th>3</th>\n",
       "      <td>71.0</td>\n",
       "      <td>1.0</td>\n",
       "      <td>80.000000</td>\n",
       "      <td>7.15</td>\n",
       "      <td>10.25</td>\n",
       "      <td>2.4</td>\n",
       "      <td>3.6</td>\n",
       "      <td>1.0</td>\n",
       "      <td>63.000000</td>\n",
       "      <td>0.0</td>\n",
       "      <td>0.0</td>\n",
       "      <td>47.334953</td>\n",
       "      <td>39900.0</td>\n",
       "      <td>39313.000000</td>\n",
       "    </tr>\n",
       "    <tr>\n",
       "      <th>4</th>\n",
       "      <td>142.0</td>\n",
       "      <td>1.0</td>\n",
       "      <td>15.000000</td>\n",
       "      <td>5.90</td>\n",
       "      <td>10.50</td>\n",
       "      <td>2.0</td>\n",
       "      <td>3.8</td>\n",
       "      <td>1.0</td>\n",
       "      <td>59.158972</td>\n",
       "      <td>0.0</td>\n",
       "      <td>1.0</td>\n",
       "      <td>47.827404</td>\n",
       "      <td>47500.0</td>\n",
       "      <td>53513.457361</td>\n",
       "    </tr>\n",
       "  </tbody>\n",
       "</table>\n",
       "</div>"
      ],
      "text/plain": [
       "      ID  Suc_flag       ARPU  PromCnt12  PromCnt36  PromCntMsg12  \\\n",
       "0   12.0       1.0  50.000000       5.65       9.50           1.6   \n",
       "1   53.0       0.0  78.121722       4.50       9.00           1.4   \n",
       "2   67.0       1.0  25.000000       6.40      11.00           2.0   \n",
       "3   71.0       1.0  80.000000       7.15      10.25           2.4   \n",
       "4  142.0       1.0  15.000000       5.90      10.50           2.0   \n",
       "\n",
       "   PromCntMsg36  Class        Age  Gender  HomeOwner    AvgARPU  AvgHomeValue  \\\n",
       "0           3.0    4.0  79.000000     1.0        0.0  49.894904       33400.0   \n",
       "1           3.6    3.0  71.000000     1.0        0.0  48.574742       37600.0   \n",
       "2           3.6    1.0  79.000000     0.0        0.0  49.272646      100400.0   \n",
       "3           3.6    1.0  63.000000     0.0        0.0  47.334953       39900.0   \n",
       "4           3.8    1.0  59.158972     0.0        1.0  47.827404       47500.0   \n",
       "\n",
       "      AvgIncome  \n",
       "0  39460.000000  \n",
       "1  33545.000000  \n",
       "2  42091.000000  \n",
       "3  39313.000000  \n",
       "4  53513.457361  "
      ]
     },
     "execution_count": 10,
     "metadata": {},
     "output_type": "execute_result"
    }
   ],
   "source": [
    "#填补缺失值\n",
    "from sklearn.preprocessing import Imputer\n",
    "imputer = Imputer(missing_values=np.nan,strategy='mean',axis=0)# 使用均值填补\n",
    "telecom = pd.DataFrame(imputer.fit_transform(telecom),columns=telecom.columns)\n",
    "telecom.head()\n",
    "#imputer.transform(test)"
   ]
  },
  {
   "cell_type": "code",
   "execution_count": 11,
   "metadata": {},
   "outputs": [],
   "source": [
    "#处理极端值\n",
    "def blk(up,down):# 'blk' will return a function\n",
    "    def f(data):\n",
    "        if data>up:\n",
    "            data = up\n",
    "        elif data < down:\n",
    "            dat a= down\n",
    "        return data\n",
    "    return f\n",
    "down = telecom.Age.quantile(0.01)\n",
    "up = telecom.Age.quantile(0.99)\n",
    "blk_tot = blk(up,down)# 'blk_tot' is a function\n",
    "telecom['Age'] = telecom.Age.map(blk_tot)"
   ]
  },
  {
   "cell_type": "code",
   "execution_count": 13,
   "metadata": {},
   "outputs": [
    {
     "data": {
      "text/plain": [
       "RandomForestClassifier(bootstrap=True, class_weight=None, criterion='gini',\n",
       "            max_depth=None, max_features='auto', max_leaf_nodes=None,\n",
       "            min_impurity_decrease=0.0, min_impurity_split=None,\n",
       "            min_samples_leaf=1, min_samples_split=2,\n",
       "            min_weight_fraction_leaf=0.0, n_estimators=10, n_jobs=1,\n",
       "            oob_score=False, random_state=None, verbose=0,\n",
       "            warm_start=False)"
      ]
     },
     "execution_count": 13,
     "metadata": {},
     "output_type": "execute_result"
    }
   ],
   "source": [
    "#变量筛选\n",
    "#使用模型进行筛选\n",
    "#使用可输出变量重要性的模型进行筛选\n",
    "from sklearn import ensemble\n",
    "X = telecom.loc[:,'PromCnt12':]\n",
    "y = telecom['Suc_flag']\n",
    "crf = ensemble.RandomForestClassifier()#随机森林\n",
    "crf.fit(X,y)"
   ]
  },
  {
   "cell_type": "code",
   "execution_count": 14,
   "metadata": {},
   "outputs": [
    {
     "data": {
      "text/plain": [
       "0.360263       PromCnt12\n",
       "0.307988    PromCntMsg12\n",
       "0.076483       PromCnt36\n",
       "0.066482    PromCntMsg36\n",
       "0.052241         AvgARPU\n",
       "0.040490    AvgHomeValue\n",
       "0.033816       AvgIncome\n",
       "0.030572             Age\n",
       "0.018453           Class\n",
       "0.008112          Gender\n",
       "0.005100       HomeOwner\n",
       "dtype: object"
      ]
     },
     "execution_count": 14,
     "metadata": {},
     "output_type": "execute_result"
    }
   ],
   "source": [
    "pd.Series(X.columns,index=crf.feature_importances_).sort_index(ascending=False)"
   ]
  },
  {
   "cell_type": "code",
   "execution_count": 58,
   "metadata": {},
   "outputs": [],
   "source": [
    "#用IV值做变量筛选--发现非线性关系\n",
    "# 定义计算IV值的函数\n",
    "def IV_(y,x):\n",
    "    all_i = y.groupby(x).count()\n",
    "    bad_i = y.groupby(x).sum()\n",
    "    good_i = all_i-bad_i\n",
    "    p1 = bad_i/bad_i.sum()\n",
    "    p0 = good_i/good_i.sum()\n",
    "    woe = np.log((p1+1e-5)/(p0+1e-5))\n",
    "    Iv = (p1-p0)*woe\n",
    "    return Iv.sum()"
   ]
  },
  {
   "cell_type": "code",
   "execution_count": 26,
   "metadata": {},
   "outputs": [
    {
     "data": {
      "text/plain": [
       "HomeOwner\n",
       "0.0    5377\n",
       "1.0    4309\n",
       "Name: Suc_flag, dtype: int64"
      ]
     },
     "execution_count": 26,
     "metadata": {},
     "output_type": "execute_result"
    }
   ],
   "source": [
    "y.groupby(telecom.HomeOwner).count()"
   ]
  },
  {
   "cell_type": "code",
   "execution_count": 23,
   "metadata": {},
   "outputs": [
    {
     "data": {
      "text/plain": [
       "HomeOwner\n",
       "0.0    2708.0\n",
       "1.0    2135.0\n",
       "Name: Suc_flag, dtype: float64"
      ]
     },
     "execution_count": 23,
     "metadata": {},
     "output_type": "execute_result"
    }
   ],
   "source": [
    "y.groupby(telecom.HomeOwner).sum()"
   ]
  },
  {
   "cell_type": "code",
   "execution_count": 25,
   "metadata": {},
   "outputs": [
    {
     "data": {
      "text/plain": [
       "HomeOwner\n",
       "0.0    2669.0\n",
       "1.0    2174.0\n",
       "Name: Suc_flag, dtype: float64"
      ]
     },
     "execution_count": 25,
     "metadata": {},
     "output_type": "execute_result"
    }
   ],
   "source": [
    "y.groupby(telecom.HomeOwner).count()-y.groupby(telecom.HomeOwner).sum()"
   ]
  },
  {
   "cell_type": "code",
   "execution_count": 86,
   "metadata": {},
   "outputs": [
    {
     "data": {
      "text/html": [
       "<div>\n",
       "<style scoped>\n",
       "    .dataframe tbody tr th:only-of-type {\n",
       "        vertical-align: middle;\n",
       "    }\n",
       "\n",
       "    .dataframe tbody tr th {\n",
       "        vertical-align: top;\n",
       "    }\n",
       "\n",
       "    .dataframe thead th {\n",
       "        text-align: right;\n",
       "    }\n",
       "</style>\n",
       "<table border=\"1\" class=\"dataframe\">\n",
       "  <thead>\n",
       "    <tr style=\"text-align: right;\">\n",
       "      <th></th>\n",
       "      <th>0</th>\n",
       "    </tr>\n",
       "  </thead>\n",
       "  <tbody>\n",
       "    <tr>\n",
       "      <th>0.885313</th>\n",
       "      <td>PromCnt12</td>\n",
       "    </tr>\n",
       "    <tr>\n",
       "      <th>0.326262</th>\n",
       "      <td>PromCntMsg12</td>\n",
       "    </tr>\n",
       "    <tr>\n",
       "      <th>0.043248</th>\n",
       "      <td>PromCntMsg36</td>\n",
       "    </tr>\n",
       "    <tr>\n",
       "      <th>0.040798</th>\n",
       "      <td>Class</td>\n",
       "    </tr>\n",
       "    <tr>\n",
       "      <th>0.020960</th>\n",
       "      <td>PromCnt36</td>\n",
       "    </tr>\n",
       "    <tr>\n",
       "      <th>0.016137</th>\n",
       "      <td>AvgARPU</td>\n",
       "    </tr>\n",
       "    <tr>\n",
       "      <th>0.013139</th>\n",
       "      <td>Age</td>\n",
       "    </tr>\n",
       "    <tr>\n",
       "      <th>0.010793</th>\n",
       "      <td>AvgHomeValue</td>\n",
       "    </tr>\n",
       "    <tr>\n",
       "      <th>0.003858</th>\n",
       "      <td>AvgIncome</td>\n",
       "    </tr>\n",
       "    <tr>\n",
       "      <th>0.000263</th>\n",
       "      <td>HomeOwner</td>\n",
       "    </tr>\n",
       "    <tr>\n",
       "      <th>0.000030</th>\n",
       "      <td>Gender</td>\n",
       "    </tr>\n",
       "  </tbody>\n",
       "</table>\n",
       "</div>"
      ],
      "text/plain": [
       "                     0\n",
       "0.885313     PromCnt12\n",
       "0.326262  PromCntMsg12\n",
       "0.043248  PromCntMsg36\n",
       "0.040798         Class\n",
       "0.020960     PromCnt36\n",
       "0.016137       AvgARPU\n",
       "0.013139           Age\n",
       "0.010793  AvgHomeValue\n",
       "0.003858     AvgIncome\n",
       "0.000263     HomeOwner\n",
       "0.000030        Gender"
      ]
     },
     "execution_count": 86,
     "metadata": {},
     "output_type": "execute_result"
    }
   ],
   "source": [
    "IV = pd.DataFrame()\n",
    "for col in X.columns:\n",
    "    if len(X[col].unique()) > 10 and X[col].dtype!=np.object:# 将水平数大于10的变量进行离散化后，使用IV值进行变量重要性判断\n",
    "        try :\n",
    "            tem = pd.cut(X[col],5) # 等分离散\n",
    "        except:\n",
    "            tem = pd.qcut(X[col],5)# 等宽离散\n",
    "        df = pd.DataFrame([col],index=[IV_(y,tem)])\n",
    "    else:\n",
    "        df = pd.DataFrame([col],index=[IV_(y,X[col])])# 水平数不大于10的作为离散变量直接计算IV\n",
    "    IV = pd.concat([IV,df])\n",
    "sorted_IV = IV.sort_index(ascending=False)\n",
    "sorted_IV"
   ]
  },
  {
   "cell_type": "code",
   "execution_count": 101,
   "metadata": {},
   "outputs": [
    {
     "data": {
      "text/html": [
       "<div>\n",
       "<style scoped>\n",
       "    .dataframe tbody tr th:only-of-type {\n",
       "        vertical-align: middle;\n",
       "    }\n",
       "\n",
       "    .dataframe tbody tr th {\n",
       "        vertical-align: top;\n",
       "    }\n",
       "\n",
       "    .dataframe thead th {\n",
       "        text-align: right;\n",
       "    }\n",
       "</style>\n",
       "<table border=\"1\" class=\"dataframe\">\n",
       "  <thead>\n",
       "    <tr style=\"text-align: right;\">\n",
       "      <th></th>\n",
       "      <th>Suc_flag</th>\n",
       "      <th>PromCnt12</th>\n",
       "      <th>PromCntMsg12</th>\n",
       "      <th>PromCntMsg36</th>\n",
       "      <th>Class</th>\n",
       "      <th>PromCnt36</th>\n",
       "      <th>AvgARPU</th>\n",
       "      <th>Age</th>\n",
       "      <th>AvgHomeValue</th>\n",
       "    </tr>\n",
       "  </thead>\n",
       "  <tbody>\n",
       "    <tr>\n",
       "      <th>0</th>\n",
       "      <td>1.0</td>\n",
       "      <td>5.65</td>\n",
       "      <td>1.6</td>\n",
       "      <td>3.0</td>\n",
       "      <td>4.0</td>\n",
       "      <td>9.50</td>\n",
       "      <td>49.894904</td>\n",
       "      <td>79.000000</td>\n",
       "      <td>33400.0</td>\n",
       "    </tr>\n",
       "    <tr>\n",
       "      <th>1</th>\n",
       "      <td>0.0</td>\n",
       "      <td>4.50</td>\n",
       "      <td>1.4</td>\n",
       "      <td>3.6</td>\n",
       "      <td>3.0</td>\n",
       "      <td>9.00</td>\n",
       "      <td>48.574742</td>\n",
       "      <td>71.000000</td>\n",
       "      <td>37600.0</td>\n",
       "    </tr>\n",
       "    <tr>\n",
       "      <th>2</th>\n",
       "      <td>1.0</td>\n",
       "      <td>6.40</td>\n",
       "      <td>2.0</td>\n",
       "      <td>3.6</td>\n",
       "      <td>1.0</td>\n",
       "      <td>11.00</td>\n",
       "      <td>49.272646</td>\n",
       "      <td>79.000000</td>\n",
       "      <td>100400.0</td>\n",
       "    </tr>\n",
       "    <tr>\n",
       "      <th>3</th>\n",
       "      <td>1.0</td>\n",
       "      <td>7.15</td>\n",
       "      <td>2.4</td>\n",
       "      <td>3.6</td>\n",
       "      <td>1.0</td>\n",
       "      <td>10.25</td>\n",
       "      <td>47.334953</td>\n",
       "      <td>63.000000</td>\n",
       "      <td>39900.0</td>\n",
       "    </tr>\n",
       "    <tr>\n",
       "      <th>4</th>\n",
       "      <td>1.0</td>\n",
       "      <td>5.90</td>\n",
       "      <td>2.0</td>\n",
       "      <td>3.8</td>\n",
       "      <td>1.0</td>\n",
       "      <td>10.50</td>\n",
       "      <td>47.827404</td>\n",
       "      <td>59.158972</td>\n",
       "      <td>47500.0</td>\n",
       "    </tr>\n",
       "  </tbody>\n",
       "</table>\n",
       "</div>"
      ],
      "text/plain": [
       "   Suc_flag  PromCnt12  PromCntMsg12  PromCntMsg36  Class  PromCnt36  \\\n",
       "0       1.0       5.65           1.6           3.0    4.0       9.50   \n",
       "1       0.0       4.50           1.4           3.6    3.0       9.00   \n",
       "2       1.0       6.40           2.0           3.6    1.0      11.00   \n",
       "3       1.0       7.15           2.4           3.6    1.0      10.25   \n",
       "4       1.0       5.90           2.0           3.8    1.0      10.50   \n",
       "\n",
       "     AvgARPU        Age  AvgHomeValue  \n",
       "0  49.894904  79.000000       33400.0  \n",
       "1  48.574742  71.000000       37600.0  \n",
       "2  49.272646  79.000000      100400.0  \n",
       "3  47.334953  63.000000       39900.0  \n",
       "4  47.827404  59.158972       47500.0  "
      ]
     },
     "execution_count": 101,
     "metadata": {},
     "output_type": "execute_result"
    }
   ],
   "source": [
    "#变量筛选有多种方法，本例选取IV值最大的前8个变量作为示例\n",
    "select_feature = ['Suc_flag',]\n",
    "select_feature.extend(list(sorted_IV[0].iloc[:8]))\n",
    "telecom1 = telecom[select_feature]\n",
    "telecom1.head()"
   ]
  },
  {
   "cell_type": "code",
   "execution_count": 102,
   "metadata": {},
   "outputs": [
    {
     "data": {
      "text/html": [
       "<div>\n",
       "<style scoped>\n",
       "    .dataframe tbody tr th:only-of-type {\n",
       "        vertical-align: middle;\n",
       "    }\n",
       "\n",
       "    .dataframe tbody tr th {\n",
       "        vertical-align: top;\n",
       "    }\n",
       "\n",
       "    .dataframe thead th {\n",
       "        text-align: right;\n",
       "    }\n",
       "</style>\n",
       "<table border=\"1\" class=\"dataframe\">\n",
       "  <thead>\n",
       "    <tr style=\"text-align: right;\">\n",
       "      <th></th>\n",
       "      <th>Suc_flag</th>\n",
       "      <th>PromCnt12</th>\n",
       "      <th>PromCntMsg12</th>\n",
       "      <th>PromCntMsg36</th>\n",
       "      <th>PromCnt36</th>\n",
       "      <th>AvgARPU</th>\n",
       "      <th>Age</th>\n",
       "      <th>AvgHomeValue</th>\n",
       "      <th>1.0</th>\n",
       "      <th>2.0</th>\n",
       "      <th>3.0</th>\n",
       "      <th>4.0</th>\n",
       "    </tr>\n",
       "  </thead>\n",
       "  <tbody>\n",
       "    <tr>\n",
       "      <th>0</th>\n",
       "      <td>1.0</td>\n",
       "      <td>5.65</td>\n",
       "      <td>1.6</td>\n",
       "      <td>3.0</td>\n",
       "      <td>9.50</td>\n",
       "      <td>49.894904</td>\n",
       "      <td>79.000000</td>\n",
       "      <td>33400.0</td>\n",
       "      <td>0</td>\n",
       "      <td>0</td>\n",
       "      <td>0</td>\n",
       "      <td>1</td>\n",
       "    </tr>\n",
       "    <tr>\n",
       "      <th>1</th>\n",
       "      <td>0.0</td>\n",
       "      <td>4.50</td>\n",
       "      <td>1.4</td>\n",
       "      <td>3.6</td>\n",
       "      <td>9.00</td>\n",
       "      <td>48.574742</td>\n",
       "      <td>71.000000</td>\n",
       "      <td>37600.0</td>\n",
       "      <td>0</td>\n",
       "      <td>0</td>\n",
       "      <td>1</td>\n",
       "      <td>0</td>\n",
       "    </tr>\n",
       "    <tr>\n",
       "      <th>2</th>\n",
       "      <td>1.0</td>\n",
       "      <td>6.40</td>\n",
       "      <td>2.0</td>\n",
       "      <td>3.6</td>\n",
       "      <td>11.00</td>\n",
       "      <td>49.272646</td>\n",
       "      <td>79.000000</td>\n",
       "      <td>100400.0</td>\n",
       "      <td>1</td>\n",
       "      <td>0</td>\n",
       "      <td>0</td>\n",
       "      <td>0</td>\n",
       "    </tr>\n",
       "    <tr>\n",
       "      <th>3</th>\n",
       "      <td>1.0</td>\n",
       "      <td>7.15</td>\n",
       "      <td>2.4</td>\n",
       "      <td>3.6</td>\n",
       "      <td>10.25</td>\n",
       "      <td>47.334953</td>\n",
       "      <td>63.000000</td>\n",
       "      <td>39900.0</td>\n",
       "      <td>1</td>\n",
       "      <td>0</td>\n",
       "      <td>0</td>\n",
       "      <td>0</td>\n",
       "    </tr>\n",
       "    <tr>\n",
       "      <th>4</th>\n",
       "      <td>1.0</td>\n",
       "      <td>5.90</td>\n",
       "      <td>2.0</td>\n",
       "      <td>3.8</td>\n",
       "      <td>10.50</td>\n",
       "      <td>47.827404</td>\n",
       "      <td>59.158972</td>\n",
       "      <td>47500.0</td>\n",
       "      <td>1</td>\n",
       "      <td>0</td>\n",
       "      <td>0</td>\n",
       "      <td>0</td>\n",
       "    </tr>\n",
       "  </tbody>\n",
       "</table>\n",
       "</div>"
      ],
      "text/plain": [
       "   Suc_flag  PromCnt12  PromCntMsg12  PromCntMsg36  PromCnt36    AvgARPU  \\\n",
       "0       1.0       5.65           1.6           3.0       9.50  49.894904   \n",
       "1       0.0       4.50           1.4           3.6       9.00  48.574742   \n",
       "2       1.0       6.40           2.0           3.6      11.00  49.272646   \n",
       "3       1.0       7.15           2.4           3.6      10.25  47.334953   \n",
       "4       1.0       5.90           2.0           3.8      10.50  47.827404   \n",
       "\n",
       "         Age  AvgHomeValue  1.0  2.0  3.0  4.0  \n",
       "0  79.000000       33400.0    0    0    0    1  \n",
       "1  71.000000       37600.0    0    0    1    0  \n",
       "2  79.000000      100400.0    1    0    0    0  \n",
       "3  63.000000       39900.0    1    0    0    0  \n",
       "4  59.158972       47500.0    1    0    0    0  "
      ]
     },
     "execution_count": 102,
     "metadata": {},
     "output_type": "execute_result"
    }
   ],
   "source": [
    "#对离散变量进行哑变量变换\n",
    "telecom2 = telecom1.join(pd.get_dummies(telecom1['Class'])).drop('Class',axis=1)\n",
    "telecom2.head()"
   ]
  },
  {
   "cell_type": "code",
   "execution_count": 107,
   "metadata": {},
   "outputs": [
    {
     "name": "stderr",
     "output_type": "stream",
     "text": [
      "D:\\anaconda\\lib\\site-packages\\sklearn\\model_selection\\_split.py:2026: FutureWarning: From version 0.21, test_size will always complement train_size unless both are specified.\n",
      "  FutureWarning)\n"
     ]
    }
   ],
   "source": [
    "#划分训练集和测试集\n",
    "from sklearn.model_selection import train_test_split\n",
    "x = telecom2.loc[:,'PromCnt12':]\n",
    "y = telecom2['Suc_flag']\n",
    "train_data,test_data,trian_target,test_target=train_test_split(x,y,train_size=0.6,random_state=2)"
   ]
  },
  {
   "cell_type": "code",
   "execution_count": 108,
   "metadata": {},
   "outputs": [],
   "source": [
    "#标准化\n",
    "from sklearn.preprocessing import MinMaxScaler\n",
    "minmaxscaler = MinMaxScaler()\n",
    "minmaxscaler.fit(train_data)\n",
    "scaled_train_data = minmaxscaler.transform(train_data)\n",
    "scaled_test_data = minmaxscaler.transform(test_data)"
   ]
  },
  {
   "cell_type": "code",
   "execution_count": 110,
   "metadata": {},
   "outputs": [
    {
     "data": {
      "text/plain": [
       "LogisticRegression(C=1.0, class_weight=None, dual=False, fit_intercept=True,\n",
       "          intercept_scaling=1, max_iter=100, multi_class='ovr', n_jobs=1,\n",
       "          penalty='l2', random_state=None, solver='liblinear', tol=0.0001,\n",
       "          verbose=0, warm_start=False)"
      ]
     },
     "execution_count": 110,
     "metadata": {},
     "output_type": "execute_result"
    }
   ],
   "source": [
    "#建立逻辑回归模型\n",
    "from sklearn.linear_model import LogisticRegression\n",
    "log = LogisticRegression()\n",
    "log.fit(scaled_train_data,trian_target)"
   ]
  },
  {
   "cell_type": "code",
   "execution_count": 111,
   "metadata": {},
   "outputs": [],
   "source": [
    "#预测分类标签\n",
    "trian_predict = log.predict(scaled_train_data)\n",
    "test_predict = log.predict(scaled_test_data)"
   ]
  },
  {
   "cell_type": "code",
   "execution_count": 113,
   "metadata": {},
   "outputs": [
    {
     "data": {
      "text/plain": [
       "array([0.42333261, 0.67609234, 0.45139596, ..., 0.54484673, 0.41622793,\n",
       "       0.84475701])"
      ]
     },
     "execution_count": 113,
     "metadata": {},
     "output_type": "execute_result"
    }
   ],
   "source": [
    "#预测概率\n",
    "train_p = log.predict_proba(scaled_train_data)[:,1]# 计算分别属于各类的概率，取标签为1的概率\n",
    "test_p = log.predict_proba(scaled_test_data)[:,1]\n",
    "test_p"
   ]
  },
  {
   "cell_type": "code",
   "execution_count": 114,
   "metadata": {},
   "outputs": [
    {
     "data": {
      "text/plain": [
       "0.7666494579246257"
      ]
     },
     "execution_count": 114,
     "metadata": {},
     "output_type": "execute_result"
    }
   ],
   "source": [
    "#评估\n",
    "#mean accuracy\n",
    "log.score(scaled_train_data,trian_target)"
   ]
  },
  {
   "cell_type": "code",
   "execution_count": 118,
   "metadata": {},
   "outputs": [
    {
     "name": "stdout",
     "output_type": "stream",
     "text": [
      "             precision    recall  f1-score   support\n",
      "\n",
      "        0.0       0.76      0.76      0.76      2867\n",
      "        1.0       0.77      0.77      0.77      2944\n",
      "\n",
      "avg / total       0.77      0.77      0.77      5811\n",
      "\n",
      "[[2182  685]\n",
      " [ 671 2273]]\n"
     ]
    }
   ],
   "source": [
    "#混淆矩阵\n",
    "from sklearn import metrics\n",
    "print(metrics.classification_report(trian_target,trian_predict))\n",
    "print(metrics.confusion_matrix(trian_target,trian_predict,labels=[0,1]))"
   ]
  },
  {
   "cell_type": "code",
   "execution_count": 122,
   "metadata": {},
   "outputs": [
    {
     "data": {
      "text/plain": [
       "Text(0.6,0.6,'AUC=0.8284')"
      ]
     },
     "execution_count": 122,
     "metadata": {},
     "output_type": "execute_result"
    },
    {
     "data": {
      "image/png": "[encoded data removed]",
      "text/plain": [
       "<Figure size 432x288 with 1 Axes>"
      ]
     },
     "metadata": {
      "needs_background": "light"
     },
     "output_type": "display_data"
    }
   ],
   "source": [
    "#ROC曲线与AUC\n",
    "fpr_train,tpr_train,th_train = metrics.roc_curve(trian_target,train_p)\n",
    "fpr_test,tpr_test,th_test = metrics.roc_curve(test_target,test_p)\n",
    "plt.plot(fpr_train,tpr_train)\n",
    "plt.plot(fpr_test,tpr_test)\n",
    "plt.title('ROC curve')\n",
    "plt.text(0.6,0.6,'AUC=%.4f'%metrics.auc(fpr_test,tpr_test))"
   ]
  },
  {
   "cell_type": "code",
   "execution_count": 124,
   "metadata": {},
   "outputs": [
    {
     "data": {
      "text/plain": [
       "{1.0: array([[0.5065382 , 0.59050241, 0.6386786 , 0.7026841 , 0.76944253,\n",
       "         0.77013076, 0.76462491, 0.76393668, 0.76462491, 0.76462491],\n",
       "        [0.5065382 , 0.58017894, 0.63041982, 0.70406056, 0.74741913,\n",
       "         0.75911906, 0.76324845, 0.76118376, 0.76187199, 0.76187199],\n",
       "        [0.5065382 , 0.56710255, 0.62353751, 0.6937371 , 0.7598073 ,\n",
       "         0.77563661, 0.77770131, 0.77701308, 0.77701308, 0.77701308],\n",
       "        [0.50688705, 0.57506887, 0.60950413, 0.68250689, 0.75826446,\n",
       "         0.76721763, 0.76170799, 0.7637741 , 0.76446281, 0.76446281]])}"
      ]
     },
     "execution_count": 124,
     "metadata": {},
     "output_type": "execute_result"
    }
   ],
   "source": [
    "#交叉验证优化\n",
    "from sklearn.linear_model import LogisticRegressionCV\n",
    "logcv = LogisticRegressionCV(Cs=10,cv=4)# Cs为正则化系数的倒数,自动生成10个正则化系数\n",
    "#cv指分成几份\n",
    "logcv.fit(scaled_train_data,trian_target)\n",
    "logcv.scores_"
   ]
  },
  {
   "cell_type": "code",
   "execution_count": 125,
   "metadata": {},
   "outputs": [
    {
     "data": {
      "text/plain": [
       "array([2.7825594])"
      ]
     },
     "execution_count": 125,
     "metadata": {},
     "output_type": "execute_result"
    }
   ],
   "source": [
    "logcv.C_ # 模型交叉验证分数最高的C值,正则化系数的倒数"
   ]
  },
  {
   "cell_type": "code",
   "execution_count": 126,
   "metadata": {},
   "outputs": [
    {
     "data": {
      "text/plain": [
       "array([[ 4.55193055, 19.53503563, -1.57238442, -8.47526306, -2.25030944,\n",
       "         0.55756845,  1.17615512,  0.34357133, -0.13766803, -0.15653428,\n",
       "        -0.13226195]])"
      ]
     },
     "execution_count": 126,
     "metadata": {},
     "output_type": "execute_result"
    }
   ],
   "source": [
    "logcv.coef_"
   ]
  },
  {
   "cell_type": "code",
   "execution_count": 130,
   "metadata": {},
   "outputs": [
    {
     "data": {
      "text/plain": [
       "Text(0.6,0.6,'AUC=0.8300')"
      ]
     },
     "execution_count": 130,
     "metadata": {},
     "output_type": "execute_result"
    },
    {
     "data": {
      "image/png": "[encoded data removed]",
      "text/plain": [
       "<Figure size 432x288 with 1 Axes>"
      ]
     },
     "metadata": {
      "needs_background": "light"
     },
     "output_type": "display_data"
    }
   ],
   "source": [
    "testcv_p = logcv.predict_proba(scaled_test_data)[:,1]\n",
    "fpr,tpr,th = metrics.roc_curve(test_target,testcv_p)\n",
    "plt.plot(fpr,tpr)\n",
    "plt.title('ROC curve')\n",
    "plt.text(0.6,0.6,'AUC=%.4f'%metrics.auc(fpr,tpr))"
   ]
  }
 ],
 "metadata": {
  "kernelspec": {
   "display_name": "Python 3",
   "language": "python",
   "name": "python3"
  },
  "language_info": {
   "codemirror_mode": {
    "name": "ipython",
    "version": 3
   },
   "file_extension": ".py",
   "mimetype": "text/x-python",
   "name": "python",
   "nbconvert_exporter": "python",
   "pygments_lexer": "ipython3",
   "version": "3.6.8"
  }
 },
 "nbformat": 4,
 "nbformat_minor": 2
}
