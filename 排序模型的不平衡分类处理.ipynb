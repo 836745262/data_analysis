{
 "cells": [
  {
   "cell_type": "code",
   "execution_count": 1,
   "metadata": {},
   "outputs": [],
   "source": [
    "import numpy as np\n",
    "import pandas as pd\n",
    "import matplotlib.pyplot as plt\n",
    "%matplotlib inline"
   ]
  },
  {
   "cell_type": "code",
   "execution_count": 2,
   "metadata": {},
   "outputs": [
    {
     "data": {
      "text/html": [
       "<div>\n",
       "<style scoped>\n",
       "    .dataframe tbody tr th:only-of-type {\n",
       "        vertical-align: middle;\n",
       "    }\n",
       "\n",
       "    .dataframe tbody tr th {\n",
       "        vertical-align: top;\n",
       "    }\n",
       "\n",
       "    .dataframe thead th {\n",
       "        text-align: right;\n",
       "    }\n",
       "</style>\n",
       "<table border=\"1\" class=\"dataframe\">\n",
       "  <thead>\n",
       "    <tr style=\"text-align: right;\">\n",
       "      <th></th>\n",
       "      <th>X1</th>\n",
       "      <th>X2</th>\n",
       "      <th>X3</th>\n",
       "      <th>X4</th>\n",
       "      <th>X5</th>\n",
       "      <th>cls</th>\n",
       "    </tr>\n",
       "  </thead>\n",
       "  <tbody>\n",
       "    <tr>\n",
       "      <th>0</th>\n",
       "      <td>-1.249738</td>\n",
       "      <td>1.445085</td>\n",
       "      <td>-1.725502</td>\n",
       "      <td>-1.240094</td>\n",
       "      <td>-0.486357</td>\n",
       "      <td>0</td>\n",
       "    </tr>\n",
       "    <tr>\n",
       "      <th>1</th>\n",
       "      <td>1.094761</td>\n",
       "      <td>-1.754265</td>\n",
       "      <td>0.777568</td>\n",
       "      <td>-1.016829</td>\n",
       "      <td>-1.500572</td>\n",
       "      <td>0</td>\n",
       "    </tr>\n",
       "    <tr>\n",
       "      <th>2</th>\n",
       "      <td>-0.749148</td>\n",
       "      <td>0.825491</td>\n",
       "      <td>-1.280002</td>\n",
       "      <td>-0.918879</td>\n",
       "      <td>-0.452324</td>\n",
       "      <td>0</td>\n",
       "    </tr>\n",
       "    <tr>\n",
       "      <th>3</th>\n",
       "      <td>0.529419</td>\n",
       "      <td>-0.912219</td>\n",
       "      <td>-0.404428</td>\n",
       "      <td>-0.766775</td>\n",
       "      <td>-0.977623</td>\n",
       "      <td>0</td>\n",
       "    </tr>\n",
       "    <tr>\n",
       "      <th>4</th>\n",
       "      <td>0.098122</td>\n",
       "      <td>-0.293959</td>\n",
       "      <td>0.385421</td>\n",
       "      <td>-0.679932</td>\n",
       "      <td>-0.673869</td>\n",
       "      <td>0</td>\n",
       "    </tr>\n",
       "  </tbody>\n",
       "</table>\n",
       "</div>"
      ],
      "text/plain": [
       "         X1        X2        X3        X4        X5  cls\n",
       "0 -1.249738  1.445085 -1.725502 -1.240094 -0.486357    0\n",
       "1  1.094761 -1.754265  0.777568 -1.016829 -1.500572    0\n",
       "2 -0.749148  0.825491 -1.280002 -0.918879 -0.452324    0\n",
       "3  0.529419 -0.912219 -0.404428 -0.766775 -0.977623    0\n",
       "4  0.098122 -0.293959  0.385421 -0.679932 -0.673869    0"
      ]
     },
     "execution_count": 2,
     "metadata": {},
     "output_type": "execute_result"
    }
   ],
   "source": [
    "train = pd.read_csv('C:/Users/acerpc/Desktop/data_folder/imb_train.csv')\n",
    "test = pd.read_csv('C:/Users/acerpc/Desktop/data_folder/imb_test.csv')\n",
    "train.head()"
   ]
  },
  {
   "cell_type": "code",
   "execution_count": 3,
   "metadata": {},
   "outputs": [],
   "source": [
    "x_train = train.loc[:,:'X5'];y_train = train['cls']\n",
    "x_test = test.loc[:,:'X5'];y_test = test['cls']"
   ]
  },
  {
   "cell_type": "code",
   "execution_count": 5,
   "metadata": {},
   "outputs": [
    {
     "data": {
      "text/plain": [
       "<matplotlib.axes._subplots.AxesSubplot at 0x2c24f0aa908>"
      ]
     },
     "execution_count": 5,
     "metadata": {},
     "output_type": "execute_result"
    },
    {
     "data": {
      "image/png": "[encoded data removed]",
      "text/plain": [
       "<Figure size 432x288 with 1 Axes>"
      ]
     },
     "metadata": {
      "needs_background": "light"
     },
     "output_type": "display_data"
    }
   ],
   "source": [
    "count_classes = train['cls'].value_counts()\n",
    "count_classes.plot(kind='bar')"
   ]
  },
  {
   "cell_type": "code",
   "execution_count": 7,
   "metadata": {},
   "outputs": [],
   "source": [
    "from imblearn.over_sampling import RandomOverSampler,SMOTE\n",
    "from imblearn.combine import SMOTETomek"
   ]
  },
  {
   "cell_type": "code",
   "execution_count": 8,
   "metadata": {},
   "outputs": [],
   "source": [
    "ros = RandomOverSampler(random_state=0,sampling_strategy='auto')#随机过采样\n",
    "sos = SMOTE(sampling_strategy='auto',random_state=0)#SMOTE过采样\n",
    "kos = SMOTETomek(sampling_strategy='auto',random_state=0)#综合采样"
   ]
  },
  {
   "cell_type": "code",
   "execution_count": 9,
   "metadata": {},
   "outputs": [],
   "source": [
    "x_ros,y_ros = ros.fit_sample(x_train,y_train)\n",
    "x_sos,y_sos = sos.fit_sample(x_train,y_train)\n",
    "x_kos,y_kos = kos.fit_sample(x_train,y_train)"
   ]
  },
  {
   "cell_type": "code",
   "execution_count": 16,
   "metadata": {},
   "outputs": [
    {
     "name": "stdout",
     "output_type": "stream",
     "text": [
      "ros\n",
      " 1    13644\n",
      "0    13644\n",
      "dtype: int64 sos\n",
      " 1    13644\n",
      "0    13644\n",
      "dtype: int64 kos\n",
      " 1    13395\n",
      "0    13395\n",
      "dtype: int64\n"
     ]
    }
   ],
   "source": [
    "print('ros\\n',pd.Series(y_ros).value_counts(),'sos\\n',pd.Series(y_sos).value_counts(),'kos\\n',pd.Series(y_kos).value_counts())"
   ]
  },
  {
   "cell_type": "code",
   "execution_count": 19,
   "metadata": {},
   "outputs": [],
   "source": [
    "from sklearn.ensemble import RandomForestClassifier\n",
    "from sklearn.model_selection import GridSearchCV\n",
    "\n",
    "param_grid = {'max_depth':list(range(10,21)),'min_samples_split':list(range(80,151,5)),'min_samples_leaf':list(range(20,61)),'n_estimators':list(range(80,151))}\n",
    "rfc = RandomForestClassifier(oob_score=True)\n",
    "cv = GridSearchCV(rfc,param_grid,cv=5,scoring='roc_auc')"
   ]
  },
  {
   "cell_type": "code",
   "execution_count": null,
   "metadata": {},
   "outputs": [],
   "source": [
    "cv.fit(x_ros,y_ros)"
   ]
  },
  {
   "cell_type": "code",
   "execution_count": null,
   "metadata": {},
   "outputs": [],
   "source": [
    "from sklearn import metrics\n",
    "\n",
    "print(metrics.classification_report(y_test,cv.predict(x_test)),'\\nroc',metrics.roc_auc_score(y_test,cv.predict_proba(x_test)))"
   ]
  },
  {
   "cell_type": "code",
   "execution_count": null,
   "metadata": {},
   "outputs": [],
   "source": [
    "cv.fit(x_sos,y_sos)\n",
    "print(metrics.classification_report(y_test,cv.predict(x_test)),'\\nroc',metrics.roc_auc_score(y_test,cv.predict_proba(x_test)))"
   ]
  },
  {
   "cell_type": "code",
   "execution_count": null,
   "metadata": {},
   "outputs": [],
   "source": [
    "cv.fit(x_kos,y_kos)\n",
    "print(metrics.classification_report(y_test,cv.predict(x_test)),'\\nroc',metrics.roc_auc_score(y_test,cv.predict_proba(x_test)))"
   ]
  }
 ],
 "metadata": {
  "kernelspec": {
   "display_name": "Python 3",
   "language": "python",
   "name": "python3"
  },
  "language_info": {
   "codemirror_mode": {
    "name": "ipython",
    "version": 3
   },
   "file_extension": ".py",
   "mimetype": "text/x-python",
   "name": "python",
   "nbconvert_exporter": "python",
   "pygments_lexer": "ipython3",
   "version": "3.7.1"
  }
 },
 "nbformat": 4,
 "nbformat_minor": 2
}
