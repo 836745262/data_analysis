{
 "cells": [
  {
   "cell_type": "code",
   "execution_count": 1,
   "metadata": {},
   "outputs": [],
   "source": [
    "import numpy as np\n",
    "import pandas as pd\n",
    "import matplotlib.pyplot as plt\n",
    "%matplotlib inline"
   ]
  },
  {
   "cell_type": "code",
   "execution_count": 2,
   "metadata": {},
   "outputs": [
    {
     "data": {
      "text/html": [
       "<div>\n",
       "<style scoped>\n",
       "    .dataframe tbody tr th:only-of-type {\n",
       "        vertical-align: middle;\n",
       "    }\n",
       "\n",
       "    .dataframe tbody tr th {\n",
       "        vertical-align: top;\n",
       "    }\n",
       "\n",
       "    .dataframe thead th {\n",
       "        text-align: right;\n",
       "    }\n",
       "</style>\n",
       "<table border=\"1\" class=\"dataframe\">\n",
       "  <thead>\n",
       "    <tr style=\"text-align: right;\">\n",
       "      <th></th>\n",
       "      <th>Disbursed</th>\n",
       "      <th>Existing_EMI</th>\n",
       "      <th>ID</th>\n",
       "      <th>Loan_Amount_Applied</th>\n",
       "      <th>Loan_Tenure_Applied</th>\n",
       "      <th>Monthly_Income</th>\n",
       "      <th>Var4</th>\n",
       "      <th>Var5</th>\n",
       "      <th>Age</th>\n",
       "      <th>EMI_Loan_Submitted_Missing</th>\n",
       "      <th>...</th>\n",
       "      <th>Var2_2</th>\n",
       "      <th>Var2_3</th>\n",
       "      <th>Var2_4</th>\n",
       "      <th>Var2_5</th>\n",
       "      <th>Var2_6</th>\n",
       "      <th>Mobile_Verified_0</th>\n",
       "      <th>Mobile_Verified_1</th>\n",
       "      <th>Source_0</th>\n",
       "      <th>Source_1</th>\n",
       "      <th>Source_2</th>\n",
       "    </tr>\n",
       "  </thead>\n",
       "  <tbody>\n",
       "    <tr>\n",
       "      <th>0</th>\n",
       "      <td>0</td>\n",
       "      <td>0.0</td>\n",
       "      <td>ID000002C20</td>\n",
       "      <td>300000</td>\n",
       "      <td>5</td>\n",
       "      <td>20000</td>\n",
       "      <td>1</td>\n",
       "      <td>0</td>\n",
       "      <td>37</td>\n",
       "      <td>1</td>\n",
       "      <td>...</td>\n",
       "      <td>0</td>\n",
       "      <td>0</td>\n",
       "      <td>0</td>\n",
       "      <td>0</td>\n",
       "      <td>1</td>\n",
       "      <td>1</td>\n",
       "      <td>0</td>\n",
       "      <td>1</td>\n",
       "      <td>0</td>\n",
       "      <td>0</td>\n",
       "    </tr>\n",
       "    <tr>\n",
       "      <th>1</th>\n",
       "      <td>0</td>\n",
       "      <td>0.0</td>\n",
       "      <td>ID000004E40</td>\n",
       "      <td>200000</td>\n",
       "      <td>2</td>\n",
       "      <td>35000</td>\n",
       "      <td>3</td>\n",
       "      <td>13</td>\n",
       "      <td>30</td>\n",
       "      <td>0</td>\n",
       "      <td>...</td>\n",
       "      <td>0</td>\n",
       "      <td>0</td>\n",
       "      <td>0</td>\n",
       "      <td>0</td>\n",
       "      <td>1</td>\n",
       "      <td>0</td>\n",
       "      <td>1</td>\n",
       "      <td>1</td>\n",
       "      <td>0</td>\n",
       "      <td>0</td>\n",
       "    </tr>\n",
       "    <tr>\n",
       "      <th>2</th>\n",
       "      <td>0</td>\n",
       "      <td>0.0</td>\n",
       "      <td>ID000007H20</td>\n",
       "      <td>600000</td>\n",
       "      <td>4</td>\n",
       "      <td>22500</td>\n",
       "      <td>1</td>\n",
       "      <td>0</td>\n",
       "      <td>34</td>\n",
       "      <td>1</td>\n",
       "      <td>...</td>\n",
       "      <td>0</td>\n",
       "      <td>0</td>\n",
       "      <td>0</td>\n",
       "      <td>0</td>\n",
       "      <td>0</td>\n",
       "      <td>0</td>\n",
       "      <td>1</td>\n",
       "      <td>0</td>\n",
       "      <td>0</td>\n",
       "      <td>1</td>\n",
       "    </tr>\n",
       "    <tr>\n",
       "      <th>3</th>\n",
       "      <td>0</td>\n",
       "      <td>0.0</td>\n",
       "      <td>ID000008I30</td>\n",
       "      <td>1000000</td>\n",
       "      <td>5</td>\n",
       "      <td>35000</td>\n",
       "      <td>3</td>\n",
       "      <td>10</td>\n",
       "      <td>28</td>\n",
       "      <td>1</td>\n",
       "      <td>...</td>\n",
       "      <td>0</td>\n",
       "      <td>0</td>\n",
       "      <td>0</td>\n",
       "      <td>0</td>\n",
       "      <td>0</td>\n",
       "      <td>0</td>\n",
       "      <td>1</td>\n",
       "      <td>0</td>\n",
       "      <td>0</td>\n",
       "      <td>1</td>\n",
       "    </tr>\n",
       "    <tr>\n",
       "      <th>4</th>\n",
       "      <td>0</td>\n",
       "      <td>25000.0</td>\n",
       "      <td>ID000009J40</td>\n",
       "      <td>500000</td>\n",
       "      <td>2</td>\n",
       "      <td>100000</td>\n",
       "      <td>3</td>\n",
       "      <td>17</td>\n",
       "      <td>31</td>\n",
       "      <td>1</td>\n",
       "      <td>...</td>\n",
       "      <td>0</td>\n",
       "      <td>0</td>\n",
       "      <td>0</td>\n",
       "      <td>0</td>\n",
       "      <td>0</td>\n",
       "      <td>0</td>\n",
       "      <td>1</td>\n",
       "      <td>0</td>\n",
       "      <td>0</td>\n",
       "      <td>1</td>\n",
       "    </tr>\n",
       "  </tbody>\n",
       "</table>\n",
       "<p>5 rows × 51 columns</p>\n",
       "</div>"
      ],
      "text/plain": [
       "   Disbursed  Existing_EMI           ID  Loan_Amount_Applied  \\\n",
       "0          0           0.0  ID000002C20               300000   \n",
       "1          0           0.0  ID000004E40               200000   \n",
       "2          0           0.0  ID000007H20               600000   \n",
       "3          0           0.0  ID000008I30              1000000   \n",
       "4          0       25000.0  ID000009J40               500000   \n",
       "\n",
       "   Loan_Tenure_Applied  Monthly_Income  Var4  Var5  Age  \\\n",
       "0                    5           20000     1     0   37   \n",
       "1                    2           35000     3    13   30   \n",
       "2                    4           22500     1     0   34   \n",
       "3                    5           35000     3    10   28   \n",
       "4                    2          100000     3    17   31   \n",
       "\n",
       "   EMI_Loan_Submitted_Missing    ...     Var2_2  Var2_3  Var2_4  Var2_5  \\\n",
       "0                           1    ...          0       0       0       0   \n",
       "1                           0    ...          0       0       0       0   \n",
       "2                           1    ...          0       0       0       0   \n",
       "3                           1    ...          0       0       0       0   \n",
       "4                           1    ...          0       0       0       0   \n",
       "\n",
       "   Var2_6  Mobile_Verified_0  Mobile_Verified_1  Source_0  Source_1  Source_2  \n",
       "0       1                  1                  0         1         0         0  \n",
       "1       1                  0                  1         1         0         0  \n",
       "2       0                  0                  1         0         0         1  \n",
       "3       0                  0                  1         0         0         1  \n",
       "4       0                  0                  1         0         0         1  \n",
       "\n",
       "[5 rows x 51 columns]"
      ]
     },
     "execution_count": 2,
     "metadata": {},
     "output_type": "execute_result"
    }
   ],
   "source": [
    "data = pd.read_csv('C:/Users/acerpc/Desktop/data_folder/train_modified.csv')\n",
    "data.head()"
   ]
  },
  {
   "cell_type": "code",
   "execution_count": 14,
   "metadata": {},
   "outputs": [
    {
     "data": {
      "text/plain": [
       "0    19680\n",
       "1      320\n",
       "Name: Disbursed, dtype: int64"
      ]
     },
     "execution_count": 14,
     "metadata": {},
     "output_type": "execute_result"
    }
   ],
   "source": [
    "data.Disbursed.value_counts()"
   ]
  },
  {
   "cell_type": "code",
   "execution_count": 9,
   "metadata": {},
   "outputs": [],
   "source": [
    "from sklearn.model_selection import train_test_split\n",
    "\n",
    "x_train,x_test,y_train,y_test = train_test_split(data.loc[:,'Existing_EMI':].drop('ID',axis=1),data['Disbursed'],\n",
    "                                                random_state=1,test_size=0.3)"
   ]
  },
  {
   "cell_type": "code",
   "execution_count": 4,
   "metadata": {},
   "outputs": [],
   "source": [
    "from imblearn.combine import SMOTETomek"
   ]
  },
  {
   "cell_type": "code",
   "execution_count": 16,
   "metadata": {},
   "outputs": [
    {
     "data": {
      "text/plain": [
       "1    13296\n",
       "0    13296\n",
       "dtype: int64"
      ]
     },
     "execution_count": 16,
     "metadata": {},
     "output_type": "execute_result"
    }
   ],
   "source": [
    "kos = SMOTETomek(random_state=1)\n",
    "x_kos,y_kos = kos.fit_sample(x_train,y_train)\n",
    "pd.Series(y_kos).value_counts()"
   ]
  },
  {
   "cell_type": "code",
   "execution_count": null,
   "metadata": {},
   "outputs": [],
   "source": [
    "AdaBoostClassifier主要应用AdaBoost算法实现分类问题的主要函数，其主要有如下几个参数：\n",
    "base_estimator ：基本分类器，就是我们常说的弱分类器，默认为决策树分类器（CART），在理论上可以选择任何一个分类器，但是需要支持选择样本的权重，\n",
    "一般用决策树或者是神经网络。\n",
    "n_estimators ：弱分类器的个数，默认为50个，一般来说n_estimators太小的话会出现欠拟合，过大的话会出现过拟合，\n",
    "因此一般选择一个适中的数值，这也是调参的必要性。 \n",
    "learning_rate ：学习率，即每个弱分类器的权重缩减系数，取值范围为0到1。一般来说弱分类器的分数和学习率要一起调参，\n",
    "一般来说可从一个小一点的开始调参。\n",
    "algorithm ：算法的选择，主要有‘SAMME’, ‘SAMME.R’两种，默认为SAMME.R。两者的主要区别在弱分类器的权重度量上，\n",
    "SAMME使用的是样本集的分类效果作为若学习器的权重，\n",
    "而SAMME.R使用了对样本集分类的预测概率大小作为弱学习器的权重，因为SAMME.R使用的是概率度量的连续值，迭代一般比SAMME快。\n",
    "random_state：随机状态的设定，默认为None，可以设置为整型数值，也可以给定一个随机状态。"
   ]
  },
  {
   "cell_type": "code",
   "execution_count": 18,
   "metadata": {},
   "outputs": [
    {
     "data": {
      "text/plain": [
       "AdaBoostClassifier(algorithm='SAMME.R', base_estimator=None,\n",
       "          learning_rate=1.0, n_estimators=50, random_state=None)"
      ]
     },
     "execution_count": 18,
     "metadata": {},
     "output_type": "execute_result"
    }
   ],
   "source": [
    "from sklearn.ensemble import AdaBoostClassifier\n",
    "\n",
    "abc = AdaBoostClassifier()\n",
    "abc.fit(x_kos,y_kos)"
   ]
  },
  {
   "cell_type": "code",
   "execution_count": 19,
   "metadata": {},
   "outputs": [
    {
     "name": "stdout",
     "output_type": "stream",
     "text": [
      "              precision    recall  f1-score   support\n",
      "\n",
      "           0       0.98      0.97      0.98      5900\n",
      "           1       0.04      0.07      0.05       100\n",
      "\n",
      "   micro avg       0.96      0.96      0.96      6000\n",
      "   macro avg       0.51      0.52      0.52      6000\n",
      "weighted avg       0.97      0.96      0.96      6000\n",
      "\n"
     ]
    }
   ],
   "source": [
    "from sklearn.metrics import classification_report\n",
    "print(classification_report(y_test,abc.predict(x_test)))"
   ]
  },
  {
   "cell_type": "code",
   "execution_count": 20,
   "metadata": {},
   "outputs": [
    {
     "name": "stdout",
     "output_type": "stream",
     "text": [
      "              precision    recall  f1-score   support\n",
      "\n",
      "           0       0.99      0.98      0.98     13780\n",
      "           1       0.06      0.10      0.08       220\n",
      "\n",
      "   micro avg       0.96      0.96      0.96     14000\n",
      "   macro avg       0.52      0.54      0.53     14000\n",
      "weighted avg       0.97      0.96      0.97     14000\n",
      "\n"
     ]
    }
   ],
   "source": [
    "print(classification_report(y_train,abc.predict(x_train)))"
   ]
  }
 ],
 "metadata": {
  "kernelspec": {
   "display_name": "Python 3",
   "language": "python",
   "name": "python3"
  },
  "language_info": {
   "codemirror_mode": {
    "name": "ipython",
    "version": 3
   },
   "file_extension": ".py",
   "mimetype": "text/x-python",
   "name": "python",
   "nbconvert_exporter": "python",
   "pygments_lexer": "ipython3",
   "version": "3.7.1"
  }
 },
 "nbformat": 4,
 "nbformat_minor": 2
}
