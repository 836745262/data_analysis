{
 "cells": [
  {
   "cell_type": "code",
   "execution_count": null,
   "metadata": {},
   "outputs": [],
   "source": [
    "#逻辑回归步骤\n",
    "#①运用随机森林进行变量的重要性选择\n",
    "#②数据清洗：离群值、空缺值、极端值、数据离散化\n",
    "#③数据细选：IV值，p值、向前法向后法、离散化进行woe打分或哑变量变换\n",
    "#④根据回归效果进行调参：正则化交叉验证，根据业务生成scoring（recall,accruacy,f1_score）、过拟合判断PSI\n",
    "#⑤回到第二步进一步优化：标准化、生成新变量，再进行效果评估\n",
    "#⑥预测：阈值选择"
   ]
  },
  {
   "cell_type": "code",
   "execution_count": 2,
   "metadata": {},
   "outputs": [],
   "source": [
    "#逻辑回归\n",
    "#数据说明:本数据是一份汽车贷款违约数据\n",
    "import numpy as np\n",
    "import pandas as pd\n",
    "import matplotlib.pyplot as plt\n",
    "from scipy import stats\n",
    "import statsmodels.api as sm\n",
    "import statsmodels.formula.api as smf\n",
    "%matplotlib inline\n",
    "pd.set_option('display.max_columns',None)"
   ]
  },
  {
   "cell_type": "code",
   "execution_count": 4,
   "metadata": {},
   "outputs": [
    {
     "data": {
      "text/html": [
       "<div>\n",
       "<style scoped>\n",
       "    .dataframe tbody tr th:only-of-type {\n",
       "        vertical-align: middle;\n",
       "    }\n",
       "\n",
       "    .dataframe tbody tr th {\n",
       "        vertical-align: top;\n",
       "    }\n",
       "\n",
       "    .dataframe thead th {\n",
       "        text-align: right;\n",
       "    }\n",
       "</style>\n",
       "<table border=\"1\" class=\"dataframe\">\n",
       "  <thead>\n",
       "    <tr style=\"text-align: right;\">\n",
       "      <th></th>\n",
       "      <th>application_id</th>\n",
       "      <th>account_number</th>\n",
       "      <th>bad_ind</th>\n",
       "      <th>vehicle_year</th>\n",
       "      <th>vehicle_make</th>\n",
       "      <th>bankruptcy_ind</th>\n",
       "      <th>tot_derog</th>\n",
       "      <th>tot_tr</th>\n",
       "      <th>age_oldest_tr</th>\n",
       "      <th>tot_open_tr</th>\n",
       "      <th>tot_rev_tr</th>\n",
       "      <th>tot_rev_debt</th>\n",
       "      <th>tot_rev_line</th>\n",
       "      <th>rev_util</th>\n",
       "      <th>fico_score</th>\n",
       "      <th>purch_price</th>\n",
       "      <th>msrp</th>\n",
       "      <th>down_pyt</th>\n",
       "      <th>loan_term</th>\n",
       "      <th>loan_amt</th>\n",
       "      <th>ltv</th>\n",
       "      <th>tot_income</th>\n",
       "      <th>veh_mileage</th>\n",
       "      <th>used_ind</th>\n",
       "      <th>weight</th>\n",
       "    </tr>\n",
       "  </thead>\n",
       "  <tbody>\n",
       "    <tr>\n",
       "      <th>0</th>\n",
       "      <td>2314049</td>\n",
       "      <td>11613</td>\n",
       "      <td>1</td>\n",
       "      <td>1998.0</td>\n",
       "      <td>FORD</td>\n",
       "      <td>N</td>\n",
       "      <td>7.0</td>\n",
       "      <td>9.0</td>\n",
       "      <td>64.0</td>\n",
       "      <td>2.0</td>\n",
       "      <td>1.0</td>\n",
       "      <td>506.0</td>\n",
       "      <td>500.0</td>\n",
       "      <td>101</td>\n",
       "      <td>650.0</td>\n",
       "      <td>17200.00</td>\n",
       "      <td>17350.0</td>\n",
       "      <td>0.00</td>\n",
       "      <td>36</td>\n",
       "      <td>17200.00</td>\n",
       "      <td>99.0</td>\n",
       "      <td>6550.00</td>\n",
       "      <td>24000.0</td>\n",
       "      <td>1</td>\n",
       "      <td>1.00</td>\n",
       "    </tr>\n",
       "    <tr>\n",
       "      <th>1</th>\n",
       "      <td>63539</td>\n",
       "      <td>13449</td>\n",
       "      <td>0</td>\n",
       "      <td>2000.0</td>\n",
       "      <td>DAEWOO</td>\n",
       "      <td>N</td>\n",
       "      <td>0.0</td>\n",
       "      <td>21.0</td>\n",
       "      <td>240.0</td>\n",
       "      <td>11.0</td>\n",
       "      <td>7.0</td>\n",
       "      <td>34605.0</td>\n",
       "      <td>57241.0</td>\n",
       "      <td>60</td>\n",
       "      <td>649.0</td>\n",
       "      <td>19588.54</td>\n",
       "      <td>19788.0</td>\n",
       "      <td>683.54</td>\n",
       "      <td>60</td>\n",
       "      <td>19588.54</td>\n",
       "      <td>99.0</td>\n",
       "      <td>4666.67</td>\n",
       "      <td>22.0</td>\n",
       "      <td>0</td>\n",
       "      <td>4.75</td>\n",
       "    </tr>\n",
       "    <tr>\n",
       "      <th>3</th>\n",
       "      <td>8725187</td>\n",
       "      <td>15359</td>\n",
       "      <td>1</td>\n",
       "      <td>1997.0</td>\n",
       "      <td>FORD</td>\n",
       "      <td>N</td>\n",
       "      <td>3.0</td>\n",
       "      <td>10.0</td>\n",
       "      <td>35.0</td>\n",
       "      <td>5.0</td>\n",
       "      <td>4.0</td>\n",
       "      <td>4019.0</td>\n",
       "      <td>5946.0</td>\n",
       "      <td>68</td>\n",
       "      <td>603.0</td>\n",
       "      <td>12999.00</td>\n",
       "      <td>12100.0</td>\n",
       "      <td>3099.00</td>\n",
       "      <td>60</td>\n",
       "      <td>10800.00</td>\n",
       "      <td>118.0</td>\n",
       "      <td>1500.00</td>\n",
       "      <td>10000.0</td>\n",
       "      <td>1</td>\n",
       "      <td>1.00</td>\n",
       "    </tr>\n",
       "    <tr>\n",
       "      <th>4</th>\n",
       "      <td>4275127</td>\n",
       "      <td>15812</td>\n",
       "      <td>0</td>\n",
       "      <td>2000.0</td>\n",
       "      <td>TOYOTA</td>\n",
       "      <td>N</td>\n",
       "      <td>0.0</td>\n",
       "      <td>10.0</td>\n",
       "      <td>104.0</td>\n",
       "      <td>2.0</td>\n",
       "      <td>0.0</td>\n",
       "      <td>0.0</td>\n",
       "      <td>1800.0</td>\n",
       "      <td>0</td>\n",
       "      <td>764.0</td>\n",
       "      <td>26328.04</td>\n",
       "      <td>22024.0</td>\n",
       "      <td>0.00</td>\n",
       "      <td>60</td>\n",
       "      <td>26328.04</td>\n",
       "      <td>122.0</td>\n",
       "      <td>4144.00</td>\n",
       "      <td>14.0</td>\n",
       "      <td>0</td>\n",
       "      <td>4.75</td>\n",
       "    </tr>\n",
       "    <tr>\n",
       "      <th>5</th>\n",
       "      <td>8712513</td>\n",
       "      <td>16979</td>\n",
       "      <td>0</td>\n",
       "      <td>2000.0</td>\n",
       "      <td>DODGE</td>\n",
       "      <td>Y</td>\n",
       "      <td>2.0</td>\n",
       "      <td>15.0</td>\n",
       "      <td>136.0</td>\n",
       "      <td>4.0</td>\n",
       "      <td>3.0</td>\n",
       "      <td>3651.0</td>\n",
       "      <td>5747.0</td>\n",
       "      <td>64</td>\n",
       "      <td>680.0</td>\n",
       "      <td>26272.72</td>\n",
       "      <td>26375.0</td>\n",
       "      <td>0.00</td>\n",
       "      <td>36</td>\n",
       "      <td>26272.72</td>\n",
       "      <td>100.0</td>\n",
       "      <td>5400.00</td>\n",
       "      <td>1.0</td>\n",
       "      <td>0</td>\n",
       "      <td>4.75</td>\n",
       "    </tr>\n",
       "  </tbody>\n",
       "</table>\n",
       "</div>"
      ],
      "text/plain": [
       "   application_id  account_number  bad_ind  vehicle_year vehicle_make  \\\n",
       "0         2314049           11613        1        1998.0         FORD   \n",
       "1           63539           13449        0        2000.0       DAEWOO   \n",
       "3         8725187           15359        1        1997.0         FORD   \n",
       "4         4275127           15812        0        2000.0       TOYOTA   \n",
       "5         8712513           16979        0        2000.0        DODGE   \n",
       "\n",
       "  bankruptcy_ind  tot_derog  tot_tr  age_oldest_tr  tot_open_tr  tot_rev_tr  \\\n",
       "0              N        7.0     9.0           64.0          2.0         1.0   \n",
       "1              N        0.0    21.0          240.0         11.0         7.0   \n",
       "3              N        3.0    10.0           35.0          5.0         4.0   \n",
       "4              N        0.0    10.0          104.0          2.0         0.0   \n",
       "5              Y        2.0    15.0          136.0          4.0         3.0   \n",
       "\n",
       "   tot_rev_debt  tot_rev_line  rev_util  fico_score  purch_price     msrp  \\\n",
       "0         506.0         500.0       101       650.0     17200.00  17350.0   \n",
       "1       34605.0       57241.0        60       649.0     19588.54  19788.0   \n",
       "3        4019.0        5946.0        68       603.0     12999.00  12100.0   \n",
       "4           0.0        1800.0         0       764.0     26328.04  22024.0   \n",
       "5        3651.0        5747.0        64       680.0     26272.72  26375.0   \n",
       "\n",
       "   down_pyt  loan_term  loan_amt    ltv  tot_income  veh_mileage  used_ind  \\\n",
       "0      0.00         36  17200.00   99.0     6550.00      24000.0         1   \n",
       "1    683.54         60  19588.54   99.0     4666.67         22.0         0   \n",
       "3   3099.00         60  10800.00  118.0     1500.00      10000.0         1   \n",
       "4      0.00         60  26328.04  122.0     4144.00         14.0         0   \n",
       "5      0.00         36  26272.72  100.0     5400.00          1.0         0   \n",
       "\n",
       "   weight  \n",
       "0    1.00  \n",
       "1    4.75  \n",
       "3    1.00  \n",
       "4    4.75  \n",
       "5    4.75  "
      ]
     },
     "execution_count": 4,
     "metadata": {},
     "output_type": "execute_result"
    }
   ],
   "source": [
    "#导入数据\n",
    "accepts = pd.read_csv('C:\\\\Users\\\\acerpc\\\\Desktop\\\\code&data\\\\accepts.csv',skipinitialspace=True)\n",
    "accepts = accepts.dropna(axis=0,how='any')\n",
    "accepts.head()"
   ]
  },
  {
   "cell_type": "code",
   "execution_count": 6,
   "metadata": {},
   "outputs": [
    {
     "data": {
      "text/html": [
       "<div>\n",
       "<style scoped>\n",
       "    .dataframe tbody tr th:only-of-type {\n",
       "        vertical-align: middle;\n",
       "    }\n",
       "\n",
       "    .dataframe tbody tr th {\n",
       "        vertical-align: top;\n",
       "    }\n",
       "\n",
       "    .dataframe thead th {\n",
       "        text-align: right;\n",
       "    }\n",
       "</style>\n",
       "<table border=\"1\" class=\"dataframe\">\n",
       "  <thead>\n",
       "    <tr style=\"text-align: right;\">\n",
       "      <th>bad_ind</th>\n",
       "      <th>0</th>\n",
       "      <th>1</th>\n",
       "      <th>All</th>\n",
       "    </tr>\n",
       "    <tr>\n",
       "      <th>bankruptcy_ind</th>\n",
       "      <th></th>\n",
       "      <th></th>\n",
       "      <th></th>\n",
       "    </tr>\n",
       "  </thead>\n",
       "  <tbody>\n",
       "    <tr>\n",
       "      <th>N</th>\n",
       "      <td>3076</td>\n",
       "      <td>719</td>\n",
       "      <td>3795</td>\n",
       "    </tr>\n",
       "    <tr>\n",
       "      <th>Y</th>\n",
       "      <td>243</td>\n",
       "      <td>67</td>\n",
       "      <td>310</td>\n",
       "    </tr>\n",
       "    <tr>\n",
       "      <th>All</th>\n",
       "      <td>3319</td>\n",
       "      <td>786</td>\n",
       "      <td>4105</td>\n",
       "    </tr>\n",
       "  </tbody>\n",
       "</table>\n",
       "</div>"
      ],
      "text/plain": [
       "bad_ind            0    1   All\n",
       "bankruptcy_ind                 \n",
       "N               3076  719  3795\n",
       "Y                243   67   310\n",
       "All             3319  786  4105"
      ]
     },
     "execution_count": 6,
     "metadata": {},
     "output_type": "execute_result"
    }
   ],
   "source": [
    "#分类变量的相关关系\n",
    "#曾经破产标识与是否违约是否有关系?\n",
    "#交叉表\n",
    "crosstab = pd.crosstab(accepts.bankruptcy_ind,accepts.bad_ind,margins=True)\n",
    "crosstab"
   ]
  },
  {
   "cell_type": "code",
   "execution_count": 8,
   "metadata": {},
   "outputs": [
    {
     "data": {
      "text/html": [
       "<div>\n",
       "<style scoped>\n",
       "    .dataframe tbody tr th:only-of-type {\n",
       "        vertical-align: middle;\n",
       "    }\n",
       "\n",
       "    .dataframe tbody tr th {\n",
       "        vertical-align: top;\n",
       "    }\n",
       "\n",
       "    .dataframe thead th {\n",
       "        text-align: right;\n",
       "    }\n",
       "</style>\n",
       "<table border=\"1\" class=\"dataframe\">\n",
       "  <thead>\n",
       "    <tr style=\"text-align: right;\">\n",
       "      <th>bad_ind</th>\n",
       "      <th>0</th>\n",
       "      <th>1</th>\n",
       "      <th>All</th>\n",
       "    </tr>\n",
       "    <tr>\n",
       "      <th>bankruptcy_ind</th>\n",
       "      <th></th>\n",
       "      <th></th>\n",
       "      <th></th>\n",
       "    </tr>\n",
       "  </thead>\n",
       "  <tbody>\n",
       "    <tr>\n",
       "      <th>N</th>\n",
       "      <td>0.810540</td>\n",
       "      <td>0.189460</td>\n",
       "      <td>1.0</td>\n",
       "    </tr>\n",
       "    <tr>\n",
       "      <th>Y</th>\n",
       "      <td>0.783871</td>\n",
       "      <td>0.216129</td>\n",
       "      <td>1.0</td>\n",
       "    </tr>\n",
       "    <tr>\n",
       "      <th>All</th>\n",
       "      <td>0.808526</td>\n",
       "      <td>0.191474</td>\n",
       "      <td>1.0</td>\n",
       "    </tr>\n",
       "  </tbody>\n",
       "</table>\n",
       "</div>"
      ],
      "text/plain": [
       "bad_ind                0         1  All\n",
       "bankruptcy_ind                         \n",
       "N               0.810540  0.189460  1.0\n",
       "Y               0.783871  0.216129  1.0\n",
       "All             0.808526  0.191474  1.0"
      ]
     },
     "execution_count": 8,
     "metadata": {},
     "output_type": "execute_result"
    }
   ],
   "source": [
    "#列联表\n",
    "def perconvert(ser):\n",
    "    return ser/ser[-1]\n",
    "crosstab.apply(perconvert,axis=1)"
   ]
  },
  {
   "cell_type": "code",
   "execution_count": 12,
   "metadata": {},
   "outputs": [
    {
     "name": "stdout",
     "output_type": "stream",
     "text": [
      "chiq=1.150037,p_value=0.283541,dof=1,\n",
      "expexcted=[[3068.35688185  726.64311815]\n",
      " [ 250.64311815   59.35688185]]\n"
     ]
    }
   ],
   "source": [
    "#卡方检验\n",
    "print('chiq=%f,p_value=%f,dof=%i,\\nexpexcted=%s'%stats.chi2_contingency(crosstab.iloc[:2,:2]))"
   ]
  },
  {
   "cell_type": "code",
   "execution_count": 14,
   "metadata": {},
   "outputs": [
    {
     "data": {
      "text/plain": [
       "<matplotlib.axes._subplots.AxesSubplot at 0x1e47be21b38>"
      ]
     },
     "execution_count": 14,
     "metadata": {},
     "output_type": "execute_result"
    },
    {
     "data": {
      "image/png": "[encoded data removed]",
      "text/plain": [
       "<Figure size 432x288 with 1 Axes>"
      ]
     },
     "metadata": {
      "needs_background": "light"
     },
     "output_type": "display_data"
    }
   ],
   "source": [
    "#逻辑回归\n",
    "accepts.plot('fico_score','bad_ind',kind='scatter')"
   ]
  },
  {
   "cell_type": "code",
   "execution_count": 16,
   "metadata": {},
   "outputs": [
    {
     "name": "stdout",
     "output_type": "stream",
     "text": [
      "训练集样本量2874,测试集样本量1231\n"
     ]
    }
   ],
   "source": [
    "#随机抽样，建立训练集与测试集\n",
    "train = accepts.sample(frac=0.7,random_state=2).copy()\n",
    "test = accepts[~accepts.index.isin(train.index)].copy()\n",
    "print('训练集样本量%i,测试集样本量%i'%(len(train),len(test)))"
   ]
  },
  {
   "cell_type": "code",
   "execution_count": 18,
   "metadata": {},
   "outputs": [
    {
     "data": {
      "text/html": [
       "<table class=\"simpletable\">\n",
       "<caption>Generalized Linear Model Regression Results</caption>\n",
       "<tr>\n",
       "  <th>Dep. Variable:</th>       <td>bad_ind</td>     <th>  No. Observations:  </th>  <td>  2874</td>  \n",
       "</tr>\n",
       "<tr>\n",
       "  <th>Model:</th>                 <td>GLM</td>       <th>  Df Residuals:      </th>  <td>  2872</td>  \n",
       "</tr>\n",
       "<tr>\n",
       "  <th>Model Family:</th>       <td>Binomial</td>     <th>  Df Model:          </th>  <td>     1</td>  \n",
       "</tr>\n",
       "<tr>\n",
       "  <th>Link Function:</th>        <td>logit</td>      <th>  Scale:             </th> <td>  1.0000</td> \n",
       "</tr>\n",
       "<tr>\n",
       "  <th>Method:</th>               <td>IRLS</td>       <th>  Log-Likelihood:    </th> <td> -1225.8</td> \n",
       "</tr>\n",
       "<tr>\n",
       "  <th>Date:</th>           <td>Sun, 02 Dec 2018</td> <th>  Deviance:          </th> <td>  2451.6</td> \n",
       "</tr>\n",
       "<tr>\n",
       "  <th>Time:</th>               <td>10:21:28</td>     <th>  Pearson chi2:      </th> <td>2.78e+03</td> \n",
       "</tr>\n",
       "<tr>\n",
       "  <th>No. Iterations:</th>         <td>5</td>        <th>  Covariance Type:   </th> <td>nonrobust</td>\n",
       "</tr>\n",
       "</table>\n",
       "<table class=\"simpletable\">\n",
       "<tr>\n",
       "       <td></td>         <th>coef</th>     <th>std err</th>      <th>z</th>      <th>P>|z|</th>  <th>[0.025</th>    <th>0.975]</th>  \n",
       "</tr>\n",
       "<tr>\n",
       "  <th>Intercept</th>  <td>    8.7250</td> <td>    0.653</td> <td>   13.363</td> <td> 0.000</td> <td>    7.445</td> <td>   10.005</td>\n",
       "</tr>\n",
       "<tr>\n",
       "  <th>fico_score</th> <td>   -0.0150</td> <td>    0.001</td> <td>  -15.426</td> <td> 0.000</td> <td>   -0.017</td> <td>   -0.013</td>\n",
       "</tr>\n",
       "</table>"
      ],
      "text/plain": [
       "<class 'statsmodels.iolib.summary.Summary'>\n",
       "\"\"\"\n",
       "                 Generalized Linear Model Regression Results                  \n",
       "==============================================================================\n",
       "Dep. Variable:                bad_ind   No. Observations:                 2874\n",
       "Model:                            GLM   Df Residuals:                     2872\n",
       "Model Family:                Binomial   Df Model:                            1\n",
       "Link Function:                  logit   Scale:                          1.0000\n",
       "Method:                          IRLS   Log-Likelihood:                -1225.8\n",
       "Date:                Sun, 02 Dec 2018   Deviance:                       2451.6\n",
       "Time:                        10:21:28   Pearson chi2:                 2.78e+03\n",
       "No. Iterations:                     5   Covariance Type:             nonrobust\n",
       "==============================================================================\n",
       "                 coef    std err          z      P>|z|      [0.025      0.975]\n",
       "------------------------------------------------------------------------------\n",
       "Intercept      8.7250      0.653     13.363      0.000       7.445      10.005\n",
       "fico_score    -0.0150      0.001    -15.426      0.000      -0.017      -0.013\n",
       "==============================================================================\n",
       "\"\"\""
      ]
     },
     "execution_count": 18,
     "metadata": {},
     "output_type": "execute_result"
    }
   ],
   "source": [
    "lr = smf.glm('bad_ind~fico_score',data=train,family=sm.families.Binomial(sm.families.links.logit)).fit()\n",
    "lr.summary()"
   ]
  },
  {
   "cell_type": "code",
   "execution_count": 19,
   "metadata": {},
   "outputs": [
    {
     "data": {
      "text/html": [
       "<table class=\"simpletable\">\n",
       "<caption>Generalized Linear Model Regression Results</caption>\n",
       "<tr>\n",
       "  <th>Dep. Variable:</th>       <td>bad_ind</td>     <th>  No. Observations:  </th>  <td>  2874</td>  \n",
       "</tr>\n",
       "<tr>\n",
       "  <th>Model:</th>                 <td>GLM</td>       <th>  Df Residuals:      </th>  <td>  2866</td>  \n",
       "</tr>\n",
       "<tr>\n",
       "  <th>Model Family:</th>       <td>Binomial</td>     <th>  Df Model:          </th>  <td>     7</td>  \n",
       "</tr>\n",
       "<tr>\n",
       "  <th>Link Function:</th>        <td>logit</td>      <th>  Scale:             </th> <td>  1.0000</td> \n",
       "</tr>\n",
       "<tr>\n",
       "  <th>Method:</th>               <td>IRLS</td>       <th>  Log-Likelihood:    </th> <td> -1160.6</td> \n",
       "</tr>\n",
       "<tr>\n",
       "  <th>Date:</th>           <td>Sun, 02 Dec 2018</td> <th>  Deviance:          </th> <td>  2321.3</td> \n",
       "</tr>\n",
       "<tr>\n",
       "  <th>Time:</th>               <td>10:26:00</td>     <th>  Pearson chi2:      </th> <td>2.70e+03</td> \n",
       "</tr>\n",
       "<tr>\n",
       "  <th>No. Iterations:</th>         <td>6</td>        <th>  Covariance Type:   </th> <td>nonrobust</td>\n",
       "</tr>\n",
       "</table>\n",
       "<table class=\"simpletable\">\n",
       "<tr>\n",
       "           <td></td>              <th>coef</th>     <th>std err</th>      <th>z</th>      <th>P>|z|</th>  <th>[0.025</th>    <th>0.975]</th>  \n",
       "</tr>\n",
       "<tr>\n",
       "  <th>Intercept</th>           <td>    5.1395</td> <td>    0.838</td> <td>    6.132</td> <td> 0.000</td> <td>    3.497</td> <td>    6.782</td>\n",
       "</tr>\n",
       "<tr>\n",
       "  <th>bankruptcy_ind[T.Y]</th> <td>   -0.5247</td> <td>    0.201</td> <td>   -2.613</td> <td> 0.009</td> <td>   -0.918</td> <td>   -0.131</td>\n",
       "</tr>\n",
       "<tr>\n",
       "  <th>fico_score</th>          <td>   -0.0138</td> <td>    0.001</td> <td>  -11.485</td> <td> 0.000</td> <td>   -0.016</td> <td>   -0.011</td>\n",
       "</tr>\n",
       "<tr>\n",
       "  <th>tot_derog</th>           <td>    0.0434</td> <td>    0.018</td> <td>    2.439</td> <td> 0.015</td> <td>    0.009</td> <td>    0.078</td>\n",
       "</tr>\n",
       "<tr>\n",
       "  <th>age_oldest_tr</th>       <td>   -0.0034</td> <td>    0.001</td> <td>   -5.381</td> <td> 0.000</td> <td>   -0.005</td> <td>   -0.002</td>\n",
       "</tr>\n",
       "<tr>\n",
       "  <th>rev_util</th>            <td>    0.0013</td> <td>    0.001</td> <td>    2.002</td> <td> 0.045</td> <td> 2.68e-05</td> <td>    0.003</td>\n",
       "</tr>\n",
       "<tr>\n",
       "  <th>ltv</th>                 <td>    0.0299</td> <td>    0.004</td> <td>    8.403</td> <td> 0.000</td> <td>    0.023</td> <td>    0.037</td>\n",
       "</tr>\n",
       "<tr>\n",
       "  <th>veh_mileage</th>         <td> 1.546e-06</td> <td>  1.4e-06</td> <td>    1.107</td> <td> 0.268</td> <td>-1.19e-06</td> <td> 4.28e-06</td>\n",
       "</tr>\n",
       "</table>"
      ],
      "text/plain": [
       "<class 'statsmodels.iolib.summary.Summary'>\n",
       "\"\"\"\n",
       "                 Generalized Linear Model Regression Results                  \n",
       "==============================================================================\n",
       "Dep. Variable:                bad_ind   No. Observations:                 2874\n",
       "Model:                            GLM   Df Residuals:                     2866\n",
       "Model Family:                Binomial   Df Model:                            7\n",
       "Link Function:                  logit   Scale:                          1.0000\n",
       "Method:                          IRLS   Log-Likelihood:                -1160.6\n",
       "Date:                Sun, 02 Dec 2018   Deviance:                       2321.3\n",
       "Time:                        10:26:00   Pearson chi2:                 2.70e+03\n",
       "No. Iterations:                     6   Covariance Type:             nonrobust\n",
       "=======================================================================================\n",
       "                          coef    std err          z      P>|z|      [0.025      0.975]\n",
       "---------------------------------------------------------------------------------------\n",
       "Intercept               5.1395      0.838      6.132      0.000       3.497       6.782\n",
       "bankruptcy_ind[T.Y]    -0.5247      0.201     -2.613      0.009      -0.918      -0.131\n",
       "fico_score             -0.0138      0.001    -11.485      0.000      -0.016      -0.011\n",
       "tot_derog               0.0434      0.018      2.439      0.015       0.009       0.078\n",
       "age_oldest_tr          -0.0034      0.001     -5.381      0.000      -0.005      -0.002\n",
       "rev_util                0.0013      0.001      2.002      0.045    2.68e-05       0.003\n",
       "ltv                     0.0299      0.004      8.403      0.000       0.023       0.037\n",
       "veh_mileage          1.546e-06    1.4e-06      1.107      0.268   -1.19e-06    4.28e-06\n",
       "=======================================================================================\n",
       "\"\"\""
      ]
     },
     "execution_count": 19,
     "metadata": {},
     "output_type": "execute_result"
    }
   ],
   "source": [
    "#Duoyuan\n",
    "formula = 'bad_ind~fico_score + bankruptcy_ind+ tot_derog + age_oldest_tr + rev_util + ltv + veh_mileage'\n",
    "lr_m = smf.glm(formula,data=train,family=sm.families.Binomial(sm.families.links.logit)).fit()\n",
    "lr_m.summary()"
   ]
  },
  {
   "cell_type": "code",
   "execution_count": 21,
   "metadata": {},
   "outputs": [],
   "source": [
    "# 向前法选择变量\n",
    "def forward_select(data, response):\n",
    "    remaining = set(data.columns)\n",
    "    remaining.remove(response)\n",
    "    selected = []\n",
    "    current_score, best_new_score = float('inf'), float('inf')\n",
    "    while remaining:\n",
    "        aic_with_candidates=[]\n",
    "        for candidate in remaining:\n",
    "            formula = \"{} ~ {}\".format(\n",
    "                response,' + '.join(selected + [candidate]))\n",
    "            aic = smf.glm(\n",
    "                formula=formula, data=data, \n",
    "                family=sm.families.Binomial(sm.families.links.logit)\n",
    "            ).fit().aic\n",
    "            aic_with_candidates.append((aic, candidate))\n",
    "        aic_with_candidates.sort(reverse=True)\n",
    "        best_new_score, best_candidate=aic_with_candidates.pop()\n",
    "        if current_score > best_new_score: \n",
    "            remaining.remove(best_candidate)\n",
    "            selected.append(best_candidate)\n",
    "            current_score = best_new_score\n",
    "            print ('aic is {},continuing!'.format(current_score))\n",
    "        else:        \n",
    "            print ('forward selection over!')\n",
    "            break\n",
    "            \n",
    "    formula = \"{} ~ {} \".format(response,' + '.join(selected))\n",
    "    print('final formula is {}'.format(formula))\n",
    "    model = smf.glm(\n",
    "        formula=formula, data=data, \n",
    "        family=sm.families.Binomial(sm.families.links.logit)\n",
    "    ).fit()\n",
    "    return(model)"
   ]
  },
  {
   "cell_type": "code",
   "execution_count": 22,
   "metadata": {},
   "outputs": [
    {
     "name": "stdout",
     "output_type": "stream",
     "text": [
      "aic is 2455.6394030256392,continuing!\n",
      "aic is 2371.431399785047,continuing!\n",
      "aic is 2344.216794399271,continuing!\n",
      "aic is 2342.3191913194396,continuing!\n",
      "aic is 2340.429125120842,continuing!\n",
      "aic is 2336.449044971725,continuing!\n",
      "forward selection over!\n",
      "final formula is bad_ind ~ fico_score + ltv + age_oldest_tr + rev_util + bankruptcy_ind + tot_derog \n"
     ]
    },
    {
     "data": {
      "text/html": [
       "<table class=\"simpletable\">\n",
       "<caption>Generalized Linear Model Regression Results</caption>\n",
       "<tr>\n",
       "  <th>Dep. Variable:</th>       <td>bad_ind</td>     <th>  No. Observations:  </th>  <td>  2874</td>  \n",
       "</tr>\n",
       "<tr>\n",
       "  <th>Model:</th>                 <td>GLM</td>       <th>  Df Residuals:      </th>  <td>  2867</td>  \n",
       "</tr>\n",
       "<tr>\n",
       "  <th>Model Family:</th>       <td>Binomial</td>     <th>  Df Model:          </th>  <td>     6</td>  \n",
       "</tr>\n",
       "<tr>\n",
       "  <th>Link Function:</th>        <td>logit</td>      <th>  Scale:             </th> <td>  1.0000</td> \n",
       "</tr>\n",
       "<tr>\n",
       "  <th>Method:</th>               <td>IRLS</td>       <th>  Log-Likelihood:    </th> <td> -1161.2</td> \n",
       "</tr>\n",
       "<tr>\n",
       "  <th>Date:</th>           <td>Sun, 02 Dec 2018</td> <th>  Deviance:          </th> <td>  2322.4</td> \n",
       "</tr>\n",
       "<tr>\n",
       "  <th>Time:</th>               <td>10:34:20</td>     <th>  Pearson chi2:      </th> <td>2.70e+03</td> \n",
       "</tr>\n",
       "<tr>\n",
       "  <th>No. Iterations:</th>         <td>6</td>        <th>  Covariance Type:   </th> <td>nonrobust</td>\n",
       "</tr>\n",
       "</table>\n",
       "<table class=\"simpletable\">\n",
       "<tr>\n",
       "           <td></td>              <th>coef</th>     <th>std err</th>      <th>z</th>      <th>P>|z|</th>  <th>[0.025</th>    <th>0.975]</th>  \n",
       "</tr>\n",
       "<tr>\n",
       "  <th>Intercept</th>           <td>    5.1914</td> <td>    0.837</td> <td>    6.204</td> <td> 0.000</td> <td>    3.551</td> <td>    6.832</td>\n",
       "</tr>\n",
       "<tr>\n",
       "  <th>bankruptcy_ind[T.Y]</th> <td>   -0.5269</td> <td>    0.201</td> <td>   -2.625</td> <td> 0.009</td> <td>   -0.920</td> <td>   -0.134</td>\n",
       "</tr>\n",
       "<tr>\n",
       "  <th>fico_score</th>          <td>   -0.0138</td> <td>    0.001</td> <td>  -11.552</td> <td> 0.000</td> <td>   -0.016</td> <td>   -0.011</td>\n",
       "</tr>\n",
       "<tr>\n",
       "  <th>ltv</th>                 <td>    0.0302</td> <td>    0.004</td> <td>    8.474</td> <td> 0.000</td> <td>    0.023</td> <td>    0.037</td>\n",
       "</tr>\n",
       "<tr>\n",
       "  <th>age_oldest_tr</th>       <td>   -0.0034</td> <td>    0.001</td> <td>   -5.408</td> <td> 0.000</td> <td>   -0.005</td> <td>   -0.002</td>\n",
       "</tr>\n",
       "<tr>\n",
       "  <th>rev_util</th>            <td>    0.0013</td> <td>    0.001</td> <td>    1.982</td> <td> 0.047</td> <td>  1.4e-05</td> <td>    0.002</td>\n",
       "</tr>\n",
       "<tr>\n",
       "  <th>tot_derog</th>           <td>    0.0439</td> <td>    0.018</td> <td>    2.472</td> <td> 0.013</td> <td>    0.009</td> <td>    0.079</td>\n",
       "</tr>\n",
       "</table>"
      ],
      "text/plain": [
       "<class 'statsmodels.iolib.summary.Summary'>\n",
       "\"\"\"\n",
       "                 Generalized Linear Model Regression Results                  \n",
       "==============================================================================\n",
       "Dep. Variable:                bad_ind   No. Observations:                 2874\n",
       "Model:                            GLM   Df Residuals:                     2867\n",
       "Model Family:                Binomial   Df Model:                            6\n",
       "Link Function:                  logit   Scale:                          1.0000\n",
       "Method:                          IRLS   Log-Likelihood:                -1161.2\n",
       "Date:                Sun, 02 Dec 2018   Deviance:                       2322.4\n",
       "Time:                        10:34:20   Pearson chi2:                 2.70e+03\n",
       "No. Iterations:                     6   Covariance Type:             nonrobust\n",
       "=======================================================================================\n",
       "                          coef    std err          z      P>|z|      [0.025      0.975]\n",
       "---------------------------------------------------------------------------------------\n",
       "Intercept               5.1914      0.837      6.204      0.000       3.551       6.832\n",
       "bankruptcy_ind[T.Y]    -0.5269      0.201     -2.625      0.009      -0.920      -0.134\n",
       "fico_score             -0.0138      0.001    -11.552      0.000      -0.016      -0.011\n",
       "ltv                     0.0302      0.004      8.474      0.000       0.023       0.037\n",
       "age_oldest_tr          -0.0034      0.001     -5.408      0.000      -0.005      -0.002\n",
       "rev_util                0.0013      0.001      1.982      0.047     1.4e-05       0.002\n",
       "tot_derog               0.0439      0.018      2.472      0.013       0.009       0.079\n",
       "=======================================================================================\n",
       "\"\"\""
      ]
     },
     "execution_count": 22,
     "metadata": {},
     "output_type": "execute_result"
    }
   ],
   "source": [
    "#建模\n",
    "candidates = ['bad_ind', 'fico_score', 'bankruptcy_ind', 'tot_derog',\n",
    "              'age_oldest_tr', 'rev_util', 'ltv', 'veh_mileage']\n",
    "data_to_select = train[candidates]\n",
    "model = forward_select(data_to_select,'bad_ind')\n",
    "model.summary()"
   ]
  },
  {
   "cell_type": "code",
   "execution_count": 52,
   "metadata": {},
   "outputs": [],
   "source": [
    "#膨胀因子检验\n",
    "from statsmodels.formula.api import ols\n",
    "def vif_(data):\n",
    "    vif = []\n",
    "    for col in data.columns:\n",
    "        cols = list(data.columns)\n",
    "        cols.remove(col)\n",
    "        formula = col + '~' + '+'.join(cols)\n",
    "        rsquared = ols(formula=formula,data=data).fit().rsquared\n",
    "        vif.append(1/(1-rsquared))\n",
    "    return pd.DataFrame({'col':data.columns,'vif':vif})"
   ]
  },
  {
   "cell_type": "code",
   "execution_count": 59,
   "metadata": {},
   "outputs": [
    {
     "data": {
      "text/html": [
       "<div>\n",
       "<style scoped>\n",
       "    .dataframe tbody tr th:only-of-type {\n",
       "        vertical-align: middle;\n",
       "    }\n",
       "\n",
       "    .dataframe tbody tr th {\n",
       "        vertical-align: top;\n",
       "    }\n",
       "\n",
       "    .dataframe thead th {\n",
       "        text-align: right;\n",
       "    }\n",
       "</style>\n",
       "<table border=\"1\" class=\"dataframe\">\n",
       "  <thead>\n",
       "    <tr style=\"text-align: right;\">\n",
       "      <th></th>\n",
       "      <th>col</th>\n",
       "      <th>vif</th>\n",
       "    </tr>\n",
       "  </thead>\n",
       "  <tbody>\n",
       "    <tr>\n",
       "      <th>0</th>\n",
       "      <td>fico_score</td>\n",
       "      <td>1.567113</td>\n",
       "    </tr>\n",
       "    <tr>\n",
       "      <th>1</th>\n",
       "      <td>tot_derog</td>\n",
       "      <td>1.367728</td>\n",
       "    </tr>\n",
       "    <tr>\n",
       "      <th>2</th>\n",
       "      <td>age_oldest_tr</td>\n",
       "      <td>1.119734</td>\n",
       "    </tr>\n",
       "    <tr>\n",
       "      <th>3</th>\n",
       "      <td>rev_util</td>\n",
       "      <td>1.107306</td>\n",
       "    </tr>\n",
       "    <tr>\n",
       "      <th>4</th>\n",
       "      <td>ltv</td>\n",
       "      <td>1.024622</td>\n",
       "    </tr>\n",
       "    <tr>\n",
       "      <th>5</th>\n",
       "      <td>veh_mileage</td>\n",
       "      <td>1.012698</td>\n",
       "    </tr>\n",
       "  </tbody>\n",
       "</table>\n",
       "</div>"
      ],
      "text/plain": [
       "             col       vif\n",
       "0     fico_score  1.567113\n",
       "1      tot_derog  1.367728\n",
       "2  age_oldest_tr  1.119734\n",
       "3       rev_util  1.107306\n",
       "4            ltv  1.024622\n",
       "5    veh_mileage  1.012698"
      ]
     },
     "execution_count": 59,
     "metadata": {},
     "output_type": "execute_result"
    }
   ],
   "source": [
    "vif = vif_(train[candidates].drop(['bad_ind', 'bankruptcy_ind'],axis=1))\n",
    "vif"
   ]
  },
  {
   "cell_type": "code",
   "execution_count": 60,
   "metadata": {},
   "outputs": [
    {
     "data": {
      "text/plain": [
       "1     0.175832\n",
       "6     0.002542\n",
       "12    0.073494\n",
       "13    0.226604\n",
       "17    0.188096\n",
       "Name: prop, dtype: float64"
      ]
     },
     "execution_count": 60,
     "metadata": {},
     "output_type": "execute_result"
    }
   ],
   "source": [
    "#预测\n",
    "train['prop'] = model.predict(train)\n",
    "test['prop'] = model.predict(test)\n",
    "test['prop'].head()"
   ]
  },
  {
   "cell_type": "code",
   "execution_count": 61,
   "metadata": {},
   "outputs": [],
   "source": [
    "#模型评估\n",
    "#设定阈值\n",
    "test['predition'] = (test['prop']>0.5).astype('int')"
   ]
  },
  {
   "cell_type": "code",
   "execution_count": 88,
   "metadata": {},
   "outputs": [
    {
     "name": "stdout",
     "output_type": "stream",
     "text": [
      "1176\n"
     ]
    },
    {
     "data": {
      "text/html": [
       "<div>\n",
       "<style scoped>\n",
       "    .dataframe tbody tr th:only-of-type {\n",
       "        vertical-align: middle;\n",
       "    }\n",
       "\n",
       "    .dataframe tbody tr th {\n",
       "        vertical-align: top;\n",
       "    }\n",
       "\n",
       "    .dataframe thead th {\n",
       "        text-align: right;\n",
       "    }\n",
       "</style>\n",
       "<table border=\"1\" class=\"dataframe\">\n",
       "  <thead>\n",
       "    <tr style=\"text-align: right;\">\n",
       "      <th>predition</th>\n",
       "      <th>0</th>\n",
       "      <th>1</th>\n",
       "      <th>All</th>\n",
       "    </tr>\n",
       "    <tr>\n",
       "      <th>bad_ind</th>\n",
       "      <th></th>\n",
       "      <th></th>\n",
       "      <th></th>\n",
       "    </tr>\n",
       "  </thead>\n",
       "  <tbody>\n",
       "    <tr>\n",
       "      <th>0</th>\n",
       "      <td>953</td>\n",
       "      <td>17</td>\n",
       "      <td>970</td>\n",
       "    </tr>\n",
       "    <tr>\n",
       "      <th>1</th>\n",
       "      <td>223</td>\n",
       "      <td>38</td>\n",
       "      <td>261</td>\n",
       "    </tr>\n",
       "    <tr>\n",
       "      <th>All</th>\n",
       "      <td>1176</td>\n",
       "      <td>55</td>\n",
       "      <td>1231</td>\n",
       "    </tr>\n",
       "  </tbody>\n",
       "</table>\n",
       "</div>"
      ],
      "text/plain": [
       "predition     0   1   All\n",
       "bad_ind                  \n",
       "0           953  17   970\n",
       "1           223  38   261\n",
       "All        1176  55  1231"
      ]
     },
     "execution_count": 88,
     "metadata": {},
     "output_type": "execute_result"
    }
   ],
   "source": [
    "#混淆矩阵\n",
    "crostab = pd.crosstab(test.bad_ind,test.predition,margins=True)\n",
    "print(crostab.iloc[2,0])\n",
    "crostab"
   ]
  },
  {
   "cell_type": "code",
   "execution_count": 65,
   "metadata": {},
   "outputs": [
    {
     "name": "stdout",
     "output_type": "stream",
     "text": [
      "accuracy=0.805037\n"
     ]
    }
   ],
   "source": [
    "#计算准确率\n",
    "accuracy = (crostab.iloc[0,0]+crostab.loc[1,1])/crostab.iloc[2,2]\n",
    "print('accuracy=%f'%accuracy)"
   ]
  },
  {
   "cell_type": "code",
   "execution_count": 81,
   "metadata": {},
   "outputs": [
    {
     "name": "stdout",
     "output_type": "stream",
     "text": [
      "threshold=0.000000,precision=0.212023,recall=1.000000,f1_score=0.349866\n",
      "threshold=0.100000,precision=0.301813,recall=0.892720,f1_score=0.451113\n",
      "threshold=0.200000,precision=0.376417,recall=0.636015,f1_score=0.472934\n",
      "threshold=0.300000,precision=0.504202,recall=0.459770,f1_score=0.480962\n",
      "threshold=0.400000,precision=0.601852,recall=0.249042,f1_score=0.352304\n",
      "threshold=0.500000,precision=0.690909,recall=0.145594,f1_score=0.240506\n",
      "threshold=0.600000,precision=0.653846,recall=0.065134,f1_score=0.118467\n",
      "threshold=0.700000,precision=0.750000,recall=0.022989,f1_score=0.044610\n",
      "threshold=0.800000,precision=0.750000,recall=0.011494,f1_score=0.022642\n",
      "threshold=0.900000,precision=0.666667,recall=0.007663,f1_score=0.015152\n"
     ]
    }
   ],
   "source": [
    "for i in np.arange(0,1,0.1):\n",
    "    prediction=(test['prop']>i).astype('int')\n",
    "    confusion_matrics=pd.crosstab(test.bad_ind,prediction,margins=True)\n",
    "    precision = confusion_matrics.iloc[1, 1] /confusion_matrics.loc['All', 1]\n",
    "    recall = confusion_matrics.iloc[1, 1] / confusion_matrics.loc[1, 'All']\n",
    "    f1_score=2*(precision*recall)/(precision+recall)\n",
    "    print('threshold=%f,precision=%f,recall=%f,f1_score=%f'%(i,precision,recall,f1_score))"
   ]
  },
  {
   "cell_type": "code",
   "execution_count": 95,
   "metadata": {},
   "outputs": [
    {
     "data": {
      "text/plain": [
       "Text(0.7,0,'AUC = 0.772592')"
      ]
     },
     "execution_count": 95,
     "metadata": {},
     "output_type": "execute_result"
    },
    {
     "data": {
      "image/png": "[encoded data removed]",
      "text/plain": [
       "<Figure size 432x288 with 1 Axes>"
      ]
     },
     "metadata": {
      "needs_background": "light"
     },
     "output_type": "display_data"
    }
   ],
   "source": [
    "#绘制ROC曲线\n",
    "import sklearn.metrics as metrics\n",
    "fpr_test,tpr_test,th_test=metrics.roc_curve(test.bad_ind,test.prop)\n",
    "fpr_train,tpr_train,th_train=metrics.roc_curve(train.bad_ind,train.prop)\n",
    "plt.plot(fpr_train,tpr_train)\n",
    "plt.plot(fpr_test,tpr_test)\n",
    "plt.title('ROC curve')\n",
    "plt.text(0.7,0.0,'AUC = %f'%metrics.auc(fpr_test,tpr_test))"
   ]
  },
  {
   "cell_type": "code",
   "execution_count": 96,
   "metadata": {},
   "outputs": [
    {
     "name": "stdout",
     "output_type": "stream",
     "text": [
      "             precision    recall  f1-score   support\n",
      "\n",
      "          0       0.79      1.00      0.88       970\n",
      "          1       0.67      0.01      0.02       261\n",
      "\n",
      "avg / total       0.76      0.79      0.70      1231\n",
      "\n"
     ]
    }
   ],
   "source": [
    "#计算评估指标\n",
    "print(metrics.classification_report(test.bad_ind,test.prediction))"
   ]
  },
  {
   "cell_type": "code",
   "execution_count": 103,
   "metadata": {},
   "outputs": [
    {
     "data": {
      "text/html": [
       "<div>\n",
       "<style scoped>\n",
       "    .dataframe tbody tr th:only-of-type {\n",
       "        vertical-align: middle;\n",
       "    }\n",
       "\n",
       "    .dataframe tbody tr th {\n",
       "        vertical-align: top;\n",
       "    }\n",
       "\n",
       "    .dataframe thead th {\n",
       "        text-align: right;\n",
       "    }\n",
       "</style>\n",
       "<table border=\"1\" class=\"dataframe\">\n",
       "  <thead>\n",
       "    <tr style=\"text-align: right;\">\n",
       "      <th>prediction</th>\n",
       "      <th>0</th>\n",
       "      <th>1</th>\n",
       "      <th>All</th>\n",
       "    </tr>\n",
       "    <tr>\n",
       "      <th>bad_ind</th>\n",
       "      <th></th>\n",
       "      <th></th>\n",
       "      <th></th>\n",
       "    </tr>\n",
       "  </thead>\n",
       "  <tbody>\n",
       "    <tr>\n",
       "      <th>0</th>\n",
       "      <td>951</td>\n",
       "      <td>19</td>\n",
       "      <td>970</td>\n",
       "    </tr>\n",
       "    <tr>\n",
       "      <th>1</th>\n",
       "      <td>224</td>\n",
       "      <td>37</td>\n",
       "      <td>261</td>\n",
       "    </tr>\n",
       "    <tr>\n",
       "      <th>All</th>\n",
       "      <td>1175</td>\n",
       "      <td>56</td>\n",
       "      <td>1231</td>\n",
       "    </tr>\n",
       "  </tbody>\n",
       "</table>\n",
       "</div>"
      ],
      "text/plain": [
       "prediction     0   1   All\n",
       "bad_ind                   \n",
       "0            951  19   970\n",
       "1            224  37   261\n",
       "All         1175  56  1231"
      ]
     },
     "execution_count": 103,
     "metadata": {},
     "output_type": "execute_result"
    },
    {
     "data": {
      "image/png": "[encoded data removed]",
      "text/plain": [
       "<Figure size 432x288 with 1 Axes>"
      ]
     },
     "metadata": {
      "needs_background": "light"
     },
     "output_type": "display_data"
    }
   ],
   "source": [
    "#statsmodel会默认进行标准化\n",
    "from sklearn.preprocessing import StandardScaler\n",
    "scaler = StandardScaler()\n",
    "cols = ['fico_score' ,'ltv' ,'age_oldest_tr' ,'tot_derog']\n",
    "train1 = train[cols];test1=test[cols]\n",
    "train2 = pd.DataFrame(scaler.fit_transform(train1),index=train1.index,columns=train1.columns)\n",
    "test2 = pd.DataFrame(scaler.fit_transform(test1),index=test1.index,columns=test1.columns)\n",
    "train3 = train2.join(train[['bad_ind','bankruptcy_ind']])\n",
    "test3 = test2.join(test[['bad_ind','bankruptcy_ind']])\n",
    "formula2 = 'bad_ind~bankruptcy_ind+'+'+'.join(cols)\n",
    "lr_m2 = smf.glm(formula2,data = train3,family=sm.families.Binomial(sm.families.links.logit)).fit()\n",
    "train3['prop'] = lr_m2.predict(train3)\n",
    "test3['prop'] = lr_m2.predict(test3)\n",
    "fpr_train3,tpr_train3,th_train3 = metrics.roc_curve(train3.bad_ind,train3.prop)\n",
    "fpr_test3,tpr_test3,th_test3 = metrics.roc_curve(test3.bad_ind,test3.prop)\n",
    "plt.plot(fpr_train3,tpr_train3)\n",
    "plt.plot(fpr_test3,tpr_test3,color='r')\n",
    "plt.title('ROC curve')\n",
    "plt.text(0.7,0,'auc = %.4f'%metrics.auc(fpr_test3,tpr_test3))\n",
    "test3['prediction'] = (test3['prop']>0.5).astype('int')\n",
    "pd.crosstab(test3.bad_ind,test3.prediction,margins=True)"
   ]
  }
 ],
 "metadata": {
  "kernelspec": {
   "display_name": "Python 3",
   "language": "python",
   "name": "python3"
  },
  "language_info": {
   "codemirror_mode": {
    "name": "ipython",
    "version": 3
   },
   "file_extension": ".py",
   "mimetype": "text/x-python",
   "name": "python",
   "nbconvert_exporter": "python",
   "pygments_lexer": "ipython3",
   "version": "3.6.8"
  }
 },
 "nbformat": 4,
 "nbformat_minor": 2
}
