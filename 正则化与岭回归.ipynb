{
 "cells": [
  {
   "cell_type": "code",
   "execution_count": 1,
   "metadata": {},
   "outputs": [],
   "source": [
    "import numpy as np\n",
    "import pandas as pd\n",
    "import matplotlib.pyplot as plt\n",
    "import seaborn as sns\n",
    "from scipy import stats \n",
    "import statsmodels.api as sm\n",
    "from statsmodels.formula.api import ols\n",
    "%matplotlib inline"
   ]
  },
  {
   "cell_type": "code",
   "execution_count": 2,
   "metadata": {},
   "outputs": [
    {
     "data": {
      "text/html": [
       "<div>\n",
       "<style scoped>\n",
       "    .dataframe tbody tr th:only-of-type {\n",
       "        vertical-align: middle;\n",
       "    }\n",
       "\n",
       "    .dataframe tbody tr th {\n",
       "        vertical-align: top;\n",
       "    }\n",
       "\n",
       "    .dataframe thead th {\n",
       "        text-align: right;\n",
       "    }\n",
       "</style>\n",
       "<table border=\"1\" class=\"dataframe\">\n",
       "  <thead>\n",
       "    <tr style=\"text-align: right;\">\n",
       "      <th></th>\n",
       "      <th>id</th>\n",
       "      <th>Acc</th>\n",
       "      <th>avg_exp</th>\n",
       "      <th>avg_exp_ln</th>\n",
       "      <th>gender</th>\n",
       "      <th>Age</th>\n",
       "      <th>Income</th>\n",
       "      <th>Ownrent</th>\n",
       "      <th>Selfempl</th>\n",
       "      <th>dist_home_val</th>\n",
       "      <th>dist_avg_income</th>\n",
       "      <th>age2</th>\n",
       "      <th>high_avg</th>\n",
       "      <th>edu_class</th>\n",
       "    </tr>\n",
       "  </thead>\n",
       "  <tbody>\n",
       "    <tr>\n",
       "      <th>0</th>\n",
       "      <td>19</td>\n",
       "      <td>1</td>\n",
       "      <td>1217.03</td>\n",
       "      <td>7.104169</td>\n",
       "      <td>1</td>\n",
       "      <td>40</td>\n",
       "      <td>16.03515</td>\n",
       "      <td>1</td>\n",
       "      <td>1</td>\n",
       "      <td>99.93</td>\n",
       "      <td>15.932789</td>\n",
       "      <td>1600</td>\n",
       "      <td>0.102361</td>\n",
       "      <td>3</td>\n",
       "    </tr>\n",
       "    <tr>\n",
       "      <th>1</th>\n",
       "      <td>5</td>\n",
       "      <td>1</td>\n",
       "      <td>1251.50</td>\n",
       "      <td>7.132098</td>\n",
       "      <td>1</td>\n",
       "      <td>32</td>\n",
       "      <td>15.84750</td>\n",
       "      <td>1</td>\n",
       "      <td>0</td>\n",
       "      <td>49.88</td>\n",
       "      <td>15.796316</td>\n",
       "      <td>1024</td>\n",
       "      <td>0.051184</td>\n",
       "      <td>2</td>\n",
       "    </tr>\n",
       "    <tr>\n",
       "      <th>2</th>\n",
       "      <td>95</td>\n",
       "      <td>0</td>\n",
       "      <td>NaN</td>\n",
       "      <td>NaN</td>\n",
       "      <td>1</td>\n",
       "      <td>36</td>\n",
       "      <td>8.40000</td>\n",
       "      <td>0</td>\n",
       "      <td>0</td>\n",
       "      <td>88.61</td>\n",
       "      <td>7.490000</td>\n",
       "      <td>1296</td>\n",
       "      <td>0.910000</td>\n",
       "      <td>1</td>\n",
       "    </tr>\n",
       "    <tr>\n",
       "      <th>3</th>\n",
       "      <td>86</td>\n",
       "      <td>1</td>\n",
       "      <td>856.57</td>\n",
       "      <td>6.752936</td>\n",
       "      <td>1</td>\n",
       "      <td>41</td>\n",
       "      <td>11.47285</td>\n",
       "      <td>1</td>\n",
       "      <td>0</td>\n",
       "      <td>16.10</td>\n",
       "      <td>11.275632</td>\n",
       "      <td>1681</td>\n",
       "      <td>0.197218</td>\n",
       "      <td>3</td>\n",
       "    </tr>\n",
       "    <tr>\n",
       "      <th>4</th>\n",
       "      <td>50</td>\n",
       "      <td>1</td>\n",
       "      <td>1321.83</td>\n",
       "      <td>7.186772</td>\n",
       "      <td>1</td>\n",
       "      <td>28</td>\n",
       "      <td>13.40915</td>\n",
       "      <td>1</td>\n",
       "      <td>0</td>\n",
       "      <td>100.39</td>\n",
       "      <td>13.346474</td>\n",
       "      <td>784</td>\n",
       "      <td>0.062676</td>\n",
       "      <td>2</td>\n",
       "    </tr>\n",
       "  </tbody>\n",
       "</table>\n",
       "</div>"
      ],
      "text/plain": [
       "   id  Acc  avg_exp  avg_exp_ln  gender  Age    Income  Ownrent  Selfempl  \\\n",
       "0  19    1  1217.03    7.104169       1   40  16.03515        1         1   \n",
       "1   5    1  1251.50    7.132098       1   32  15.84750        1         0   \n",
       "2  95    0      NaN         NaN       1   36   8.40000        0         0   \n",
       "3  86    1   856.57    6.752936       1   41  11.47285        1         0   \n",
       "4  50    1  1321.83    7.186772       1   28  13.40915        1         0   \n",
       "\n",
       "   dist_home_val  dist_avg_income  age2  high_avg  edu_class  \n",
       "0          99.93        15.932789  1600  0.102361          3  \n",
       "1          49.88        15.796316  1024  0.051184          2  \n",
       "2          88.61         7.490000  1296  0.910000          1  \n",
       "3          16.10        11.275632  1681  0.197218          3  \n",
       "4         100.39        13.346474   784  0.062676          2  "
      ]
     },
     "execution_count": 2,
     "metadata": {},
     "output_type": "execute_result"
    }
   ],
   "source": [
    "credit_card = pd.read_csv('C:\\\\Users\\\\acerpc\\\\Desktop\\\\code&data\\\\creditcard_exp.csv',skipinitialspace=True)\n",
    "credit_card.head()"
   ]
  },
  {
   "cell_type": "code",
   "execution_count": 3,
   "metadata": {},
   "outputs": [
    {
     "data": {
      "text/html": [
       "<div>\n",
       "<style scoped>\n",
       "    .dataframe tbody tr th:only-of-type {\n",
       "        vertical-align: middle;\n",
       "    }\n",
       "\n",
       "    .dataframe tbody tr th {\n",
       "        vertical-align: top;\n",
       "    }\n",
       "\n",
       "    .dataframe thead th {\n",
       "        text-align: right;\n",
       "    }\n",
       "</style>\n",
       "<table border=\"1\" class=\"dataframe\">\n",
       "  <thead>\n",
       "    <tr style=\"text-align: right;\">\n",
       "      <th></th>\n",
       "      <th>avg_exp</th>\n",
       "      <th>avg_exp_ln</th>\n",
       "      <th>gender</th>\n",
       "      <th>Age</th>\n",
       "      <th>Income</th>\n",
       "      <th>Ownrent</th>\n",
       "      <th>Selfempl</th>\n",
       "      <th>dist_home_val</th>\n",
       "      <th>dist_avg_income</th>\n",
       "      <th>high_avg</th>\n",
       "      <th>edu_class</th>\n",
       "    </tr>\n",
       "  </thead>\n",
       "  <tbody>\n",
       "    <tr>\n",
       "      <th>count</th>\n",
       "      <td>70.000000</td>\n",
       "      <td>70.000000</td>\n",
       "      <td>70.000000</td>\n",
       "      <td>70.000000</td>\n",
       "      <td>70.000000</td>\n",
       "      <td>70.000000</td>\n",
       "      <td>70.000000</td>\n",
       "      <td>70.000000</td>\n",
       "      <td>70.000000</td>\n",
       "      <td>70.000000</td>\n",
       "      <td>70.000000</td>\n",
       "    </tr>\n",
       "    <tr>\n",
       "      <th>mean</th>\n",
       "      <td>983.655429</td>\n",
       "      <td>6.787787</td>\n",
       "      <td>0.285714</td>\n",
       "      <td>31.157143</td>\n",
       "      <td>7.424706</td>\n",
       "      <td>0.385714</td>\n",
       "      <td>0.028571</td>\n",
       "      <td>74.540857</td>\n",
       "      <td>8.005472</td>\n",
       "      <td>-0.580766</td>\n",
       "      <td>1.928571</td>\n",
       "    </tr>\n",
       "    <tr>\n",
       "      <th>std</th>\n",
       "      <td>446.294237</td>\n",
       "      <td>0.476035</td>\n",
       "      <td>0.455016</td>\n",
       "      <td>7.206349</td>\n",
       "      <td>3.077986</td>\n",
       "      <td>0.490278</td>\n",
       "      <td>0.167802</td>\n",
       "      <td>36.949228</td>\n",
       "      <td>3.070744</td>\n",
       "      <td>0.432808</td>\n",
       "      <td>0.873464</td>\n",
       "    </tr>\n",
       "    <tr>\n",
       "      <th>min</th>\n",
       "      <td>163.180000</td>\n",
       "      <td>5.094854</td>\n",
       "      <td>0.000000</td>\n",
       "      <td>20.000000</td>\n",
       "      <td>3.493900</td>\n",
       "      <td>0.000000</td>\n",
       "      <td>0.000000</td>\n",
       "      <td>13.130000</td>\n",
       "      <td>3.828842</td>\n",
       "      <td>-1.526850</td>\n",
       "      <td>0.000000</td>\n",
       "    </tr>\n",
       "    <tr>\n",
       "      <th>25%</th>\n",
       "      <td>697.155000</td>\n",
       "      <td>6.547003</td>\n",
       "      <td>0.000000</td>\n",
       "      <td>26.000000</td>\n",
       "      <td>5.175662</td>\n",
       "      <td>0.000000</td>\n",
       "      <td>0.000000</td>\n",
       "      <td>49.302500</td>\n",
       "      <td>5.915553</td>\n",
       "      <td>-0.887981</td>\n",
       "      <td>1.000000</td>\n",
       "    </tr>\n",
       "    <tr>\n",
       "      <th>50%</th>\n",
       "      <td>884.150000</td>\n",
       "      <td>6.784627</td>\n",
       "      <td>0.000000</td>\n",
       "      <td>30.000000</td>\n",
       "      <td>6.443525</td>\n",
       "      <td>0.000000</td>\n",
       "      <td>0.000000</td>\n",
       "      <td>65.660000</td>\n",
       "      <td>7.084184</td>\n",
       "      <td>-0.612068</td>\n",
       "      <td>2.000000</td>\n",
       "    </tr>\n",
       "    <tr>\n",
       "      <th>75%</th>\n",
       "      <td>1229.585000</td>\n",
       "      <td>7.114415</td>\n",
       "      <td>1.000000</td>\n",
       "      <td>36.000000</td>\n",
       "      <td>8.494237</td>\n",
       "      <td>1.000000</td>\n",
       "      <td>0.000000</td>\n",
       "      <td>105.067500</td>\n",
       "      <td>9.123105</td>\n",
       "      <td>-0.302082</td>\n",
       "      <td>3.000000</td>\n",
       "    </tr>\n",
       "    <tr>\n",
       "      <th>max</th>\n",
       "      <td>2430.030000</td>\n",
       "      <td>7.795659</td>\n",
       "      <td>1.000000</td>\n",
       "      <td>55.000000</td>\n",
       "      <td>16.900150</td>\n",
       "      <td>1.000000</td>\n",
       "      <td>1.000000</td>\n",
       "      <td>157.900000</td>\n",
       "      <td>18.427000</td>\n",
       "      <td>0.259337</td>\n",
       "      <td>3.000000</td>\n",
       "    </tr>\n",
       "  </tbody>\n",
       "</table>\n",
       "</div>"
      ],
      "text/plain": [
       "           avg_exp  avg_exp_ln     gender        Age     Income    Ownrent  \\\n",
       "count    70.000000   70.000000  70.000000  70.000000  70.000000  70.000000   \n",
       "mean    983.655429    6.787787   0.285714  31.157143   7.424706   0.385714   \n",
       "std     446.294237    0.476035   0.455016   7.206349   3.077986   0.490278   \n",
       "min     163.180000    5.094854   0.000000  20.000000   3.493900   0.000000   \n",
       "25%     697.155000    6.547003   0.000000  26.000000   5.175662   0.000000   \n",
       "50%     884.150000    6.784627   0.000000  30.000000   6.443525   0.000000   \n",
       "75%    1229.585000    7.114415   1.000000  36.000000   8.494237   1.000000   \n",
       "max    2430.030000    7.795659   1.000000  55.000000  16.900150   1.000000   \n",
       "\n",
       "        Selfempl  dist_home_val  dist_avg_income   high_avg  edu_class  \n",
       "count  70.000000      70.000000        70.000000  70.000000  70.000000  \n",
       "mean    0.028571      74.540857         8.005472  -0.580766   1.928571  \n",
       "std     0.167802      36.949228         3.070744   0.432808   0.873464  \n",
       "min     0.000000      13.130000         3.828842  -1.526850   0.000000  \n",
       "25%     0.000000      49.302500         5.915553  -0.887981   1.000000  \n",
       "50%     0.000000      65.660000         7.084184  -0.612068   2.000000  \n",
       "75%     0.000000     105.067500         9.123105  -0.302082   3.000000  \n",
       "max     1.000000     157.900000        18.427000   0.259337   3.000000  "
      ]
     },
     "execution_count": 3,
     "metadata": {},
     "output_type": "execute_result"
    }
   ],
   "source": [
    "exp = credit_card[credit_card.avg_exp.notnull()].copy().iloc[:,2:].drop('age2',axis=1)\n",
    "exp.describe(include='all')"
   ]
  },
  {
   "cell_type": "code",
   "execution_count": 4,
   "metadata": {},
   "outputs": [],
   "source": [
    "exp_new = credit_card[credit_card['avg_exp'].isnull()].copy().iloc[:, 2:]\\\n",
    ".drop('age2',axis=1)"
   ]
  },
  {
   "cell_type": "code",
   "execution_count": 5,
   "metadata": {},
   "outputs": [],
   "source": [
    "exp['Income_ln'] = np.log(exp['Income'])"
   ]
  },
  {
   "cell_type": "code",
   "execution_count": 6,
   "metadata": {},
   "outputs": [
    {
     "data": {
      "image/png": "[encoded data removed]",
      "text/plain": [
       "<Figure size 432x288 with 1 Axes>"
      ]
     },
     "metadata": {
      "needs_background": "light"
     },
     "output_type": "display_data"
    }
   ],
   "source": [
    "ana3 = ols('avg_exp_ln ~ Income_ln', exp).fit()\n",
    "exp['Pred'] = ana3.predict(exp)\n",
    "exp['resid'] = ana3.resid\n",
    "exp.plot('Income_ln', 'resid',kind='scatter')\n",
    "plt.show()"
   ]
  },
  {
   "cell_type": "code",
   "execution_count": 7,
   "metadata": {},
   "outputs": [],
   "source": [
    "exp['resid_t'] = \\\n",
    "(exp['resid'] - exp['resid'].mean()) / exp['resid'].std()"
   ]
  },
  {
   "cell_type": "code",
   "execution_count": 8,
   "metadata": {},
   "outputs": [],
   "source": [
    "exp2 = exp[abs(exp['resid_t']) <= 2].copy()"
   ]
  },
  {
   "cell_type": "code",
   "execution_count": 9,
   "metadata": {},
   "outputs": [],
   "source": [
    "exp2['dist_home_val_ln'] = np.log(exp2['dist_home_val'])\n",
    "exp2['dist_avg_income_ln'] = np.log(exp2['dist_avg_income'])"
   ]
  },
  {
   "cell_type": "code",
   "execution_count": 10,
   "metadata": {},
   "outputs": [],
   "source": [
    "exp2['high_avg_ratio'] = exp2['high_avg'] / exp2['dist_avg_income']"
   ]
  },
  {
   "cell_type": "code",
   "execution_count": 11,
   "metadata": {},
   "outputs": [
    {
     "data": {
      "text/plain": [
       "Index(['avg_exp', 'avg_exp_ln', 'gender', 'Age', 'Income', 'Ownrent',\n",
       "       'Selfempl', 'dist_home_val', 'dist_avg_income', 'high_avg', 'edu_class',\n",
       "       'Income_ln', 'Pred', 'resid', 'resid_t'],\n",
       "      dtype='object')"
      ]
     },
     "execution_count": 11,
     "metadata": {},
     "output_type": "execute_result"
    }
   ],
   "source": [
    "#岭回归\n",
    "exp.columns"
   ]
  },
  {
   "cell_type": "code",
   "execution_count": 12,
   "metadata": {},
   "outputs": [
    {
     "data": {
      "text/plain": [
       "2     955.665295\n",
       "11    746.790069\n",
       "13    670.735523\n",
       "19    704.143543\n",
       "20    479.764744\n",
       "21    739.256873\n",
       "24    450.305957\n",
       "28    676.980234\n",
       "31    489.282088\n",
       "33    445.249738\n",
       "36    475.422639\n",
       "37    454.021506\n",
       "38    360.262612\n",
       "44    294.726220\n",
       "50    637.370038\n",
       "53    560.988828\n",
       "59    387.406841\n",
       "63    316.255690\n",
       "65    457.222212\n",
       "66    544.658435\n",
       "70    445.110791\n",
       "77    246.297128\n",
       "79    513.680081\n",
       "86    429.546679\n",
       "88    433.455316\n",
       "90    548.395998\n",
       "91    433.442104\n",
       "92    444.574911\n",
       "95    362.129346\n",
       "99    473.312722\n",
       "dtype: float64"
      ]
     },
     "execution_count": 12,
     "metadata": {},
     "output_type": "execute_result"
    }
   ],
   "source": [
    "model1 = ols('avg_exp~dist_home_val+dist_avg_income',data=exp).fit_regularized(alpha=1,L1_wt=0)\n",
    "# L1_wt参数为0则使用岭回归，为1使用lasso\n",
    "model1.predict(exp_new)"
   ]
  },
  {
   "cell_type": "code",
   "execution_count": 13,
   "metadata": {},
   "outputs": [
    {
     "data": {
      "text/plain": [
       "2     957.185227\n",
       "11    728.840333\n",
       "13    694.698216\n",
       "19    694.891748\n",
       "20    534.956810\n",
       "21    722.333521\n",
       "24    506.710134\n",
       "28    671.256724\n",
       "31    504.241546\n",
       "33    490.273100\n",
       "36    513.334786\n",
       "37    495.557153\n",
       "38    401.634698\n",
       "44    349.757396\n",
       "50    619.389402\n",
       "53    531.427411\n",
       "59    425.555658\n",
       "63    356.548289\n",
       "65    460.988789\n",
       "66    550.754509\n",
       "70    475.804764\n",
       "77    296.464792\n",
       "79    490.899749\n",
       "86    441.483510\n",
       "88    440.046886\n",
       "90    535.725058\n",
       "91    433.151754\n",
       "92    455.069006\n",
       "95    369.718773\n",
       "99    450.773514\n",
       "dtype: float64"
      ]
     },
     "execution_count": 13,
     "metadata": {},
     "output_type": "execute_result"
    }
   ],
   "source": [
    "#lasso回归\n",
    "model2 = ols('avg_exp~dist_home_val+dist_avg_income',data=exp).fit_regularized(alpha=1,L1_wt=1)\n",
    "model2.predict(exp_new)"
   ]
  },
  {
   "cell_type": "code",
   "execution_count": 14,
   "metadata": {},
   "outputs": [],
   "source": [
    "#使用scikit-learn进行正则化参数调优\n",
    "from sklearn.preprocessing import StandardScaler\n",
    "continous_xcols = ['Age', 'Income', 'dist_home_val', \n",
    "                    'dist_avg_income']#抽取连续变量\n",
    "scaler = StandardScaler()#标准化\n",
    "X = scaler.fit_transform(exp[continous_xcols])\n",
    "Y = exp.avg_exp_ln"
   ]
  },
  {
   "cell_type": "code",
   "execution_count": 15,
   "metadata": {},
   "outputs": [
    {
     "data": {
      "text/plain": [
       "RidgeCV(alphas=array([1.00000e-02, 1.12332e-02, ..., 8.90215e+02, 1.00000e+03]),\n",
       "    cv=None, fit_intercept=True, gcv_mode=None, normalize=False,\n",
       "    scoring=None, store_cv_values=True)"
      ]
     },
     "execution_count": 15,
     "metadata": {},
     "output_type": "execute_result"
    }
   ],
   "source": [
    "from sklearn.linear_model import RidgeCV\n",
    "alphas = np.logspace(-2,3,100,base=10)\n",
    "#Search the min MSE by CV\n",
    "rcv = RidgeCV(alphas=alphas,store_cv_values=True)\n",
    "rcv.fit(X,Y)"
   ]
  },
  {
   "cell_type": "code",
   "execution_count": 16,
   "metadata": {},
   "outputs": [
    {
     "name": "stdout",
     "output_type": "stream",
     "text": [
      "The best alpha is 0.2915053062825176\n",
      "The r-square is 0.4756826777019494\n"
     ]
    }
   ],
   "source": [
    "print('The best alpha is {}'.format(rcv.alpha_))\n",
    "print('The r-square is {}'.format(rcv.score(X, Y))) \n",
    "# Default score is rsquared"
   ]
  },
  {
   "cell_type": "code",
   "execution_count": 17,
   "metadata": {},
   "outputs": [
    {
     "data": {
      "text/plain": [
       "array([759.67677561, 606.74024213, 661.20654568, 681.888929  ,\n",
       "       641.06967182])"
      ]
     },
     "execution_count": 17,
     "metadata": {},
     "output_type": "execute_result"
    }
   ],
   "source": [
    "#预测\n",
    "x_new = scaler.transform(exp_new[continous_xcols])\n",
    "np.exp(rcv.predict(x_new))[:5]"
   ]
  },
  {
   "cell_type": "code",
   "execution_count": 19,
   "metadata": {},
   "outputs": [
    {
     "data": {
      "text/plain": [
       "array([[0.21129554, 0.21152135, 0.21177413, ..., 0.03272074, 0.03768135,\n",
       "        0.0425524 ],\n",
       "       [0.08974745, 0.08988788, 0.09004512, ..., 0.05635722, 0.06148689,\n",
       "        0.06640098],\n",
       "       [0.04243246, 0.04253866, 0.04265764, ..., 0.00772601, 0.0068911 ,\n",
       "        0.00616317],\n",
       "       ...,\n",
       "       [0.04811891, 0.04811999, 0.04812121, ..., 0.14128122, 0.14345414,\n",
       "        0.14547353],\n",
       "       [0.05350093, 0.05354761, 0.05359987, ..., 0.46246591, 0.47282523,\n",
       "        0.48247957],\n",
       "       [1.62702549, 1.62738113, 1.62777917, ..., 2.732574  , 2.75239783,\n",
       "        2.77075326]])"
      ]
     },
     "execution_count": 19,
     "metadata": {},
     "output_type": "execute_result"
    }
   ],
   "source": [
    "cv_values = rcv.cv_values_\n",
    "cv_values"
   ]
  },
  {
   "cell_type": "code",
   "execution_count": 20,
   "metadata": {},
   "outputs": [
    {
     "data": {
      "image/png": "[encoded data removed]",
      "text/plain": [
       "<Figure size 432x288 with 1 Axes>"
      ]
     },
     "metadata": {
      "needs_background": "light"
     },
     "output_type": "display_data"
    }
   ],
   "source": [
    "n_fold, n_alphas = cv_values.shape\n",
    "\n",
    "cv_mean = cv_values.mean(axis=0)\n",
    "cv_std = cv_values.std(axis=0)\n",
    "ub = cv_mean + cv_std / np.sqrt(n_fold)\n",
    "lb = cv_mean - cv_std / np.sqrt(n_fold)\n",
    "\n",
    "plt.semilogx(alphas, cv_mean, label='mean_score')\n",
    "plt.fill_between(alphas, lb, ub, alpha=0.2)\n",
    "plt.xlabel(\"$\\\\alpha$\")\n",
    "plt.ylabel(\"mean squared errors\")\n",
    "plt.legend(loc=\"best\")\n",
    "plt.show()"
   ]
  },
  {
   "cell_type": "code",
   "execution_count": 21,
   "metadata": {},
   "outputs": [
    {
     "data": {
      "text/plain": [
       "array([ 0.03321449, -0.30956185,  0.05551208,  0.59067449])"
      ]
     },
     "execution_count": 21,
     "metadata": {},
     "output_type": "execute_result"
    }
   ],
   "source": [
    "rcv.coef_"
   ]
  },
  {
   "cell_type": "code",
   "execution_count": 36,
   "metadata": {},
   "outputs": [],
   "source": [
    "from sklearn.linear_model import Ridge\n",
    "ridge = Ridge()\n",
    "coef = []\n",
    "for alpha in alphas:\n",
    "    ridge.set_params(alpha=alpha)\n",
    "    ridge.fit(X,Y)\n",
    "    coef.append(ridge.coef_)"
   ]
  },
  {
   "cell_type": "code",
   "execution_count": 37,
   "metadata": {},
   "outputs": [
    {
     "data": {
      "image/png": "[encoded data removed]",
      "text/plain": [
       "<Figure size 432x288 with 1 Axes>"
      ]
     },
     "metadata": {
      "needs_background": "light"
     },
     "output_type": "display_data"
    }
   ],
   "source": [
    "plt.plot(alphas,coef)\n",
    "plt.gca().set_xscale('log')"
   ]
  },
  {
   "cell_type": "code",
   "execution_count": 41,
   "metadata": {},
   "outputs": [
    {
     "data": {
      "text/plain": [
       "array([0.03181203, 0.09904695, 0.05701938, 0.15538204])"
      ]
     },
     "execution_count": 41,
     "metadata": {},
     "output_type": "execute_result"
    }
   ],
   "source": [
    "ridge.set_params(alpha=15)\n",
    "ridge.fit(X,Y)\n",
    "ridge.coef_"
   ]
  },
  {
   "cell_type": "code",
   "execution_count": 42,
   "metadata": {},
   "outputs": [
    {
     "data": {
      "text/plain": [
       "0.44251122568163836"
      ]
     },
     "execution_count": 42,
     "metadata": {},
     "output_type": "execute_result"
    }
   ],
   "source": [
    "ridge.score(X,Y)"
   ]
  },
  {
   "cell_type": "code",
   "execution_count": 43,
   "metadata": {},
   "outputs": [
    {
     "data": {
      "text/plain": [
       "array([931.24941783, 706.98117231, 681.41796781, 733.02433367,\n",
       "       671.70061743])"
      ]
     },
     "execution_count": 43,
     "metadata": {},
     "output_type": "execute_result"
    }
   ],
   "source": [
    "np.exp(ridge.predict(x_new))[:5]"
   ]
  },
  {
   "cell_type": "code",
   "execution_count": 44,
   "metadata": {},
   "outputs": [
    {
     "data": {
      "text/plain": [
       "LassoCV(alphas=array([0.001  , 0.00107, ..., 0.9326 , 1.     ]), copy_X=True,\n",
       "    cv=10, eps=0.001, fit_intercept=True, max_iter=1000, n_alphas=100,\n",
       "    n_jobs=1, normalize=False, positive=False, precompute='auto',\n",
       "    random_state=None, selection='cyclic', tol=0.0001, verbose=False)"
      ]
     },
     "execution_count": 44,
     "metadata": {},
     "output_type": "execute_result"
    }
   ],
   "source": [
    "#lasso\n",
    "from sklearn.linear_model import LassoCV\n",
    "lasso_alphas = np.logspace(-3,0,100,base=10)\n",
    "lcv = LassoCV(alphas=lasso_alphas,cv=10)\n",
    "lcv.fit(X,Y)"
   ]
  },
  {
   "cell_type": "code",
   "execution_count": 45,
   "metadata": {},
   "outputs": [
    {
     "name": "stdout",
     "output_type": "stream",
     "text": [
      "The best alpha is 0.04037017258596556\n",
      "The r-square is 0.4426451069862233\n"
     ]
    }
   ],
   "source": [
    "print('The best alpha is {}'.format(lcv.alpha_))\n",
    "print('The r-square is {}'.format(lcv.score(X, Y))) \n",
    "# Default score is rsquared"
   ]
  },
  {
   "cell_type": "code",
   "execution_count": 58,
   "metadata": {},
   "outputs": [],
   "source": [
    "from sklearn.linear_model import Lasso\n",
    "lasso = Lasso()\n",
    "lasso_coef = []\n",
    "for alpha in lasso_alphas:\n",
    "    lasso.set_params(alpha=alpha)\n",
    "    lasso.fit(X,Y)\n",
    "    lasso_coef.append(lasso.coef_)"
   ]
  },
  {
   "cell_type": "code",
   "execution_count": 59,
   "metadata": {},
   "outputs": [
    {
     "data": {
      "text/plain": [
       "[<matplotlib.lines.Line2D at 0x256982cfef0>,\n",
       " <matplotlib.lines.Line2D at 0x25698482630>,\n",
       " <matplotlib.lines.Line2D at 0x25698482780>,\n",
       " <matplotlib.lines.Line2D at 0x256984828d0>]"
      ]
     },
     "execution_count": 59,
     "metadata": {},
     "output_type": "execute_result"
    },
    {
     "data": {
      "image/png": "[encoded data removed]",
      "text/plain": [
       "<Figure size 432x288 with 1 Axes>"
      ]
     },
     "metadata": {
      "needs_background": "light"
     },
     "output_type": "display_data"
    }
   ],
   "source": [
    "ax = plt.gca()\n",
    "ax.set_xscale('log')\n",
    "plt.plot(lasso_alphas, lasso_coef)"
   ]
  },
  {
   "cell_type": "code",
   "execution_count": 48,
   "metadata": {},
   "outputs": [
    {
     "data": {
      "text/plain": [
       "array([0.        , 0.        , 0.02789489, 0.26549855])"
      ]
     },
     "execution_count": 48,
     "metadata": {},
     "output_type": "execute_result"
    }
   ],
   "source": [
    "lcv.coef_"
   ]
  },
  {
   "cell_type": "code",
   "execution_count": 60,
   "metadata": {},
   "outputs": [
    {
     "data": {
      "text/plain": [
       "array([886.94868703, 886.94868703, 886.94868703, 886.94868703,\n",
       "       886.94868703, 886.94868703, 886.94868703, 886.94868703,\n",
       "       886.94868703, 886.94868703, 886.94868703, 886.94868703,\n",
       "       886.94868703, 886.94868703, 886.94868703, 886.94868703,\n",
       "       886.94868703, 886.94868703, 886.94868703, 886.94868703,\n",
       "       886.94868703, 886.94868703, 886.94868703, 886.94868703,\n",
       "       886.94868703, 886.94868703, 886.94868703, 886.94868703,\n",
       "       886.94868703, 886.94868703])"
      ]
     },
     "execution_count": 60,
     "metadata": {},
     "output_type": "execute_result"
    }
   ],
   "source": [
    "lasso.set_params(alpha=20)\n",
    "np.exp(lasso.predict(x_new))"
   ]
  },
  {
   "cell_type": "code",
   "execution_count": 55,
   "metadata": {},
   "outputs": [
    {
     "data": {
      "text/plain": [
       "array([0., 0., 0., 0.])"
      ]
     },
     "execution_count": 55,
     "metadata": {},
     "output_type": "execute_result"
    }
   ],
   "source": [
    "lasso.coef_"
   ]
  },
  {
   "cell_type": "code",
   "execution_count": 64,
   "metadata": {},
   "outputs": [],
   "source": [
    "#弹性网络"
   ]
  },
  {
   "cell_type": "code",
   "execution_count": 63,
   "metadata": {},
   "outputs": [
    {
     "data": {
      "text/plain": [
       "ElasticNetCV(alphas=None, copy_X=True, cv=None, eps=0.001, fit_intercept=True,\n",
       "       l1_ratio=[0.01, 0.1, 0.5, 0.7, 0.9, 0.95, 0.99, 1], max_iter=1000,\n",
       "       n_alphas=100, n_jobs=1, normalize=False, positive=False,\n",
       "       precompute='auto', random_state=None, selection='cyclic',\n",
       "       tol=0.0001, verbose=0)"
      ]
     },
     "execution_count": 63,
     "metadata": {},
     "output_type": "execute_result"
    }
   ],
   "source": [
    "from sklearn.linear_model import ElasticNetCV\n",
    "\n",
    "l1_ratio = [0.01, .1, .5, .7, .9, .95, .99, 1]\n",
    "\n",
    "encv = ElasticNetCV(l1_ratio=l1_ratio)\n",
    "encv.fit(X, Y)"
   ]
  },
  {
   "cell_type": "code",
   "execution_count": 65,
   "metadata": {},
   "outputs": [
    {
     "name": "stdout",
     "output_type": "stream",
     "text": [
      "The best l1_ratio is 0.01\n",
      "The best alpha is 1.0998728529638144\n"
     ]
    }
   ],
   "source": [
    "print('The best l1_ratio is {}'.format(encv.l1_ratio_))\n",
    "print('The best alpha is {}'.format(encv.alpha_))"
   ]
  }
 ],
 "metadata": {
  "kernelspec": {
   "display_name": "Python 3",
   "language": "python",
   "name": "python3"
  },
  "language_info": {
   "codemirror_mode": {
    "name": "ipython",
    "version": 3
   },
   "file_extension": ".py",
   "mimetype": "text/x-python",
   "name": "python",
   "nbconvert_exporter": "python",
   "pygments_lexer": "ipython3",
   "version": "3.6.8"
  }
 },
 "nbformat": 4,
 "nbformat_minor": 2
}
