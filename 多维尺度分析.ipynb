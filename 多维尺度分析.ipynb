{
 "cells": [
  {
   "cell_type": "code",
   "execution_count": 1,
   "metadata": {},
   "outputs": [],
   "source": [
    "import numpy as np\n",
    "import pandas as pd\n",
    "import matplotlib.pyplot as plt\n",
    "%matplotlib inline"
   ]
  },
  {
   "cell_type": "code",
   "execution_count": 2,
   "metadata": {},
   "outputs": [
    {
     "data": {
      "text/html": [
       "<div>\n",
       "<style scoped>\n",
       "    .dataframe tbody tr th:only-of-type {\n",
       "        vertical-align: middle;\n",
       "    }\n",
       "\n",
       "    .dataframe tbody tr th {\n",
       "        vertical-align: top;\n",
       "    }\n",
       "\n",
       "    .dataframe thead th {\n",
       "        text-align: right;\n",
       "    }\n",
       "</style>\n",
       "<table border=\"1\" class=\"dataframe\">\n",
       "  <thead>\n",
       "    <tr style=\"text-align: right;\">\n",
       "      <th></th>\n",
       "      <th>City</th>\n",
       "      <th>Atlanta</th>\n",
       "      <th>Chicago</th>\n",
       "      <th>Denver</th>\n",
       "      <th>Houston</th>\n",
       "      <th>LosAngeles</th>\n",
       "      <th>Miami</th>\n",
       "      <th>NewYork</th>\n",
       "      <th>SanFrancisco</th>\n",
       "      <th>Seattle</th>\n",
       "      <th>Wanshington</th>\n",
       "    </tr>\n",
       "  </thead>\n",
       "  <tbody>\n",
       "    <tr>\n",
       "      <th>0</th>\n",
       "      <td>Atlanta</td>\n",
       "      <td>0</td>\n",
       "      <td>NaN</td>\n",
       "      <td>NaN</td>\n",
       "      <td>NaN</td>\n",
       "      <td>NaN</td>\n",
       "      <td>NaN</td>\n",
       "      <td>NaN</td>\n",
       "      <td>NaN</td>\n",
       "      <td>NaN</td>\n",
       "      <td>NaN</td>\n",
       "    </tr>\n",
       "    <tr>\n",
       "      <th>1</th>\n",
       "      <td>Chicago</td>\n",
       "      <td>587</td>\n",
       "      <td>0.0</td>\n",
       "      <td>NaN</td>\n",
       "      <td>NaN</td>\n",
       "      <td>NaN</td>\n",
       "      <td>NaN</td>\n",
       "      <td>NaN</td>\n",
       "      <td>NaN</td>\n",
       "      <td>NaN</td>\n",
       "      <td>NaN</td>\n",
       "    </tr>\n",
       "    <tr>\n",
       "      <th>2</th>\n",
       "      <td>Denver</td>\n",
       "      <td>1212</td>\n",
       "      <td>920.0</td>\n",
       "      <td>0.0</td>\n",
       "      <td>NaN</td>\n",
       "      <td>NaN</td>\n",
       "      <td>NaN</td>\n",
       "      <td>NaN</td>\n",
       "      <td>NaN</td>\n",
       "      <td>NaN</td>\n",
       "      <td>NaN</td>\n",
       "    </tr>\n",
       "    <tr>\n",
       "      <th>3</th>\n",
       "      <td>Houston</td>\n",
       "      <td>701</td>\n",
       "      <td>940.0</td>\n",
       "      <td>879.0</td>\n",
       "      <td>0.0</td>\n",
       "      <td>NaN</td>\n",
       "      <td>NaN</td>\n",
       "      <td>NaN</td>\n",
       "      <td>NaN</td>\n",
       "      <td>NaN</td>\n",
       "      <td>NaN</td>\n",
       "    </tr>\n",
       "    <tr>\n",
       "      <th>4</th>\n",
       "      <td>LosAngeles</td>\n",
       "      <td>1936</td>\n",
       "      <td>1745.0</td>\n",
       "      <td>831.0</td>\n",
       "      <td>1374.0</td>\n",
       "      <td>0.0</td>\n",
       "      <td>NaN</td>\n",
       "      <td>NaN</td>\n",
       "      <td>NaN</td>\n",
       "      <td>NaN</td>\n",
       "      <td>NaN</td>\n",
       "    </tr>\n",
       "    <tr>\n",
       "      <th>5</th>\n",
       "      <td>Miami</td>\n",
       "      <td>604</td>\n",
       "      <td>1188.0</td>\n",
       "      <td>1726.0</td>\n",
       "      <td>968.0</td>\n",
       "      <td>2339.0</td>\n",
       "      <td>0.0</td>\n",
       "      <td>NaN</td>\n",
       "      <td>NaN</td>\n",
       "      <td>NaN</td>\n",
       "      <td>NaN</td>\n",
       "    </tr>\n",
       "    <tr>\n",
       "      <th>6</th>\n",
       "      <td>NewYork</td>\n",
       "      <td>748</td>\n",
       "      <td>713.0</td>\n",
       "      <td>1631.0</td>\n",
       "      <td>1420.0</td>\n",
       "      <td>2451.0</td>\n",
       "      <td>1092.0</td>\n",
       "      <td>0.0</td>\n",
       "      <td>NaN</td>\n",
       "      <td>NaN</td>\n",
       "      <td>NaN</td>\n",
       "    </tr>\n",
       "    <tr>\n",
       "      <th>7</th>\n",
       "      <td>SanFrancisco</td>\n",
       "      <td>2139</td>\n",
       "      <td>1858.0</td>\n",
       "      <td>949.0</td>\n",
       "      <td>1645.0</td>\n",
       "      <td>347.0</td>\n",
       "      <td>2594.0</td>\n",
       "      <td>2571.0</td>\n",
       "      <td>0.0</td>\n",
       "      <td>NaN</td>\n",
       "      <td>NaN</td>\n",
       "    </tr>\n",
       "    <tr>\n",
       "      <th>8</th>\n",
       "      <td>Seattle</td>\n",
       "      <td>2182</td>\n",
       "      <td>1737.0</td>\n",
       "      <td>1021.0</td>\n",
       "      <td>1891.0</td>\n",
       "      <td>959.0</td>\n",
       "      <td>2734.0</td>\n",
       "      <td>2408.0</td>\n",
       "      <td>678.0</td>\n",
       "      <td>0.0</td>\n",
       "      <td>NaN</td>\n",
       "    </tr>\n",
       "    <tr>\n",
       "      <th>9</th>\n",
       "      <td>Wanshington</td>\n",
       "      <td>543</td>\n",
       "      <td>597.0</td>\n",
       "      <td>1494.0</td>\n",
       "      <td>1220.0</td>\n",
       "      <td>2300.0</td>\n",
       "      <td>923.0</td>\n",
       "      <td>205.0</td>\n",
       "      <td>2442.0</td>\n",
       "      <td>2329.0</td>\n",
       "      <td>0.0</td>\n",
       "    </tr>\n",
       "  </tbody>\n",
       "</table>\n",
       "</div>"
      ],
      "text/plain": [
       "           City  Atlanta  Chicago  Denver  Houston  LosAngeles   Miami  \\\n",
       "0       Atlanta        0      NaN     NaN      NaN         NaN     NaN   \n",
       "1       Chicago      587      0.0     NaN      NaN         NaN     NaN   \n",
       "2        Denver     1212    920.0     0.0      NaN         NaN     NaN   \n",
       "3       Houston      701    940.0   879.0      0.0         NaN     NaN   \n",
       "4    LosAngeles     1936   1745.0   831.0   1374.0         0.0     NaN   \n",
       "5         Miami      604   1188.0  1726.0    968.0      2339.0     0.0   \n",
       "6       NewYork      748    713.0  1631.0   1420.0      2451.0  1092.0   \n",
       "7  SanFrancisco     2139   1858.0   949.0   1645.0       347.0  2594.0   \n",
       "8       Seattle     2182   1737.0  1021.0   1891.0       959.0  2734.0   \n",
       "9   Wanshington      543    597.0  1494.0   1220.0      2300.0   923.0   \n",
       "\n",
       "   NewYork  SanFrancisco  Seattle  Wanshington  \n",
       "0      NaN           NaN      NaN          NaN  \n",
       "1      NaN           NaN      NaN          NaN  \n",
       "2      NaN           NaN      NaN          NaN  \n",
       "3      NaN           NaN      NaN          NaN  \n",
       "4      NaN           NaN      NaN          NaN  \n",
       "5      NaN           NaN      NaN          NaN  \n",
       "6      0.0           NaN      NaN          NaN  \n",
       "7   2571.0           0.0      NaN          NaN  \n",
       "8   2408.0         678.0      0.0          NaN  \n",
       "9    205.0        2442.0   2329.0          0.0  "
      ]
     },
     "execution_count": 2,
     "metadata": {},
     "output_type": "execute_result"
    }
   ],
   "source": [
    "#使用美国各大城市距离数据CITY_DISTANCE\n",
    "data = pd.read_csv('C:/Users/acerpc/Desktop/data_folder/city_distance.csv',skipinitialspace=True)\n",
    "data"
   ]
  },
  {
   "cell_type": "code",
   "execution_count": 14,
   "metadata": {},
   "outputs": [],
   "source": [
    "data_filled = data.fillna(0)\n",
    "distance_array = np.array(data_filled.iloc[:,1:])\n",
    "transpose_dis = distance_array.T\n",
    "cities = distance_array+transpose_dis\n",
    "cities = pd.DataFrame(cities,columns=data.City,index=data.City)"
   ]
  },
  {
   "cell_type": "code",
   "execution_count": 13,
   "metadata": {},
   "outputs": [],
   "source": [
    "#建模\n",
    "from sklearn.manifold import MDS\n",
    "\n",
    "mds = MDS(n_components=2,dissimilarity='precomputed',random_state=2)"
   ]
  },
  {
   "cell_type": "code",
   "execution_count": 15,
   "metadata": {},
   "outputs": [
    {
     "data": {
      "text/plain": [
       "352.4462595786322"
      ]
     },
     "execution_count": 15,
     "metadata": {},
     "output_type": "execute_result"
    }
   ],
   "source": [
    "#压力函数值\n",
    "mds.fit(cities)\n",
    "mds.stress_"
   ]
  },
  {
   "cell_type": "code",
   "execution_count": 16,
   "metadata": {},
   "outputs": [
    {
     "data": {
      "text/plain": [
       "array([[  726.81822293,    84.19516075],\n",
       "       [  259.47309889,   442.84915186],\n",
       "       [ -467.37579004,  -119.66669242],\n",
       "       [  328.54380839,  -494.8021748 ],\n",
       "       [-1028.20824469,  -732.8125738 ],\n",
       "       [ 1254.97159746,  -205.0540706 ],\n",
       "       [  864.4353312 ,   818.65952468],\n",
       "       [-1317.82321631,  -539.70542876],\n",
       "       [-1452.00875155,   129.67779139],\n",
       "       [  831.17394371,   616.65931171]])"
      ]
     },
     "execution_count": 16,
     "metadata": {},
     "output_type": "execute_result"
    }
   ],
   "source": [
    "mds.embedding_#两个维度的值"
   ]
  },
  {
   "cell_type": "code",
   "execution_count": 18,
   "metadata": {},
   "outputs": [
    {
     "data": {
      "image/png": "[encoded data removed]",
      "text/plain": [
       "<Figure size 432x288 with 1 Axes>"
      ]
     },
     "metadata": {
      "needs_background": "light"
     },
     "output_type": "display_data"
    }
   ],
   "source": [
    "#绘制感知图\n",
    "x = mds.embedding_[:,0]\n",
    "y = mds.embedding_[:,1]\n",
    "plt.scatter(x,y)\n",
    "for a,b,s in zip(x,y,data.City):\n",
    "    plt.text(a,b+0.1,s,fontsize=12)"
   ]
  },
  {
   "cell_type": "code",
   "execution_count": null,
   "metadata": {},
   "outputs": [],
   "source": []
  }
 ],
 "metadata": {
  "kernelspec": {
   "display_name": "Python 3",
   "language": "python",
   "name": "python3"
  },
  "language_info": {
   "codemirror_mode": {
    "name": "ipython",
    "version": 3
   },
   "file_extension": ".py",
   "mimetype": "text/x-python",
   "name": "python",
   "nbconvert_exporter": "python",
   "pygments_lexer": "ipython3",
   "version": "3.6.8"
  }
 },
 "nbformat": 4,
 "nbformat_minor": 2
}
