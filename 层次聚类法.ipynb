{
  "cells": [
    {
      "cell_type": "code",
      "execution_count": 30,
      "metadata": {
        "pycharm": {}
      },
      "outputs": [],
      "source": [
        "import numpy as np\n",
        "import pandas as pd\n",
        "import matplotlib.pyplot as plt\n",
        "%matplotlib inline"
      ]
    },
    {
      "cell_type": "code",
      "execution_count": 31,
      "metadata": {
        "pycharm": {}
      },
      "outputs": [
        {
          "data": {
            "text/html": [
              "\u003cdiv\u003e\n",
              "\u003cstyle scoped\u003e\n",
              "    .dataframe tbody tr th:only-of-type {\n",
              "        vertical-align: middle;\n",
              "    }\n",
              "\n",
              "    .dataframe tbody tr th {\n",
              "        vertical-align: top;\n",
              "    }\n",
              "\n",
              "    .dataframe thead th {\n",
              "        text-align: right;\n",
              "    }\n",
              "\u003c/style\u003e\n",
              "\u003ctable border\u003d\"1\" class\u003d\"dataframe\"\u003e\n",
              "  \u003cthead\u003e\n",
              "    \u003ctr style\u003d\"text-align: right;\"\u003e\n",
              "      \u003cth\u003e\u003c/th\u003e\n",
              "      \u003cth\u003eAREA\u003c/th\u003e\n",
              "      \u003cth\u003eX1\u003c/th\u003e\n",
              "      \u003cth\u003eX2\u003c/th\u003e\n",
              "      \u003cth\u003eX3\u003c/th\u003e\n",
              "      \u003cth\u003eX4\u003c/th\u003e\n",
              "      \u003cth\u003eX5\u003c/th\u003e\n",
              "      \u003cth\u003eX6\u003c/th\u003e\n",
              "      \u003cth\u003eX7\u003c/th\u003e\n",
              "      \u003cth\u003eX8\u003c/th\u003e\n",
              "      \u003cth\u003eX9\u003c/th\u003e\n",
              "    \u003c/tr\u003e\n",
              "  \u003c/thead\u003e\n",
              "  \u003ctbody\u003e\n",
              "    \u003ctr\u003e\n",
              "      \u003cth\u003e0\u003c/th\u003e\n",
              "      \u003ctd\u003e辽宁\u003c/td\u003e\n",
              "      \u003ctd\u003e5458.2\u003c/td\u003e\n",
              "      \u003ctd\u003e13000\u003c/td\u003e\n",
              "      \u003ctd\u003e1376.2\u003c/td\u003e\n",
              "      \u003ctd\u003e2258.4\u003c/td\u003e\n",
              "      \u003ctd\u003e1315.9\u003c/td\u003e\n",
              "      \u003ctd\u003e529.0\u003c/td\u003e\n",
              "      \u003ctd\u003e2258.4\u003c/td\u003e\n",
              "      \u003ctd\u003e123.7\u003c/td\u003e\n",
              "      \u003ctd\u003e399.7\u003c/td\u003e\n",
              "    \u003c/tr\u003e\n",
              "    \u003ctr\u003e\n",
              "      \u003cth\u003e1\u003c/th\u003e\n",
              "      \u003ctd\u003e山东\u003c/td\u003e\n",
              "      \u003ctd\u003e10550.0\u003c/td\u003e\n",
              "      \u003ctd\u003e11643\u003c/td\u003e\n",
              "      \u003ctd\u003e3502.5\u003c/td\u003e\n",
              "      \u003ctd\u003e3851.0\u003c/td\u003e\n",
              "      \u003ctd\u003e2288.7\u003c/td\u003e\n",
              "      \u003ctd\u003e1070.7\u003c/td\u003e\n",
              "      \u003ctd\u003e3181.9\u003c/td\u003e\n",
              "      \u003ctd\u003e211.1\u003c/td\u003e\n",
              "      \u003ctd\u003e610.2\u003c/td\u003e\n",
              "    \u003c/tr\u003e\n",
              "    \u003ctr\u003e\n",
              "      \u003cth\u003e2\u003c/th\u003e\n",
              "      \u003ctd\u003e河北\u003c/td\u003e\n",
              "      \u003ctd\u003e6076.6\u003c/td\u003e\n",
              "      \u003ctd\u003e9047\u003c/td\u003e\n",
              "      \u003ctd\u003e1406.7\u003c/td\u003e\n",
              "      \u003ctd\u003e2092.6\u003c/td\u003e\n",
              "      \u003ctd\u003e1161.6\u003c/td\u003e\n",
              "      \u003ctd\u003e597.1\u003c/td\u003e\n",
              "      \u003ctd\u003e1968.3\u003c/td\u003e\n",
              "      \u003ctd\u003e45.9\u003c/td\u003e\n",
              "      \u003ctd\u003e302.3\u003c/td\u003e\n",
              "    \u003c/tr\u003e\n",
              "    \u003ctr\u003e\n",
              "      \u003cth\u003e3\u003c/th\u003e\n",
              "      \u003ctd\u003e天津\u003c/td\u003e\n",
              "      \u003ctd\u003e2022.6\u003c/td\u003e\n",
              "      \u003ctd\u003e22068\u003c/td\u003e\n",
              "      \u003ctd\u003e822.8\u003c/td\u003e\n",
              "      \u003ctd\u003e960.0\u003c/td\u003e\n",
              "      \u003ctd\u003e703.7\u003c/td\u003e\n",
              "      \u003ctd\u003e361.9\u003c/td\u003e\n",
              "      \u003ctd\u003e941.4\u003c/td\u003e\n",
              "      \u003ctd\u003e115.7\u003c/td\u003e\n",
              "      \u003ctd\u003e171.8\u003c/td\u003e\n",
              "    \u003c/tr\u003e\n",
              "    \u003ctr\u003e\n",
              "      \u003cth\u003e4\u003c/th\u003e\n",
              "      \u003ctd\u003e江苏\u003c/td\u003e\n",
              "      \u003ctd\u003e10636.3\u003c/td\u003e\n",
              "      \u003ctd\u003e14397\u003c/td\u003e\n",
              "      \u003ctd\u003e3536.3\u003c/td\u003e\n",
              "      \u003ctd\u003e3967.2\u003c/td\u003e\n",
              "      \u003ctd\u003e2320.0\u003c/td\u003e\n",
              "      \u003ctd\u003e1141.3\u003c/td\u003e\n",
              "      \u003ctd\u003e3215.8\u003c/td\u003e\n",
              "      \u003ctd\u003e384.7\u003c/td\u003e\n",
              "      \u003ctd\u003e643.7\u003c/td\u003e\n",
              "    \u003c/tr\u003e\n",
              "    \u003ctr\u003e\n",
              "      \u003cth\u003e5\u003c/th\u003e\n",
              "      \u003ctd\u003e上海\u003c/td\u003e\n",
              "      \u003ctd\u003e5408.8\u003c/td\u003e\n",
              "      \u003ctd\u003e40627\u003c/td\u003e\n",
              "      \u003ctd\u003e2196.2\u003c/td\u003e\n",
              "      \u003ctd\u003e2755.8\u003c/td\u003e\n",
              "      \u003ctd\u003e1970.2\u003c/td\u003e\n",
              "      \u003ctd\u003e779.3\u003c/td\u003e\n",
              "      \u003ctd\u003e2035.2\u003c/td\u003e\n",
              "      \u003ctd\u003e320.5\u003c/td\u003e\n",
              "      \u003ctd\u003e709.0\u003c/td\u003e\n",
              "    \u003c/tr\u003e\n",
              "    \u003ctr\u003e\n",
              "      \u003cth\u003e6\u003c/th\u003e\n",
              "      \u003ctd\u003e浙江\u003c/td\u003e\n",
              "      \u003ctd\u003e7670.0\u003c/td\u003e\n",
              "      \u003ctd\u003e16570\u003c/td\u003e\n",
              "      \u003ctd\u003e2356.5\u003c/td\u003e\n",
              "      \u003ctd\u003e3065.0\u003c/td\u003e\n",
              "      \u003ctd\u003e2296.6\u003c/td\u003e\n",
              "      \u003ctd\u003e1180.6\u003c/td\u003e\n",
              "      \u003ctd\u003e2877.5\u003c/td\u003e\n",
              "      \u003ctd\u003e294.2\u003c/td\u003e\n",
              "      \u003ctd\u003e566.9\u003c/td\u003e\n",
              "    \u003c/tr\u003e\n",
              "    \u003ctr\u003e\n",
              "      \u003cth\u003e7\u003c/th\u003e\n",
              "      \u003ctd\u003e福建\u003c/td\u003e\n",
              "      \u003ctd\u003e4682.0\u003c/td\u003e\n",
              "      \u003ctd\u003e13510\u003c/td\u003e\n",
              "      \u003ctd\u003e1047.1\u003c/td\u003e\n",
              "      \u003ctd\u003e1859.0\u003c/td\u003e\n",
              "      \u003ctd\u003e964.5\u003c/td\u003e\n",
              "      \u003ctd\u003e397.9\u003c/td\u003e\n",
              "      \u003ctd\u003e1663.3\u003c/td\u003e\n",
              "      \u003ctd\u003e173.7\u003c/td\u003e\n",
              "      \u003ctd\u003e272.9\u003c/td\u003e\n",
              "    \u003c/tr\u003e\n",
              "    \u003ctr\u003e\n",
              "      \u003cth\u003e8\u003c/th\u003e\n",
              "      \u003ctd\u003e广东\u003c/td\u003e\n",
              "      \u003ctd\u003e11769.7\u003c/td\u003e\n",
              "      \u003ctd\u003e15030\u003c/td\u003e\n",
              "      \u003ctd\u003e4224.6\u003c/td\u003e\n",
              "      \u003ctd\u003e4793.6\u003c/td\u003e\n",
              "      \u003ctd\u003e3022.9\u003c/td\u003e\n",
              "      \u003ctd\u003e1275.5\u003c/td\u003e\n",
              "      \u003ctd\u003e5013.6\u003c/td\u003e\n",
              "      \u003ctd\u003e1843.7\u003c/td\u003e\n",
              "      \u003ctd\u003e1201.6\u003c/td\u003e\n",
              "    \u003c/tr\u003e\n",
              "    \u003ctr\u003e\n",
              "      \u003cth\u003e9\u003c/th\u003e\n",
              "      \u003ctd\u003e广西\u003c/td\u003e\n",
              "      \u003ctd\u003e2455.4\u003c/td\u003e\n",
              "      \u003ctd\u003e5062\u003c/td\u003e\n",
              "      \u003ctd\u003e367.0\u003c/td\u003e\n",
              "      \u003ctd\u003e995.7\u003c/td\u003e\n",
              "      \u003ctd\u003e542.2\u003c/td\u003e\n",
              "      \u003ctd\u003e352.7\u003c/td\u003e\n",
              "      \u003ctd\u003e1025.5\u003c/td\u003e\n",
              "      \u003ctd\u003e15.1\u003c/td\u003e\n",
              "      \u003ctd\u003e186.7\u003c/td\u003e\n",
              "    \u003c/tr\u003e\n",
              "  \u003c/tbody\u003e\n",
              "\u003c/table\u003e\n",
              "\u003c/div\u003e"
            ],
            "text/plain": [
              "  AREA       X1     X2      X3      X4      X5      X6      X7      X8      X9\n",
              "0   辽宁   5458.2  13000  1376.2  2258.4  1315.9   529.0  2258.4   123.7   399.7\n",
              "1   山东  10550.0  11643  3502.5  3851.0  2288.7  1070.7  3181.9   211.1   610.2\n",
              "2   河北   6076.6   9047  1406.7  2092.6  1161.6   597.1  1968.3    45.9   302.3\n",
              "3   天津   2022.6  22068   822.8   960.0   703.7   361.9   941.4   115.7   171.8\n",
              "4   江苏  10636.3  14397  3536.3  3967.2  2320.0  1141.3  3215.8   384.7   643.7\n",
              "5   上海   5408.8  40627  2196.2  2755.8  1970.2   779.3  2035.2   320.5   709.0\n",
              "6   浙江   7670.0  16570  2356.5  3065.0  2296.6  1180.6  2877.5   294.2   566.9\n",
              "7   福建   4682.0  13510  1047.1  1859.0   964.5   397.9  1663.3   173.7   272.9\n",
              "8   广东  11769.7  15030  4224.6  4793.6  3022.9  1275.5  5013.6  1843.7  1201.6\n",
              "9   广西   2455.4   5062   367.0   995.7   542.2   352.7  1025.5    15.1   186.7"
            ]
          },
          "execution_count": 31,
          "metadata": {},
          "output_type": "execute_result"
        }
      ],
      "source": "cities \u003d pd.read_csv(\u0027C:/Users/acerpc/Desktop/data_folder/cities_10.csv\u0027,encoding\u003d\u0027gbk\u0027)\ncities"
    },
    {
      "cell_type": "code",
      "execution_count": 32,
      "metadata": {
        "pycharm": {}
      },
      "outputs": [],
      "source": [
        "from sklearn.preprocessing import StandardScaler\n",
        "from sklearn.decomposition import PCA, FactorAnalysis\n",
        "\n",
        "scaler \u003d StandardScaler()\n",
        "standdata \u003d scaler.fit_transform(cities.loc[:,\"X1\":])\n",
        "pca \u003d PCA(n_components \u003d 2)\n",
        "fa \u003d FactorAnalysis(n_components \u003d 2)\n",
        "pca_scores \u003d pca.fit_transform(standdata)\n",
        "fa_scores \u003d fa.fit_transform(standdata)"
      ]
    },
    {
      "cell_type": "code",
      "execution_count": 33,
      "metadata": {
        "pycharm": {}
      },
      "outputs": [
        {
          "data": {
            "image/png": "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\u003d\n",
            "text/plain": [
              "\u003cFigure size 432x288 with 1 Axes\u003e"
            ]
          },
          "metadata": {
            "needs_background": "light"
          },
          "output_type": "display_data"
        }
      ],
      "source": [
        "import scipy.cluster.hierarchy as sch\n",
        "distance \u003d sch.distance.pdist(pca_scores, \u0027euclidean\u0027)\n",
        "Z \u003d sch.linkage(distance, method\u003d\u0027ward\u0027)\n",
        "P \u003d sch.dendrogram(Z)"
      ]
    },
    {
      "cell_type": "code",
      "execution_count": 34,
      "metadata": {
        "pycharm": {}
      },
      "outputs": [
        {
          "data": {
            "text/plain": [
              "AgglomerativeClustering(affinity\u003d\u0027euclidean\u0027, compute_full_tree\u003dFalse,\n",
              "            connectivity\u003dNone, linkage\u003d\u0027ward\u0027, memory\u003dNone, n_clusters\u003d4,\n",
              "            pooling_func\u003d\u003cfunction mean at 0x00000262DF417BF8\u003e)"
            ]
          },
          "execution_count": 34,
          "metadata": {},
          "output_type": "execute_result"
        }
      ],
      "source": [
        "from sklearn.cluster import AgglomerativeClustering\n",
        "agglom \u003d AgglomerativeClustering(n_clusters\u003d4,linkage\u003d\u0027ward\u0027,compute_full_tree\u003dFalse)\n",
        "agglom.fit(pca_scores)"
      ]
    },
    {
      "cell_type": "code",
      "execution_count": 35,
      "metadata": {
        "pycharm": {}
      },
      "outputs": [
        {
          "data": {
            "image/png": "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\u003d\n",
            "text/plain": [
              "\u003cFigure size 432x288 with 1 Axes\u003e"
            ]
          },
          "metadata": {
            "needs_background": "light"
          },
          "output_type": "display_data"
        }
      ],
      "source": [
        "# 解决坐标轴刻度负号乱码\n",
        "plt.rcParams[\u0027axes.unicode_minus\u0027] \u003d False\n",
        "\n",
        "# 解决中文乱码问题\n",
        "plt.rcParams[\u0027font.sans-serif\u0027] \u003d [\u0027Simhei\u0027]\n",
        "\n",
        "plt.scatter(pca_scores[:,0],pca_scores[:,1],c\u003dagglom.labels_,)\n",
        "for a,b,c in zip(pca_scores[:,0],pca_scores[:,1],cities[\u0027AREA\u0027]):\n",
        "    plt.text(a, b+0.1, c)"
      ]
    }
  ],
  "metadata": {
    "kernelspec": {
      "display_name": "Python 3",
      "language": "python",
      "name": "python3"
    },
    "language_info": {
      "codemirror_mode": {
        "name": "ipython",
        "version": 3
      },
      "file_extension": ".py",
      "mimetype": "text/x-python",
      "name": "python",
      "nbconvert_exporter": "python",
      "pygments_lexer": "ipython3",
      "version": "3.7.0"
    }
  },
  "nbformat": 4,
  "nbformat_minor": 2
}