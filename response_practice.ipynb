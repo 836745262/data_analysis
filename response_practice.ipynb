{
 "cells": [
  {
   "cell_type": "code",
   "execution_count": 1,
   "metadata": {},
   "outputs": [],
   "source": [
    "import numpy as np \n",
    "import pandas as pd\n",
    "import matplotlib.pyplot as plt\n",
    "%matplotlib inline"
   ]
  },
  {
   "cell_type": "code",
   "execution_count": 2,
   "metadata": {},
   "outputs": [
    {
     "data": {
      "text/html": [
       "<div>\n",
       "<style scoped>\n",
       "    .dataframe tbody tr th:only-of-type {\n",
       "        vertical-align: middle;\n",
       "    }\n",
       "\n",
       "    .dataframe tbody tr th {\n",
       "        vertical-align: top;\n",
       "    }\n",
       "\n",
       "    .dataframe thead th {\n",
       "        text-align: right;\n",
       "    }\n",
       "</style>\n",
       "<table border=\"1\" class=\"dataframe\">\n",
       "  <thead>\n",
       "    <tr style=\"text-align: right;\">\n",
       "      <th></th>\n",
       "      <th>dv_response</th>\n",
       "      <th>em_last_open</th>\n",
       "      <th>order_num</th>\n",
       "      <th>web_month</th>\n",
       "      <th>em_address_num</th>\n",
       "      <th>rev_persys</th>\n",
       "      <th>month_gap</th>\n",
       "      <th>total_rev</th>\n",
       "      <th>last_order_dpa</th>\n",
       "    </tr>\n",
       "  </thead>\n",
       "  <tbody>\n",
       "    <tr>\n",
       "      <th>0</th>\n",
       "      <td>1</td>\n",
       "      <td>NaN</td>\n",
       "      <td>3</td>\n",
       "      <td>17.748507</td>\n",
       "      <td>2.0</td>\n",
       "      <td>1365.653750</td>\n",
       "      <td>64.451613</td>\n",
       "      <td>5462.615</td>\n",
       "      <td>1</td>\n",
       "    </tr>\n",
       "    <tr>\n",
       "      <th>1</th>\n",
       "      <td>0</td>\n",
       "      <td>1.939665</td>\n",
       "      <td>1</td>\n",
       "      <td>17.864397</td>\n",
       "      <td>2.0</td>\n",
       "      <td>558.308167</td>\n",
       "      <td>81.322581</td>\n",
       "      <td>3349.849</td>\n",
       "      <td>0</td>\n",
       "    </tr>\n",
       "    <tr>\n",
       "      <th>2</th>\n",
       "      <td>0</td>\n",
       "      <td>6.548387</td>\n",
       "      <td>1</td>\n",
       "      <td>NaN</td>\n",
       "      <td>2.0</td>\n",
       "      <td>817.960000</td>\n",
       "      <td>0.000000</td>\n",
       "      <td>817.960</td>\n",
       "      <td>0</td>\n",
       "    </tr>\n",
       "    <tr>\n",
       "      <th>3</th>\n",
       "      <td>0</td>\n",
       "      <td>NaN</td>\n",
       "      <td>2</td>\n",
       "      <td>5.939665</td>\n",
       "      <td>2.0</td>\n",
       "      <td>1468.300667</td>\n",
       "      <td>86.451613</td>\n",
       "      <td>4404.902</td>\n",
       "      <td>0</td>\n",
       "    </tr>\n",
       "    <tr>\n",
       "      <th>4</th>\n",
       "      <td>1</td>\n",
       "      <td>NaN</td>\n",
       "      <td>7</td>\n",
       "      <td>0.459379</td>\n",
       "      <td>2.0</td>\n",
       "      <td>1999.790000</td>\n",
       "      <td>83.451613</td>\n",
       "      <td>1999.790</td>\n",
       "      <td>0</td>\n",
       "    </tr>\n",
       "  </tbody>\n",
       "</table>\n",
       "</div>"
      ],
      "text/plain": [
       "   dv_response  em_last_open  order_num  web_month  em_address_num  \\\n",
       "0            1           NaN          3  17.748507             2.0   \n",
       "1            0      1.939665          1  17.864397             2.0   \n",
       "2            0      6.548387          1        NaN             2.0   \n",
       "3            0           NaN          2   5.939665             2.0   \n",
       "4            1           NaN          7   0.459379             2.0   \n",
       "\n",
       "    rev_persys  month_gap  total_rev  last_order_dpa  \n",
       "0  1365.653750  64.451613   5462.615               1  \n",
       "1   558.308167  81.322581   3349.849               0  \n",
       "2   817.960000   0.000000    817.960               0  \n",
       "3  1468.300667  86.451613   4404.902               0  \n",
       "4  1999.790000  83.451613   1999.790               0  "
      ]
     },
     "execution_count": 2,
     "metadata": {},
     "output_type": "execute_result"
    }
   ],
   "source": [
    "train = pd.read_csv('C:/Users/acerpc/Desktop/dv_response_train.csv',skipinitialspace=True)\n",
    "test = pd.read_csv('C:/Users/acerpc/Desktop/dv_response_test.csv',skipinitialspace=True)\n",
    "train.head()"
   ]
  },
  {
   "cell_type": "code",
   "execution_count": 3,
   "metadata": {},
   "outputs": [
    {
     "data": {
      "text/html": [
       "<div>\n",
       "<style scoped>\n",
       "    .dataframe tbody tr th:only-of-type {\n",
       "        vertical-align: middle;\n",
       "    }\n",
       "\n",
       "    .dataframe tbody tr th {\n",
       "        vertical-align: top;\n",
       "    }\n",
       "\n",
       "    .dataframe thead th {\n",
       "        text-align: right;\n",
       "    }\n",
       "</style>\n",
       "<table border=\"1\" class=\"dataframe\">\n",
       "  <thead>\n",
       "    <tr style=\"text-align: right;\">\n",
       "      <th></th>\n",
       "      <th>dv_response</th>\n",
       "      <th>em_last_open</th>\n",
       "      <th>order_num</th>\n",
       "      <th>web_month</th>\n",
       "      <th>em_address_num</th>\n",
       "      <th>rev_persys</th>\n",
       "      <th>month_gap</th>\n",
       "      <th>total_rev</th>\n",
       "      <th>last_order_dpa</th>\n",
       "    </tr>\n",
       "  </thead>\n",
       "  <tbody>\n",
       "    <tr>\n",
       "      <th>count</th>\n",
       "      <td>65932.000000</td>\n",
       "      <td>44267.000000</td>\n",
       "      <td>65932.000000</td>\n",
       "      <td>47430.000000</td>\n",
       "      <td>61186.000000</td>\n",
       "      <td>5.448400e+04</td>\n",
       "      <td>65932.000000</td>\n",
       "      <td>6.593200e+04</td>\n",
       "      <td>65932.000000</td>\n",
       "    </tr>\n",
       "    <tr>\n",
       "      <th>mean</th>\n",
       "      <td>0.313019</td>\n",
       "      <td>12.315188</td>\n",
       "      <td>2.069860</td>\n",
       "      <td>4.645520</td>\n",
       "      <td>2.291112</td>\n",
       "      <td>1.421214e+03</td>\n",
       "      <td>52.571222</td>\n",
       "      <td>3.189113e+03</td>\n",
       "      <td>0.319693</td>\n",
       "    </tr>\n",
       "    <tr>\n",
       "      <th>std</th>\n",
       "      <td>0.463726</td>\n",
       "      <td>15.397773</td>\n",
       "      <td>1.883022</td>\n",
       "      <td>4.884998</td>\n",
       "      <td>6.232029</td>\n",
       "      <td>1.411669e+04</td>\n",
       "      <td>38.005433</td>\n",
       "      <td>2.703791e+04</td>\n",
       "      <td>0.466361</td>\n",
       "    </tr>\n",
       "    <tr>\n",
       "      <th>min</th>\n",
       "      <td>0.000000</td>\n",
       "      <td>0.000597</td>\n",
       "      <td>1.000000</td>\n",
       "      <td>0.000597</td>\n",
       "      <td>0.000000</td>\n",
       "      <td>2.398000e+01</td>\n",
       "      <td>0.000000</td>\n",
       "      <td>0.000000e+00</td>\n",
       "      <td>0.000000</td>\n",
       "    </tr>\n",
       "    <tr>\n",
       "      <th>25%</th>\n",
       "      <td>0.000000</td>\n",
       "      <td>0.709677</td>\n",
       "      <td>1.000000</td>\n",
       "      <td>0.618877</td>\n",
       "      <td>1.000000</td>\n",
       "      <td>8.139600e+02</td>\n",
       "      <td>10.806452</td>\n",
       "      <td>8.253762e+02</td>\n",
       "      <td>0.000000</td>\n",
       "    </tr>\n",
       "    <tr>\n",
       "      <th>50%</th>\n",
       "      <td>0.000000</td>\n",
       "      <td>5.305854</td>\n",
       "      <td>1.000000</td>\n",
       "      <td>2.839008</td>\n",
       "      <td>2.000000</td>\n",
       "      <td>1.161603e+03</td>\n",
       "      <td>60.258065</td>\n",
       "      <td>1.896540e+03</td>\n",
       "      <td>0.000000</td>\n",
       "    </tr>\n",
       "    <tr>\n",
       "      <th>75%</th>\n",
       "      <td>1.000000</td>\n",
       "      <td>18.784050</td>\n",
       "      <td>2.000000</td>\n",
       "      <td>7.484319</td>\n",
       "      <td>3.000000</td>\n",
       "      <td>1.655027e+03</td>\n",
       "      <td>85.161290</td>\n",
       "      <td>3.728509e+03</td>\n",
       "      <td>1.000000</td>\n",
       "    </tr>\n",
       "    <tr>\n",
       "      <th>max</th>\n",
       "      <td>1.000000</td>\n",
       "      <td>69.000000</td>\n",
       "      <td>11.000000</td>\n",
       "      <td>23.000000</td>\n",
       "      <td>692.000000</td>\n",
       "      <td>3.289671e+06</td>\n",
       "      <td>185.225806</td>\n",
       "      <td>6.579342e+06</td>\n",
       "      <td>1.000000</td>\n",
       "    </tr>\n",
       "  </tbody>\n",
       "</table>\n",
       "</div>"
      ],
      "text/plain": [
       "        dv_response  em_last_open     order_num     web_month  em_address_num  \\\n",
       "count  65932.000000  44267.000000  65932.000000  47430.000000    61186.000000   \n",
       "mean       0.313019     12.315188      2.069860      4.645520        2.291112   \n",
       "std        0.463726     15.397773      1.883022      4.884998        6.232029   \n",
       "min        0.000000      0.000597      1.000000      0.000597        0.000000   \n",
       "25%        0.000000      0.709677      1.000000      0.618877        1.000000   \n",
       "50%        0.000000      5.305854      1.000000      2.839008        2.000000   \n",
       "75%        1.000000     18.784050      2.000000      7.484319        3.000000   \n",
       "max        1.000000     69.000000     11.000000     23.000000      692.000000   \n",
       "\n",
       "         rev_persys     month_gap     total_rev  last_order_dpa  \n",
       "count  5.448400e+04  65932.000000  6.593200e+04    65932.000000  \n",
       "mean   1.421214e+03     52.571222  3.189113e+03        0.319693  \n",
       "std    1.411669e+04     38.005433  2.703791e+04        0.466361  \n",
       "min    2.398000e+01      0.000000  0.000000e+00        0.000000  \n",
       "25%    8.139600e+02     10.806452  8.253762e+02        0.000000  \n",
       "50%    1.161603e+03     60.258065  1.896540e+03        0.000000  \n",
       "75%    1.655027e+03     85.161290  3.728509e+03        1.000000  \n",
       "max    3.289671e+06    185.225806  6.579342e+06        1.000000  "
      ]
     },
     "execution_count": 3,
     "metadata": {},
     "output_type": "execute_result"
    }
   ],
   "source": [
    "train.describe(include='all')"
   ]
  },
  {
   "cell_type": "code",
   "execution_count": 4,
   "metadata": {},
   "outputs": [
    {
     "data": {
      "text/html": [
       "<div>\n",
       "<style scoped>\n",
       "    .dataframe tbody tr th:only-of-type {\n",
       "        vertical-align: middle;\n",
       "    }\n",
       "\n",
       "    .dataframe tbody tr th {\n",
       "        vertical-align: top;\n",
       "    }\n",
       "\n",
       "    .dataframe thead th {\n",
       "        text-align: right;\n",
       "    }\n",
       "</style>\n",
       "<table border=\"1\" class=\"dataframe\">\n",
       "  <thead>\n",
       "    <tr style=\"text-align: right;\">\n",
       "      <th></th>\n",
       "      <th>em_last_open</th>\n",
       "      <th>order_num</th>\n",
       "      <th>web_month</th>\n",
       "      <th>em_address_num</th>\n",
       "      <th>rev_persys</th>\n",
       "      <th>month_gap</th>\n",
       "      <th>total_rev</th>\n",
       "      <th>last_order_dpa</th>\n",
       "    </tr>\n",
       "  </thead>\n",
       "  <tbody>\n",
       "    <tr>\n",
       "      <th>0</th>\n",
       "      <td>NaN</td>\n",
       "      <td>1</td>\n",
       "      <td>2.175627</td>\n",
       "      <td>2.0</td>\n",
       "      <td>1161.574000</td>\n",
       "      <td>46.451613</td>\n",
       "      <td>1161.574</td>\n",
       "      <td>0</td>\n",
       "    </tr>\n",
       "    <tr>\n",
       "      <th>1</th>\n",
       "      <td>0.474313</td>\n",
       "      <td>1</td>\n",
       "      <td>0.563321</td>\n",
       "      <td>2.0</td>\n",
       "      <td>1730.405333</td>\n",
       "      <td>83.677419</td>\n",
       "      <td>10382.432</td>\n",
       "      <td>0</td>\n",
       "    </tr>\n",
       "    <tr>\n",
       "      <th>2</th>\n",
       "      <td>0.484468</td>\n",
       "      <td>4</td>\n",
       "      <td>1.568698</td>\n",
       "      <td>1.0</td>\n",
       "      <td>1184.756400</td>\n",
       "      <td>100.419355</td>\n",
       "      <td>5923.782</td>\n",
       "      <td>1</td>\n",
       "    </tr>\n",
       "    <tr>\n",
       "      <th>3</th>\n",
       "      <td>NaN</td>\n",
       "      <td>2</td>\n",
       "      <td>1.000000</td>\n",
       "      <td>1.0</td>\n",
       "      <td>1222.884667</td>\n",
       "      <td>97.354839</td>\n",
       "      <td>3668.654</td>\n",
       "      <td>1</td>\n",
       "    </tr>\n",
       "    <tr>\n",
       "      <th>4</th>\n",
       "      <td>NaN</td>\n",
       "      <td>1</td>\n",
       "      <td>0.483871</td>\n",
       "      <td>1.0</td>\n",
       "      <td>1108.526333</td>\n",
       "      <td>73.419355</td>\n",
       "      <td>3325.579</td>\n",
       "      <td>1</td>\n",
       "    </tr>\n",
       "    <tr>\n",
       "      <th>5</th>\n",
       "      <td>NaN</td>\n",
       "      <td>1</td>\n",
       "      <td>18.043011</td>\n",
       "      <td>1.0</td>\n",
       "      <td>359.000000</td>\n",
       "      <td>0.000000</td>\n",
       "      <td>359.000</td>\n",
       "      <td>0</td>\n",
       "    </tr>\n",
       "    <tr>\n",
       "      <th>6</th>\n",
       "      <td>0.724612</td>\n",
       "      <td>9</td>\n",
       "      <td>0.155914</td>\n",
       "      <td>2.0</td>\n",
       "      <td>1755.393000</td>\n",
       "      <td>60.870968</td>\n",
       "      <td>5266.179</td>\n",
       "      <td>1</td>\n",
       "    </tr>\n",
       "    <tr>\n",
       "      <th>7</th>\n",
       "      <td>NaN</td>\n",
       "      <td>1</td>\n",
       "      <td>NaN</td>\n",
       "      <td>1.0</td>\n",
       "      <td>NaN</td>\n",
       "      <td>0.000000</td>\n",
       "      <td>2528.990</td>\n",
       "      <td>0</td>\n",
       "    </tr>\n",
       "    <tr>\n",
       "      <th>8</th>\n",
       "      <td>47.056750</td>\n",
       "      <td>1</td>\n",
       "      <td>4.384110</td>\n",
       "      <td>5.0</td>\n",
       "      <td>1358.331250</td>\n",
       "      <td>96.419355</td>\n",
       "      <td>5433.325</td>\n",
       "      <td>0</td>\n",
       "    </tr>\n",
       "    <tr>\n",
       "      <th>9</th>\n",
       "      <td>NaN</td>\n",
       "      <td>1</td>\n",
       "      <td>NaN</td>\n",
       "      <td>1.0</td>\n",
       "      <td>1516.990000</td>\n",
       "      <td>0.000000</td>\n",
       "      <td>1516.990</td>\n",
       "      <td>0</td>\n",
       "    </tr>\n",
       "  </tbody>\n",
       "</table>\n",
       "</div>"
      ],
      "text/plain": [
       "   em_last_open  order_num  web_month  em_address_num   rev_persys  \\\n",
       "0           NaN          1   2.175627             2.0  1161.574000   \n",
       "1      0.474313          1   0.563321             2.0  1730.405333   \n",
       "2      0.484468          4   1.568698             1.0  1184.756400   \n",
       "3           NaN          2   1.000000             1.0  1222.884667   \n",
       "4           NaN          1   0.483871             1.0  1108.526333   \n",
       "5           NaN          1  18.043011             1.0   359.000000   \n",
       "6      0.724612          9   0.155914             2.0  1755.393000   \n",
       "7           NaN          1        NaN             1.0          NaN   \n",
       "8     47.056750          1   4.384110             5.0  1358.331250   \n",
       "9           NaN          1        NaN             1.0  1516.990000   \n",
       "\n",
       "    month_gap  total_rev  last_order_dpa  \n",
       "0   46.451613   1161.574               0  \n",
       "1   83.677419  10382.432               0  \n",
       "2  100.419355   5923.782               1  \n",
       "3   97.354839   3668.654               1  \n",
       "4   73.419355   3325.579               1  \n",
       "5    0.000000    359.000               0  \n",
       "6   60.870968   5266.179               1  \n",
       "7    0.000000   2528.990               0  \n",
       "8   96.419355   5433.325               0  \n",
       "9    0.000000   1516.990               0  "
      ]
     },
     "execution_count": 4,
     "metadata": {},
     "output_type": "execute_result"
    }
   ],
   "source": [
    "test.head(10)"
   ]
  },
  {
   "cell_type": "code",
   "execution_count": 5,
   "metadata": {},
   "outputs": [
    {
     "data": {
      "text/html": [
       "<div>\n",
       "<style scoped>\n",
       "    .dataframe tbody tr th:only-of-type {\n",
       "        vertical-align: middle;\n",
       "    }\n",
       "\n",
       "    .dataframe tbody tr th {\n",
       "        vertical-align: top;\n",
       "    }\n",
       "\n",
       "    .dataframe thead th {\n",
       "        text-align: right;\n",
       "    }\n",
       "</style>\n",
       "<table border=\"1\" class=\"dataframe\">\n",
       "  <thead>\n",
       "    <tr style=\"text-align: right;\">\n",
       "      <th></th>\n",
       "      <th>em_last_open</th>\n",
       "      <th>order_num</th>\n",
       "      <th>web_month</th>\n",
       "      <th>em_address_num</th>\n",
       "      <th>rev_persys</th>\n",
       "      <th>month_gap</th>\n",
       "      <th>total_rev</th>\n",
       "      <th>last_order_dpa</th>\n",
       "    </tr>\n",
       "  </thead>\n",
       "  <tbody>\n",
       "    <tr>\n",
       "      <th>count</th>\n",
       "      <td>18972.000000</td>\n",
       "      <td>28257.000000</td>\n",
       "      <td>20210.000000</td>\n",
       "      <td>26269.000000</td>\n",
       "      <td>23383.000000</td>\n",
       "      <td>28257.000000</td>\n",
       "      <td>2.825700e+04</td>\n",
       "      <td>28257.000000</td>\n",
       "    </tr>\n",
       "    <tr>\n",
       "      <th>mean</th>\n",
       "      <td>12.434991</td>\n",
       "      <td>2.073044</td>\n",
       "      <td>4.612456</td>\n",
       "      <td>2.226084</td>\n",
       "      <td>1356.533835</td>\n",
       "      <td>52.346384</td>\n",
       "      <td>3.097612e+03</td>\n",
       "      <td>0.318541</td>\n",
       "    </tr>\n",
       "    <tr>\n",
       "      <th>std</th>\n",
       "      <td>15.369859</td>\n",
       "      <td>1.893124</td>\n",
       "      <td>4.834656</td>\n",
       "      <td>4.036722</td>\n",
       "      <td>953.234705</td>\n",
       "      <td>38.023082</td>\n",
       "      <td>1.235360e+04</td>\n",
       "      <td>0.465919</td>\n",
       "    </tr>\n",
       "    <tr>\n",
       "      <th>min</th>\n",
       "      <td>0.000597</td>\n",
       "      <td>1.000000</td>\n",
       "      <td>0.000597</td>\n",
       "      <td>0.000000</td>\n",
       "      <td>29.990000</td>\n",
       "      <td>0.000000</td>\n",
       "      <td>0.000000e+00</td>\n",
       "      <td>0.000000</td>\n",
       "    </tr>\n",
       "    <tr>\n",
       "      <th>25%</th>\n",
       "      <td>0.709379</td>\n",
       "      <td>1.000000</td>\n",
       "      <td>0.617832</td>\n",
       "      <td>1.000000</td>\n",
       "      <td>808.216375</td>\n",
       "      <td>10.225806</td>\n",
       "      <td>8.219700e+02</td>\n",
       "      <td>0.000000</td>\n",
       "    </tr>\n",
       "    <tr>\n",
       "      <th>50%</th>\n",
       "      <td>5.571386</td>\n",
       "      <td>1.000000</td>\n",
       "      <td>2.813321</td>\n",
       "      <td>2.000000</td>\n",
       "      <td>1154.482600</td>\n",
       "      <td>59.806452</td>\n",
       "      <td>1.914117e+03</td>\n",
       "      <td>0.000000</td>\n",
       "    </tr>\n",
       "    <tr>\n",
       "      <th>75%</th>\n",
       "      <td>19.124253</td>\n",
       "      <td>2.000000</td>\n",
       "      <td>7.453405</td>\n",
       "      <td>3.000000</td>\n",
       "      <td>1645.706571</td>\n",
       "      <td>84.967742</td>\n",
       "      <td>3.713566e+03</td>\n",
       "      <td>1.000000</td>\n",
       "    </tr>\n",
       "    <tr>\n",
       "      <th>max</th>\n",
       "      <td>66.768220</td>\n",
       "      <td>11.000000</td>\n",
       "      <td>22.947431</td>\n",
       "      <td>239.000000</td>\n",
       "      <td>59342.554000</td>\n",
       "      <td>190.290323</td>\n",
       "      <td>1.777532e+06</td>\n",
       "      <td>1.000000</td>\n",
       "    </tr>\n",
       "  </tbody>\n",
       "</table>\n",
       "</div>"
      ],
      "text/plain": [
       "       em_last_open     order_num     web_month  em_address_num    rev_persys  \\\n",
       "count  18972.000000  28257.000000  20210.000000    26269.000000  23383.000000   \n",
       "mean      12.434991      2.073044      4.612456        2.226084   1356.533835   \n",
       "std       15.369859      1.893124      4.834656        4.036722    953.234705   \n",
       "min        0.000597      1.000000      0.000597        0.000000     29.990000   \n",
       "25%        0.709379      1.000000      0.617832        1.000000    808.216375   \n",
       "50%        5.571386      1.000000      2.813321        2.000000   1154.482600   \n",
       "75%       19.124253      2.000000      7.453405        3.000000   1645.706571   \n",
       "max       66.768220     11.000000     22.947431      239.000000  59342.554000   \n",
       "\n",
       "          month_gap     total_rev  last_order_dpa  \n",
       "count  28257.000000  2.825700e+04    28257.000000  \n",
       "mean      52.346384  3.097612e+03        0.318541  \n",
       "std       38.023082  1.235360e+04        0.465919  \n",
       "min        0.000000  0.000000e+00        0.000000  \n",
       "25%       10.225806  8.219700e+02        0.000000  \n",
       "50%       59.806452  1.914117e+03        0.000000  \n",
       "75%       84.967742  3.713566e+03        1.000000  \n",
       "max      190.290323  1.777532e+06        1.000000  "
      ]
     },
     "execution_count": 5,
     "metadata": {},
     "output_type": "execute_result"
    }
   ],
   "source": [
    "test.describe(include='all')"
   ]
  },
  {
   "cell_type": "code",
   "execution_count": 6,
   "metadata": {},
   "outputs": [
    {
     "data": {
      "text/html": [
       "<div>\n",
       "<style scoped>\n",
       "    .dataframe tbody tr th:only-of-type {\n",
       "        vertical-align: middle;\n",
       "    }\n",
       "\n",
       "    .dataframe tbody tr th {\n",
       "        vertical-align: top;\n",
       "    }\n",
       "\n",
       "    .dataframe thead th {\n",
       "        text-align: right;\n",
       "    }\n",
       "</style>\n",
       "<table border=\"1\" class=\"dataframe\">\n",
       "  <thead>\n",
       "    <tr style=\"text-align: right;\">\n",
       "      <th></th>\n",
       "      <th>dv_response</th>\n",
       "      <th>em_last_open</th>\n",
       "      <th>order_num</th>\n",
       "      <th>web_month</th>\n",
       "      <th>em_address_num</th>\n",
       "      <th>rev_persys</th>\n",
       "      <th>month_gap</th>\n",
       "      <th>total_rev</th>\n",
       "      <th>last_order_dpa</th>\n",
       "    </tr>\n",
       "  </thead>\n",
       "  <tbody>\n",
       "    <tr>\n",
       "      <th>0</th>\n",
       "      <td>1</td>\n",
       "      <td>12.315188</td>\n",
       "      <td>3</td>\n",
       "      <td>17.748507</td>\n",
       "      <td>2.0</td>\n",
       "      <td>1365.653750</td>\n",
       "      <td>64.451613</td>\n",
       "      <td>5462.615</td>\n",
       "      <td>1</td>\n",
       "    </tr>\n",
       "    <tr>\n",
       "      <th>1</th>\n",
       "      <td>0</td>\n",
       "      <td>1.939665</td>\n",
       "      <td>1</td>\n",
       "      <td>17.864397</td>\n",
       "      <td>2.0</td>\n",
       "      <td>558.308167</td>\n",
       "      <td>81.322581</td>\n",
       "      <td>3349.849</td>\n",
       "      <td>0</td>\n",
       "    </tr>\n",
       "    <tr>\n",
       "      <th>2</th>\n",
       "      <td>0</td>\n",
       "      <td>6.548387</td>\n",
       "      <td>1</td>\n",
       "      <td>4.645520</td>\n",
       "      <td>2.0</td>\n",
       "      <td>817.960000</td>\n",
       "      <td>0.000000</td>\n",
       "      <td>817.960</td>\n",
       "      <td>0</td>\n",
       "    </tr>\n",
       "    <tr>\n",
       "      <th>3</th>\n",
       "      <td>0</td>\n",
       "      <td>12.315188</td>\n",
       "      <td>2</td>\n",
       "      <td>5.939665</td>\n",
       "      <td>2.0</td>\n",
       "      <td>1468.300667</td>\n",
       "      <td>86.451613</td>\n",
       "      <td>4404.902</td>\n",
       "      <td>0</td>\n",
       "    </tr>\n",
       "    <tr>\n",
       "      <th>4</th>\n",
       "      <td>1</td>\n",
       "      <td>12.315188</td>\n",
       "      <td>7</td>\n",
       "      <td>0.459379</td>\n",
       "      <td>2.0</td>\n",
       "      <td>1999.790000</td>\n",
       "      <td>83.451613</td>\n",
       "      <td>1999.790</td>\n",
       "      <td>0</td>\n",
       "    </tr>\n",
       "  </tbody>\n",
       "</table>\n",
       "</div>"
      ],
      "text/plain": [
       "   dv_response  em_last_open  order_num  web_month  em_address_num  \\\n",
       "0            1     12.315188          3  17.748507             2.0   \n",
       "1            0      1.939665          1  17.864397             2.0   \n",
       "2            0      6.548387          1   4.645520             2.0   \n",
       "3            0     12.315188          2   5.939665             2.0   \n",
       "4            1     12.315188          7   0.459379             2.0   \n",
       "\n",
       "    rev_persys  month_gap  total_rev  last_order_dpa  \n",
       "0  1365.653750  64.451613   5462.615               1  \n",
       "1   558.308167  81.322581   3349.849               0  \n",
       "2   817.960000   0.000000    817.960               0  \n",
       "3  1468.300667  86.451613   4404.902               0  \n",
       "4  1999.790000  83.451613   1999.790               0  "
      ]
     },
     "execution_count": 6,
     "metadata": {},
     "output_type": "execute_result"
    }
   ],
   "source": [
    "#处理缺失值\n",
    "from sklearn.preprocessing import Imputer\n",
    "imputer = Imputer(missing_values=np.nan,strategy='mean',axis=0)\n",
    "data = pd.DataFrame(imputer.fit_transform(train[['em_last_open', 'web_month']]),columns=['em_last_open', 'web_month'])\n",
    "train[['em_last_open', 'web_month']]=data\n",
    "train.fillna(0,inplace=True)\n",
    "train.head()"
   ]
  },
  {
   "cell_type": "code",
   "execution_count": 7,
   "metadata": {},
   "outputs": [
    {
     "data": {
      "text/html": [
       "<div>\n",
       "<style scoped>\n",
       "    .dataframe tbody tr th:only-of-type {\n",
       "        vertical-align: middle;\n",
       "    }\n",
       "\n",
       "    .dataframe tbody tr th {\n",
       "        vertical-align: top;\n",
       "    }\n",
       "\n",
       "    .dataframe thead th {\n",
       "        text-align: right;\n",
       "    }\n",
       "</style>\n",
       "<table border=\"1\" class=\"dataframe\">\n",
       "  <thead>\n",
       "    <tr style=\"text-align: right;\">\n",
       "      <th></th>\n",
       "      <th>em_last_open</th>\n",
       "      <th>order_num</th>\n",
       "      <th>web_month</th>\n",
       "      <th>em_address_num</th>\n",
       "      <th>rev_persys</th>\n",
       "      <th>month_gap</th>\n",
       "      <th>total_rev</th>\n",
       "      <th>last_order_dpa</th>\n",
       "    </tr>\n",
       "  </thead>\n",
       "  <tbody>\n",
       "    <tr>\n",
       "      <th>0</th>\n",
       "      <td>12.315188</td>\n",
       "      <td>1</td>\n",
       "      <td>2.175627</td>\n",
       "      <td>2.0</td>\n",
       "      <td>1161.574000</td>\n",
       "      <td>46.451613</td>\n",
       "      <td>1161.574</td>\n",
       "      <td>0</td>\n",
       "    </tr>\n",
       "    <tr>\n",
       "      <th>1</th>\n",
       "      <td>0.474313</td>\n",
       "      <td>1</td>\n",
       "      <td>0.563321</td>\n",
       "      <td>2.0</td>\n",
       "      <td>1730.405333</td>\n",
       "      <td>83.677419</td>\n",
       "      <td>10382.432</td>\n",
       "      <td>0</td>\n",
       "    </tr>\n",
       "    <tr>\n",
       "      <th>2</th>\n",
       "      <td>0.484468</td>\n",
       "      <td>4</td>\n",
       "      <td>1.568698</td>\n",
       "      <td>1.0</td>\n",
       "      <td>1184.756400</td>\n",
       "      <td>100.419355</td>\n",
       "      <td>5923.782</td>\n",
       "      <td>1</td>\n",
       "    </tr>\n",
       "    <tr>\n",
       "      <th>3</th>\n",
       "      <td>12.315188</td>\n",
       "      <td>2</td>\n",
       "      <td>1.000000</td>\n",
       "      <td>1.0</td>\n",
       "      <td>1222.884667</td>\n",
       "      <td>97.354839</td>\n",
       "      <td>3668.654</td>\n",
       "      <td>1</td>\n",
       "    </tr>\n",
       "    <tr>\n",
       "      <th>4</th>\n",
       "      <td>12.315188</td>\n",
       "      <td>1</td>\n",
       "      <td>0.483871</td>\n",
       "      <td>1.0</td>\n",
       "      <td>1108.526333</td>\n",
       "      <td>73.419355</td>\n",
       "      <td>3325.579</td>\n",
       "      <td>1</td>\n",
       "    </tr>\n",
       "  </tbody>\n",
       "</table>\n",
       "</div>"
      ],
      "text/plain": [
       "   em_last_open  order_num  web_month  em_address_num   rev_persys  \\\n",
       "0     12.315188          1   2.175627             2.0  1161.574000   \n",
       "1      0.474313          1   0.563321             2.0  1730.405333   \n",
       "2      0.484468          4   1.568698             1.0  1184.756400   \n",
       "3     12.315188          2   1.000000             1.0  1222.884667   \n",
       "4     12.315188          1   0.483871             1.0  1108.526333   \n",
       "\n",
       "    month_gap  total_rev  last_order_dpa  \n",
       "0   46.451613   1161.574               0  \n",
       "1   83.677419  10382.432               0  \n",
       "2  100.419355   5923.782               1  \n",
       "3   97.354839   3668.654               1  \n",
       "4   73.419355   3325.579               1  "
      ]
     },
     "execution_count": 7,
     "metadata": {},
     "output_type": "execute_result"
    }
   ],
   "source": [
    "test['em_last_open'].fillna(train['em_last_open'].mean(),inplace=True)\n",
    "test['web_month'].fillna(train['web_month'].mean(),inplace=True)\n",
    "test.fillna(0,inplace=True)\n",
    "test.head()"
   ]
  },
  {
   "cell_type": "code",
   "execution_count": 8,
   "metadata": {},
   "outputs": [
    {
     "data": {
      "text/html": [
       "<div>\n",
       "<style scoped>\n",
       "    .dataframe tbody tr th:only-of-type {\n",
       "        vertical-align: middle;\n",
       "    }\n",
       "\n",
       "    .dataframe tbody tr th {\n",
       "        vertical-align: top;\n",
       "    }\n",
       "\n",
       "    .dataframe thead th {\n",
       "        text-align: right;\n",
       "    }\n",
       "</style>\n",
       "<table border=\"1\" class=\"dataframe\">\n",
       "  <thead>\n",
       "    <tr style=\"text-align: right;\">\n",
       "      <th></th>\n",
       "      <th>dv_response</th>\n",
       "      <th>em_last_open</th>\n",
       "      <th>order_num</th>\n",
       "      <th>web_month</th>\n",
       "      <th>em_address_num</th>\n",
       "      <th>rev_persys</th>\n",
       "      <th>month_gap</th>\n",
       "      <th>total_rev</th>\n",
       "      <th>last_order_dpa</th>\n",
       "    </tr>\n",
       "  </thead>\n",
       "  <tbody>\n",
       "    <tr>\n",
       "      <th>count</th>\n",
       "      <td>65932.000000</td>\n",
       "      <td>65932.000000</td>\n",
       "      <td>65932.000000</td>\n",
       "      <td>65932.000000</td>\n",
       "      <td>65932.000000</td>\n",
       "      <td>6.593200e+04</td>\n",
       "      <td>65932.000000</td>\n",
       "      <td>6.593200e+04</td>\n",
       "      <td>65932.000000</td>\n",
       "    </tr>\n",
       "    <tr>\n",
       "      <th>mean</th>\n",
       "      <td>0.313019</td>\n",
       "      <td>12.315188</td>\n",
       "      <td>2.069860</td>\n",
       "      <td>4.645520</td>\n",
       "      <td>2.126191</td>\n",
       "      <td>1.174444e+03</td>\n",
       "      <td>52.571222</td>\n",
       "      <td>3.189113e+03</td>\n",
       "      <td>0.319693</td>\n",
       "    </tr>\n",
       "    <tr>\n",
       "      <th>std</th>\n",
       "      <td>0.463726</td>\n",
       "      <td>12.616771</td>\n",
       "      <td>1.883022</td>\n",
       "      <td>4.143254</td>\n",
       "      <td>6.032670</td>\n",
       "      <td>1.284401e+04</td>\n",
       "      <td>38.005433</td>\n",
       "      <td>2.703791e+04</td>\n",
       "      <td>0.466361</td>\n",
       "    </tr>\n",
       "    <tr>\n",
       "      <th>min</th>\n",
       "      <td>0.000000</td>\n",
       "      <td>0.000597</td>\n",
       "      <td>1.000000</td>\n",
       "      <td>0.000597</td>\n",
       "      <td>0.000000</td>\n",
       "      <td>0.000000e+00</td>\n",
       "      <td>0.000000</td>\n",
       "      <td>0.000000e+00</td>\n",
       "      <td>0.000000</td>\n",
       "    </tr>\n",
       "    <tr>\n",
       "      <th>25%</th>\n",
       "      <td>0.000000</td>\n",
       "      <td>2.111708</td>\n",
       "      <td>1.000000</td>\n",
       "      <td>1.210275</td>\n",
       "      <td>1.000000</td>\n",
       "      <td>5.869631e+02</td>\n",
       "      <td>10.806452</td>\n",
       "      <td>8.253762e+02</td>\n",
       "      <td>0.000000</td>\n",
       "    </tr>\n",
       "    <tr>\n",
       "      <th>50%</th>\n",
       "      <td>0.000000</td>\n",
       "      <td>12.315188</td>\n",
       "      <td>1.000000</td>\n",
       "      <td>4.645520</td>\n",
       "      <td>2.000000</td>\n",
       "      <td>1.007924e+03</td>\n",
       "      <td>60.258065</td>\n",
       "      <td>1.896540e+03</td>\n",
       "      <td>0.000000</td>\n",
       "    </tr>\n",
       "    <tr>\n",
       "      <th>75%</th>\n",
       "      <td>1.000000</td>\n",
       "      <td>12.315188</td>\n",
       "      <td>2.000000</td>\n",
       "      <td>5.368728</td>\n",
       "      <td>2.000000</td>\n",
       "      <td>1.522316e+03</td>\n",
       "      <td>85.161290</td>\n",
       "      <td>3.728509e+03</td>\n",
       "      <td>1.000000</td>\n",
       "    </tr>\n",
       "    <tr>\n",
       "      <th>max</th>\n",
       "      <td>1.000000</td>\n",
       "      <td>69.000000</td>\n",
       "      <td>11.000000</td>\n",
       "      <td>23.000000</td>\n",
       "      <td>692.000000</td>\n",
       "      <td>3.289671e+06</td>\n",
       "      <td>185.225806</td>\n",
       "      <td>6.579342e+06</td>\n",
       "      <td>1.000000</td>\n",
       "    </tr>\n",
       "  </tbody>\n",
       "</table>\n",
       "</div>"
      ],
      "text/plain": [
       "        dv_response  em_last_open     order_num     web_month  em_address_num  \\\n",
       "count  65932.000000  65932.000000  65932.000000  65932.000000    65932.000000   \n",
       "mean       0.313019     12.315188      2.069860      4.645520        2.126191   \n",
       "std        0.463726     12.616771      1.883022      4.143254        6.032670   \n",
       "min        0.000000      0.000597      1.000000      0.000597        0.000000   \n",
       "25%        0.000000      2.111708      1.000000      1.210275        1.000000   \n",
       "50%        0.000000     12.315188      1.000000      4.645520        2.000000   \n",
       "75%        1.000000     12.315188      2.000000      5.368728        2.000000   \n",
       "max        1.000000     69.000000     11.000000     23.000000      692.000000   \n",
       "\n",
       "         rev_persys     month_gap     total_rev  last_order_dpa  \n",
       "count  6.593200e+04  65932.000000  6.593200e+04    65932.000000  \n",
       "mean   1.174444e+03     52.571222  3.189113e+03        0.319693  \n",
       "std    1.284401e+04     38.005433  2.703791e+04        0.466361  \n",
       "min    0.000000e+00      0.000000  0.000000e+00        0.000000  \n",
       "25%    5.869631e+02     10.806452  8.253762e+02        0.000000  \n",
       "50%    1.007924e+03     60.258065  1.896540e+03        0.000000  \n",
       "75%    1.522316e+03     85.161290  3.728509e+03        1.000000  \n",
       "max    3.289671e+06    185.225806  6.579342e+06        1.000000  "
      ]
     },
     "execution_count": 8,
     "metadata": {},
     "output_type": "execute_result"
    }
   ],
   "source": [
    "train.describe(include='all')"
   ]
  },
  {
   "cell_type": "code",
   "execution_count": 9,
   "metadata": {},
   "outputs": [],
   "source": [
    "y_col = train.columns[0]\n",
    "x_continuous_cols = train.columns[1:8]\n",
    "x_discere_cols = train.columns[8:]\n",
    "x_cols = x_continuous_cols.append(x_discere_cols)\n"
   ]
  },
  {
   "cell_type": "code",
   "execution_count": 10,
   "metadata": {},
   "outputs": [
    {
     "name": "stderr",
     "output_type": "stream",
     "text": [
      "D:\\anaconda\\lib\\site-packages\\sklearn\\model_selection\\_split.py:2026: FutureWarning: From version 0.21, test_size will always complement train_size unless both are specified.\n",
      "  FutureWarning)\n"
     ]
    }
   ],
   "source": [
    "from sklearn.model_selection import train_test_split\n",
    "train1_x,test1_x,train1_y,test1_y=train_test_split(train[x_cols],train[y_col],train_size=0.6,random_state=2)\n"
   ]
  },
  {
   "cell_type": "code",
   "execution_count": 11,
   "metadata": {},
   "outputs": [],
   "source": [
    "#使用后退法进行特征选择\n",
    "from sklearn.feature_selection import RFECV\n",
    "from sklearn.linear_model import LogisticRegression\n",
    "from sklearn.metrics import accuracy_score\n",
    "def rfecv(train_x,train_y,test_x,test_y):\n",
    "    lr = LogisticRegression()\n",
    "    model = RFECV(lr,scoring='accuracy',cv=5,n_jobs=-1)\n",
    "    model.fit(train_x,train_y)\n",
    "    test_pre = model.predict(test_x)\n",
    "    score = accuracy_score(test_y,test_pre)\n",
    "    return model,score\n"
   ]
  },
  {
   "cell_type": "code",
   "execution_count": 12,
   "metadata": {},
   "outputs": [
    {
     "data": {
      "text/plain": [
       "0.7418951200091002"
      ]
     },
     "execution_count": 12,
     "metadata": {},
     "output_type": "execute_result"
    }
   ],
   "source": [
    "model1,score1 = rfecv(train1_x[x_cols],train1_y,test1_x[x_cols],test1_y)\n",
    "score1"
   ]
  },
  {
   "cell_type": "code",
   "execution_count": 13,
   "metadata": {},
   "outputs": [
    {
     "data": {
      "text/plain": [
       "array([0.68616497, 0.73229864, 0.73518035, 0.7365454 , 0.73770819,\n",
       "       0.73803681, 0.73816319, 0.73796098])"
      ]
     },
     "execution_count": 13,
     "metadata": {},
     "output_type": "execute_result"
    }
   ],
   "source": [
    "#每消除一个变量后的交叉验证得分\n",
    "model1.grid_scores_"
   ]
  },
  {
   "cell_type": "code",
   "execution_count": 14,
   "metadata": {},
   "outputs": [
    {
     "data": {
      "text/plain": [
       "array([1, 1, 1, 1, 1, 1, 2, 1])"
      ]
     },
     "execution_count": 14,
     "metadata": {},
     "output_type": "execute_result"
    }
   ],
   "source": [
    "model1.ranking_"
   ]
  },
  {
   "cell_type": "code",
   "execution_count": 15,
   "metadata": {},
   "outputs": [
    {
     "data": {
      "text/plain": [
       "array([[<matplotlib.axes._subplots.AxesSubplot object at 0x0000026D6BDDD0B8>,\n",
       "        <matplotlib.axes._subplots.AxesSubplot object at 0x0000026D6E91BC18>,\n",
       "        <matplotlib.axes._subplots.AxesSubplot object at 0x0000026D6E94D2E8>],\n",
       "       [<matplotlib.axes._subplots.AxesSubplot object at 0x0000026D6E976978>,\n",
       "        <matplotlib.axes._subplots.AxesSubplot object at 0x0000026D6E9A7048>,\n",
       "        <matplotlib.axes._subplots.AxesSubplot object at 0x0000026D6E9A7080>],\n",
       "       [<matplotlib.axes._subplots.AxesSubplot object at 0x0000026D6E9F7AC8>,\n",
       "        <matplotlib.axes._subplots.AxesSubplot object at 0x0000026D6EA2A198>,\n",
       "        <matplotlib.axes._subplots.AxesSubplot object at 0x0000026D6EA50828>]],\n",
       "      dtype=object)"
      ]
     },
     "execution_count": 15,
     "metadata": {},
     "output_type": "execute_result"
    },
    {
     "data": {
      "image/png": "[encoded data removed]",
      "text/plain": [
       "<Figure size 576x576 with 9 Axes>"
      ]
     },
     "metadata": {
      "needs_background": "light"
     },
     "output_type": "display_data"
    }
   ],
   "source": [
    "train1_x.loc[:, 'em_last_open':'total_rev'].hist(figsize=(8,8),bins=20)"
   ]
  },
  {
   "cell_type": "code",
   "execution_count": 16,
   "metadata": {},
   "outputs": [],
   "source": [
    "#使用对数函数对连续变量进行变换\n",
    "from sklearn.preprocessing import FunctionTransformer\n",
    "#trainsform train\n",
    "ft = FunctionTransformer(np.log1p)\n",
    "train_tf = ft.fit_transform(train1_x[x_continuous_cols])\n",
    "train_tf = pd.DataFrame(train_tf,columns=x_continuous_cols,index=train1_x.index)\n",
    "train = train_tf.join(train1_x[x_discere_cols]).join(train1_y)\n",
    "#trainsform test \n",
    "test1_tf = ft.transform(test1_x[x_continuous_cols])\n",
    "test1_tf = pd.DataFrame(test1_tf,columns=x_continuous_cols,index=test1_x.index)\n",
    "test12 = test1_tf.join(test1_x[x_discere_cols]).join(test1_y)"
   ]
  },
  {
   "cell_type": "code",
   "execution_count": 17,
   "metadata": {},
   "outputs": [],
   "source": [
    "#预测集转换\n",
    "test_tf = ft.transform(test[x_continuous_cols])\n",
    "test_tf = pd.DataFrame(test_tf,columns=x_continuous_cols)\n",
    "test2 = test_tf.join(test[x_discere_cols])"
   ]
  },
  {
   "cell_type": "code",
   "execution_count": 18,
   "metadata": {},
   "outputs": [
    {
     "data": {
      "text/html": [
       "<div>\n",
       "<style scoped>\n",
       "    .dataframe tbody tr th:only-of-type {\n",
       "        vertical-align: middle;\n",
       "    }\n",
       "\n",
       "    .dataframe tbody tr th {\n",
       "        vertical-align: top;\n",
       "    }\n",
       "\n",
       "    .dataframe thead th {\n",
       "        text-align: right;\n",
       "    }\n",
       "</style>\n",
       "<table border=\"1\" class=\"dataframe\">\n",
       "  <thead>\n",
       "    <tr style=\"text-align: right;\">\n",
       "      <th></th>\n",
       "      <th>em_last_open</th>\n",
       "      <th>order_num</th>\n",
       "      <th>web_month</th>\n",
       "      <th>em_address_num</th>\n",
       "      <th>rev_persys</th>\n",
       "      <th>month_gap</th>\n",
       "      <th>total_rev</th>\n",
       "      <th>last_order_dpa</th>\n",
       "    </tr>\n",
       "  </thead>\n",
       "  <tbody>\n",
       "    <tr>\n",
       "      <th>48334</th>\n",
       "      <td>3.322881</td>\n",
       "      <td>1.098612</td>\n",
       "      <td>2.549716</td>\n",
       "      <td>0.693147</td>\n",
       "      <td>0.000000</td>\n",
       "      <td>3.746083</td>\n",
       "      <td>7.319746</td>\n",
       "      <td>0</td>\n",
       "    </tr>\n",
       "    <tr>\n",
       "      <th>11038</th>\n",
       "      <td>2.588905</td>\n",
       "      <td>0.693147</td>\n",
       "      <td>1.730862</td>\n",
       "      <td>0.000000</td>\n",
       "      <td>6.539528</td>\n",
       "      <td>3.022782</td>\n",
       "      <td>6.539528</td>\n",
       "      <td>0</td>\n",
       "    </tr>\n",
       "    <tr>\n",
       "      <th>57698</th>\n",
       "      <td>1.715658</td>\n",
       "      <td>1.098612</td>\n",
       "      <td>1.359812</td>\n",
       "      <td>1.945910</td>\n",
       "      <td>6.787365</td>\n",
       "      <td>4.672527</td>\n",
       "      <td>8.172813</td>\n",
       "      <td>0</td>\n",
       "    </tr>\n",
       "    <tr>\n",
       "      <th>58434</th>\n",
       "      <td>4.032452</td>\n",
       "      <td>0.693147</td>\n",
       "      <td>1.901679</td>\n",
       "      <td>1.386294</td>\n",
       "      <td>7.524100</td>\n",
       "      <td>4.616397</td>\n",
       "      <td>7.524100</td>\n",
       "      <td>0</td>\n",
       "    </tr>\n",
       "    <tr>\n",
       "      <th>55070</th>\n",
       "      <td>3.222763</td>\n",
       "      <td>1.098612</td>\n",
       "      <td>0.179430</td>\n",
       "      <td>1.609438</td>\n",
       "      <td>7.669430</td>\n",
       "      <td>4.320923</td>\n",
       "      <td>7.669430</td>\n",
       "      <td>0</td>\n",
       "    </tr>\n",
       "  </tbody>\n",
       "</table>\n",
       "</div>"
      ],
      "text/plain": [
       "       em_last_open  order_num  web_month  em_address_num  rev_persys  \\\n",
       "48334      3.322881   1.098612   2.549716        0.693147    0.000000   \n",
       "11038      2.588905   0.693147   1.730862        0.000000    6.539528   \n",
       "57698      1.715658   1.098612   1.359812        1.945910    6.787365   \n",
       "58434      4.032452   0.693147   1.901679        1.386294    7.524100   \n",
       "55070      3.222763   1.098612   0.179430        1.609438    7.669430   \n",
       "\n",
       "       month_gap  total_rev  last_order_dpa  \n",
       "48334   3.746083   7.319746               0  \n",
       "11038   3.022782   6.539528               0  \n",
       "57698   4.672527   8.172813               0  \n",
       "58434   4.616397   7.524100               0  \n",
       "55070   4.320923   7.669430               0  "
      ]
     },
     "execution_count": 18,
     "metadata": {},
     "output_type": "execute_result"
    }
   ],
   "source": [
    "train2[x_cols].head()"
   ]
  },
  {
   "cell_type": "code",
   "execution_count": 19,
   "metadata": {},
   "outputs": [
    {
     "data": {
      "text/plain": [
       "0.7467485686118379"
      ]
     },
     "execution_count": 19,
     "metadata": {},
     "output_type": "execute_result"
    }
   ],
   "source": [
    "model2,score2 = rfecv(train2[x_cols],train2[y_col],test12[x_cols],test12[y_col])\n",
    "score2"
   ]
  },
  {
   "cell_type": "code",
   "execution_count": 20,
   "metadata": {},
   "outputs": [
    {
     "data": {
      "text/plain": [
       "array([[<matplotlib.axes._subplots.AxesSubplot object at 0x0000026D6D2FD6A0>,\n",
       "        <matplotlib.axes._subplots.AxesSubplot object at 0x0000026D6ECBC438>,\n",
       "        <matplotlib.axes._subplots.AxesSubplot object at 0x0000026D6ECD8AC8>],\n",
       "       [<matplotlib.axes._subplots.AxesSubplot object at 0x0000026D6D36B198>,\n",
       "        <matplotlib.axes._subplots.AxesSubplot object at 0x0000026D6D391828>,\n",
       "        <matplotlib.axes._subplots.AxesSubplot object at 0x0000026D6D391860>],\n",
       "       [<matplotlib.axes._subplots.AxesSubplot object at 0x0000026D6D3EC588>,\n",
       "        <matplotlib.axes._subplots.AxesSubplot object at 0x0000026D6D413C18>,\n",
       "        <matplotlib.axes._subplots.AxesSubplot object at 0x0000026D6D4462E8>]],\n",
       "      dtype=object)"
      ]
     },
     "execution_count": 20,
     "metadata": {},
     "output_type": "execute_result"
    },
    {
     "data": {
      "image/png": "[encoded data removed]",
      "text/plain": [
       "<Figure size 576x576 with 9 Axes>"
      ]
     },
     "metadata": {
      "needs_background": "light"
     },
     "output_type": "display_data"
    }
   ],
   "source": [
    "train2.loc[:,'em_last_open':'total_rev'].hist(figsize=(8,8),bins=20,color='r')"
   ]
  },
  {
   "cell_type": "code",
   "execution_count": 21,
   "metadata": {},
   "outputs": [],
   "source": [
    "#标准化\n",
    "from sklearn.preprocessing import StandardScaler\n",
    "ss = StandardScaler()\n",
    "#std train\n",
    "train2_s = ss.fit_transform(train2[x_continuous_cols])\n",
    "train2_s = pd.DataFrame(train2_s,columns=x_continuous_cols,index=train2.index)\n",
    "train3 = train2_s.join(train2[x_discere_cols]).join(train2[y_col])\n",
    "\n",
    "#std test\n",
    "test12_s = ss.transform(test12[x_continuous_cols])\n",
    "test12_s = pd.DataFrame(test12_s,columns=x_continuous_cols,index=test12.index)\n",
    "test13 = test12_s.join(test12[x_discere_cols]).join(test12[y_col])"
   ]
  },
  {
   "cell_type": "code",
   "execution_count": 48,
   "metadata": {},
   "outputs": [],
   "source": [
    "#预测及标准化\n",
    "test_s = ss.fit_transform(test2[x_continuous_cols])\n",
    "test_s = pd.DataFrame(test_s,columns=x_continuous_cols,index=test2.index)\n",
    "test3 = test_s.join(test2[x_discere_cols])"
   ]
  },
  {
   "cell_type": "code",
   "execution_count": 22,
   "metadata": {},
   "outputs": [
    {
     "data": {
      "text/plain": [
       "0.7464831456413756"
      ]
     },
     "execution_count": 22,
     "metadata": {},
     "output_type": "execute_result"
    }
   ],
   "source": [
    "model3,score3 = rfecv(train3[x_cols],train3[y_col],test13[x_cols],test13[y_col])\n",
    "score3"
   ]
  },
  {
   "cell_type": "code",
   "execution_count": 26,
   "metadata": {},
   "outputs": [
    {
     "data": {
      "image/png": "[encoded data removed]",
      "text/plain": [
       "<Figure size 504x1080 with 7 Axes>"
      ]
     },
     "metadata": {
      "needs_background": "light"
     },
     "output_type": "display_data"
    }
   ],
   "source": [
    "#离散化\n",
    "dv_ratio = {}\n",
    "\n",
    "for col in x_continuous_cols:\n",
    "    bins = train3[col].quantile(np.arange(0,1.05,0.05))\n",
    "    bins = sorted(list(set(bins)))#集合set去重 \n",
    "    cut = pd.cut(train3[col],bins)\n",
    "    recall = train3[y_col].groupby(cut).mean()\n",
    "    dv_ratio[col] = recall\n",
    "    \n",
    "n_cols = len(x_continuous_cols)\n",
    "plt.figure(figsize=[7,15])\n",
    "for i, col in zip(range(1, n_cols+1), x_continuous_cols):\n",
    "    plt.subplot(n_cols * 100 + 10 + i)\n",
    "    dv_ratio[col].plot(label=col, legend=True)\n",
    "plt.show()"
   ]
  },
  {
   "cell_type": "code",
   "execution_count": 38,
   "metadata": {},
   "outputs": [
    {
     "name": "stderr",
     "output_type": "stream",
     "text": [
      "C:\\Users\\acerpc\\Desktop\\data_folder\\woe.py:150: FutureWarning: using a dict on a Series for aggregation\n",
      "is deprecated and will be removed in a future version\n",
      "  stat = self.df.groupby(\"labels\")['Y'].agg({'mean': np.mean, 'bad': np.count_nonzero, 'obs': np.size}).copy()\n"
     ]
    }
   ],
   "source": [
    "#离散化后进行woe打分或哑变量变换\n",
    "import os\n",
    "os.chdir('C:/Users/acerpc/Desktop/data_folder')\n",
    "from woe import WoE\n",
    "woe_dic = {}\n",
    "train4 = train3.copy();test14=test13.copy()\n",
    "for col in x_cols:\n",
    "    if col in x_continuous_cols:\n",
    "        bins = train4[col].quantile(np.arange(0,1.05,0.05))\n",
    "        bins = sorted(list(set(bins)))\n",
    "        woe = WoE(v_type='c',bins=bins,t_type='b')#t_type:Y变量是二分类变量，bionari\n",
    "        woe.fit(train4[col],train4[y_col])\n",
    "    else:\n",
    "        woe = WoE(v_type='d',t_type='b')\n",
    "        woe.fit(train4[col],train4[y_col])\n",
    "    woe_dic[col] = woe#往字典传入模型"
   ]
  },
  {
   "cell_type": "code",
   "execution_count": 39,
   "metadata": {},
   "outputs": [],
   "source": [
    "for col in x_cols:\n",
    "    train4[col] = woe_dic[col].transform(train4[col])['woe']\n",
    "    test14[col] = woe_dic[col].transform(test14[col])['woe']\n",
    "    "
   ]
  },
  {
   "cell_type": "code",
   "execution_count": 40,
   "metadata": {},
   "outputs": [
    {
     "name": "stdout",
     "output_type": "stream",
     "text": [
      "em_last_open 0.14524458733070134\n",
      "order_num 0.6510824283635921\n",
      "web_month 0.5508261652004263\n",
      "em_address_num 0.21755510690357052\n",
      "rev_persys 0.1996809956854549\n",
      "month_gap 0.27182100825561184\n",
      "total_rev 0.3301261272025927\n",
      "last_order_dpa 0.16981925209137255\n"
     ]
    }
   ],
   "source": [
    "for k,v in woe_dic.items():\n",
    "    print(k,v.iv)"
   ]
  },
  {
   "cell_type": "code",
   "execution_count": 41,
   "metadata": {},
   "outputs": [
    {
     "data": {
      "text/plain": [
       "0.7492132104804156"
      ]
     },
     "execution_count": 41,
     "metadata": {},
     "output_type": "execute_result"
    }
   ],
   "source": [
    "model4,score4 = rfecv(train4[x_cols],train4[y_col],test14[x_cols],test14[y_col])\n",
    "score4"
   ]
  },
  {
   "cell_type": "code",
   "execution_count": 42,
   "metadata": {},
   "outputs": [
    {
     "data": {
      "text/plain": [
       "array([1, 1, 1, 1, 1, 1, 1, 1])"
      ]
     },
     "execution_count": 42,
     "metadata": {},
     "output_type": "execute_result"
    }
   ],
   "source": [
    "model4.ranking_"
   ]
  },
  {
   "cell_type": "code",
   "execution_count": 44,
   "metadata": {},
   "outputs": [
    {
     "data": {
      "text/plain": [
       "{1: array([[0.71524267, 0.74317492, 0.74544995, 0.74519717, 0.74557634,\n",
       "         0.74557634, 0.74557634, 0.74557634, 0.74557634, 0.74557634],\n",
       "        [0.71625379, 0.74115268, 0.7434277 , 0.74380688, 0.74494439,\n",
       "         0.74507078, 0.74507078, 0.74507078, 0.74507078, 0.74507078],\n",
       "        [0.71284125, 0.7434277 , 0.74646107, 0.74532356, 0.74633468,\n",
       "         0.74633468, 0.74633468, 0.74633468, 0.74633468, 0.74633468],\n",
       "        [0.71498989, 0.74140546, 0.74544995, 0.74582912, 0.74658746,\n",
       "         0.74696663, 0.74696663, 0.74684024, 0.74696663, 0.74684024],\n",
       "        [0.71520667, 0.74162558, 0.74263683, 0.74453293, 0.74453293,\n",
       "         0.74465934, 0.74465934, 0.74465934, 0.74465934, 0.74465934]])}"
      ]
     },
     "execution_count": 44,
     "metadata": {},
     "output_type": "execute_result"
    }
   ],
   "source": [
    "#通过正则化提升模型稳定性\n",
    "from sklearn.linear_model import LogisticRegressionCV\n",
    "\n",
    "lcv = LogisticRegressionCV(Cs=10,cv=5,n_jobs=-1,scoring='accuracy')\n",
    "lcv.fit(train4[x_cols],train4[y_col])\n",
    "lcv.scores_"
   ]
  },
  {
   "cell_type": "code",
   "execution_count": 46,
   "metadata": {},
   "outputs": [
    {
     "name": "stdout",
     "output_type": "stream",
     "text": [
      "train4 0.7454687934477616\n",
      "test14 0.7492511280476245\n"
     ]
    }
   ],
   "source": [
    "#预测\n",
    "from sklearn.metrics import accuracy_score\n",
    "train4_pred = lcv.predict(train4[x_cols])\n",
    "test14_pred = lcv.predict(test14[x_cols])\n",
    "print('train4',accuracy_score(train4[y_col],train4_pred))\n",
    "print('test14',accuracy_score(test14[y_col],test14_pred))"
   ]
  },
  {
   "cell_type": "code",
   "execution_count": 54,
   "metadata": {},
   "outputs": [],
   "source": [
    "test_pred = pd.Series(lcv.predict(test3))\n",
    "test_pred.head()\n",
    "test_pred.to_csv('result.csv')"
   ]
  }
 ],
 "metadata": {
  "kernelspec": {
   "display_name": "Python 3",
   "language": "python",
   "name": "python3"
  },
  "language_info": {
   "codemirror_mode": {
    "name": "ipython",
    "version": 3
   },
   "file_extension": ".py",
   "mimetype": "text/x-python",
   "name": "python",
   "nbconvert_exporter": "python",
   "pygments_lexer": "ipython3",
   "version": "3.6.8"
  }
 },
 "nbformat": 4,
 "nbformat_minor": 2
}
