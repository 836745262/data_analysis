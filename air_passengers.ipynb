{
 "cells": [
  {
   "cell_type": "code",
   "execution_count": 1,
   "metadata": {},
   "outputs": [],
   "source": [
    "import numpy as np\n",
    "import pandas as pd\n",
    "import matplotlib.pyplot as plt\n",
    "%matplotlib inline"
   ]
  },
  {
   "cell_type": "markdown",
   "metadata": {},
   "source": [
    "1、数据集中的变量较多，如果全部进入模型会导致模型解释困难。因此，一方面我们对于有相关性的变量进行降维，减少变量数目；另一方面，基于业务理解，我们预先将变量进行分组，使得同一组的变量能尽量解释业务的一个方面。比如本例中将变量分成两组，分别是家庭基本情况和用户爱好，通过对每组变量分别进行聚类，获取用户的侧写，再将两个聚类结果进行综合，以获得较完整的用户画像。\n",
    "\n",
    "2、本例中数据类型复杂，包含了连续变量、无序分类和有序分类变量。由于K-means仅用于连续型变量聚类，因此需要对变量进行预处理。对于有序分类变量，如果分类水平较多可以视作连续变量处理，否则视作无序分类变量一样处理，再进入模型；无序分类变量数目较少时，可以使用其哑变量编码进入模型。本例中由于有较多的二分类变量，又集中在用户爱好这一方面，因此我们将interested_reading这一有序分类变量二值化，再与其他几个二分类变量一起进行汇总，得到用户的“爱好广度”，使用“爱好广度”与其他连续型的爱好类变量进行聚类。\n",
    "\n",
    "3、离散变量如HH_has_children一般不参与聚类，因为其本身就可以视作是簇的标签；如果为了后期解释模型时简化处理，在离散变量不多的情况之下，也可以做哑变量变换后进入模型。"
   ]
  },
  {
   "cell_type": "code",
   "execution_count": 2,
   "metadata": {},
   "outputs": [
    {
     "data": {
      "text/html": [
       "<div>\n",
       "<style scoped>\n",
       "    .dataframe tbody tr th:only-of-type {\n",
       "        vertical-align: middle;\n",
       "    }\n",
       "\n",
       "    .dataframe tbody tr th {\n",
       "        vertical-align: top;\n",
       "    }\n",
       "\n",
       "    .dataframe thead th {\n",
       "        text-align: right;\n",
       "    }\n",
       "</style>\n",
       "<table border=\"1\" class=\"dataframe\">\n",
       "  <thead>\n",
       "    <tr style=\"text-align: right;\">\n",
       "      <th></th>\n",
       "      <th>interested_travel</th>\n",
       "      <th>computer_owner</th>\n",
       "      <th>age</th>\n",
       "      <th>home_value</th>\n",
       "      <th>loan_ratio</th>\n",
       "      <th>risk_score</th>\n",
       "      <th>marital</th>\n",
       "      <th>interested_sport</th>\n",
       "      <th>HH_grandparent</th>\n",
       "      <th>HH_dieting</th>\n",
       "      <th>HH_head_age</th>\n",
       "      <th>auto_member</th>\n",
       "      <th>interested_golf</th>\n",
       "      <th>interested_gambling</th>\n",
       "      <th>HH_has_children</th>\n",
       "      <th>HH_adults_num</th>\n",
       "      <th>interested_reading</th>\n",
       "    </tr>\n",
       "  </thead>\n",
       "  <tbody>\n",
       "    <tr>\n",
       "      <th>0</th>\n",
       "      <td>NaN</td>\n",
       "      <td>NaN</td>\n",
       "      <td>64</td>\n",
       "      <td>124035</td>\n",
       "      <td>73</td>\n",
       "      <td>932</td>\n",
       "      <td>3</td>\n",
       "      <td>312</td>\n",
       "      <td>420</td>\n",
       "      <td>149</td>\n",
       "      <td>96</td>\n",
       "      <td>626</td>\n",
       "      <td>0</td>\n",
       "      <td>0</td>\n",
       "      <td>NaN</td>\n",
       "      <td>NaN</td>\n",
       "      <td>0</td>\n",
       "    </tr>\n",
       "    <tr>\n",
       "      <th>1</th>\n",
       "      <td>0.0</td>\n",
       "      <td>1.0</td>\n",
       "      <td>69</td>\n",
       "      <td>138574</td>\n",
       "      <td>73</td>\n",
       "      <td>1000</td>\n",
       "      <td>7</td>\n",
       "      <td>241</td>\n",
       "      <td>711</td>\n",
       "      <td>263</td>\n",
       "      <td>68</td>\n",
       "      <td>658</td>\n",
       "      <td>0</td>\n",
       "      <td>0</td>\n",
       "      <td>N</td>\n",
       "      <td>5.0</td>\n",
       "      <td>3</td>\n",
       "    </tr>\n",
       "    <tr>\n",
       "      <th>2</th>\n",
       "      <td>0.0</td>\n",
       "      <td>0.0</td>\n",
       "      <td>57</td>\n",
       "      <td>148136</td>\n",
       "      <td>77</td>\n",
       "      <td>688</td>\n",
       "      <td>1</td>\n",
       "      <td>367</td>\n",
       "      <td>240</td>\n",
       "      <td>240</td>\n",
       "      <td>56</td>\n",
       "      <td>354</td>\n",
       "      <td>0</td>\n",
       "      <td>1</td>\n",
       "      <td>N</td>\n",
       "      <td>2.0</td>\n",
       "      <td>1</td>\n",
       "    </tr>\n",
       "    <tr>\n",
       "      <th>3</th>\n",
       "      <td>1.0</td>\n",
       "      <td>1.0</td>\n",
       "      <td>80</td>\n",
       "      <td>162532</td>\n",
       "      <td>74</td>\n",
       "      <td>932</td>\n",
       "      <td>7</td>\n",
       "      <td>291</td>\n",
       "      <td>832</td>\n",
       "      <td>197</td>\n",
       "      <td>86</td>\n",
       "      <td>462</td>\n",
       "      <td>1</td>\n",
       "      <td>1</td>\n",
       "      <td>Y</td>\n",
       "      <td>2.0</td>\n",
       "      <td>3</td>\n",
       "    </tr>\n",
       "    <tr>\n",
       "      <th>4</th>\n",
       "      <td>1.0</td>\n",
       "      <td>1.0</td>\n",
       "      <td>48</td>\n",
       "      <td>133580</td>\n",
       "      <td>77</td>\n",
       "      <td>987</td>\n",
       "      <td>10</td>\n",
       "      <td>137</td>\n",
       "      <td>121</td>\n",
       "      <td>209</td>\n",
       "      <td>42</td>\n",
       "      <td>423</td>\n",
       "      <td>0</td>\n",
       "      <td>1</td>\n",
       "      <td>Y</td>\n",
       "      <td>3.0</td>\n",
       "      <td>3</td>\n",
       "    </tr>\n",
       "  </tbody>\n",
       "</table>\n",
       "</div>"
      ],
      "text/plain": [
       "   interested_travel  computer_owner  age  home_value  loan_ratio  risk_score  \\\n",
       "0                NaN             NaN   64      124035          73         932   \n",
       "1                0.0             1.0   69      138574          73        1000   \n",
       "2                0.0             0.0   57      148136          77         688   \n",
       "3                1.0             1.0   80      162532          74         932   \n",
       "4                1.0             1.0   48      133580          77         987   \n",
       "\n",
       "   marital  interested_sport  HH_grandparent  HH_dieting  HH_head_age  \\\n",
       "0        3               312             420         149           96   \n",
       "1        7               241             711         263           68   \n",
       "2        1               367             240         240           56   \n",
       "3        7               291             832         197           86   \n",
       "4       10               137             121         209           42   \n",
       "\n",
       "   auto_member  interested_golf  interested_gambling HH_has_children  \\\n",
       "0          626                0                    0             NaN   \n",
       "1          658                0                    0               N   \n",
       "2          354                0                    1               N   \n",
       "3          462                1                    1               Y   \n",
       "4          423                0                    1               Y   \n",
       "\n",
       "   HH_adults_num interested_reading  \n",
       "0            NaN                  0  \n",
       "1            5.0                  3  \n",
       "2            2.0                  1  \n",
       "3            2.0                  3  \n",
       "4            3.0                  3  "
      ]
     },
     "execution_count": 2,
     "metadata": {},
     "output_type": "execute_result"
    }
   ],
   "source": [
    "data_travel = pd.read_csv('C:/Users/acerpc/Desktop/data_folder/data_travel.csv')\n",
    "data_travel.head()"
   ]
  },
  {
   "cell_type": "code",
   "execution_count": 3,
   "metadata": {},
   "outputs": [
    {
     "data": {
      "text/html": [
       "<div>\n",
       "<style scoped>\n",
       "    .dataframe tbody tr th:only-of-type {\n",
       "        vertical-align: middle;\n",
       "    }\n",
       "\n",
       "    .dataframe tbody tr th {\n",
       "        vertical-align: top;\n",
       "    }\n",
       "\n",
       "    .dataframe thead th {\n",
       "        text-align: right;\n",
       "    }\n",
       "</style>\n",
       "<table border=\"1\" class=\"dataframe\">\n",
       "  <thead>\n",
       "    <tr style=\"text-align: right;\">\n",
       "      <th></th>\n",
       "      <th>interested_travel</th>\n",
       "      <th>computer_owner</th>\n",
       "      <th>age</th>\n",
       "      <th>home_value</th>\n",
       "      <th>loan_ratio</th>\n",
       "      <th>risk_score</th>\n",
       "      <th>marital</th>\n",
       "      <th>interested_sport</th>\n",
       "      <th>HH_grandparent</th>\n",
       "      <th>HH_dieting</th>\n",
       "      <th>HH_head_age</th>\n",
       "      <th>auto_member</th>\n",
       "      <th>interested_golf</th>\n",
       "      <th>interested_gambling</th>\n",
       "      <th>HH_has_children</th>\n",
       "      <th>HH_adults_num</th>\n",
       "      <th>interested_reading</th>\n",
       "    </tr>\n",
       "  </thead>\n",
       "  <tbody>\n",
       "    <tr>\n",
       "      <th>count</th>\n",
       "      <td>149788.000000</td>\n",
       "      <td>149788.000000</td>\n",
       "      <td>167177.000000</td>\n",
       "      <td>167177.000000</td>\n",
       "      <td>167177.000000</td>\n",
       "      <td>167177.000000</td>\n",
       "      <td>167177.000000</td>\n",
       "      <td>167177.000000</td>\n",
       "      <td>167177.000000</td>\n",
       "      <td>167177.000000</td>\n",
       "      <td>167177.000000</td>\n",
       "      <td>167177.000000</td>\n",
       "      <td>167177.000000</td>\n",
       "      <td>167177.000000</td>\n",
       "      <td>159899</td>\n",
       "      <td>145906.000000</td>\n",
       "      <td>167177</td>\n",
       "    </tr>\n",
       "    <tr>\n",
       "      <th>unique</th>\n",
       "      <td>NaN</td>\n",
       "      <td>NaN</td>\n",
       "      <td>NaN</td>\n",
       "      <td>NaN</td>\n",
       "      <td>NaN</td>\n",
       "      <td>NaN</td>\n",
       "      <td>NaN</td>\n",
       "      <td>NaN</td>\n",
       "      <td>NaN</td>\n",
       "      <td>NaN</td>\n",
       "      <td>NaN</td>\n",
       "      <td>NaN</td>\n",
       "      <td>NaN</td>\n",
       "      <td>NaN</td>\n",
       "      <td>2</td>\n",
       "      <td>NaN</td>\n",
       "      <td>5</td>\n",
       "    </tr>\n",
       "    <tr>\n",
       "      <th>top</th>\n",
       "      <td>NaN</td>\n",
       "      <td>NaN</td>\n",
       "      <td>NaN</td>\n",
       "      <td>NaN</td>\n",
       "      <td>NaN</td>\n",
       "      <td>NaN</td>\n",
       "      <td>NaN</td>\n",
       "      <td>NaN</td>\n",
       "      <td>NaN</td>\n",
       "      <td>NaN</td>\n",
       "      <td>NaN</td>\n",
       "      <td>NaN</td>\n",
       "      <td>NaN</td>\n",
       "      <td>NaN</td>\n",
       "      <td>N</td>\n",
       "      <td>NaN</td>\n",
       "      <td>3</td>\n",
       "    </tr>\n",
       "    <tr>\n",
       "      <th>freq</th>\n",
       "      <td>NaN</td>\n",
       "      <td>NaN</td>\n",
       "      <td>NaN</td>\n",
       "      <td>NaN</td>\n",
       "      <td>NaN</td>\n",
       "      <td>NaN</td>\n",
       "      <td>NaN</td>\n",
       "      <td>NaN</td>\n",
       "      <td>NaN</td>\n",
       "      <td>NaN</td>\n",
       "      <td>NaN</td>\n",
       "      <td>NaN</td>\n",
       "      <td>NaN</td>\n",
       "      <td>NaN</td>\n",
       "      <td>111462</td>\n",
       "      <td>NaN</td>\n",
       "      <td>65096</td>\n",
       "    </tr>\n",
       "    <tr>\n",
       "      <th>mean</th>\n",
       "      <td>0.427745</td>\n",
       "      <td>0.856571</td>\n",
       "      <td>59.507079</td>\n",
       "      <td>207621.314798</td>\n",
       "      <td>66.762707</td>\n",
       "      <td>817.031751</td>\n",
       "      <td>6.884015</td>\n",
       "      <td>259.431776</td>\n",
       "      <td>377.072498</td>\n",
       "      <td>204.593341</td>\n",
       "      <td>59.368023</td>\n",
       "      <td>486.861273</td>\n",
       "      <td>0.373012</td>\n",
       "      <td>0.357842</td>\n",
       "      <td>NaN</td>\n",
       "      <td>2.770832</td>\n",
       "      <td>NaN</td>\n",
       "    </tr>\n",
       "    <tr>\n",
       "      <th>std</th>\n",
       "      <td>0.494753</td>\n",
       "      <td>0.350511</td>\n",
       "      <td>14.311733</td>\n",
       "      <td>107822.501900</td>\n",
       "      <td>9.751835</td>\n",
       "      <td>165.490295</td>\n",
       "      <td>2.610552</td>\n",
       "      <td>78.867456</td>\n",
       "      <td>248.045395</td>\n",
       "      <td>78.971038</td>\n",
       "      <td>16.712912</td>\n",
       "      <td>151.167457</td>\n",
       "      <td>0.483607</td>\n",
       "      <td>0.479367</td>\n",
       "      <td>NaN</td>\n",
       "      <td>1.285417</td>\n",
       "      <td>NaN</td>\n",
       "    </tr>\n",
       "    <tr>\n",
       "      <th>min</th>\n",
       "      <td>0.000000</td>\n",
       "      <td>0.000000</td>\n",
       "      <td>18.000000</td>\n",
       "      <td>48910.000000</td>\n",
       "      <td>0.000000</td>\n",
       "      <td>1.000000</td>\n",
       "      <td>1.000000</td>\n",
       "      <td>60.000000</td>\n",
       "      <td>0.000000</td>\n",
       "      <td>47.000000</td>\n",
       "      <td>18.000000</td>\n",
       "      <td>49.000000</td>\n",
       "      <td>0.000000</td>\n",
       "      <td>0.000000</td>\n",
       "      <td>NaN</td>\n",
       "      <td>0.000000</td>\n",
       "      <td>NaN</td>\n",
       "    </tr>\n",
       "    <tr>\n",
       "      <th>25%</th>\n",
       "      <td>0.000000</td>\n",
       "      <td>1.000000</td>\n",
       "      <td>49.000000</td>\n",
       "      <td>135595.000000</td>\n",
       "      <td>63.000000</td>\n",
       "      <td>748.000000</td>\n",
       "      <td>5.000000</td>\n",
       "      <td>204.000000</td>\n",
       "      <td>182.000000</td>\n",
       "      <td>144.000000</td>\n",
       "      <td>48.000000</td>\n",
       "      <td>377.000000</td>\n",
       "      <td>0.000000</td>\n",
       "      <td>0.000000</td>\n",
       "      <td>NaN</td>\n",
       "      <td>2.000000</td>\n",
       "      <td>NaN</td>\n",
       "    </tr>\n",
       "    <tr>\n",
       "      <th>50%</th>\n",
       "      <td>0.000000</td>\n",
       "      <td>1.000000</td>\n",
       "      <td>59.000000</td>\n",
       "      <td>182106.000000</td>\n",
       "      <td>69.000000</td>\n",
       "      <td>844.000000</td>\n",
       "      <td>7.000000</td>\n",
       "      <td>251.000000</td>\n",
       "      <td>351.000000</td>\n",
       "      <td>185.000000</td>\n",
       "      <td>60.000000</td>\n",
       "      <td>492.000000</td>\n",
       "      <td>0.000000</td>\n",
       "      <td>0.000000</td>\n",
       "      <td>NaN</td>\n",
       "      <td>2.000000</td>\n",
       "      <td>NaN</td>\n",
       "    </tr>\n",
       "    <tr>\n",
       "      <th>75%</th>\n",
       "      <td>1.000000</td>\n",
       "      <td>1.000000</td>\n",
       "      <td>70.000000</td>\n",
       "      <td>248277.000000</td>\n",
       "      <td>73.000000</td>\n",
       "      <td>945.000000</td>\n",
       "      <td>9.000000</td>\n",
       "      <td>306.000000</td>\n",
       "      <td>528.000000</td>\n",
       "      <td>252.000000</td>\n",
       "      <td>71.000000</td>\n",
       "      <td>600.000000</td>\n",
       "      <td>1.000000</td>\n",
       "      <td>1.000000</td>\n",
       "      <td>NaN</td>\n",
       "      <td>4.000000</td>\n",
       "      <td>NaN</td>\n",
       "    </tr>\n",
       "    <tr>\n",
       "      <th>max</th>\n",
       "      <td>1.000000</td>\n",
       "      <td>1.000000</td>\n",
       "      <td>99.000000</td>\n",
       "      <td>1000000.000000</td>\n",
       "      <td>102.000000</td>\n",
       "      <td>1000.000000</td>\n",
       "      <td>10.000000</td>\n",
       "      <td>920.000000</td>\n",
       "      <td>980.000000</td>\n",
       "      <td>633.000000</td>\n",
       "      <td>99.000000</td>\n",
       "      <td>878.000000</td>\n",
       "      <td>1.000000</td>\n",
       "      <td>1.000000</td>\n",
       "      <td>NaN</td>\n",
       "      <td>7.000000</td>\n",
       "      <td>NaN</td>\n",
       "    </tr>\n",
       "  </tbody>\n",
       "</table>\n",
       "</div>"
      ],
      "text/plain": [
       "        interested_travel  computer_owner            age      home_value  \\\n",
       "count       149788.000000   149788.000000  167177.000000   167177.000000   \n",
       "unique                NaN             NaN            NaN             NaN   \n",
       "top                   NaN             NaN            NaN             NaN   \n",
       "freq                  NaN             NaN            NaN             NaN   \n",
       "mean             0.427745        0.856571      59.507079   207621.314798   \n",
       "std              0.494753        0.350511      14.311733   107822.501900   \n",
       "min              0.000000        0.000000      18.000000    48910.000000   \n",
       "25%              0.000000        1.000000      49.000000   135595.000000   \n",
       "50%              0.000000        1.000000      59.000000   182106.000000   \n",
       "75%              1.000000        1.000000      70.000000   248277.000000   \n",
       "max              1.000000        1.000000      99.000000  1000000.000000   \n",
       "\n",
       "           loan_ratio     risk_score        marital  interested_sport  \\\n",
       "count   167177.000000  167177.000000  167177.000000     167177.000000   \n",
       "unique            NaN            NaN            NaN               NaN   \n",
       "top               NaN            NaN            NaN               NaN   \n",
       "freq              NaN            NaN            NaN               NaN   \n",
       "mean        66.762707     817.031751       6.884015        259.431776   \n",
       "std          9.751835     165.490295       2.610552         78.867456   \n",
       "min          0.000000       1.000000       1.000000         60.000000   \n",
       "25%         63.000000     748.000000       5.000000        204.000000   \n",
       "50%         69.000000     844.000000       7.000000        251.000000   \n",
       "75%         73.000000     945.000000       9.000000        306.000000   \n",
       "max        102.000000    1000.000000      10.000000        920.000000   \n",
       "\n",
       "        HH_grandparent     HH_dieting    HH_head_age    auto_member  \\\n",
       "count    167177.000000  167177.000000  167177.000000  167177.000000   \n",
       "unique             NaN            NaN            NaN            NaN   \n",
       "top                NaN            NaN            NaN            NaN   \n",
       "freq               NaN            NaN            NaN            NaN   \n",
       "mean        377.072498     204.593341      59.368023     486.861273   \n",
       "std         248.045395      78.971038      16.712912     151.167457   \n",
       "min           0.000000      47.000000      18.000000      49.000000   \n",
       "25%         182.000000     144.000000      48.000000     377.000000   \n",
       "50%         351.000000     185.000000      60.000000     492.000000   \n",
       "75%         528.000000     252.000000      71.000000     600.000000   \n",
       "max         980.000000     633.000000      99.000000     878.000000   \n",
       "\n",
       "        interested_golf  interested_gambling HH_has_children  HH_adults_num  \\\n",
       "count     167177.000000        167177.000000          159899  145906.000000   \n",
       "unique              NaN                  NaN               2            NaN   \n",
       "top                 NaN                  NaN               N            NaN   \n",
       "freq                NaN                  NaN          111462            NaN   \n",
       "mean           0.373012             0.357842             NaN       2.770832   \n",
       "std            0.483607             0.479367             NaN       1.285417   \n",
       "min            0.000000             0.000000             NaN       0.000000   \n",
       "25%            0.000000             0.000000             NaN       2.000000   \n",
       "50%            0.000000             0.000000             NaN       2.000000   \n",
       "75%            1.000000             1.000000             NaN       4.000000   \n",
       "max            1.000000             1.000000             NaN       7.000000   \n",
       "\n",
       "       interested_reading  \n",
       "count              167177  \n",
       "unique                  5  \n",
       "top                     3  \n",
       "freq                65096  \n",
       "mean                  NaN  \n",
       "std                   NaN  \n",
       "min                   NaN  \n",
       "25%                   NaN  \n",
       "50%                   NaN  \n",
       "75%                   NaN  \n",
       "max                   NaN  "
      ]
     },
     "execution_count": 3,
     "metadata": {},
     "output_type": "execute_result"
    }
   ],
   "source": [
    "data_travel.describe(include='all')"
   ]
  },
  {
   "cell_type": "markdown",
   "metadata": {},
   "source": [
    "# 数据预处理"
   ]
  },
  {
   "cell_type": "markdown",
   "metadata": {},
   "source": [
    "填补缺失值(有缺失情况的变量皆为分类变量，且确实比例并不高，因此用众数进行填补)"
   ]
  },
  {
   "cell_type": "code",
   "execution_count": 4,
   "metadata": {},
   "outputs": [],
   "source": [
    "fill_col = []\n",
    "fill = {}\n",
    "for col in data_travel.columns:\n",
    "    if data_travel[col].count()!=len(data_travel):\n",
    "        fill_col.append(col)\n",
    "        fill[col] = data_travel[col].mode()[0]\n",
    "travel = data_travel.fillna(fill)"
   ]
  },
  {
   "cell_type": "markdown",
   "metadata": {},
   "source": [
    "修正错误值"
   ]
  },
  {
   "cell_type": "markdown",
   "metadata": {},
   "source": [
    "HH_has_children的分类水平以字符形式表示，需要转换为整型，同时其中的缺失值应当表示没有小孩，因此替换为0 阅读爱好interested_reading中包含错误值“.”，将其以0进行替换，代表该用户对阅读没有兴趣。"
   ]
  },
  {
   "cell_type": "code",
   "execution_count": 5,
   "metadata": {},
   "outputs": [
    {
     "data": {
      "text/plain": [
       "3    65096\n",
       "1    43832\n",
       "0    32919\n",
       "2    24488\n",
       ".      842\n",
       "Name: interested_reading, dtype: int64"
      ]
     },
     "execution_count": 5,
     "metadata": {},
     "output_type": "execute_result"
    }
   ],
   "source": [
    "travel['interested_reading'].value_counts()"
   ]
  },
  {
   "cell_type": "code",
   "execution_count": 6,
   "metadata": {},
   "outputs": [],
   "source": [
    "travel['HH_has_children'] = travel['HH_has_children'].replace({'N':0,'Y':1})\n",
    "travel['interested_reading'] = travel['interested_reading'].replace({'.':'0'}).astype('int')"
   ]
  },
  {
   "cell_type": "markdown",
   "metadata": {},
   "source": [
    "对离散型变量进行处理"
   ]
  },
  {
   "cell_type": "markdown",
   "metadata": {},
   "source": [
    "使用k-means聚类，一般不分析离散变量，但可以根据业务理解，将离散型变量进行变换"
   ]
  },
  {
   "cell_type": "markdown",
   "metadata": {},
   "source": [
    "分析离散变量的相关性"
   ]
  },
  {
   "cell_type": "code",
   "execution_count": 7,
   "metadata": {},
   "outputs": [],
   "source": [
    "unique = {}\n",
    "for col in travel.columns:\n",
    "    unique[col] = len(travel[col].value_counts())\n",
    "unique = pd.DataFrame(unique,index=[0,])\n",
    "cols = [col for col in unique if unique[col][0]<=10]"
   ]
  },
  {
   "cell_type": "code",
   "execution_count": 8,
   "metadata": {},
   "outputs": [
    {
     "data": {
      "text/plain": [
       "['interested_travel',\n",
       " 'computer_owner',\n",
       " 'marital',\n",
       " 'interested_golf',\n",
       " 'interested_gambling',\n",
       " 'HH_has_children',\n",
       " 'HH_adults_num',\n",
       " 'interested_reading']"
      ]
     },
     "execution_count": 8,
     "metadata": {},
     "output_type": "execute_result"
    }
   ],
   "source": [
    "sample = travel[cols].sample(3000,random_state=1234)\n",
    "cols"
   ]
  },
  {
   "cell_type": "code",
   "execution_count": 9,
   "metadata": {},
   "outputs": [
    {
     "name": "stdout",
     "output_type": "stream",
     "text": [
      "p-value = 0.785 between \"computer_owner\" and \"HH_has_children\"\n",
      "p-value = 0.080 between \"interested_golf\" and \"HH_has_children\"\n",
      "p-value = 0.392 between \"interested_gambling\" and \"HH_has_children\"\n"
     ]
    }
   ],
   "source": [
    "from itertools import combinations\n",
    "from scipy import stats\n",
    "\n",
    "for col1,col2 in combinations(cols,2):#选取两两值\n",
    "    cross_tab = pd.crosstab(sample[col1],sample[col2])\n",
    "    p = stats.chi2_contingency(cross_tab)[1]\n",
    "    if p>0.05:\n",
    "        print('p-value = %0.3f between \"%s\" and \"%s\"'%(p,col1,col2))"
   ]
  },
  {
   "cell_type": "markdown",
   "metadata": {},
   "source": [
    "对于用户爱好，可以将旅行、电脑、高尔夫、博彩、阅读这几个分类型变量综合成一个爱好广度指标，其代表了用户休闲娱乐爱好，而连续型的interested_sport、HH_dieting属于健康类爱好，auto_member属于奢侈型爱好，因此，可以从多个角度来分析用户的爱好。\n",
    "\n"
   ]
  },
  {
   "cell_type": "markdown",
   "metadata": {},
   "source": [
    "先对interested_reading进行二值化"
   ]
  },
  {
   "cell_type": "code",
   "execution_count": 10,
   "metadata": {},
   "outputs": [],
   "source": [
    "from sklearn.preprocessing import Binarizer\n",
    "\n",
    "binar = Binarizer(threshold=1.7)\n",
    "travel['interested_reading'] = binar.fit_transform(travel[['interested_reading']])"
   ]
  },
  {
   "cell_type": "markdown",
   "metadata": {},
   "source": [
    "生成二分类偏好填充率"
   ]
  },
  {
   "cell_type": "code",
   "execution_count": 11,
   "metadata": {},
   "outputs": [
    {
     "data": {
      "text/html": [
       "<div>\n",
       "<style scoped>\n",
       "    .dataframe tbody tr th:only-of-type {\n",
       "        vertical-align: middle;\n",
       "    }\n",
       "\n",
       "    .dataframe tbody tr th {\n",
       "        vertical-align: top;\n",
       "    }\n",
       "\n",
       "    .dataframe thead th {\n",
       "        text-align: right;\n",
       "    }\n",
       "</style>\n",
       "<table border=\"1\" class=\"dataframe\">\n",
       "  <thead>\n",
       "    <tr style=\"text-align: right;\">\n",
       "      <th></th>\n",
       "      <th>age</th>\n",
       "      <th>home_value</th>\n",
       "      <th>loan_ratio</th>\n",
       "      <th>risk_score</th>\n",
       "      <th>marital</th>\n",
       "      <th>interested_sport</th>\n",
       "      <th>HH_grandparent</th>\n",
       "      <th>HH_dieting</th>\n",
       "      <th>HH_head_age</th>\n",
       "      <th>auto_member</th>\n",
       "      <th>HH_has_children</th>\n",
       "      <th>HH_adults_num</th>\n",
       "      <th>interest</th>\n",
       "    </tr>\n",
       "  </thead>\n",
       "  <tbody>\n",
       "    <tr>\n",
       "      <th>0</th>\n",
       "      <td>64</td>\n",
       "      <td>124035</td>\n",
       "      <td>73</td>\n",
       "      <td>932</td>\n",
       "      <td>3</td>\n",
       "      <td>312</td>\n",
       "      <td>420</td>\n",
       "      <td>149</td>\n",
       "      <td>96</td>\n",
       "      <td>626</td>\n",
       "      <td>0</td>\n",
       "      <td>2.0</td>\n",
       "      <td>0.2</td>\n",
       "    </tr>\n",
       "    <tr>\n",
       "      <th>1</th>\n",
       "      <td>69</td>\n",
       "      <td>138574</td>\n",
       "      <td>73</td>\n",
       "      <td>1000</td>\n",
       "      <td>7</td>\n",
       "      <td>241</td>\n",
       "      <td>711</td>\n",
       "      <td>263</td>\n",
       "      <td>68</td>\n",
       "      <td>658</td>\n",
       "      <td>0</td>\n",
       "      <td>5.0</td>\n",
       "      <td>0.4</td>\n",
       "    </tr>\n",
       "    <tr>\n",
       "      <th>2</th>\n",
       "      <td>57</td>\n",
       "      <td>148136</td>\n",
       "      <td>77</td>\n",
       "      <td>688</td>\n",
       "      <td>1</td>\n",
       "      <td>367</td>\n",
       "      <td>240</td>\n",
       "      <td>240</td>\n",
       "      <td>56</td>\n",
       "      <td>354</td>\n",
       "      <td>0</td>\n",
       "      <td>2.0</td>\n",
       "      <td>0.2</td>\n",
       "    </tr>\n",
       "    <tr>\n",
       "      <th>3</th>\n",
       "      <td>80</td>\n",
       "      <td>162532</td>\n",
       "      <td>74</td>\n",
       "      <td>932</td>\n",
       "      <td>7</td>\n",
       "      <td>291</td>\n",
       "      <td>832</td>\n",
       "      <td>197</td>\n",
       "      <td>86</td>\n",
       "      <td>462</td>\n",
       "      <td>1</td>\n",
       "      <td>2.0</td>\n",
       "      <td>1.0</td>\n",
       "    </tr>\n",
       "    <tr>\n",
       "      <th>4</th>\n",
       "      <td>48</td>\n",
       "      <td>133580</td>\n",
       "      <td>77</td>\n",
       "      <td>987</td>\n",
       "      <td>10</td>\n",
       "      <td>137</td>\n",
       "      <td>121</td>\n",
       "      <td>209</td>\n",
       "      <td>42</td>\n",
       "      <td>423</td>\n",
       "      <td>1</td>\n",
       "      <td>3.0</td>\n",
       "      <td>0.8</td>\n",
       "    </tr>\n",
       "  </tbody>\n",
       "</table>\n",
       "</div>"
      ],
      "text/plain": [
       "   age  home_value  loan_ratio  risk_score  marital  interested_sport  \\\n",
       "0   64      124035          73         932        3               312   \n",
       "1   69      138574          73        1000        7               241   \n",
       "2   57      148136          77         688        1               367   \n",
       "3   80      162532          74         932        7               291   \n",
       "4   48      133580          77         987       10               137   \n",
       "\n",
       "   HH_grandparent  HH_dieting  HH_head_age  auto_member  HH_has_children  \\\n",
       "0             420         149           96          626                0   \n",
       "1             711         263           68          658                0   \n",
       "2             240         240           56          354                0   \n",
       "3             832         197           86          462                1   \n",
       "4             121         209           42          423                1   \n",
       "\n",
       "   HH_adults_num  interest  \n",
       "0            2.0       0.2  \n",
       "1            5.0       0.4  \n",
       "2            2.0       0.2  \n",
       "3            2.0       1.0  \n",
       "4            3.0       0.8  "
      ]
     },
     "execution_count": 11,
     "metadata": {},
     "output_type": "execute_result"
    }
   ],
   "source": [
    "interest =[\n",
    "    'interested_travel',\n",
    "    'computer_owner',\n",
    "    'interested_golf', \n",
    "    'interested_gambling',\n",
    "    'interested_reading'\n",
    "]\n",
    "\n",
    "n = len(interest)\n",
    "travel = travel.drop(interest,axis=1).assign(interest = travel[interest].sum(axis=1)/n)\n",
    "travel.head()"
   ]
  },
  {
   "cell_type": "markdown",
   "metadata": {},
   "source": [
    "正态化、标准化"
   ]
  },
  {
   "cell_type": "markdown",
   "metadata": {},
   "source": [
    "对不同类型变量执行不同处理，连续变量、有序分类变量及无序分类变量在处理上均有不同，因此先按类型对变量分组，不同组采用不同的处理策略"
   ]
  },
  {
   "cell_type": "markdown",
   "metadata": {},
   "source": [
    "如果一个连续变量的可能取值很少，如marital（10个水平）、interest（5个水平）、HH_adults_num（8个水平）等，当将其作为普通连续变量一样进行分布转换，可能生成一些离群值（例如对marital使用scikit-learn进行正态转换，会发现1和10对应的数据点离开均值达到5个标准差）。因此本例中将这几个连续变量作为有序分类变量对待，但不进行分布转化，仅做标准化处理。"
   ]
  },
  {
   "cell_type": "code",
   "execution_count": 12,
   "metadata": {},
   "outputs": [],
   "source": [
    "columns = travel.columns\n",
    "for col in cols:\n",
    "    if col in travel.columns:\n",
    "        columns = columns.drop(col)\n",
    "columns = columns.drop('interest')\n",
    "\n",
    "categorical_cols = ['marital', 'interest', 'HH_adults_num']\n",
    "\n",
    "discreate_cols = ['HH_has_children']"
   ]
  },
  {
   "cell_type": "markdown",
   "metadata": {},
   "source": [
    "为了聚类后的簇大小能比较接近，对于偏态严重的连续变量应转换其分布，令其接近正态分布或均匀分布"
   ]
  },
  {
   "cell_type": "markdown",
   "metadata": {},
   "source": [
    "对连续变量正态化"
   ]
  },
  {
   "cell_type": "code",
   "execution_count": 13,
   "metadata": {},
   "outputs": [
    {
     "data": {
      "text/plain": [
       "array([[<matplotlib.axes._subplots.AxesSubplot object at 0x000002505C512B38>,\n",
       "        <matplotlib.axes._subplots.AxesSubplot object at 0x000002505ABBAB00>,\n",
       "        <matplotlib.axes._subplots.AxesSubplot object at 0x000002505ABEC0B8>],\n",
       "       [<matplotlib.axes._subplots.AxesSubplot object at 0x000002505AC14630>,\n",
       "        <matplotlib.axes._subplots.AxesSubplot object at 0x000002505AC3ABA8>,\n",
       "        <matplotlib.axes._subplots.AxesSubplot object at 0x000002505AC6B160>],\n",
       "       [<matplotlib.axes._subplots.AxesSubplot object at 0x000002505AC906D8>,\n",
       "        <matplotlib.axes._subplots.AxesSubplot object at 0x000002505ACB7C88>,\n",
       "        <matplotlib.axes._subplots.AxesSubplot object at 0x000002505ACB7CC0>]],\n",
       "      dtype=object)"
      ]
     },
     "execution_count": 13,
     "metadata": {},
     "output_type": "execute_result"
    },
    {
     "data": {
      "image/png": "[encoded data removed]",
      "text/plain": [
       "<Figure size 432x288 with 9 Axes>"
      ]
     },
     "metadata": {
      "needs_background": "light"
     },
     "output_type": "display_data"
    }
   ],
   "source": [
    "travel[columns].hist(bins=25)"
   ]
  },
  {
   "cell_type": "code",
   "execution_count": 14,
   "metadata": {},
   "outputs": [
    {
     "data": {
      "text/plain": [
       "array([[<matplotlib.axes._subplots.AxesSubplot object at 0x000002505BAF31D0>,\n",
       "        <matplotlib.axes._subplots.AxesSubplot object at 0x000002505BB99B38>,\n",
       "        <matplotlib.axes._subplots.AxesSubplot object at 0x000002505BBA9DA0>],\n",
       "       [<matplotlib.axes._subplots.AxesSubplot object at 0x000002505C7CB048>,\n",
       "        <matplotlib.axes._subplots.AxesSubplot object at 0x000002505C7F42B0>,\n",
       "        <matplotlib.axes._subplots.AxesSubplot object at 0x000002505C820518>],\n",
       "       [<matplotlib.axes._subplots.AxesSubplot object at 0x000002505C848780>,\n",
       "        <matplotlib.axes._subplots.AxesSubplot object at 0x000002505C870A20>,\n",
       "        <matplotlib.axes._subplots.AxesSubplot object at 0x000002505C870A58>]],\n",
       "      dtype=object)"
      ]
     },
     "execution_count": 14,
     "metadata": {},
     "output_type": "execute_result"
    },
    {
     "data": {
      "image/png": "[encoded data removed]",
      "text/plain": [
       "<Figure size 432x288 with 9 Axes>"
      ]
     },
     "metadata": {
      "needs_background": "light"
     },
     "output_type": "display_data"
    }
   ],
   "source": [
    "from sklearn.preprocessing import QuantileTransformer\n",
    "\n",
    "qt = QuantileTransformer(output_distribution='normal',n_quantiles=100)\n",
    "qt_data = qt.fit_transform(travel[columns])\n",
    "pd.DataFrame(qt_data,columns=columns).hist(bins=25)"
   ]
  },
  {
   "cell_type": "markdown",
   "metadata": {},
   "source": [
    "对有多个水平的有序分类变量进行标准化"
   ]
  },
  {
   "cell_type": "markdown",
   "metadata": {},
   "source": [
    "如前所述，尽管HH_adults_num、marital和interest属于连续变量，但都仅有不到10个水平，因此与有序分类变量一样，仅做标准化"
   ]
  },
  {
   "cell_type": "code",
   "execution_count": 15,
   "metadata": {},
   "outputs": [
    {
     "name": "stderr",
     "output_type": "stream",
     "text": [
      "D:\\Anaconda3\\lib\\site-packages\\sklearn\\preprocessing\\data.py:625: DataConversionWarning: Data with input dtype int64, float64 were all converted to float64 by StandardScaler.\n",
      "  return self.partial_fit(X, y)\n",
      "D:\\Anaconda3\\lib\\site-packages\\sklearn\\base.py:462: DataConversionWarning: Data with input dtype int64, float64 were all converted to float64 by StandardScaler.\n",
      "  return self.fit(X, **fit_params).transform(X)\n"
     ]
    }
   ],
   "source": [
    "from sklearn.preprocessing import StandardScaler\n",
    "\n",
    "scale = StandardScaler()\n",
    "scale_data = scale.fit_transform(travel[categorical_cols])"
   ]
  },
  {
   "cell_type": "markdown",
   "metadata": {},
   "source": [
    "对二分类变量不做处理，合并各类型的变量"
   ]
  },
  {
   "cell_type": "code",
   "execution_count": 16,
   "metadata": {},
   "outputs": [
    {
     "data": {
      "text/html": [
       "<div>\n",
       "<style scoped>\n",
       "    .dataframe tbody tr th:only-of-type {\n",
       "        vertical-align: middle;\n",
       "    }\n",
       "\n",
       "    .dataframe tbody tr th {\n",
       "        vertical-align: top;\n",
       "    }\n",
       "\n",
       "    .dataframe thead th {\n",
       "        text-align: right;\n",
       "    }\n",
       "</style>\n",
       "<table border=\"1\" class=\"dataframe\">\n",
       "  <thead>\n",
       "    <tr style=\"text-align: right;\">\n",
       "      <th></th>\n",
       "      <th>age</th>\n",
       "      <th>home_value</th>\n",
       "      <th>loan_ratio</th>\n",
       "      <th>risk_score</th>\n",
       "      <th>interested_sport</th>\n",
       "      <th>HH_grandparent</th>\n",
       "      <th>HH_dieting</th>\n",
       "      <th>HH_head_age</th>\n",
       "      <th>auto_member</th>\n",
       "      <th>marital</th>\n",
       "      <th>interest</th>\n",
       "      <th>HH_adults_num</th>\n",
       "      <th>HH_has_children</th>\n",
       "    </tr>\n",
       "  </thead>\n",
       "  <tbody>\n",
       "    <tr>\n",
       "      <th>0</th>\n",
       "      <td>0.321971</td>\n",
       "      <td>-0.886981</td>\n",
       "      <td>0.698526</td>\n",
       "      <td>0.574460</td>\n",
       "      <td>0.731217</td>\n",
       "      <td>0.257832</td>\n",
       "      <td>-0.515705</td>\n",
       "      <td>2.572352</td>\n",
       "      <td>0.848859</td>\n",
       "      <td>-1.487818</td>\n",
       "      <td>-1.035281</td>\n",
       "      <td>-0.547836</td>\n",
       "      <td>0.0</td>\n",
       "    </tr>\n",
       "    <tr>\n",
       "      <th>1</th>\n",
       "      <td>0.619855</td>\n",
       "      <td>-0.621409</td>\n",
       "      <td>0.698526</td>\n",
       "      <td>5.199338</td>\n",
       "      <td>-0.152506</td>\n",
       "      <td>1.178235</td>\n",
       "      <td>0.822532</td>\n",
       "      <td>0.458679</td>\n",
       "      <td>1.073988</td>\n",
       "      <td>0.044429</td>\n",
       "      <td>-0.354828</td>\n",
       "      <td>1.895118</td>\n",
       "      <td>0.0</td>\n",
       "    </tr>\n",
       "    <tr>\n",
       "      <th>2</th>\n",
       "      <td>-0.126937</td>\n",
       "      <td>-0.464721</td>\n",
       "      <td>1.549706</td>\n",
       "      <td>-0.935569</td>\n",
       "      <td>1.314874</td>\n",
       "      <td>-0.446657</td>\n",
       "      <td>0.525369</td>\n",
       "      <td>-0.229884</td>\n",
       "      <td>-0.810751</td>\n",
       "      <td>-2.253942</td>\n",
       "      <td>-1.035281</td>\n",
       "      <td>-0.547836</td>\n",
       "      <td>0.0</td>\n",
       "    </tr>\n",
       "    <tr>\n",
       "      <th>3</th>\n",
       "      <td>1.335178</td>\n",
       "      <td>-0.253552</td>\n",
       "      <td>0.927754</td>\n",
       "      <td>0.574460</td>\n",
       "      <td>0.496519</td>\n",
       "      <td>1.407189</td>\n",
       "      <td>0.114185</td>\n",
       "      <td>1.639976</td>\n",
       "      <td>-0.175603</td>\n",
       "      <td>0.044429</td>\n",
       "      <td>1.686529</td>\n",
       "      <td>-0.547836</td>\n",
       "      <td>1.0</td>\n",
       "    </tr>\n",
       "    <tr>\n",
       "      <th>4</th>\n",
       "      <td>-0.747859</td>\n",
       "      <td>-0.706218</td>\n",
       "      <td>1.549706</td>\n",
       "      <td>1.144237</td>\n",
       "      <td>-1.816693</td>\n",
       "      <td>-0.934263</td>\n",
       "      <td>0.225553</td>\n",
       "      <td>-0.987837</td>\n",
       "      <td>-0.403108</td>\n",
       "      <td>1.193615</td>\n",
       "      <td>1.006077</td>\n",
       "      <td>0.266482</td>\n",
       "      <td>1.0</td>\n",
       "    </tr>\n",
       "  </tbody>\n",
       "</table>\n",
       "</div>"
      ],
      "text/plain": [
       "        age  home_value  loan_ratio  risk_score  interested_sport  \\\n",
       "0  0.321971   -0.886981    0.698526    0.574460          0.731217   \n",
       "1  0.619855   -0.621409    0.698526    5.199338         -0.152506   \n",
       "2 -0.126937   -0.464721    1.549706   -0.935569          1.314874   \n",
       "3  1.335178   -0.253552    0.927754    0.574460          0.496519   \n",
       "4 -0.747859   -0.706218    1.549706    1.144237         -1.816693   \n",
       "\n",
       "   HH_grandparent  HH_dieting  HH_head_age  auto_member   marital  interest  \\\n",
       "0        0.257832   -0.515705     2.572352     0.848859 -1.487818 -1.035281   \n",
       "1        1.178235    0.822532     0.458679     1.073988  0.044429 -0.354828   \n",
       "2       -0.446657    0.525369    -0.229884    -0.810751 -2.253942 -1.035281   \n",
       "3        1.407189    0.114185     1.639976    -0.175603  0.044429  1.686529   \n",
       "4       -0.934263    0.225553    -0.987837    -0.403108  1.193615  1.006077   \n",
       "\n",
       "   HH_adults_num  HH_has_children  \n",
       "0      -0.547836              0.0  \n",
       "1       1.895118              0.0  \n",
       "2      -0.547836              0.0  \n",
       "3      -0.547836              1.0  \n",
       "4       0.266482              1.0  "
      ]
     },
     "execution_count": 16,
     "metadata": {},
     "output_type": "execute_result"
    }
   ],
   "source": [
    "data = np.hstack([qt_data,scale_data,travel[discreate_cols]])\n",
    "data = pd.DataFrame(data,columns=list(columns)+categorical_cols+discreate_cols)\n",
    "data.head()"
   ]
  },
  {
   "cell_type": "markdown",
   "metadata": {},
   "source": [
    "# 维度分析"
   ]
  },
  {
   "cell_type": "markdown",
   "metadata": {},
   "source": [
    "根据业务需求，将变量从两个大的维度进行考虑"
   ]
  },
  {
   "cell_type": "markdown",
   "metadata": {},
   "source": [
    "其一为用户家庭属性（包括家庭基本情况及财务情况），其二为用户个人偏好情况（包括对运动、节食等的兴趣程度）"
   ]
  },
  {
   "cell_type": "code",
   "execution_count": 17,
   "metadata": {},
   "outputs": [],
   "source": [
    "household = ['age', 'marital', 'HH_adults_num', 'home_value', \n",
    "             'risk_score', 'HH_grandparent', 'HH_head_age', 'loan_ratio']\n",
    "hobby = ['HH_dieting', 'auto_member','interest', 'interested_sport']\n",
    "#  'HH_has_children'"
   ]
  },
  {
   "cell_type": "code",
   "execution_count": 18,
   "metadata": {},
   "outputs": [
    {
     "data": {
      "text/html": [
       "<div>\n",
       "<style scoped>\n",
       "    .dataframe tbody tr th:only-of-type {\n",
       "        vertical-align: middle;\n",
       "    }\n",
       "\n",
       "    .dataframe tbody tr th {\n",
       "        vertical-align: top;\n",
       "    }\n",
       "\n",
       "    .dataframe thead th {\n",
       "        text-align: right;\n",
       "    }\n",
       "</style>\n",
       "<table border=\"1\" class=\"dataframe\">\n",
       "  <thead>\n",
       "    <tr style=\"text-align: right;\">\n",
       "      <th></th>\n",
       "      <th>HH_dieting</th>\n",
       "      <th>auto_member</th>\n",
       "      <th>interest</th>\n",
       "      <th>interested_sport</th>\n",
       "    </tr>\n",
       "  </thead>\n",
       "  <tbody>\n",
       "    <tr>\n",
       "      <th>HH_dieting</th>\n",
       "      <td>1.000000</td>\n",
       "      <td>0.134494</td>\n",
       "      <td>0.246663</td>\n",
       "      <td>0.510763</td>\n",
       "    </tr>\n",
       "    <tr>\n",
       "      <th>auto_member</th>\n",
       "      <td>0.134494</td>\n",
       "      <td>1.000000</td>\n",
       "      <td>0.316930</td>\n",
       "      <td>0.458942</td>\n",
       "    </tr>\n",
       "    <tr>\n",
       "      <th>interest</th>\n",
       "      <td>0.246663</td>\n",
       "      <td>0.316930</td>\n",
       "      <td>1.000000</td>\n",
       "      <td>0.219932</td>\n",
       "    </tr>\n",
       "    <tr>\n",
       "      <th>interested_sport</th>\n",
       "      <td>0.510763</td>\n",
       "      <td>0.458942</td>\n",
       "      <td>0.219932</td>\n",
       "      <td>1.000000</td>\n",
       "    </tr>\n",
       "  </tbody>\n",
       "</table>\n",
       "</div>"
      ],
      "text/plain": [
       "                  HH_dieting  auto_member  interest  interested_sport\n",
       "HH_dieting          1.000000     0.134494  0.246663          0.510763\n",
       "auto_member         0.134494     1.000000  0.316930          0.458942\n",
       "interest            0.246663     0.316930  1.000000          0.219932\n",
       "interested_sport    0.510763     0.458942  0.219932          1.000000"
      ]
     },
     "execution_count": 18,
     "metadata": {},
     "output_type": "execute_result"
    }
   ],
   "source": [
    "data[hobby].corr()"
   ]
  },
  {
   "cell_type": "markdown",
   "metadata": {},
   "source": [
    "分别对两个维度进行因子分析，由于scikit-learn中的因子分析并不提供因子旋转，因此我们使用另外的因子分析包，例如fa-kit"
   ]
  },
  {
   "cell_type": "markdown",
   "metadata": {},
   "source": [
    "先使用主成分分析确定保留多少个主成分合适："
   ]
  },
  {
   "cell_type": "code",
   "execution_count": 19,
   "metadata": {},
   "outputs": [
    {
     "data": {
      "text/plain": [
       "array([0.3527503 , 0.5647514 , 0.73013614, 0.82974587, 0.88389045,\n",
       "       0.928455  , 0.96637073, 1.        ])"
      ]
     },
     "execution_count": 19,
     "metadata": {},
     "output_type": "execute_result"
    }
   ],
   "source": [
    "from sklearn.decomposition import PCA\n",
    "\n",
    "pca = PCA()\n",
    "pca_data = pca.fit(data[household])\n",
    "pca_data.explained_variance_ratio_.cumsum()"
   ]
  },
  {
   "cell_type": "markdown",
   "metadata": {},
   "source": [
    "保留4个主成分是适当的"
   ]
  },
  {
   "cell_type": "code",
   "execution_count": 20,
   "metadata": {},
   "outputs": [
    {
     "name": "stderr",
     "output_type": "stream",
     "text": [
      "D:\\Anaconda3\\lib\\site-packages\\fa_kit\\factor_analysis.py:67: FutureWarning: Method .as_matrix will be removed in a future version. Use .values instead.\n",
      "  np_data = df_data.as_matrix()\n"
     ]
    }
   ],
   "source": [
    "from fa_kit import FactorAnalysis\n",
    "from fa_kit import plotting as fa_plotting\n",
    "\n",
    "fa = FactorAnalysis.load_data_samples(data[household],preproc_demean=True, preproc_scale=True)\n",
    "fa.extract_components()"
   ]
  },
  {
   "cell_type": "markdown",
   "metadata": {},
   "source": [
    "设定提取主成分的方式。默认为“broken_stick”方法，建议使用“top_n”法"
   ]
  },
  {
   "cell_type": "code",
   "execution_count": 21,
   "metadata": {},
   "outputs": [
    {
     "data": {
      "text/plain": [
       "array([0, 1, 2, 3], dtype=int64)"
      ]
     },
     "execution_count": 21,
     "metadata": {},
     "output_type": "execute_result"
    }
   ],
   "source": [
    "fa.find_comps_to_retain(method='top_n',num_keep=4)"
   ]
  },
  {
   "cell_type": "markdown",
   "metadata": {},
   "source": [
    "通过最大方差法进行因子旋转"
   ]
  },
  {
   "cell_type": "code",
   "execution_count": 22,
   "metadata": {},
   "outputs": [
    {
     "data": {
      "image/png": "[encoded data removed]",
      "text/plain": [
       "<Figure size 576x864 with 3 Axes>"
      ]
     },
     "metadata": {
      "needs_background": "light"
     },
     "output_type": "display_data"
    }
   ],
   "source": [
    "fa.rotate_components(method='varimax')\n",
    "fa_plotting.graph_summary(fa);"
   ]
  },
  {
   "cell_type": "markdown",
   "metadata": {},
   "source": [
    "各个因子："
   ]
  },
  {
   "cell_type": "code",
   "execution_count": 23,
   "metadata": {},
   "outputs": [
    {
     "data": {
      "text/html": [
       "<div>\n",
       "<style scoped>\n",
       "    .dataframe tbody tr th:only-of-type {\n",
       "        vertical-align: middle;\n",
       "    }\n",
       "\n",
       "    .dataframe tbody tr th {\n",
       "        vertical-align: top;\n",
       "    }\n",
       "\n",
       "    .dataframe thead th {\n",
       "        text-align: right;\n",
       "    }\n",
       "</style>\n",
       "<table border=\"1\" class=\"dataframe\">\n",
       "  <thead>\n",
       "    <tr style=\"text-align: right;\">\n",
       "      <th></th>\n",
       "      <th>age</th>\n",
       "      <th>marital</th>\n",
       "      <th>HH_adults_num</th>\n",
       "      <th>home_value</th>\n",
       "      <th>risk_score</th>\n",
       "      <th>HH_grandparent</th>\n",
       "      <th>HH_head_age</th>\n",
       "      <th>loan_ratio</th>\n",
       "    </tr>\n",
       "  </thead>\n",
       "  <tbody>\n",
       "    <tr>\n",
       "      <th>0</th>\n",
       "      <td>0.545326</td>\n",
       "      <td>-0.106354</td>\n",
       "      <td>0.070273</td>\n",
       "      <td>-0.192308</td>\n",
       "      <td>0.004533</td>\n",
       "      <td>0.566902</td>\n",
       "      <td>0.545740</td>\n",
       "      <td>-0.173658</td>\n",
       "    </tr>\n",
       "    <tr>\n",
       "      <th>1</th>\n",
       "      <td>-0.094070</td>\n",
       "      <td>-0.128508</td>\n",
       "      <td>0.091275</td>\n",
       "      <td>-0.667143</td>\n",
       "      <td>0.011015</td>\n",
       "      <td>0.109534</td>\n",
       "      <td>-0.065677</td>\n",
       "      <td>0.710488</td>\n",
       "    </tr>\n",
       "    <tr>\n",
       "      <th>2</th>\n",
       "      <td>0.077588</td>\n",
       "      <td>0.642952</td>\n",
       "      <td>0.757906</td>\n",
       "      <td>-0.028831</td>\n",
       "      <td>-0.001865</td>\n",
       "      <td>0.009863</td>\n",
       "      <td>-0.072133</td>\n",
       "      <td>-0.006033</td>\n",
       "    </tr>\n",
       "    <tr>\n",
       "      <th>3</th>\n",
       "      <td>0.113537</td>\n",
       "      <td>0.010966</td>\n",
       "      <td>-0.010634</td>\n",
       "      <td>0.058182</td>\n",
       "      <td>0.982095</td>\n",
       "      <td>-0.107020</td>\n",
       "      <td>0.038337</td>\n",
       "      <td>0.077831</td>\n",
       "    </tr>\n",
       "  </tbody>\n",
       "</table>\n",
       "</div>"
      ],
      "text/plain": [
       "        age   marital  HH_adults_num  home_value  risk_score  HH_grandparent  \\\n",
       "0  0.545326 -0.106354       0.070273   -0.192308    0.004533        0.566902   \n",
       "1 -0.094070 -0.128508       0.091275   -0.667143    0.011015        0.109534   \n",
       "2  0.077588  0.642952       0.757906   -0.028831   -0.001865        0.009863   \n",
       "3  0.113537  0.010966      -0.010634    0.058182    0.982095       -0.107020   \n",
       "\n",
       "   HH_head_age  loan_ratio  \n",
       "0     0.545740   -0.173658  \n",
       "1    -0.065677    0.710488  \n",
       "2    -0.072133   -0.006033  \n",
       "3     0.038337    0.077831  "
      ]
     },
     "execution_count": 23,
     "metadata": {},
     "output_type": "execute_result"
    }
   ],
   "source": [
    "pd.DataFrame(fa.comps['rot'].T,columns=household)"
   ]
  },
  {
   "cell_type": "markdown",
   "metadata": {},
   "source": [
    "可以看到：\n",
    "\n",
    "第一个因子在age、HH_grandparent、HH_head_age上的权重显著较高，从业务上理解，这三个变量的综合可以认为是用户所处的生命周期；\n",
    "第二个因子在home_value、loan_ratio上的权重显著较高，这个因子主要表示了用户财务状况；\n",
    "第三个因子在marital、HH_adults_num上的权重显著较高，该因子代表了家庭的人口规模；\n",
    "第四个因子仅在risk_score上的权重较高，因此该因子代表的就是用户的风险"
   ]
  },
  {
   "cell_type": "markdown",
   "metadata": {},
   "source": [
    "计算因子得分："
   ]
  },
  {
   "cell_type": "code",
   "execution_count": 24,
   "metadata": {},
   "outputs": [
    {
     "data": {
      "text/html": [
       "<div>\n",
       "<style scoped>\n",
       "    .dataframe tbody tr th:only-of-type {\n",
       "        vertical-align: middle;\n",
       "    }\n",
       "\n",
       "    .dataframe tbody tr th {\n",
       "        vertical-align: top;\n",
       "    }\n",
       "\n",
       "    .dataframe thead th {\n",
       "        text-align: right;\n",
       "    }\n",
       "</style>\n",
       "<table border=\"1\" class=\"dataframe\">\n",
       "  <thead>\n",
       "    <tr style=\"text-align: right;\">\n",
       "      <th></th>\n",
       "      <th>life_circle</th>\n",
       "      <th>finance</th>\n",
       "      <th>HH_size</th>\n",
       "      <th>risk</th>\n",
       "    </tr>\n",
       "  </thead>\n",
       "  <tbody>\n",
       "    <tr>\n",
       "      <th>0</th>\n",
       "      <td>1.853673</td>\n",
       "      <td>1.074320</td>\n",
       "      <td>-1.502466</td>\n",
       "      <td>0.208987</td>\n",
       "    </tr>\n",
       "    <tr>\n",
       "      <th>1</th>\n",
       "      <td>1.381082</td>\n",
       "      <td>1.156301</td>\n",
       "      <td>1.501759</td>\n",
       "      <td>2.553204</td>\n",
       "    </tr>\n",
       "    <tr>\n",
       "      <th>2</th>\n",
       "      <td>-0.418750</td>\n",
       "      <td>1.634256</td>\n",
       "      <td>-1.856860</td>\n",
       "      <td>-0.599059</td>\n",
       "    </tr>\n",
       "    <tr>\n",
       "      <th>3</th>\n",
       "      <td>2.231851</td>\n",
       "      <td>0.705320</td>\n",
       "      <td>-0.381568</td>\n",
       "      <td>0.240841</td>\n",
       "    </tr>\n",
       "    <tr>\n",
       "      <th>4</th>\n",
       "      <td>-1.689618</td>\n",
       "      <td>1.493770</td>\n",
       "      <td>0.981561</td>\n",
       "      <td>0.483107</td>\n",
       "    </tr>\n",
       "  </tbody>\n",
       "</table>\n",
       "</div>"
      ],
      "text/plain": [
       "   life_circle   finance   HH_size      risk\n",
       "0     1.853673  1.074320 -1.502466  0.208987\n",
       "1     1.381082  1.156301  1.501759  2.553204\n",
       "2    -0.418750  1.634256 -1.856860 -0.599059\n",
       "3     2.231851  0.705320 -0.381568  0.240841\n",
       "4    -1.689618  1.493770  0.981561  0.483107"
      ]
     },
     "execution_count": 24,
     "metadata": {},
     "output_type": "execute_result"
    }
   ],
   "source": [
    "data_hh = pd.DataFrame(fa.get_component_scores(np.array(data[household])),\n",
    "                       columns=['life_circle','finance', 'HH_size', 'risk'])\n",
    "data_hh.head()"
   ]
  },
  {
   "cell_type": "code",
   "execution_count": 25,
   "metadata": {},
   "outputs": [
    {
     "data": {
      "text/html": [
       "<div>\n",
       "<style scoped>\n",
       "    .dataframe tbody tr th:only-of-type {\n",
       "        vertical-align: middle;\n",
       "    }\n",
       "\n",
       "    .dataframe tbody tr th {\n",
       "        vertical-align: top;\n",
       "    }\n",
       "\n",
       "    .dataframe thead th {\n",
       "        text-align: right;\n",
       "    }\n",
       "</style>\n",
       "<table border=\"1\" class=\"dataframe\">\n",
       "  <thead>\n",
       "    <tr style=\"text-align: right;\">\n",
       "      <th></th>\n",
       "      <th>life_circle</th>\n",
       "      <th>finance</th>\n",
       "      <th>HH_size</th>\n",
       "      <th>risk</th>\n",
       "    </tr>\n",
       "  </thead>\n",
       "  <tbody>\n",
       "    <tr>\n",
       "      <th>0</th>\n",
       "      <td>1.897190</td>\n",
       "      <td>1.064567</td>\n",
       "      <td>-1.509544</td>\n",
       "      <td>0.664025</td>\n",
       "    </tr>\n",
       "    <tr>\n",
       "      <th>1</th>\n",
       "      <td>1.406500</td>\n",
       "      <td>1.176025</td>\n",
       "      <td>1.495519</td>\n",
       "      <td>5.066655</td>\n",
       "    </tr>\n",
       "    <tr>\n",
       "      <th>2</th>\n",
       "      <td>-0.430662</td>\n",
       "      <td>1.618538</td>\n",
       "      <td>-1.856263</td>\n",
       "      <td>-0.819556</td>\n",
       "    </tr>\n",
       "    <tr>\n",
       "      <th>3</th>\n",
       "      <td>2.267875</td>\n",
       "      <td>0.699754</td>\n",
       "      <td>-0.386823</td>\n",
       "      <td>0.691810</td>\n",
       "    </tr>\n",
       "    <tr>\n",
       "      <th>4</th>\n",
       "      <td>-1.712905</td>\n",
       "      <td>1.488629</td>\n",
       "      <td>0.982299</td>\n",
       "      <td>1.190735</td>\n",
       "    </tr>\n",
       "  </tbody>\n",
       "</table>\n",
       "</div>"
      ],
      "text/plain": [
       "   life_circle   finance   HH_size      risk\n",
       "0     1.897190  1.064567 -1.509544  0.664025\n",
       "1     1.406500  1.176025  1.495519  5.066655\n",
       "2    -0.430662  1.618538 -1.856263 -0.819556\n",
       "3     2.267875  0.699754 -0.386823  0.691810\n",
       "4    -1.712905  1.488629  0.982299  1.190735"
      ]
     },
     "execution_count": 25,
     "metadata": {},
     "output_type": "execute_result"
    }
   ],
   "source": [
    "pd.DataFrame(\n",
    "    np.dot(data[household], fa.comps['rot']), \n",
    "    columns=['life_circle','finance', 'HH_size', 'risk']).head()"
   ]
  },
  {
   "cell_type": "markdown",
   "metadata": {},
   "source": [
    "同理，对用户的偏好属性进行因子分析："
   ]
  },
  {
   "cell_type": "code",
   "execution_count": 26,
   "metadata": {},
   "outputs": [
    {
     "data": {
      "text/plain": [
       "array([0.48934516, 0.71596975, 0.91157358, 1.        ])"
      ]
     },
     "execution_count": 26,
     "metadata": {},
     "output_type": "execute_result"
    }
   ],
   "source": [
    "hobby_data = pca.fit(data[hobby])\n",
    "hobby_data.explained_variance_ratio_.cumsum()#保留三个因子"
   ]
  },
  {
   "cell_type": "code",
   "execution_count": 27,
   "metadata": {},
   "outputs": [
    {
     "name": "stderr",
     "output_type": "stream",
     "text": [
      "D:\\Anaconda3\\lib\\site-packages\\fa_kit\\factor_analysis.py:67: FutureWarning: Method .as_matrix will be removed in a future version. Use .values instead.\n",
      "  np_data = df_data.as_matrix()\n"
     ]
    },
    {
     "data": {
      "text/html": [
       "<div>\n",
       "<style scoped>\n",
       "    .dataframe tbody tr th:only-of-type {\n",
       "        vertical-align: middle;\n",
       "    }\n",
       "\n",
       "    .dataframe tbody tr th {\n",
       "        vertical-align: top;\n",
       "    }\n",
       "\n",
       "    .dataframe thead th {\n",
       "        text-align: right;\n",
       "    }\n",
       "</style>\n",
       "<table border=\"1\" class=\"dataframe\">\n",
       "  <thead>\n",
       "    <tr style=\"text-align: right;\">\n",
       "      <th></th>\n",
       "      <th>HH_dieting</th>\n",
       "      <th>auto_member</th>\n",
       "      <th>interest</th>\n",
       "      <th>interested_sport</th>\n",
       "    </tr>\n",
       "  </thead>\n",
       "  <tbody>\n",
       "    <tr>\n",
       "      <th>0</th>\n",
       "      <td>-0.175452</td>\n",
       "      <td>0.868105</td>\n",
       "      <td>0.033319</td>\n",
       "      <td>0.463142</td>\n",
       "    </tr>\n",
       "    <tr>\n",
       "      <th>1</th>\n",
       "      <td>0.832565</td>\n",
       "      <td>-0.120825</td>\n",
       "      <td>0.027796</td>\n",
       "      <td>0.539875</td>\n",
       "    </tr>\n",
       "    <tr>\n",
       "      <th>2</th>\n",
       "      <td>0.088084</td>\n",
       "      <td>0.071101</td>\n",
       "      <td>0.978865</td>\n",
       "      <td>-0.170323</td>\n",
       "    </tr>\n",
       "  </tbody>\n",
       "</table>\n",
       "</div>"
      ],
      "text/plain": [
       "   HH_dieting  auto_member  interest  interested_sport\n",
       "0   -0.175452     0.868105  0.033319          0.463142\n",
       "1    0.832565    -0.120825  0.027796          0.539875\n",
       "2    0.088084     0.071101  0.978865         -0.170323"
      ]
     },
     "execution_count": 27,
     "metadata": {},
     "output_type": "execute_result"
    }
   ],
   "source": [
    "fa_hob = FactorAnalysis.load_data_samples(data[hobby],preproc_demean=True, preproc_scale=True)\n",
    "fa_hob.extract_components()\n",
    "\n",
    "fa_hob.find_comps_to_retain(method='top_n',num_keep=3)\n",
    "fa_hob.rotate_components(method='varimax')\n",
    "pd.DataFrame(fa_hob.comps['rot'].T,columns=hobby)"
   ]
  },
  {
   "cell_type": "raw",
   "metadata": {},
   "source": [
    "第一个因子在auto_member和interested_sport上的权重较高，是对用户运动偏好的度量\n",
    "第二个因子在HH_dieting和interested_sport上的权重较高，是对用户健康生活方式的度量\n",
    "第三个因子仅在interest上的权重较高，是对用户休闲娱乐偏好的度量"
   ]
  },
  {
   "cell_type": "markdown",
   "metadata": {},
   "source": [
    "计算因子得分"
   ]
  },
  {
   "cell_type": "code",
   "execution_count": 28,
   "metadata": {},
   "outputs": [
    {
     "data": {
      "text/html": [
       "<div>\n",
       "<style scoped>\n",
       "    .dataframe tbody tr th:only-of-type {\n",
       "        vertical-align: middle;\n",
       "    }\n",
       "\n",
       "    .dataframe tbody tr th {\n",
       "        vertical-align: top;\n",
       "    }\n",
       "\n",
       "    .dataframe thead th {\n",
       "        text-align: right;\n",
       "    }\n",
       "</style>\n",
       "<table border=\"1\" class=\"dataframe\">\n",
       "  <thead>\n",
       "    <tr style=\"text-align: right;\">\n",
       "      <th></th>\n",
       "      <th>sports</th>\n",
       "      <th>health</th>\n",
       "      <th>leisure</th>\n",
       "    </tr>\n",
       "  </thead>\n",
       "  <tbody>\n",
       "    <tr>\n",
       "      <th>0</th>\n",
       "      <td>1.150418</td>\n",
       "      <td>-0.164533</td>\n",
       "      <td>-1.126041</td>\n",
       "    </tr>\n",
       "    <tr>\n",
       "      <th>1</th>\n",
       "      <td>0.717464</td>\n",
       "      <td>0.472318</td>\n",
       "      <td>-0.171387</td>\n",
       "    </tr>\n",
       "    <tr>\n",
       "      <th>2</th>\n",
       "      <td>-0.220269</td>\n",
       "      <td>1.237584</td>\n",
       "      <td>-1.253547</td>\n",
       "    </tr>\n",
       "    <tr>\n",
       "      <th>3</th>\n",
       "      <td>0.117486</td>\n",
       "      <td>0.439733</td>\n",
       "      <td>1.561285</td>\n",
       "    </tr>\n",
       "    <tr>\n",
       "      <th>4</th>\n",
       "      <td>-1.212869</td>\n",
       "      <td>-0.725250</td>\n",
       "      <td>1.288793</td>\n",
       "    </tr>\n",
       "  </tbody>\n",
       "</table>\n",
       "</div>"
      ],
      "text/plain": [
       "     sports    health   leisure\n",
       "0  1.150418 -0.164533 -1.126041\n",
       "1  0.717464  0.472318 -0.171387\n",
       "2 -0.220269  1.237584 -1.253547\n",
       "3  0.117486  0.439733  1.561285\n",
       "4 -1.212869 -0.725250  1.288793"
      ]
     },
     "execution_count": 28,
     "metadata": {},
     "output_type": "execute_result"
    }
   ],
   "source": [
    "data_hb = pd.DataFrame(fa_hob.get_component_scores(np.array(data[hobby])),\n",
    "                      columns=['sports', 'health', 'leisure'])\n",
    "data_hb.head()"
   ]
  },
  {
   "cell_type": "markdown",
   "metadata": {},
   "source": [
    "# 选择K-means聚类中的K值"
   ]
  },
  {
   "cell_type": "code",
   "execution_count": 29,
   "metadata": {},
   "outputs": [],
   "source": [
    "from sklearn.cluster import KMeans\n",
    "from sklearn.metrics import silhouette_score\n",
    "\n",
    "def cluster_plot(data,k_range=range(2,12),n_init=5,sample_size=2000,n_job=-1):\n",
    "        scores = []\n",
    "        models = {}\n",
    "        for k in k_range:\n",
    "            km = KMeans(n_clusters=k,n_init=n_init,n_jobs=n_job)\n",
    "            model = km.fit(data)\n",
    "            models[k] = model\n",
    "            sil = silhouette_score(data,model.labels_,sample_size=sample_size)\n",
    "            scores.append([k,model.inertia_,sil])\n",
    "            \n",
    "        scores_df = pd.DataFrame(scores,columns=['k','sum_square_dist', 'sil'])\n",
    "        plt.figure(figsize=(10,5))\n",
    "        plt.subplot(121,ylabel='sum_square_dist')\n",
    "        plt.plot(scores_df.k,scores_df['sum_square_dist'])\n",
    "        plt.subplot(122,ylabel='sil')\n",
    "        plt.plot(scores_df.k,scores_df.sil)\n",
    "        plt.show()\n",
    "        return models"
   ]
  },
  {
   "cell_type": "code",
   "execution_count": 30,
   "metadata": {},
   "outputs": [
    {
     "data": {
      "image/png": "[encoded data removed]",
      "text/plain": [
       "<Figure size 720x360 with 2 Axes>"
      ]
     },
     "metadata": {
      "needs_background": "light"
     },
     "output_type": "display_data"
    }
   ],
   "source": [
    "scale_hh = scale.fit_transform(data_hh)\n",
    "model_hh = cluster_plot(scale_hh)"
   ]
  },
  {
   "cell_type": "code",
   "execution_count": 31,
   "metadata": {},
   "outputs": [
    {
     "data": {
      "image/png": "[encoded data removed]",
      "text/plain": [
       "<Figure size 720x360 with 2 Axes>"
      ]
     },
     "metadata": {
      "needs_background": "light"
     },
     "output_type": "display_data"
    }
   ],
   "source": [
    "scale_hb = scale.fit_transform(data_hb)\n",
    "model_hb = cluster_plot(data_hb)"
   ]
  },
  {
   "cell_type": "markdown",
   "metadata": {},
   "source": [
    "选择适当K值分别进行聚类，并将相应标签连接至原始数据集"
   ]
  },
  {
   "cell_type": "code",
   "execution_count": 32,
   "metadata": {},
   "outputs": [
    {
     "data": {
      "text/html": [
       "<div>\n",
       "<style scoped>\n",
       "    .dataframe tbody tr th:only-of-type {\n",
       "        vertical-align: middle;\n",
       "    }\n",
       "\n",
       "    .dataframe tbody tr th {\n",
       "        vertical-align: top;\n",
       "    }\n",
       "\n",
       "    .dataframe thead th {\n",
       "        text-align: right;\n",
       "    }\n",
       "</style>\n",
       "<table border=\"1\" class=\"dataframe\">\n",
       "  <thead>\n",
       "    <tr style=\"text-align: right;\">\n",
       "      <th></th>\n",
       "      <th>age</th>\n",
       "      <th>home_value</th>\n",
       "      <th>loan_ratio</th>\n",
       "      <th>risk_score</th>\n",
       "      <th>marital</th>\n",
       "      <th>interested_sport</th>\n",
       "      <th>HH_grandparent</th>\n",
       "      <th>HH_dieting</th>\n",
       "      <th>HH_head_age</th>\n",
       "      <th>auto_member</th>\n",
       "      <th>HH_has_children</th>\n",
       "      <th>HH_adults_num</th>\n",
       "      <th>interest</th>\n",
       "      <th>hh_label</th>\n",
       "      <th>hb_label</th>\n",
       "    </tr>\n",
       "  </thead>\n",
       "  <tbody>\n",
       "    <tr>\n",
       "      <th>0</th>\n",
       "      <td>64</td>\n",
       "      <td>124035</td>\n",
       "      <td>73</td>\n",
       "      <td>932</td>\n",
       "      <td>3</td>\n",
       "      <td>312</td>\n",
       "      <td>420</td>\n",
       "      <td>149</td>\n",
       "      <td>96</td>\n",
       "      <td>626</td>\n",
       "      <td>0</td>\n",
       "      <td>2.0</td>\n",
       "      <td>0.2</td>\n",
       "      <td>1</td>\n",
       "      <td>1</td>\n",
       "    </tr>\n",
       "    <tr>\n",
       "      <th>1</th>\n",
       "      <td>69</td>\n",
       "      <td>138574</td>\n",
       "      <td>73</td>\n",
       "      <td>1000</td>\n",
       "      <td>7</td>\n",
       "      <td>241</td>\n",
       "      <td>711</td>\n",
       "      <td>263</td>\n",
       "      <td>68</td>\n",
       "      <td>658</td>\n",
       "      <td>0</td>\n",
       "      <td>5.0</td>\n",
       "      <td>0.4</td>\n",
       "      <td>2</td>\n",
       "      <td>1</td>\n",
       "    </tr>\n",
       "    <tr>\n",
       "      <th>2</th>\n",
       "      <td>57</td>\n",
       "      <td>148136</td>\n",
       "      <td>77</td>\n",
       "      <td>688</td>\n",
       "      <td>1</td>\n",
       "      <td>367</td>\n",
       "      <td>240</td>\n",
       "      <td>240</td>\n",
       "      <td>56</td>\n",
       "      <td>354</td>\n",
       "      <td>0</td>\n",
       "      <td>2.0</td>\n",
       "      <td>0.2</td>\n",
       "      <td>1</td>\n",
       "      <td>1</td>\n",
       "    </tr>\n",
       "    <tr>\n",
       "      <th>3</th>\n",
       "      <td>80</td>\n",
       "      <td>162532</td>\n",
       "      <td>74</td>\n",
       "      <td>932</td>\n",
       "      <td>7</td>\n",
       "      <td>291</td>\n",
       "      <td>832</td>\n",
       "      <td>197</td>\n",
       "      <td>86</td>\n",
       "      <td>462</td>\n",
       "      <td>1</td>\n",
       "      <td>2.0</td>\n",
       "      <td>1.0</td>\n",
       "      <td>1</td>\n",
       "      <td>1</td>\n",
       "    </tr>\n",
       "    <tr>\n",
       "      <th>4</th>\n",
       "      <td>48</td>\n",
       "      <td>133580</td>\n",
       "      <td>77</td>\n",
       "      <td>987</td>\n",
       "      <td>10</td>\n",
       "      <td>137</td>\n",
       "      <td>121</td>\n",
       "      <td>209</td>\n",
       "      <td>42</td>\n",
       "      <td>423</td>\n",
       "      <td>1</td>\n",
       "      <td>3.0</td>\n",
       "      <td>0.8</td>\n",
       "      <td>1</td>\n",
       "      <td>0</td>\n",
       "    </tr>\n",
       "  </tbody>\n",
       "</table>\n",
       "</div>"
      ],
      "text/plain": [
       "   age  home_value  loan_ratio  risk_score  marital  interested_sport  \\\n",
       "0   64      124035          73         932        3               312   \n",
       "1   69      138574          73        1000        7               241   \n",
       "2   57      148136          77         688        1               367   \n",
       "3   80      162532          74         932        7               291   \n",
       "4   48      133580          77         987       10               137   \n",
       "\n",
       "   HH_grandparent  HH_dieting  HH_head_age  auto_member  HH_has_children  \\\n",
       "0             420         149           96          626                0   \n",
       "1             711         263           68          658                0   \n",
       "2             240         240           56          354                0   \n",
       "3             832         197           86          462                1   \n",
       "4             121         209           42          423                1   \n",
       "\n",
       "   HH_adults_num  interest  hh_label  hb_label  \n",
       "0            2.0       0.2         1         1  \n",
       "1            5.0       0.4         2         1  \n",
       "2            2.0       0.2         1         1  \n",
       "3            2.0       1.0         1         1  \n",
       "4            3.0       0.8         1         0  "
      ]
     },
     "execution_count": 32,
     "metadata": {},
     "output_type": "execute_result"
    }
   ],
   "source": [
    "col_hh = pd.DataFrame(model_hh[3].labels_,columns=['hh_label'])\n",
    "col_hb = pd.DataFrame(model_hb[2].labels_,columns=['hb_label'])\n",
    "cluster = travel.join(col_hh).join(col_hb)\n",
    "cluster.head()"
   ]
  },
  {
   "cell_type": "markdown",
   "metadata": {},
   "source": [
    "对各个簇的特征进行描述——使用原始数据"
   ]
  },
  {
   "cell_type": "code",
   "execution_count": 33,
   "metadata": {},
   "outputs": [
    {
     "name": "stderr",
     "output_type": "stream",
     "text": [
      "D:\\Anaconda3\\lib\\site-packages\\ipykernel_launcher.py:2: FutureWarning: sortlevel is deprecated, use sort_index(level= ...)\n",
      "  \n"
     ]
    },
    {
     "data": {
      "text/html": [
       "<div>\n",
       "<style scoped>\n",
       "    .dataframe tbody tr th:only-of-type {\n",
       "        vertical-align: middle;\n",
       "    }\n",
       "\n",
       "    .dataframe tbody tr th {\n",
       "        vertical-align: top;\n",
       "    }\n",
       "\n",
       "    .dataframe thead th {\n",
       "        text-align: right;\n",
       "    }\n",
       "</style>\n",
       "<table border=\"1\" class=\"dataframe\">\n",
       "  <thead>\n",
       "    <tr style=\"text-align: right;\">\n",
       "      <th></th>\n",
       "      <th>hh_label</th>\n",
       "      <th>0</th>\n",
       "      <th>1</th>\n",
       "      <th>2</th>\n",
       "    </tr>\n",
       "    <tr>\n",
       "      <th>hb_label</th>\n",
       "      <th></th>\n",
       "      <th></th>\n",
       "      <th></th>\n",
       "      <th></th>\n",
       "    </tr>\n",
       "  </thead>\n",
       "  <tbody>\n",
       "    <tr>\n",
       "      <th rowspan=\"13\" valign=\"top\">0</th>\n",
       "      <th>HH_adults_num</th>\n",
       "      <td>3.320966</td>\n",
       "      <td>2.046711</td>\n",
       "      <td>2.454411</td>\n",
       "    </tr>\n",
       "    <tr>\n",
       "      <th>HH_dieting</th>\n",
       "      <td>159.351479</td>\n",
       "      <td>168.825031</td>\n",
       "      <td>149.727943</td>\n",
       "    </tr>\n",
       "    <tr>\n",
       "      <th>HH_grandparent</th>\n",
       "      <td>280.750693</td>\n",
       "      <td>365.448911</td>\n",
       "      <td>413.319563</td>\n",
       "    </tr>\n",
       "    <tr>\n",
       "      <th>HH_has_children</th>\n",
       "      <td>0.455810</td>\n",
       "      <td>0.243577</td>\n",
       "      <td>0.149012</td>\n",
       "    </tr>\n",
       "    <tr>\n",
       "      <th>HH_head_age</th>\n",
       "      <td>55.115465</td>\n",
       "      <td>57.930433</td>\n",
       "      <td>69.098849</td>\n",
       "    </tr>\n",
       "    <tr>\n",
       "      <th>age</th>\n",
       "      <td>56.562876</td>\n",
       "      <td>54.952146</td>\n",
       "      <td>66.515049</td>\n",
       "    </tr>\n",
       "    <tr>\n",
       "      <th>auto_member</th>\n",
       "      <td>453.418632</td>\n",
       "      <td>363.635349</td>\n",
       "      <td>443.417822</td>\n",
       "    </tr>\n",
       "    <tr>\n",
       "      <th>home_value</th>\n",
       "      <td>231155.173756</td>\n",
       "      <td>152546.183785</td>\n",
       "      <td>170325.659192</td>\n",
       "    </tr>\n",
       "    <tr>\n",
       "      <th>interest</th>\n",
       "      <td>0.405340</td>\n",
       "      <td>0.327098</td>\n",
       "      <td>0.343582</td>\n",
       "    </tr>\n",
       "    <tr>\n",
       "      <th>interested_sport</th>\n",
       "      <td>217.337725</td>\n",
       "      <td>201.871824</td>\n",
       "      <td>226.835202</td>\n",
       "    </tr>\n",
       "    <tr>\n",
       "      <th>loan_ratio</th>\n",
       "      <td>65.372823</td>\n",
       "      <td>72.074995</td>\n",
       "      <td>68.727206</td>\n",
       "    </tr>\n",
       "    <tr>\n",
       "      <th>marital</th>\n",
       "      <td>8.787833</td>\n",
       "      <td>5.320491</td>\n",
       "      <td>6.029950</td>\n",
       "    </tr>\n",
       "    <tr>\n",
       "      <th>risk_score</th>\n",
       "      <td>813.032401</td>\n",
       "      <td>733.327082</td>\n",
       "      <td>999.948805</td>\n",
       "    </tr>\n",
       "    <tr>\n",
       "      <th rowspan=\"13\" valign=\"top\">1</th>\n",
       "      <th>HH_adults_num</th>\n",
       "      <td>3.321269</td>\n",
       "      <td>2.147778</td>\n",
       "      <td>2.739952</td>\n",
       "    </tr>\n",
       "    <tr>\n",
       "      <th>HH_dieting</th>\n",
       "      <td>233.033293</td>\n",
       "      <td>263.902314</td>\n",
       "      <td>231.094250</td>\n",
       "    </tr>\n",
       "    <tr>\n",
       "      <th>HH_grandparent</th>\n",
       "      <td>328.756154</td>\n",
       "      <td>504.956742</td>\n",
       "      <td>503.007257</td>\n",
       "    </tr>\n",
       "    <tr>\n",
       "      <th>HH_has_children</th>\n",
       "      <td>0.367121</td>\n",
       "      <td>0.175461</td>\n",
       "      <td>0.164124</td>\n",
       "    </tr>\n",
       "    <tr>\n",
       "      <th>HH_head_age</th>\n",
       "      <td>57.786220</td>\n",
       "      <td>62.859750</td>\n",
       "      <td>67.440547</td>\n",
       "    </tr>\n",
       "    <tr>\n",
       "      <th>age</th>\n",
       "      <td>60.342222</td>\n",
       "      <td>62.994901</td>\n",
       "      <td>70.046520</td>\n",
       "    </tr>\n",
       "    <tr>\n",
       "      <th>auto_member</th>\n",
       "      <td>594.834602</td>\n",
       "      <td>524.459014</td>\n",
       "      <td>595.245162</td>\n",
       "    </tr>\n",
       "    <tr>\n",
       "      <th>home_value</th>\n",
       "      <td>281129.284204</td>\n",
       "      <td>170214.462240</td>\n",
       "      <td>212057.124023</td>\n",
       "    </tr>\n",
       "    <tr>\n",
       "      <th>interest</th>\n",
       "      <td>0.646284</td>\n",
       "      <td>0.652159</td>\n",
       "      <td>0.649963</td>\n",
       "    </tr>\n",
       "    <tr>\n",
       "      <th>interested_sport</th>\n",
       "      <td>307.549722</td>\n",
       "      <td>302.452735</td>\n",
       "      <td>323.355136</td>\n",
       "    </tr>\n",
       "    <tr>\n",
       "      <th>loan_ratio</th>\n",
       "      <td>60.048992</td>\n",
       "      <td>70.461685</td>\n",
       "      <td>63.388723</td>\n",
       "    </tr>\n",
       "    <tr>\n",
       "      <th>marital</th>\n",
       "      <td>8.554933</td>\n",
       "      <td>5.420266</td>\n",
       "      <td>6.749070</td>\n",
       "    </tr>\n",
       "    <tr>\n",
       "      <th>risk_score</th>\n",
       "      <td>847.490396</td>\n",
       "      <td>803.260762</td>\n",
       "      <td>999.927707</td>\n",
       "    </tr>\n",
       "  </tbody>\n",
       "</table>\n",
       "</div>"
      ],
      "text/plain": [
       "hh_label                               0              1              2\n",
       "hb_label                                                              \n",
       "0        HH_adults_num          3.320966       2.046711       2.454411\n",
       "         HH_dieting           159.351479     168.825031     149.727943\n",
       "         HH_grandparent       280.750693     365.448911     413.319563\n",
       "         HH_has_children        0.455810       0.243577       0.149012\n",
       "         HH_head_age           55.115465      57.930433      69.098849\n",
       "         age                   56.562876      54.952146      66.515049\n",
       "         auto_member          453.418632     363.635349     443.417822\n",
       "         home_value        231155.173756  152546.183785  170325.659192\n",
       "         interest               0.405340       0.327098       0.343582\n",
       "         interested_sport     217.337725     201.871824     226.835202\n",
       "         loan_ratio            65.372823      72.074995      68.727206\n",
       "         marital                8.787833       5.320491       6.029950\n",
       "         risk_score           813.032401     733.327082     999.948805\n",
       "1        HH_adults_num          3.321269       2.147778       2.739952\n",
       "         HH_dieting           233.033293     263.902314     231.094250\n",
       "         HH_grandparent       328.756154     504.956742     503.007257\n",
       "         HH_has_children        0.367121       0.175461       0.164124\n",
       "         HH_head_age           57.786220      62.859750      67.440547\n",
       "         age                   60.342222      62.994901      70.046520\n",
       "         auto_member          594.834602     524.459014     595.245162\n",
       "         home_value        281129.284204  170214.462240  212057.124023\n",
       "         interest               0.646284       0.652159       0.649963\n",
       "         interested_sport     307.549722     302.452735     323.355136\n",
       "         loan_ratio            60.048992      70.461685      63.388723\n",
       "         marital                8.554933       5.420266       6.749070\n",
       "         risk_score           847.490396     803.260762     999.927707"
      ]
     },
     "execution_count": 33,
     "metadata": {},
     "output_type": "execute_result"
    }
   ],
   "source": [
    "analysis = pd.pivot_table(cluster,index='hh_label',columns='hb_label',aggfunc='mean').T\n",
    "analysis.swaplevel('hb_label',0).sortlevel(0)"
   ]
  },
  {
   "cell_type": "markdown",
   "metadata": {},
   "source": [
    "对各个簇的特征进行描述——使用原始数据"
   ]
  },
  {
   "cell_type": "code",
   "execution_count": 35,
   "metadata": {},
   "outputs": [
    {
     "data": {
      "text/plain": [
       "DecisionTreeClassifier(class_weight=None, criterion='gini', max_depth=None,\n",
       "            max_features=None, max_leaf_nodes=None,\n",
       "            min_impurity_decrease=0.0, min_impurity_split=None,\n",
       "            min_samples_leaf=1, min_samples_split=2,\n",
       "            min_weight_fraction_leaf=0.0, presort=False, random_state=None,\n",
       "            splitter='best')"
      ]
     },
     "execution_count": 35,
     "metadata": {},
     "output_type": "execute_result"
    }
   ],
   "source": [
    "from sklearn.tree import DecisionTreeClassifier\n",
    "\n",
    "dtc_hh = DecisionTreeClassifier()\n",
    "dtc_hb = DecisionTreeClassifier()\n",
    "\n",
    "dtc_hh.fit(cluster[household],cluster.hh_label)\n",
    "dtc_hb.fit(cluster[hobby],cluster.hb_label)"
   ]
  },
  {
   "cell_type": "code",
   "execution_count": 37,
   "metadata": {},
   "outputs": [
    {
     "name": "stdout",
     "output_type": "stream",
     "text": [
      "warning, language png not recognized, use one of:\r\n",
      " dot canon plain plain-ext\r\n",
      "\n"
     ]
    },
    {
     "data": {
      "image/png": "[encoded data removed]",
      "text/plain": [
       "<IPython.core.display.Image object>"
      ]
     },
     "execution_count": 37,
     "metadata": {},
     "output_type": "execute_result"
    }
   ],
   "source": [
    "import pydotplus\n",
    "from IPython.display import Image\n",
    "import sklearn.tree as tree\n",
    "\n",
    "dot_hh = tree.export_graphviz(dtc_hh,\n",
    "                              max_depth=2,\n",
    "                              feature_names=household,\n",
    "                              class_names=['0','1','2'],\n",
    "                              filled=True,)\n",
    "grap_hh = pydotplus.graph_from_dot_data(dot_hh)\n",
    "Image(grap_hh.create_png())"
   ]
  },
  {
   "cell_type": "markdown",
   "metadata": {},
   "source": [
    "有多个属性可用于分析用户的特征，使用决策树会计算属性对于类别的重要性，因此可用于发现其中较突出的属性（特征）\n",
    "\n",
    "标签hh=0用户的突出特征是已婚低风险\n",
    "标签hh=1用户的突出特征是未婚低风险\n",
    "标签hh=2的用户的突出特征是高风险"
   ]
  },
  {
   "cell_type": "code",
   "execution_count": 40,
   "metadata": {},
   "outputs": [
    {
     "name": "stdout",
     "output_type": "stream",
     "text": [
      "warning, language png not recognized, use one of:\r\n",
      " dot canon plain plain-ext\r\n",
      "\n"
     ]
    },
    {
     "data": {
      "image/png": "[encoded data removed]",
      "text/plain": [
       "<IPython.core.display.Image object>"
      ]
     },
     "execution_count": 40,
     "metadata": {},
     "output_type": "execute_result"
    }
   ],
   "source": [
    "dot_hb = tree.export_graphviz(\n",
    "    dtc_hb,\n",
    "    out_file=None, \n",
    "    feature_names=hobby, \n",
    "    class_names=['0','1'],\n",
    "    max_depth=2, \n",
    "    filled=True\n",
    ") \n",
    "\n",
    "graph_hb = pydotplus.graph_from_dot_data(dot_hb)  \n",
    "Image(graph_hb.create_png()) \n"
   ]
  },
  {
   "cell_type": "code",
   "execution_count": null,
   "metadata": {},
   "outputs": [],
   "source": []
  }
 ],
 "metadata": {
  "kernelspec": {
   "display_name": "Python 3",
   "language": "python",
   "name": "python3"
  },
  "language_info": {
   "codemirror_mode": {
    "name": "ipython",
    "version": 3
   },
   "file_extension": ".py",
   "mimetype": "text/x-python",
   "name": "python",
   "nbconvert_exporter": "python",
   "pygments_lexer": "ipython3",
   "version": "3.7.1"
  }
 },
 "nbformat": 4,
 "nbformat_minor": 2
}
