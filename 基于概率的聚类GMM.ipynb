{
 "cells": [
  {
   "cell_type": "code",
   "execution_count": 1,
   "metadata": {},
   "outputs": [],
   "source": [
    "%matplotlib inline\n",
    "import pandas as pd\n",
    "import matplotlib.pyplot as plt\n",
    "import numpy as np"
   ]
  },
  {
   "cell_type": "code",
   "execution_count": 2,
   "metadata": {},
   "outputs": [],
   "source": [
    "from sklearn import datasets\n",
    "\n",
    "iris = datasets.load_iris()"
   ]
  },
  {
   "cell_type": "code",
   "execution_count": 3,
   "metadata": {},
   "outputs": [],
   "source": [
    "from sklearn.preprocessing import StandardScaler, Normalizer\n",
    "from sklearn.decomposition import PCA\n",
    "stand_iris = Normalizer().fit_transform(iris.data)\n",
    "pca = PCA(n_components=1)\n",
    "stand_pca_iris = pca.fit_transform(stand_iris)"
   ]
  },
  {
   "cell_type": "markdown",
   "metadata": {},
   "source": [
    "高斯混合模型GMM*"
   ]
  },
  {
   "cell_type": "code",
   "execution_count": 4,
   "metadata": {},
   "outputs": [
    {
     "data": {
      "text/plain": [
       "GaussianMixture(covariance_type='full', init_params='kmeans', max_iter=100,\n",
       "        means_init=None, n_components=3, n_init=15, precisions_init=None,\n",
       "        random_state=None, reg_covar=1e-06, tol=0.001, verbose=0,\n",
       "        verbose_interval=10, warm_start=False, weights_init=None)"
      ]
     },
     "execution_count": 4,
     "metadata": {},
     "output_type": "execute_result"
    }
   ],
   "source": [
    "from sklearn.mixture import GaussianMixture\n",
    "\n",
    "gm = GaussianMixture(n_components=3,n_init=15)\n",
    "gm.fit(stand_pca_iris)"
   ]
  },
  {
   "cell_type": "code",
   "execution_count": 5,
   "metadata": {
    "scrolled": true
   },
   "outputs": [
    {
     "name": "stdout",
     "output_type": "stream",
     "text": [
      "0.7350900606555573\n"
     ]
    }
   ],
   "source": [
    "from sklearn import metrics\n",
    "\n",
    "print(metrics.silhouette_score(stand_pca_iris,gm.predict(stand_pca_iris)))"
   ]
  },
  {
   "cell_type": "code",
   "execution_count": 6,
   "metadata": {},
   "outputs": [
    {
     "name": "stdout",
     "output_type": "stream",
     "text": [
      "0.9410449800736683\n"
     ]
    }
   ],
   "source": [
    "print(metrics.adjusted_rand_score(iris.target,gm.predict(stand_pca_iris)))"
   ]
  },
  {
   "cell_type": "code",
   "execution_count": 7,
   "metadata": {},
   "outputs": [
    {
     "data": {
      "text/plain": [
       "array([[1.00000000e+00, 5.81603414e-79, 1.77919953e-41],\n",
       "       [1.00000000e+00, 2.27526421e-69, 1.87836249e-35],\n",
       "       [1.00000000e+00, 1.02281474e-77, 1.06521161e-40],\n",
       "       [1.00000000e+00, 8.06891705e-67, 7.74773312e-34],\n",
       "       [1.00000000e+00, 8.40885509e-81, 1.27148856e-42],\n",
       "       [1.00000000e+00, 7.99119827e-71, 2.26498043e-36],\n",
       "       [1.00000000e+00, 3.01530016e-75, 3.74085484e-39],\n",
       "       [1.00000000e+00, 4.91292271e-73, 9.16248489e-38],\n",
       "       [1.00000000e+00, 8.00617236e-67, 7.70943731e-34],\n",
       "       [1.00000000e+00, 5.00123064e-69, 3.09118743e-35],\n",
       "       [1.00000000e+00, 2.19784302e-78, 4.07789845e-41],\n",
       "       [1.00000000e+00, 9.32080417e-69, 4.58371659e-35],\n",
       "       [1.00000000e+00, 2.96405173e-71, 1.21161213e-36],\n",
       "       [1.00000000e+00, 2.15621819e-85, 1.81063413e-45],\n",
       "       [1.00000000e+00, 5.32604795e-94, 9.32372120e-51],\n",
       "       [1.00000000e+00, 6.09388191e-86, 8.29446333e-46],\n",
       "       [1.00000000e+00, 6.34690343e-86, 8.50548938e-46],\n",
       "       [1.00000000e+00, 3.93253330e-77, 2.47161396e-40],\n",
       "       [1.00000000e+00, 5.68251433e-71, 1.82659432e-36],\n",
       "       [1.00000000e+00, 2.04545295e-78, 3.89905338e-41],\n",
       "       [1.00000000e+00, 2.11276633e-65, 6.16901284e-33],\n",
       "       [1.00000000e+00, 7.00604284e-75, 6.34724061e-39],\n",
       "       [1.00000000e+00, 1.11934904e-98, 1.32271451e-53],\n",
       "       [1.00000000e+00, 8.68044541e-58, 4.58375993e-28],\n",
       "       [1.00000000e+00, 1.77471926e-56, 3.20217567e-27],\n",
       "       [1.00000000e+00, 4.42770348e-61, 3.53130411e-30],\n",
       "       [1.00000000e+00, 2.62722520e-65, 7.08635811e-33],\n",
       "       [1.00000000e+00, 6.57334195e-75, 6.09842942e-39],\n",
       "       [1.00000000e+00, 4.17032897e-77, 2.56403342e-40],\n",
       "       [1.00000000e+00, 1.12466906e-64, 1.78804321e-32],\n",
       "       [1.00000000e+00, 8.53029035e-63, 2.82609784e-31],\n",
       "       [1.00000000e+00, 1.31553234e-69, 1.32846818e-35],\n",
       "       [1.00000000e+00, 8.36659322e-87, 2.43533878e-46],\n",
       "       [1.00000000e+00, 3.97584315e-90, 2.19513879e-48],\n",
       "       [1.00000000e+00, 3.81798542e-67, 4.81887186e-34],\n",
       "       [1.00000000e+00, 7.70293858e-82, 2.87801054e-43],\n",
       "       [1.00000000e+00, 1.27067927e-82, 9.40320226e-44],\n",
       "       [1.00000000e+00, 1.04196033e-82, 8.31397327e-44],\n",
       "       [1.00000000e+00, 1.22540197e-73, 3.82715881e-38],\n",
       "       [1.00000000e+00, 4.60343918e-73, 8.79509874e-38],\n",
       "       [1.00000000e+00, 2.77435971e-81, 6.38075777e-43],\n",
       "       [1.00000000e+00, 1.27029252e-55, 1.14019731e-26],\n",
       "       [1.00000000e+00, 8.70004863e-78, 9.62796870e-41],\n",
       "       [1.00000000e+00, 1.50255085e-63, 9.32992610e-32],\n",
       "       [1.00000000e+00, 3.31389084e-61, 2.93340879e-30],\n",
       "       [1.00000000e+00, 2.33443729e-67, 3.52710611e-34],\n",
       "       [1.00000000e+00, 3.11781756e-76, 9.02735660e-40],\n",
       "       [1.00000000e+00, 2.77253806e-73, 6.39393155e-38],\n",
       "       [1.00000000e+00, 2.03420234e-78, 3.88565484e-41],\n",
       "       [1.00000000e+00, 2.72560719e-75, 3.51130907e-39],\n",
       "       [1.81922824e-32, 1.87547232e-04, 9.99812453e-01],\n",
       "       [6.33667599e-34, 5.47372370e-04, 9.99452628e-01],\n",
       "       [9.41960002e-38, 8.20033734e-03, 9.91799663e-01],\n",
       "       [8.55686198e-43, 1.84521626e-01, 8.15478374e-01],\n",
       "       [1.31432792e-39, 2.83339985e-02, 9.71666001e-01],\n",
       "       [1.88293309e-42, 1.54853211e-01, 8.45146789e-01],\n",
       "       [4.31355184e-37, 5.20223261e-03, 9.94797767e-01],\n",
       "       [2.54982332e-30, 3.73317677e-05, 9.99962668e-01],\n",
       "       [2.89769488e-36, 2.91999139e-03, 9.97080009e-01],\n",
       "       [1.70000090e-38, 1.35805297e-02, 9.86419470e-01],\n",
       "       [7.78459135e-40, 3.28217008e-02, 9.67178299e-01],\n",
       "       [4.81973099e-35, 1.22758278e-03, 9.98772417e-01],\n",
       "       [1.54110255e-37, 7.08220746e-03, 9.92917793e-01],\n",
       "       [5.36935713e-42, 1.21171499e-01, 8.78828501e-01],\n",
       "       [2.14646255e-26, 1.74240045e-06, 9.99998258e-01],\n",
       "       [5.63560929e-31, 6.14037425e-05, 9.99938596e-01],\n",
       "       [4.60218460e-42, 1.25727705e-01, 8.74272295e-01],\n",
       "       [5.27307892e-34, 5.80070357e-04, 9.99419930e-01],\n",
       "       [1.24731368e-48, 8.43287384e-01, 1.56712616e-01],\n",
       "       [1.24480821e-35, 1.86694862e-03, 9.98133051e-01],\n",
       "       [3.99043865e-44, 3.33403978e-01, 6.66596022e-01],\n",
       "       [2.27659238e-31, 8.26256305e-05, 9.99917374e-01],\n",
       "       [3.83345867e-50, 9.17467299e-01, 8.25327010e-02],\n",
       "       [9.30035881e-42, 1.06010790e-01, 8.93989210e-01],\n",
       "       [5.56629881e-33, 2.74300012e-04, 9.99725700e-01],\n",
       "       [8.77527046e-33, 2.37077539e-04, 9.99762922e-01],\n",
       "       [9.35306381e-40, 3.11781071e-02, 9.68821893e-01],\n",
       "       [4.71266329e-43, 2.09454249e-01, 7.90545751e-01],\n",
       "       [2.13486071e-40, 4.68993222e-02, 9.53100678e-01],\n",
       "       [2.51498423e-25, 7.37611766e-07, 9.99999262e-01],\n",
       "       [4.73044605e-36, 2.51353337e-03, 9.97486467e-01],\n",
       "       [2.43353633e-33, 3.57209030e-04, 9.99642791e-01],\n",
       "       [3.02233084e-32, 1.59220019e-04, 9.99840780e-01],\n",
       "       [3.11943307e-54, 9.86346564e-01, 1.36534356e-02],\n",
       "       [1.16355016e-43, 2.75950950e-01, 7.24049050e-01],\n",
       "       [8.56869795e-35, 1.02608780e-03, 9.98973912e-01],\n",
       "       [3.61275662e-36, 2.72969576e-03, 9.97270304e-01],\n",
       "       [7.62468634e-43, 1.89176140e-01, 8.10823860e-01],\n",
       "       [7.01200015e-34, 5.30131182e-04, 9.99469869e-01],\n",
       "       [7.09783694e-40, 3.36789757e-02, 9.66321024e-01],\n",
       "       [1.69875880e-44, 3.82259330e-01, 6.17740670e-01],\n",
       "       [3.47758213e-39, 2.14898688e-02, 9.78510131e-01],\n",
       "       [2.53407036e-35, 1.49871346e-03, 9.98501287e-01],\n",
       "       [4.42664018e-31, 6.64661801e-05, 9.99933534e-01],\n",
       "       [1.13576452e-39, 2.95234843e-02, 9.70476516e-01],\n",
       "       [4.85993001e-34, 5.95197450e-04, 9.99404803e-01],\n",
       "       [3.40893899e-36, 2.77858961e-03, 9.97221410e-01],\n",
       "       [2.57436135e-34, 7.27022384e-04, 9.99272978e-01],\n",
       "       [6.23421111e-22, 4.48178216e-08, 9.99999955e-01],\n",
       "       [7.17082486e-36, 2.21237085e-03, 9.97787629e-01],\n",
       "       [2.93506541e-63, 9.99687154e-01, 3.12845751e-04],\n",
       "       [1.08398746e-58, 9.97991082e-01, 2.00891760e-03],\n",
       "       [2.38825339e-56, 9.94560677e-01, 5.43932324e-03],\n",
       "       [4.47682934e-58, 9.97396543e-01, 2.60345738e-03],\n",
       "       [8.67371095e-61, 9.99156468e-01, 8.43532041e-04],\n",
       "       [1.19649083e-61, 9.99405104e-01, 5.94896049e-04],\n",
       "       [3.13189424e-59, 9.98396421e-01, 1.60357869e-03],\n",
       "       [2.06976296e-59, 9.98512060e-01, 1.48793967e-03],\n",
       "       [5.50283413e-63, 9.99651501e-01, 3.48498934e-04],\n",
       "       [2.56888065e-53, 9.79573490e-01, 2.04265101e-02],\n",
       "       [1.16832464e-45, 5.41003437e-01, 4.58996563e-01],\n",
       "       [3.56008595e-56, 9.94138617e-01, 5.86138326e-03],\n",
       "       [5.67831518e-53, 9.76220281e-01, 2.37797186e-02],\n",
       "       [5.16040006e-62, 9.99486443e-01, 5.13556690e-04],\n",
       "       [4.85577084e-61, 9.99238789e-01, 7.61210651e-04],\n",
       "       [5.67667041e-52, 9.63013869e-01, 3.69861306e-02],\n",
       "       [2.74502532e-53, 9.79312383e-01, 2.06876172e-02],\n",
       "       [3.46868574e-53, 9.78363967e-01, 2.16360326e-02],\n",
       "       [2.27791791e-70, 9.99978099e-01, 2.19008510e-05],\n",
       "       [1.74123357e-59, 9.98557741e-01, 1.44225913e-03],\n",
       "       [7.31542484e-54, 9.83935827e-01, 1.60641730e-02],\n",
       "       [1.59013185e-56, 9.94958756e-01, 5.04124446e-03],\n",
       "       [7.74096658e-64, 9.99750802e-01, 2.49198078e-04],\n",
       "       [1.14229525e-49, 8.98748843e-01, 1.01251157e-01],\n",
       "       [1.04384923e-52, 9.73274737e-01, 2.67252628e-02],\n",
       "       [3.55820780e-52, 9.66184152e-01, 3.38158484e-02],\n",
       "       [2.28543180e-47, 7.41926184e-01, 2.58073816e-01],\n",
       "       [5.62320984e-47, 7.02022336e-01, 2.97977664e-01],\n",
       "       [7.43953628e-61, 9.99179105e-01, 8.20895392e-04],\n",
       "       [2.19656150e-50, 9.25698995e-01, 7.43010047e-02],\n",
       "       [7.95505673e-58, 9.97106501e-01, 2.89349950e-03],\n",
       "       [1.55159715e-46, 6.52312687e-01, 3.47687313e-01],\n",
       "       [1.39942008e-61, 9.99388535e-01, 6.11464958e-04],\n",
       "       [4.85020962e-49, 8.67845981e-01, 1.32154019e-01],\n",
       "       [3.62941434e-61, 9.99276925e-01, 7.23075375e-04],\n",
       "       [1.32527822e-55, 9.92496655e-01, 7.50334509e-03],\n",
       "       [2.28821205e-55, 9.91682518e-01, 8.31748159e-03],\n",
       "       [1.00277472e-52, 9.73479773e-01, 2.65202270e-02],\n",
       "       [3.70637084e-46, 6.06058280e-01, 3.93941720e-01],\n",
       "       [3.34682878e-49, 8.76506532e-01, 1.23493468e-01],\n",
       "       [3.74988210e-56, 9.94081293e-01, 5.91870694e-03],\n",
       "       [4.67304890e-46, 5.93256987e-01, 4.06743013e-01],\n",
       "       [1.08398746e-58, 9.97991082e-01, 2.00891760e-03],\n",
       "       [1.31339438e-57, 9.96826485e-01, 3.17351474e-03],\n",
       "       [1.37727604e-55, 9.92442047e-01, 7.55795257e-03],\n",
       "       [1.21625433e-50, 9.33572321e-01, 6.64276787e-02],\n",
       "       [3.22798374e-55, 9.91123807e-01, 8.87619317e-03],\n",
       "       [4.57141135e-50, 9.14688631e-01, 8.53113690e-02],\n",
       "       [2.22825583e-52, 9.69088875e-01, 3.09111250e-02],\n",
       "       [3.37710158e-52, 9.66521418e-01, 3.34785821e-02]])"
      ]
     },
     "execution_count": 7,
     "metadata": {},
     "output_type": "execute_result"
    }
   ],
   "source": [
    "gm.predict_proba(stand_pca_iris)"
   ]
  },
  {
   "cell_type": "markdown",
   "metadata": {},
   "source": [
    "聚类个数的选择"
   ]
  },
  {
   "cell_type": "code",
   "execution_count": 8,
   "metadata": {},
   "outputs": [
    {
     "data": {
      "text/plain": [
       "-305.92805287116335"
      ]
     },
     "execution_count": 8,
     "metadata": {},
     "output_type": "execute_result"
    }
   ],
   "source": [
    "gm.bic(stand_pca_iris)"
   ]
  },
  {
   "cell_type": "code",
   "execution_count": 9,
   "metadata": {},
   "outputs": [],
   "source": [
    "cv_types = ['spherical', 'tied', 'diag', 'full']\n",
    "bic = {}\n",
    "ks = range(1,7)\n",
    "for c in cv_types:\n",
    "    b={}\n",
    "    for k in ks:\n",
    "        gm = GaussianMixture(n_components=k,covariance_type=c)\n",
    "        gm.fit(stand_pca_iris)\n",
    "        b[k] = gm.bic(stand_pca_iris)\n",
    "    bic[c] = b"
   ]
  },
  {
   "cell_type": "code",
   "execution_count": 13,
   "metadata": {},
   "outputs": [
    {
     "data": {
      "text/html": [
       "<div>\n",
       "<style scoped>\n",
       "    .dataframe tbody tr th:only-of-type {\n",
       "        vertical-align: middle;\n",
       "    }\n",
       "\n",
       "    .dataframe tbody tr th {\n",
       "        vertical-align: top;\n",
       "    }\n",
       "\n",
       "    .dataframe thead th {\n",
       "        text-align: right;\n",
       "    }\n",
       "</style>\n",
       "<table border=\"1\" class=\"dataframe\">\n",
       "  <thead>\n",
       "    <tr style=\"text-align: right;\">\n",
       "      <th></th>\n",
       "      <th>spherical</th>\n",
       "      <th>tied</th>\n",
       "      <th>diag</th>\n",
       "      <th>full</th>\n",
       "    </tr>\n",
       "  </thead>\n",
       "  <tbody>\n",
       "    <tr>\n",
       "      <th>1</th>\n",
       "      <td>-36.882632</td>\n",
       "      <td>-36.882632</td>\n",
       "      <td>-36.882632</td>\n",
       "      <td>-36.882632</td>\n",
       "    </tr>\n",
       "    <tr>\n",
       "      <th>2</th>\n",
       "      <td>-305.185983</td>\n",
       "      <td>-293.567998</td>\n",
       "      <td>-305.185983</td>\n",
       "      <td>-305.185983</td>\n",
       "    </tr>\n",
       "    <tr>\n",
       "      <th>3</th>\n",
       "      <td>-305.928053</td>\n",
       "      <td>-315.164749</td>\n",
       "      <td>-305.928053</td>\n",
       "      <td>-305.928053</td>\n",
       "    </tr>\n",
       "    <tr>\n",
       "      <th>4</th>\n",
       "      <td>-290.811355</td>\n",
       "      <td>-303.410128</td>\n",
       "      <td>-290.162823</td>\n",
       "      <td>-290.811355</td>\n",
       "    </tr>\n",
       "    <tr>\n",
       "      <th>5</th>\n",
       "      <td>-275.303440</td>\n",
       "      <td>-294.801113</td>\n",
       "      <td>-275.347460</td>\n",
       "      <td>-275.303440</td>\n",
       "    </tr>\n",
       "    <tr>\n",
       "      <th>6</th>\n",
       "      <td>-260.022026</td>\n",
       "      <td>-284.593039</td>\n",
       "      <td>-259.962381</td>\n",
       "      <td>-259.865681</td>\n",
       "    </tr>\n",
       "  </tbody>\n",
       "</table>\n",
       "</div>"
      ],
      "text/plain": [
       "    spherical        tied        diag        full\n",
       "1  -36.882632  -36.882632  -36.882632  -36.882632\n",
       "2 -305.185983 -293.567998 -305.185983 -305.185983\n",
       "3 -305.928053 -315.164749 -305.928053 -305.928053\n",
       "4 -290.811355 -303.410128 -290.162823 -290.811355\n",
       "5 -275.303440 -294.801113 -275.347460 -275.303440\n",
       "6 -260.022026 -284.593039 -259.962381 -259.865681"
      ]
     },
     "execution_count": 13,
     "metadata": {},
     "output_type": "execute_result"
    }
   ],
   "source": [
    "k_bic = pd.DataFrame(bic)\n",
    "k_bic"
   ]
  },
  {
   "cell_type": "code",
   "execution_count": 16,
   "metadata": {},
   "outputs": [
    {
     "data": {
      "text/plain": [
       "<matplotlib.axes._subplots.AxesSubplot at 0x1c70a1055c0>"
      ]
     },
     "execution_count": 16,
     "metadata": {},
     "output_type": "execute_result"
    },
    {
     "data": {
      "image/png": "[encoded data removed]",
      "text/plain": [
       "<Figure size 432x288 with 1 Axes>"
      ]
     },
     "metadata": {
      "needs_background": "light"
     },
     "output_type": "display_data"
    }
   ],
   "source": [
    "k_bic.plot()"
   ]
  }
 ],
 "metadata": {
  "kernelspec": {
   "display_name": "Python 3",
   "language": "python",
   "name": "python3"
  },
  "language_info": {
   "codemirror_mode": {
    "name": "ipython",
    "version": 3
   },
   "file_extension": ".py",
   "mimetype": "text/x-python",
   "name": "python",
   "nbconvert_exporter": "python",
   "pygments_lexer": "ipython3",
   "version": "3.6.8"
  }
 },
 "nbformat": 4,
 "nbformat_minor": 2
}
