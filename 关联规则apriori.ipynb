{
 "cells": [
  {
   "cell_type": "code",
   "execution_count": 1,
   "metadata": {},
   "outputs": [],
   "source": [
    "import numpy as np\n",
    "import pandas as pd\n",
    "import matplotlib.pyplot as plt\n",
    "%matplotlib inline"
   ]
  },
  {
   "cell_type": "code",
   "execution_count": 3,
   "metadata": {},
   "outputs": [
    {
     "name": "stdout",
     "output_type": "stream",
     "text": [
      "apriori imported!\n"
     ]
    }
   ],
   "source": [
    "import os\n",
    "import sys\n",
    "\n",
    "sys.path.append('C:/Users/acerpc/Desktop/data_folder')\n",
    "os.chdir('C:/Users/acerpc/Desktop/data_folder')\n",
    "import apriori"
   ]
  },
  {
   "cell_type": "code",
   "execution_count": 4,
   "metadata": {},
   "outputs": [
    {
     "data": {
      "text/html": [
       "<div>\n",
       "<style scoped>\n",
       "    .dataframe tbody tr th:only-of-type {\n",
       "        vertical-align: middle;\n",
       "    }\n",
       "\n",
       "    .dataframe tbody tr th {\n",
       "        vertical-align: top;\n",
       "    }\n",
       "\n",
       "    .dataframe thead th {\n",
       "        text-align: right;\n",
       "    }\n",
       "</style>\n",
       "<table border=\"1\" class=\"dataframe\">\n",
       "  <thead>\n",
       "    <tr style=\"text-align: right;\">\n",
       "      <th></th>\n",
       "      <th>OrderNumber</th>\n",
       "      <th>LineNumber</th>\n",
       "      <th>Model</th>\n",
       "    </tr>\n",
       "  </thead>\n",
       "  <tbody>\n",
       "    <tr>\n",
       "      <th>0</th>\n",
       "      <td>SO51178</td>\n",
       "      <td>1</td>\n",
       "      <td>Mountain-200</td>\n",
       "    </tr>\n",
       "    <tr>\n",
       "      <th>1</th>\n",
       "      <td>SO51178</td>\n",
       "      <td>2</td>\n",
       "      <td>Mountain Bottle Cage</td>\n",
       "    </tr>\n",
       "    <tr>\n",
       "      <th>2</th>\n",
       "      <td>SO51178</td>\n",
       "      <td>3</td>\n",
       "      <td>Water Bottle</td>\n",
       "    </tr>\n",
       "    <tr>\n",
       "      <th>3</th>\n",
       "      <td>SO51184</td>\n",
       "      <td>1</td>\n",
       "      <td>Mountain-200</td>\n",
       "    </tr>\n",
       "    <tr>\n",
       "      <th>4</th>\n",
       "      <td>SO51184</td>\n",
       "      <td>2</td>\n",
       "      <td>HL Mountain Tire</td>\n",
       "    </tr>\n",
       "  </tbody>\n",
       "</table>\n",
       "</div>"
      ],
      "text/plain": [
       "  OrderNumber  LineNumber                 Model\n",
       "0     SO51178           1          Mountain-200\n",
       "1     SO51178           2  Mountain Bottle Cage\n",
       "2     SO51178           3          Water Bottle\n",
       "3     SO51184           1          Mountain-200\n",
       "4     SO51184           2      HL Mountain Tire"
      ]
     },
     "execution_count": 4,
     "metadata": {},
     "output_type": "execute_result"
    }
   ],
   "source": [
    "transactions = pd.read_csv('Transactions.csv')\n",
    "transactions.head()"
   ]
  },
  {
   "cell_type": "code",
   "execution_count": 5,
   "metadata": {},
   "outputs": [
    {
     "data": {
      "text/plain": [
       "OrderNumber\n",
       "SO51176                         [Road-250, Road Bottle Cage]\n",
       "SO51177                            [Sport-100, Touring-2000]\n",
       "SO51178    [Mountain-200, Mountain Bottle Cage, Water Bot...\n",
       "SO51179    [All-Purpose Bike Stand, Road Tire Tube, HL Ro...\n",
       "SO51180    [Road-250, Road Bottle Cage, Water Bottle, Spo...\n",
       "Name: Model, dtype: object"
      ]
     },
     "execution_count": 5,
     "metadata": {},
     "output_type": "execute_result"
    }
   ],
   "source": [
    "baskets = transactions['Model'].groupby(transactions['OrderNumber']).apply(list)\n",
    "baskets.head()"
   ]
  },
  {
   "cell_type": "code",
   "execution_count": 6,
   "metadata": {},
   "outputs": [],
   "source": [
    "dataset = baskets.tolist()"
   ]
  },
  {
   "cell_type": "code",
   "execution_count": 8,
   "metadata": {},
   "outputs": [
    {
     "data": {
      "text/html": [
       "<div>\n",
       "<style scoped>\n",
       "    .dataframe tbody tr th:only-of-type {\n",
       "        vertical-align: middle;\n",
       "    }\n",
       "\n",
       "    .dataframe tbody tr th {\n",
       "        vertical-align: top;\n",
       "    }\n",
       "\n",
       "    .dataframe thead th {\n",
       "        text-align: right;\n",
       "    }\n",
       "</style>\n",
       "<table border=\"1\" class=\"dataframe\">\n",
       "  <thead>\n",
       "    <tr style=\"text-align: right;\">\n",
       "      <th></th>\n",
       "      <th>LHS</th>\n",
       "      <th>RHS</th>\n",
       "      <th>confidence</th>\n",
       "      <th>lift</th>\n",
       "      <th>support</th>\n",
       "    </tr>\n",
       "  </thead>\n",
       "  <tbody>\n",
       "    <tr>\n",
       "      <th>0</th>\n",
       "      <td>(Mountain Bottle Cage)</td>\n",
       "      <td>(Water Bottle)</td>\n",
       "      <td>0.836167</td>\n",
       "      <td>4.360336</td>\n",
       "      <td>0.076359</td>\n",
       "    </tr>\n",
       "    <tr>\n",
       "      <th>1</th>\n",
       "      <td>(Water Bottle)</td>\n",
       "      <td>(Mountain Bottle Cage)</td>\n",
       "      <td>0.398184</td>\n",
       "      <td>4.360336</td>\n",
       "      <td>0.076359</td>\n",
       "    </tr>\n",
       "    <tr>\n",
       "      <th>2</th>\n",
       "      <td>(Water Bottle)</td>\n",
       "      <td>(Mountain-200)</td>\n",
       "      <td>0.144504</td>\n",
       "      <td>1.239984</td>\n",
       "      <td>0.027711</td>\n",
       "    </tr>\n",
       "    <tr>\n",
       "      <th>3</th>\n",
       "      <td>(Mountain-200)</td>\n",
       "      <td>(Water Bottle)</td>\n",
       "      <td>0.237788</td>\n",
       "      <td>1.239984</td>\n",
       "      <td>0.027711</td>\n",
       "    </tr>\n",
       "    <tr>\n",
       "      <th>4</th>\n",
       "      <td>(Mountain Bottle Cage)</td>\n",
       "      <td>(Mountain-200)</td>\n",
       "      <td>0.373519</td>\n",
       "      <td>3.205144</td>\n",
       "      <td>0.034110</td>\n",
       "    </tr>\n",
       "  </tbody>\n",
       "</table>\n",
       "</div>"
      ],
      "text/plain": [
       "                      LHS                     RHS  confidence      lift  \\\n",
       "0  (Mountain Bottle Cage)          (Water Bottle)    0.836167  4.360336   \n",
       "1          (Water Bottle)  (Mountain Bottle Cage)    0.398184  4.360336   \n",
       "2          (Water Bottle)          (Mountain-200)    0.144504  1.239984   \n",
       "3          (Mountain-200)          (Water Bottle)    0.237788  1.239984   \n",
       "4  (Mountain Bottle Cage)          (Mountain-200)    0.373519  3.205144   \n",
       "\n",
       "    support  \n",
       "0  0.076359  \n",
       "1  0.076359  \n",
       "2  0.027711  \n",
       "3  0.027711  \n",
       "4  0.034110  "
      ]
     },
     "execution_count": 8,
     "metadata": {},
     "output_type": "execute_result"
    }
   ],
   "source": [
    "rules = apriori.arules(dataset,min_support=0.02)\n",
    "rules.head()"
   ]
  },
  {
   "cell_type": "markdown",
   "metadata": {},
   "source": [
    "可以根据需要进行后续处理，例如按照confidence和lift过滤后，按support排序"
   ]
  },
  {
   "cell_type": "code",
   "execution_count": 9,
   "metadata": {},
   "outputs": [
    {
     "data": {
      "text/html": [
       "<div>\n",
       "<style scoped>\n",
       "    .dataframe tbody tr th:only-of-type {\n",
       "        vertical-align: middle;\n",
       "    }\n",
       "\n",
       "    .dataframe tbody tr th {\n",
       "        vertical-align: top;\n",
       "    }\n",
       "\n",
       "    .dataframe thead th {\n",
       "        text-align: right;\n",
       "    }\n",
       "</style>\n",
       "<table border=\"1\" class=\"dataframe\">\n",
       "  <thead>\n",
       "    <tr style=\"text-align: right;\">\n",
       "      <th></th>\n",
       "      <th>LHS</th>\n",
       "      <th>RHS</th>\n",
       "      <th>confidence</th>\n",
       "      <th>lift</th>\n",
       "      <th>support</th>\n",
       "    </tr>\n",
       "  </thead>\n",
       "  <tbody>\n",
       "    <tr>\n",
       "      <th>70</th>\n",
       "      <td>(Mountain Bottle Cage, Sport-100)</td>\n",
       "      <td>(Water Bottle)</td>\n",
       "      <td>0.838346</td>\n",
       "      <td>4.371698</td>\n",
       "      <td>0.020983</td>\n",
       "    </tr>\n",
       "    <tr>\n",
       "      <th>59</th>\n",
       "      <td>(LL Mountain Tire)</td>\n",
       "      <td>(Mountain Tire Tube)</td>\n",
       "      <td>0.560701</td>\n",
       "      <td>4.098245</td>\n",
       "      <td>0.021077</td>\n",
       "    </tr>\n",
       "    <tr>\n",
       "      <th>75</th>\n",
       "      <td>(Road-750, Water Bottle)</td>\n",
       "      <td>(Road Bottle Cage)</td>\n",
       "      <td>1.000000</td>\n",
       "      <td>12.488249</td>\n",
       "      <td>0.022818</td>\n",
       "    </tr>\n",
       "    <tr>\n",
       "      <th>76</th>\n",
       "      <td>(Road-750, Road Bottle Cage)</td>\n",
       "      <td>(Water Bottle)</td>\n",
       "      <td>0.867621</td>\n",
       "      <td>4.524357</td>\n",
       "      <td>0.022818</td>\n",
       "    </tr>\n",
       "    <tr>\n",
       "      <th>52</th>\n",
       "      <td>(LL Road Tire)</td>\n",
       "      <td>(Road Tire Tube)</td>\n",
       "      <td>0.526531</td>\n",
       "      <td>5.050274</td>\n",
       "      <td>0.024277</td>\n",
       "    </tr>\n",
       "  </tbody>\n",
       "</table>\n",
       "</div>"
      ],
      "text/plain": [
       "                                  LHS                   RHS  confidence  \\\n",
       "70  (Mountain Bottle Cage, Sport-100)        (Water Bottle)    0.838346   \n",
       "59                 (LL Mountain Tire)  (Mountain Tire Tube)    0.560701   \n",
       "75           (Road-750, Water Bottle)    (Road Bottle Cage)    1.000000   \n",
       "76       (Road-750, Road Bottle Cage)        (Water Bottle)    0.867621   \n",
       "52                     (LL Road Tire)      (Road Tire Tube)    0.526531   \n",
       "\n",
       "         lift   support  \n",
       "70   4.371698  0.020983  \n",
       "59   4.098245  0.021077  \n",
       "75  12.488249  0.022818  \n",
       "76   4.524357  0.022818  \n",
       "52   5.050274  0.024277  "
      ]
     },
     "execution_count": 9,
     "metadata": {},
     "output_type": "execute_result"
    }
   ],
   "source": [
    "conf = rules[(rules.confidence>0.5)&(rules.lift>1)]\n",
    "conf.sort_values(by='support',ascending=True).head()"
   ]
  }
 ],
 "metadata": {
  "kernelspec": {
   "display_name": "Python 3",
   "language": "python",
   "name": "python3"
  },
  "language_info": {
   "codemirror_mode": {
    "name": "ipython",
    "version": 3
   },
   "file_extension": ".py",
   "mimetype": "text/x-python",
   "name": "python",
   "nbconvert_exporter": "python",
   "pygments_lexer": "ipython3",
   "version": "3.7.1"
  }
 },
 "nbformat": 4,
 "nbformat_minor": 2
}
